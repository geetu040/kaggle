{
 "cells": [
  {
   "cell_type": "markdown",
   "id": "77740368",
   "metadata": {
    "papermill": {
     "duration": 0.008913,
     "end_time": "2024-02-12T18:06:32.992447",
     "exception": false,
     "start_time": "2024-02-12T18:06:32.983534",
     "status": "completed"
    },
    "tags": []
   },
   "source": [
    "# Overview\n",
    "\n",
    "### Pricegram\n",
    "`Pricegram` is a price comparison platform that scraps data from eminent ecomerce stores in Pakistan to compare different products.\n",
    "\n",
    "### Qdrant\n",
    "`Qdrant` is an Open-Source Vector Database and Vector Search Engine written in Rust. It provides fast and scalable vector similarity search service.\n",
    "\n",
    "In this project we have used `qdrant` to develop a search engine for `pricegram`."
   ]
  },
  {
   "cell_type": "markdown",
   "id": "4e031f61",
   "metadata": {
    "papermill": {
     "duration": 0.007566,
     "end_time": "2024-02-12T18:06:33.007432",
     "exception": false,
     "start_time": "2024-02-12T18:06:32.999866",
     "status": "completed"
    },
    "tags": []
   },
   "source": [
    "# Dataset"
   ]
  },
  {
   "cell_type": "markdown",
   "id": "66864258",
   "metadata": {
    "papermill": {
     "duration": 0.007071,
     "end_time": "2024-02-12T18:06:33.021942",
     "exception": false,
     "start_time": "2024-02-12T18:06:33.014871",
     "status": "completed"
    },
    "tags": []
   },
   "source": [
    "## Loading"
   ]
  },
  {
   "cell_type": "code",
   "execution_count": 1,
   "id": "257e5ab1",
   "metadata": {
    "execution": {
     "iopub.execute_input": "2024-02-12T18:06:33.038751Z",
     "iopub.status.busy": "2024-02-12T18:06:33.038294Z",
     "iopub.status.idle": "2024-02-12T18:06:34.240347Z",
     "shell.execute_reply": "2024-02-12T18:06:34.239034Z"
    },
    "papermill": {
     "duration": 1.214036,
     "end_time": "2024-02-12T18:06:34.243517",
     "exception": false,
     "start_time": "2024-02-12T18:06:33.029481",
     "status": "completed"
    },
    "tags": []
   },
   "outputs": [
    {
     "name": "stdout",
     "output_type": "stream",
     "text": [
      "Shape of DataFrame: (1666, 21)\n",
      "First 10 rows:\n"
     ]
    },
    {
     "data": {
      "text/html": [
       "<div>\n",
       "<style scoped>\n",
       "    .dataframe tbody tr th:only-of-type {\n",
       "        vertical-align: middle;\n",
       "    }\n",
       "\n",
       "    .dataframe tbody tr th {\n",
       "        vertical-align: top;\n",
       "    }\n",
       "\n",
       "    .dataframe thead th {\n",
       "        text-align: right;\n",
       "    }\n",
       "</style>\n",
       "<table border=\"1\" class=\"dataframe\">\n",
       "  <thead>\n",
       "    <tr style=\"text-align: right;\">\n",
       "      <th></th>\n",
       "      <th>slug</th>\n",
       "      <th>title</th>\n",
       "      <th>imgs</th>\n",
       "      <th>brand</th>\n",
       "      <th>category</th>\n",
       "      <th>vendor</th>\n",
       "      <th>used</th>\n",
       "      <th>address</th>\n",
       "      <th>availability</th>\n",
       "      <th>currency</th>\n",
       "      <th>...</th>\n",
       "      <th>discounted_price</th>\n",
       "      <th>specifications</th>\n",
       "      <th>description</th>\n",
       "      <th>delivery_fee</th>\n",
       "      <th>delivery_details</th>\n",
       "      <th>warranty</th>\n",
       "      <th>warranty_type</th>\n",
       "      <th>average_rating</th>\n",
       "      <th>num_ratings</th>\n",
       "      <th>reviews</th>\n",
       "    </tr>\n",
       "    <tr>\n",
       "      <th>id</th>\n",
       "      <th></th>\n",
       "      <th></th>\n",
       "      <th></th>\n",
       "      <th></th>\n",
       "      <th></th>\n",
       "      <th></th>\n",
       "      <th></th>\n",
       "      <th></th>\n",
       "      <th></th>\n",
       "      <th></th>\n",
       "      <th></th>\n",
       "      <th></th>\n",
       "      <th></th>\n",
       "      <th></th>\n",
       "      <th></th>\n",
       "      <th></th>\n",
       "      <th></th>\n",
       "      <th></th>\n",
       "      <th></th>\n",
       "      <th></th>\n",
       "      <th></th>\n",
       "    </tr>\n",
       "  </thead>\n",
       "  <tbody>\n",
       "    <tr>\n",
       "      <th>0</th>\n",
       "      <td>https://www.mega.pk/mobiles_products/23522/Not...</td>\n",
       "      <td>Nothing Phone 1 8GB RAM 256GB Storage Non PTA ...</td>\n",
       "      <td>['https://www.mega.pk/items_images/Nothing+Pho...</td>\n",
       "      <td>NaN</td>\n",
       "      <td>Mobile</td>\n",
       "      <td>MEGA.PK</td>\n",
       "      <td>0</td>\n",
       "      <td>Office 11, 12, 14 Basement Ahmed Center, I-8 M...</td>\n",
       "      <td>NaN</td>\n",
       "      <td>PKR</td>\n",
       "      <td>...</td>\n",
       "      <td>NaN</td>\n",
       "      <td>{'RAM': '8GB', 'Memory quantity': '', 'Interna...</td>\n",
       "      <td>NaN</td>\n",
       "      <td>NaN</td>\n",
       "      <td>NaN</td>\n",
       "      <td>NaN</td>\n",
       "      <td>NaN</td>\n",
       "      <td>NaN</td>\n",
       "      <td>NaN</td>\n",
       "      <td>[]</td>\n",
       "    </tr>\n",
       "    <tr>\n",
       "      <th>1</th>\n",
       "      <td>https://www.mega.pk/mobiles_products/23458/Opp...</td>\n",
       "      <td>Oppo F21 Pro 8GB Ram 128GB Storage 5G PTA Appr...</td>\n",
       "      <td>['https://www.mega.pk/items_images/Oppo+F21+Pr...</td>\n",
       "      <td>OPPO</td>\n",
       "      <td>Mobile</td>\n",
       "      <td>MEGA.PK</td>\n",
       "      <td>0</td>\n",
       "      <td>Office 11, 12, 14 Basement Ahmed Center, I-8 M...</td>\n",
       "      <td>NaN</td>\n",
       "      <td>PKR</td>\n",
       "      <td>...</td>\n",
       "      <td>NaN</td>\n",
       "      <td>{'RAM': '8gb', 'Memory quantity': '', 'Interna...</td>\n",
       "      <td>NaN</td>\n",
       "      <td>NaN</td>\n",
       "      <td>NaN</td>\n",
       "      <td>NaN</td>\n",
       "      <td>NaN</td>\n",
       "      <td>NaN</td>\n",
       "      <td>NaN</td>\n",
       "      <td>[]</td>\n",
       "    </tr>\n",
       "    <tr>\n",
       "      <th>2</th>\n",
       "      <td>https://www.mega.pk/mobiles_products/24393/Tec...</td>\n",
       "      <td>Tecno Spark 10</td>\n",
       "      <td>['https://www.mega.pk/items_images/Tecno+Spark...</td>\n",
       "      <td>Tecno</td>\n",
       "      <td>Mobile</td>\n",
       "      <td>MEGA.PK</td>\n",
       "      <td>0</td>\n",
       "      <td>Office 11, 12, 14 Basement Ahmed Center, I-8 M...</td>\n",
       "      <td>Coming Soon</td>\n",
       "      <td>PKR</td>\n",
       "      <td>...</td>\n",
       "      <td>NaN</td>\n",
       "      <td>{'RAM': '4GB,8GB', 'Memory quantity': '', 'Int...</td>\n",
       "      <td>NaN</td>\n",
       "      <td>NaN</td>\n",
       "      <td>NaN</td>\n",
       "      <td>1 year</td>\n",
       "      <td>NaN</td>\n",
       "      <td>NaN</td>\n",
       "      <td>NaN</td>\n",
       "      <td>[]</td>\n",
       "    </tr>\n",
       "    <tr>\n",
       "      <th>3</th>\n",
       "      <td>https://www.mega.pk/mobiles_products/24259/Viv...</td>\n",
       "      <td>Vivo V27 5G</td>\n",
       "      <td>['https://www.mega.pk/items_images/Vivo+V27+5G...</td>\n",
       "      <td>Vivo</td>\n",
       "      <td>Mobile</td>\n",
       "      <td>MEGA.PK</td>\n",
       "      <td>0</td>\n",
       "      <td>Office 11, 12, 14 Basement Ahmed Center, I-8 M...</td>\n",
       "      <td>Coming Soon</td>\n",
       "      <td>PKR</td>\n",
       "      <td>...</td>\n",
       "      <td>NaN</td>\n",
       "      <td>{'RAM': '8GB,12GB', 'Memory quantity': '', 'In...</td>\n",
       "      <td>NaN</td>\n",
       "      <td>NaN</td>\n",
       "      <td>NaN</td>\n",
       "      <td>1 year</td>\n",
       "      <td>NaN</td>\n",
       "      <td>NaN</td>\n",
       "      <td>NaN</td>\n",
       "      <td>[]</td>\n",
       "    </tr>\n",
       "    <tr>\n",
       "      <th>4</th>\n",
       "      <td>https://www.mega.pk/mobiles_products/24204/App...</td>\n",
       "      <td>Apple Iphone 15 Pro Max</td>\n",
       "      <td>['https://www.mega.pk/items_images/Apple+Iphon...</td>\n",
       "      <td>Apple</td>\n",
       "      <td>Mobile</td>\n",
       "      <td>MEGA.PK</td>\n",
       "      <td>0</td>\n",
       "      <td>Office 11, 12, 14 Basement Ahmed Center, I-8 M...</td>\n",
       "      <td>Coming Soon</td>\n",
       "      <td>PKR</td>\n",
       "      <td>...</td>\n",
       "      <td>NaN</td>\n",
       "      <td>{'RAM': '8GB', 'Memory quantity': '', 'Interna...</td>\n",
       "      <td>NaN</td>\n",
       "      <td>NaN</td>\n",
       "      <td>NaN</td>\n",
       "      <td>NaN</td>\n",
       "      <td>NaN</td>\n",
       "      <td>NaN</td>\n",
       "      <td>NaN</td>\n",
       "      <td>[]</td>\n",
       "    </tr>\n",
       "    <tr>\n",
       "      <th>5</th>\n",
       "      <td>https://www.mega.pk/mobiles_products/24114/Rea...</td>\n",
       "      <td>Realme GT3</td>\n",
       "      <td>['https://www.mega.pk/items_images/Realme+GT3_...</td>\n",
       "      <td>Realme</td>\n",
       "      <td>Mobile</td>\n",
       "      <td>MEGA.PK</td>\n",
       "      <td>0</td>\n",
       "      <td>Office 11, 12, 14 Basement Ahmed Center, I-8 M...</td>\n",
       "      <td>Coming Soon</td>\n",
       "      <td>PKR</td>\n",
       "      <td>...</td>\n",
       "      <td>NaN</td>\n",
       "      <td>{'RAM': '8GB,12GB,16GB', 'Memory quantity': ''...</td>\n",
       "      <td>NaN</td>\n",
       "      <td>NaN</td>\n",
       "      <td>NaN</td>\n",
       "      <td>1 year</td>\n",
       "      <td>NaN</td>\n",
       "      <td>NaN</td>\n",
       "      <td>NaN</td>\n",
       "      <td>[]</td>\n",
       "    </tr>\n",
       "    <tr>\n",
       "      <th>6</th>\n",
       "      <td>https://www.mega.pk/mobiles_products/24418/Tec...</td>\n",
       "      <td>Sparx S9 2GB RAM 32GB Storage PTA Approved</td>\n",
       "      <td>['https://www.mega.pk/items_images/Sparx+S9+2G...</td>\n",
       "      <td>Sparx</td>\n",
       "      <td>Mobile</td>\n",
       "      <td>MEGA.PK</td>\n",
       "      <td>0</td>\n",
       "      <td>Office 11, 12, 14 Basement Ahmed Center, I-8 M...</td>\n",
       "      <td>NaN</td>\n",
       "      <td>PKR</td>\n",
       "      <td>...</td>\n",
       "      <td>NaN</td>\n",
       "      <td>{'RAM': '2 GB', 'Memory quantity': '', 'Intern...</td>\n",
       "      <td>NaN</td>\n",
       "      <td>NaN</td>\n",
       "      <td>NaN</td>\n",
       "      <td>1 year</td>\n",
       "      <td>NaN</td>\n",
       "      <td>NaN</td>\n",
       "      <td>NaN</td>\n",
       "      <td>[]</td>\n",
       "    </tr>\n",
       "    <tr>\n",
       "      <th>7</th>\n",
       "      <td>https://www.mega.pk/mobiles_products/24417/Spa...</td>\n",
       "      <td>Sparx S6 2GB RAM 32GB Storage</td>\n",
       "      <td>['https://www.mega.pk/items_images/Sparx+S6+2G...</td>\n",
       "      <td>Sparx</td>\n",
       "      <td>Mobile</td>\n",
       "      <td>MEGA.PK</td>\n",
       "      <td>0</td>\n",
       "      <td>Office 11, 12, 14 Basement Ahmed Center, I-8 M...</td>\n",
       "      <td>NaN</td>\n",
       "      <td>PKR</td>\n",
       "      <td>...</td>\n",
       "      <td>NaN</td>\n",
       "      <td>{'RAM': '2 GB', 'Memory quantity': '', 'Intern...</td>\n",
       "      <td>NaN</td>\n",
       "      <td>NaN</td>\n",
       "      <td>NaN</td>\n",
       "      <td>1 year</td>\n",
       "      <td>NaN</td>\n",
       "      <td>NaN</td>\n",
       "      <td>NaN</td>\n",
       "      <td>[]</td>\n",
       "    </tr>\n",
       "    <tr>\n",
       "      <th>8</th>\n",
       "      <td>https://www.mega.pk/mobiles_products/24412/Tec...</td>\n",
       "      <td>Tecno Pova Neo 2 4GB RAM 64GB Storage PTA Appr...</td>\n",
       "      <td>['https://www.mega.pk/items_images/Tecno+Pova+...</td>\n",
       "      <td>Tecno</td>\n",
       "      <td>Mobile</td>\n",
       "      <td>MEGA.PK</td>\n",
       "      <td>0</td>\n",
       "      <td>Office 11, 12, 14 Basement Ahmed Center, I-8 M...</td>\n",
       "      <td>NaN</td>\n",
       "      <td>PKR</td>\n",
       "      <td>...</td>\n",
       "      <td>NaN</td>\n",
       "      <td>{'RAM': '4GB', 'Memory quantity': '', 'Interna...</td>\n",
       "      <td>NaN</td>\n",
       "      <td>NaN</td>\n",
       "      <td>NaN</td>\n",
       "      <td>1 year</td>\n",
       "      <td>NaN</td>\n",
       "      <td>NaN</td>\n",
       "      <td>NaN</td>\n",
       "      <td>[]</td>\n",
       "    </tr>\n",
       "    <tr>\n",
       "      <th>9</th>\n",
       "      <td>https://www.mega.pk/mobiles_products/24411/Viv...</td>\n",
       "      <td>Vivo Y73 8GB RAM 128GB Storage PTA Approved</td>\n",
       "      <td>['https://www.mega.pk/items_images/Vivo+Y73+8G...</td>\n",
       "      <td>Vivo</td>\n",
       "      <td>Mobile</td>\n",
       "      <td>MEGA.PK</td>\n",
       "      <td>0</td>\n",
       "      <td>Office 11, 12, 14 Basement Ahmed Center, I-8 M...</td>\n",
       "      <td>NaN</td>\n",
       "      <td>PKR</td>\n",
       "      <td>...</td>\n",
       "      <td>NaN</td>\n",
       "      <td>{'RAM': '8 GB', 'Memory quantity': '', 'Intern...</td>\n",
       "      <td>NaN</td>\n",
       "      <td>NaN</td>\n",
       "      <td>NaN</td>\n",
       "      <td>1 year</td>\n",
       "      <td>NaN</td>\n",
       "      <td>NaN</td>\n",
       "      <td>NaN</td>\n",
       "      <td>[]</td>\n",
       "    </tr>\n",
       "  </tbody>\n",
       "</table>\n",
       "<p>10 rows × 21 columns</p>\n",
       "</div>"
      ],
      "text/plain": [
       "                                                 slug  \\\n",
       "id                                                      \n",
       "0   https://www.mega.pk/mobiles_products/23522/Not...   \n",
       "1   https://www.mega.pk/mobiles_products/23458/Opp...   \n",
       "2   https://www.mega.pk/mobiles_products/24393/Tec...   \n",
       "3   https://www.mega.pk/mobiles_products/24259/Viv...   \n",
       "4   https://www.mega.pk/mobiles_products/24204/App...   \n",
       "5   https://www.mega.pk/mobiles_products/24114/Rea...   \n",
       "6   https://www.mega.pk/mobiles_products/24418/Tec...   \n",
       "7   https://www.mega.pk/mobiles_products/24417/Spa...   \n",
       "8   https://www.mega.pk/mobiles_products/24412/Tec...   \n",
       "9   https://www.mega.pk/mobiles_products/24411/Viv...   \n",
       "\n",
       "                                                title  \\\n",
       "id                                                      \n",
       "0   Nothing Phone 1 8GB RAM 256GB Storage Non PTA ...   \n",
       "1   Oppo F21 Pro 8GB Ram 128GB Storage 5G PTA Appr...   \n",
       "2                                     Tecno Spark 10    \n",
       "3                                        Vivo V27 5G    \n",
       "4                            Apple Iphone 15 Pro Max    \n",
       "5                                         Realme GT3    \n",
       "6         Sparx S9 2GB RAM 32GB Storage PTA Approved    \n",
       "7                      Sparx S6 2GB RAM 32GB Storage    \n",
       "8   Tecno Pova Neo 2 4GB RAM 64GB Storage PTA Appr...   \n",
       "9        Vivo Y73 8GB RAM 128GB Storage PTA Approved    \n",
       "\n",
       "                                                 imgs   brand category  \\\n",
       "id                                                                       \n",
       "0   ['https://www.mega.pk/items_images/Nothing+Pho...     NaN   Mobile   \n",
       "1   ['https://www.mega.pk/items_images/Oppo+F21+Pr...    OPPO   Mobile   \n",
       "2   ['https://www.mega.pk/items_images/Tecno+Spark...   Tecno   Mobile   \n",
       "3   ['https://www.mega.pk/items_images/Vivo+V27+5G...    Vivo   Mobile   \n",
       "4   ['https://www.mega.pk/items_images/Apple+Iphon...   Apple   Mobile   \n",
       "5   ['https://www.mega.pk/items_images/Realme+GT3_...  Realme   Mobile   \n",
       "6   ['https://www.mega.pk/items_images/Sparx+S9+2G...   Sparx   Mobile   \n",
       "7   ['https://www.mega.pk/items_images/Sparx+S6+2G...   Sparx   Mobile   \n",
       "8   ['https://www.mega.pk/items_images/Tecno+Pova+...   Tecno   Mobile   \n",
       "9   ['https://www.mega.pk/items_images/Vivo+Y73+8G...    Vivo   Mobile   \n",
       "\n",
       "     vendor  used                                            address  \\\n",
       "id                                                                     \n",
       "0   MEGA.PK     0  Office 11, 12, 14 Basement Ahmed Center, I-8 M...   \n",
       "1   MEGA.PK     0  Office 11, 12, 14 Basement Ahmed Center, I-8 M...   \n",
       "2   MEGA.PK     0  Office 11, 12, 14 Basement Ahmed Center, I-8 M...   \n",
       "3   MEGA.PK     0  Office 11, 12, 14 Basement Ahmed Center, I-8 M...   \n",
       "4   MEGA.PK     0  Office 11, 12, 14 Basement Ahmed Center, I-8 M...   \n",
       "5   MEGA.PK     0  Office 11, 12, 14 Basement Ahmed Center, I-8 M...   \n",
       "6   MEGA.PK     0  Office 11, 12, 14 Basement Ahmed Center, I-8 M...   \n",
       "7   MEGA.PK     0  Office 11, 12, 14 Basement Ahmed Center, I-8 M...   \n",
       "8   MEGA.PK     0  Office 11, 12, 14 Basement Ahmed Center, I-8 M...   \n",
       "9   MEGA.PK     0  Office 11, 12, 14 Basement Ahmed Center, I-8 M...   \n",
       "\n",
       "   availability currency  ...  discounted_price  \\\n",
       "id                        ...                     \n",
       "0           NaN      PKR  ...               NaN   \n",
       "1           NaN      PKR  ...               NaN   \n",
       "2   Coming Soon      PKR  ...               NaN   \n",
       "3   Coming Soon      PKR  ...               NaN   \n",
       "4   Coming Soon      PKR  ...               NaN   \n",
       "5   Coming Soon      PKR  ...               NaN   \n",
       "6           NaN      PKR  ...               NaN   \n",
       "7           NaN      PKR  ...               NaN   \n",
       "8           NaN      PKR  ...               NaN   \n",
       "9           NaN      PKR  ...               NaN   \n",
       "\n",
       "                                       specifications description  \\\n",
       "id                                                                  \n",
       "0   {'RAM': '8GB', 'Memory quantity': '', 'Interna...         NaN   \n",
       "1   {'RAM': '8gb', 'Memory quantity': '', 'Interna...         NaN   \n",
       "2   {'RAM': '4GB,8GB', 'Memory quantity': '', 'Int...         NaN   \n",
       "3   {'RAM': '8GB,12GB', 'Memory quantity': '', 'In...         NaN   \n",
       "4   {'RAM': '8GB', 'Memory quantity': '', 'Interna...         NaN   \n",
       "5   {'RAM': '8GB,12GB,16GB', 'Memory quantity': ''...         NaN   \n",
       "6   {'RAM': '2 GB', 'Memory quantity': '', 'Intern...         NaN   \n",
       "7   {'RAM': '2 GB', 'Memory quantity': '', 'Intern...         NaN   \n",
       "8   {'RAM': '4GB', 'Memory quantity': '', 'Interna...         NaN   \n",
       "9   {'RAM': '8 GB', 'Memory quantity': '', 'Intern...         NaN   \n",
       "\n",
       "   delivery_fee  delivery_details  warranty warranty_type average_rating  \\\n",
       "id                                                                         \n",
       "0           NaN               NaN       NaN           NaN            NaN   \n",
       "1           NaN               NaN       NaN           NaN            NaN   \n",
       "2           NaN               NaN    1 year           NaN            NaN   \n",
       "3           NaN               NaN    1 year           NaN            NaN   \n",
       "4           NaN               NaN       NaN           NaN            NaN   \n",
       "5           NaN               NaN    1 year           NaN            NaN   \n",
       "6           NaN               NaN    1 year           NaN            NaN   \n",
       "7           NaN               NaN    1 year           NaN            NaN   \n",
       "8           NaN               NaN    1 year           NaN            NaN   \n",
       "9           NaN               NaN    1 year           NaN            NaN   \n",
       "\n",
       "    num_ratings  reviews  \n",
       "id                        \n",
       "0           NaN       []  \n",
       "1           NaN       []  \n",
       "2           NaN       []  \n",
       "3           NaN       []  \n",
       "4           NaN       []  \n",
       "5           NaN       []  \n",
       "6           NaN       []  \n",
       "7           NaN       []  \n",
       "8           NaN       []  \n",
       "9           NaN       []  \n",
       "\n",
       "[10 rows x 21 columns]"
      ]
     },
     "execution_count": 1,
     "metadata": {},
     "output_type": "execute_result"
    }
   ],
   "source": [
    "import pandas as pd\n",
    "\n",
    "# path to kaggle downloaded data\n",
    "DATA_PATH = \"/kaggle/input/e-commerce-products-search-engine-recommendation/data.csv\"\n",
    "\n",
    "# load dataset in pandas dataframe\n",
    "df = pd.read_csv(DATA_PATH)\n",
    "\n",
    "# setting the index by product's id\n",
    "df = df.set_index(\"id\")\n",
    "\n",
    "# print shape of dataframe\n",
    "print(\"Shape of DataFrame:\", df.shape)\n",
    "\n",
    "# print first 10 rows in dataframe\n",
    "print(\"First 10 rows:\")\n",
    "df.head(10)"
   ]
  },
  {
   "cell_type": "markdown",
   "id": "9f4419de",
   "metadata": {
    "papermill": {
     "duration": 0.009206,
     "end_time": "2024-02-12T18:06:34.260822",
     "exception": false,
     "start_time": "2024-02-12T18:06:34.251616",
     "status": "completed"
    },
    "tags": []
   },
   "source": [
    "## Preparing Columns\n",
    "Some colums are stored as a string in csv file so you need to be converted to python datatypes"
   ]
  },
  {
   "cell_type": "code",
   "execution_count": 2,
   "id": "95bcca4b",
   "metadata": {
    "execution": {
     "iopub.execute_input": "2024-02-12T18:06:34.280444Z",
     "iopub.status.busy": "2024-02-12T18:06:34.280046Z",
     "iopub.status.idle": "2024-02-12T18:06:34.519398Z",
     "shell.execute_reply": "2024-02-12T18:06:34.517884Z"
    },
    "papermill": {
     "duration": 0.252267,
     "end_time": "2024-02-12T18:06:34.522286",
     "exception": false,
     "start_time": "2024-02-12T18:06:34.270019",
     "status": "completed"
    },
    "tags": []
   },
   "outputs": [],
   "source": [
    "# columns that have been dumped as strings but are python lists and dictionaries\n",
    "df['reviews'] = df['reviews'].fillna(str([])).map(eval)\n",
    "df['imgs'] = df['imgs'].map(eval)\n",
    "df['specifications'] = df['specifications'].map(eval)"
   ]
  },
  {
   "cell_type": "markdown",
   "id": "b95b4a70",
   "metadata": {
    "papermill": {
     "duration": 0.007905,
     "end_time": "2024-02-12T18:06:34.538447",
     "exception": false,
     "start_time": "2024-02-12T18:06:34.530542",
     "status": "completed"
    },
    "tags": []
   },
   "source": [
    "## Concatenating Columns\n",
    "To create a document to perform a search operation on, we need to merge all the columns that can have relevant keywords and semantic meaning impertinent to the search query"
   ]
  },
  {
   "cell_type": "code",
   "execution_count": 3,
   "id": "eac8cbfd",
   "metadata": {
    "execution": {
     "iopub.execute_input": "2024-02-12T18:06:34.557983Z",
     "iopub.status.busy": "2024-02-12T18:06:34.557564Z",
     "iopub.status.idle": "2024-02-12T18:06:34.575206Z",
     "shell.execute_reply": "2024-02-12T18:06:34.573378Z"
    },
    "papermill": {
     "duration": 0.031205,
     "end_time": "2024-02-12T18:06:34.578110",
     "exception": false,
     "start_time": "2024-02-12T18:06:34.546905",
     "status": "completed"
    },
    "tags": []
   },
   "outputs": [
    {
     "data": {
      "text/plain": [
       "'slug https://www.mega.pk/mobiles_products/23522/nothing-phone-1-8gb-ram-256gb-storage-non-pta-5g-black.html. title nothing phone 1 8gb ram 256gb storage non pta 5g black . imgs https://www.mega.pk/items_images/nothing+phone+1+8gb+ram+256gb+storage+non+pta+5g+black+price+in+pakistan%2c+specifications%2c+features_-_23522.webp. category mobile. vendor mega.pk. used 0. address office 11, 12, 14 basement ahmed center, i-8 markaz, islamabad, pakistan. currency pkr. original_price 129999.0. ram 8gb. memory quantity . internal storage space 256gb. main camera pixels 50 mp, f/1.9, 24mm (wide), 1/1.56. battery capacity li-po 4500 mah, non-removable. screen size 6.55 inches. 5g support yes. finger print yes. display technology oled, 1b colors, 120hz, hdr10+, 500 nits (typ), 700 nits (peak). display 6.55 inches oled, 1b colors. number of colours 1b. scratch resistant display . screen resolution 1080 x 2400 pixels. pixel density 402 ppi. dual screens . sd card yes. sdio . compatible memory cards 128gb 8gb ram, 256gb 8gb ram, 256gb 12gb ram. maximum amount of memory . built-in camera yes. auto focus yes. built-in flash yes. digital zoom (still image) yes. maximum resolution (still) 1080p 30fps. number of cameras 3. front camera resolution 16 mp, f/2.5, (wide), 1/3.1. optical zoom yes. video recorder yes. digital zoom (video) yes. maximum numbers of fps when recording 30fps. maximum resolution (video) 4k 30fps. graphics processor yes. graphics processor type . processor core type octa-core. processor speed 1x2.5 ghz cortex-a78 & 3x2.4 ghz cortex-a78. chipset qualcomm sm7325-ae snapdragon 778g+ 5g (6 nm). cpu type octa-core (1x2.5 ghz cortex-a78 & 3x2.4 ghz cortex-a78 & 4x1.9 ghz cortex-a55). 4g lte yes. bluetooth yes. nfc support yes. wifi (wireless fidelity) yes. colour white, black. features (detail) fingerprint (under display, optical), accelerometer, proximity, gyro, compass. shock resistant . dual sim card support yes. voice dialing yes. water resistant . 3.5mm headphone output . type of connection . dimensions (wxhxd) 159.2 x 75.8 x 8.3 mm (6.27 x 2.98 x 0.33 in). weight 193.5 g (6.84 oz). operating system android 12, nothing os 1.1.3. release year 2022. pta approved no. warranty . price 129,999 - pkr\\xa0price in pakistani rupees'"
      ]
     },
     "execution_count": 3,
     "metadata": {},
     "output_type": "execute_result"
    }
   ],
   "source": [
    "# this function converts the row will all columns with unstructred data into plain sentences\n",
    "\n",
    "def convert_to_sentences(row):\n",
    "    sep = \" __ \"\n",
    "    invalids = {\"-\", \"N/A\", \"NA\", \"N\\\\A\"}\n",
    "\n",
    "    sents = []\n",
    "    for k, v in row.items():\n",
    "\n",
    "        if type(v) == list:\n",
    "            if len(v) == 0: continue\n",
    "            sent = k + \" \" + \" \".join(v)\n",
    "\n",
    "        elif type(v) == dict:\n",
    "            if len(v) == 0: continue\n",
    "            # sent = sep.join([f\"{k2} {v2}\" for k2, v2 in v.items() if v2 not in invalids])\n",
    "            for k2, v2 in v.items():\n",
    "                if v2 not in invalids:\n",
    "                    sents.append(f\"{k2} {v2}\")\n",
    "            continue\n",
    "\n",
    "        else:\n",
    "            if pd.isna(v): continue\n",
    "            sent = f\"{k} {v}\"\n",
    "\n",
    "        sent = sent.lower()\n",
    "        sent = [i for i in sent.split(\". \") if len(i) > 0]\n",
    "        sents.extend(sent)\n",
    "    \n",
    "    sents = \". \".join(sents)\n",
    "    sents = sents.lower()\n",
    "\n",
    "    return sents\n",
    "\n",
    "convert_to_sentences(df.iloc[0])"
   ]
  },
  {
   "cell_type": "code",
   "execution_count": 4,
   "id": "aa1850c8",
   "metadata": {
    "execution": {
     "iopub.execute_input": "2024-02-12T18:06:34.598715Z",
     "iopub.status.busy": "2024-02-12T18:06:34.598186Z",
     "iopub.status.idle": "2024-02-12T18:06:34.781668Z",
     "shell.execute_reply": "2024-02-12T18:06:34.780268Z"
    },
    "papermill": {
     "duration": 0.197593,
     "end_time": "2024-02-12T18:06:34.784852",
     "exception": false,
     "start_time": "2024-02-12T18:06:34.587259",
     "status": "completed"
    },
    "tags": []
   },
   "outputs": [],
   "source": [
    "df['sentences'] = df.apply(convert_to_sentences, axis=1)"
   ]
  },
  {
   "cell_type": "markdown",
   "id": "60f9249b",
   "metadata": {
    "papermill": {
     "duration": 0.009184,
     "end_time": "2024-02-12T18:06:34.802610",
     "exception": false,
     "start_time": "2024-02-12T18:06:34.793426",
     "status": "completed"
    },
    "tags": []
   },
   "source": [
    "# Qdrant"
   ]
  },
  {
   "cell_type": "markdown",
   "id": "cb893d35",
   "metadata": {
    "papermill": {
     "duration": 0.007995,
     "end_time": "2024-02-12T18:06:34.819779",
     "exception": false,
     "start_time": "2024-02-12T18:06:34.811784",
     "status": "completed"
    },
    "tags": []
   },
   "source": [
    "## Installing with Pip\n",
    "Here we are installing qdrant with `fastembed` which is a fast, accurate, lightweight python library to make state of the art Embedding"
   ]
  },
  {
   "cell_type": "code",
   "execution_count": 5,
   "id": "b744b0b8",
   "metadata": {
    "execution": {
     "iopub.execute_input": "2024-02-12T18:06:34.840231Z",
     "iopub.status.busy": "2024-02-12T18:06:34.839772Z",
     "iopub.status.idle": "2024-02-12T18:07:18.861427Z",
     "shell.execute_reply": "2024-02-12T18:07:18.859902Z"
    },
    "papermill": {
     "duration": 44.035441,
     "end_time": "2024-02-12T18:07:18.865212",
     "exception": false,
     "start_time": "2024-02-12T18:06:34.829771",
     "status": "completed"
    },
    "tags": []
   },
   "outputs": [
    {
     "name": "stdout",
     "output_type": "stream",
     "text": [
      "Collecting qdrant-client[fastembed]\r\n",
      "  Downloading qdrant_client-1.7.3-py3-none-any.whl.metadata (9.3 kB)\r\n",
      "Requirement already satisfied: grpcio>=1.41.0 in /opt/conda/lib/python3.10/site-packages (from qdrant-client[fastembed]) (1.60.0)\r\n",
      "Collecting grpcio-tools>=1.41.0 (from qdrant-client[fastembed])\r\n",
      "  Downloading grpcio_tools-1.60.1-cp310-cp310-manylinux_2_17_x86_64.manylinux2014_x86_64.whl.metadata (6.2 kB)\r\n",
      "Collecting httpx>=0.14.0 (from httpx[http2]>=0.14.0->qdrant-client[fastembed])\r\n",
      "  Downloading httpx-0.26.0-py3-none-any.whl.metadata (7.6 kB)\r\n",
      "Requirement already satisfied: numpy>=1.21 in /opt/conda/lib/python3.10/site-packages (from qdrant-client[fastembed]) (1.24.4)\r\n",
      "Collecting portalocker<3.0.0,>=2.7.0 (from qdrant-client[fastembed])\r\n",
      "  Downloading portalocker-2.8.2-py3-none-any.whl.metadata (8.5 kB)\r\n",
      "Requirement already satisfied: pydantic>=1.10.8 in /opt/conda/lib/python3.10/site-packages (from qdrant-client[fastembed]) (2.5.3)\r\n",
      "Requirement already satisfied: urllib3<3,>=1.26.14 in /opt/conda/lib/python3.10/site-packages (from qdrant-client[fastembed]) (1.26.18)\r\n",
      "Collecting fastembed==0.1.1 (from qdrant-client[fastembed])\r\n",
      "  Downloading fastembed-0.1.1-py3-none-any.whl.metadata (3.8 kB)\r\n",
      "Requirement already satisfied: onnx<2.0,>=1.11 in /opt/conda/lib/python3.10/site-packages (from fastembed==0.1.1->qdrant-client[fastembed]) (1.15.0)\r\n",
      "Collecting onnxruntime<2.0,>=1.15 (from fastembed==0.1.1->qdrant-client[fastembed])\r\n",
      "  Downloading onnxruntime-1.17.0-cp310-cp310-manylinux_2_27_x86_64.manylinux_2_28_x86_64.whl.metadata (4.2 kB)\r\n",
      "Requirement already satisfied: requests<3.0,>=2.31 in /opt/conda/lib/python3.10/site-packages (from fastembed==0.1.1->qdrant-client[fastembed]) (2.31.0)\r\n",
      "Collecting tokenizers<0.14,>=0.13 (from fastembed==0.1.1->qdrant-client[fastembed])\r\n",
      "  Downloading tokenizers-0.13.3-cp310-cp310-manylinux_2_17_x86_64.manylinux2014_x86_64.whl (7.8 MB)\r\n",
      "\u001b[2K     \u001b[90m━━━━━━━━━━━━━━━━━━━━━━━━━━━━━━━━━━━━━━━━\u001b[0m \u001b[32m7.8/7.8 MB\u001b[0m \u001b[31m41.5 MB/s\u001b[0m eta \u001b[36m0:00:00\u001b[0m\r\n",
      "\u001b[?25hRequirement already satisfied: tqdm<5.0,>=4.65 in /opt/conda/lib/python3.10/site-packages (from fastembed==0.1.1->qdrant-client[fastembed]) (4.66.1)\r\n",
      "Collecting protobuf<5.0dev,>=4.21.6 (from grpcio-tools>=1.41.0->qdrant-client[fastembed])\r\n",
      "  Downloading protobuf-4.25.2-cp37-abi3-manylinux2014_x86_64.whl.metadata (541 bytes)\r\n",
      "Collecting grpcio>=1.41.0 (from qdrant-client[fastembed])\r\n",
      "  Downloading grpcio-1.60.1-cp310-cp310-manylinux_2_17_x86_64.manylinux2014_x86_64.whl.metadata (4.0 kB)\r\n",
      "Requirement already satisfied: setuptools in /opt/conda/lib/python3.10/site-packages (from grpcio-tools>=1.41.0->qdrant-client[fastembed]) (69.0.3)\r\n",
      "Requirement already satisfied: anyio in /opt/conda/lib/python3.10/site-packages (from httpx>=0.14.0->httpx[http2]>=0.14.0->qdrant-client[fastembed]) (4.2.0)\r\n",
      "Requirement already satisfied: certifi in /opt/conda/lib/python3.10/site-packages (from httpx>=0.14.0->httpx[http2]>=0.14.0->qdrant-client[fastembed]) (2023.11.17)\r\n",
      "Collecting httpcore==1.* (from httpx>=0.14.0->httpx[http2]>=0.14.0->qdrant-client[fastembed])\r\n",
      "  Downloading httpcore-1.0.2-py3-none-any.whl.metadata (20 kB)\r\n",
      "Requirement already satisfied: idna in /opt/conda/lib/python3.10/site-packages (from httpx>=0.14.0->httpx[http2]>=0.14.0->qdrant-client[fastembed]) (3.6)\r\n",
      "Requirement already satisfied: sniffio in /opt/conda/lib/python3.10/site-packages (from httpx>=0.14.0->httpx[http2]>=0.14.0->qdrant-client[fastembed]) (1.3.0)\r\n",
      "Requirement already satisfied: h11<0.15,>=0.13 in /opt/conda/lib/python3.10/site-packages (from httpcore==1.*->httpx>=0.14.0->httpx[http2]>=0.14.0->qdrant-client[fastembed]) (0.14.0)\r\n",
      "Collecting h2<5,>=3 (from httpx[http2]>=0.14.0->qdrant-client[fastembed])\r\n",
      "  Downloading h2-4.1.0-py3-none-any.whl (57 kB)\r\n",
      "\u001b[2K     \u001b[90m━━━━━━━━━━━━━━━━━━━━━━━━━━━━━━━━━━━━━━━━\u001b[0m \u001b[32m57.5/57.5 kB\u001b[0m \u001b[31m2.5 MB/s\u001b[0m eta \u001b[36m0:00:00\u001b[0m\r\n",
      "\u001b[?25hRequirement already satisfied: annotated-types>=0.4.0 in /opt/conda/lib/python3.10/site-packages (from pydantic>=1.10.8->qdrant-client[fastembed]) (0.6.0)\r\n",
      "Requirement already satisfied: pydantic-core==2.14.6 in /opt/conda/lib/python3.10/site-packages (from pydantic>=1.10.8->qdrant-client[fastembed]) (2.14.6)\r\n",
      "Requirement already satisfied: typing-extensions>=4.6.1 in /opt/conda/lib/python3.10/site-packages (from pydantic>=1.10.8->qdrant-client[fastembed]) (4.9.0)\r\n",
      "Collecting hyperframe<7,>=6.0 (from h2<5,>=3->httpx[http2]>=0.14.0->qdrant-client[fastembed])\r\n",
      "  Downloading hyperframe-6.0.1-py3-none-any.whl (12 kB)\r\n",
      "Collecting hpack<5,>=4.0 (from h2<5,>=3->httpx[http2]>=0.14.0->qdrant-client[fastembed])\r\n",
      "  Downloading hpack-4.0.0-py3-none-any.whl (32 kB)\r\n",
      "Collecting coloredlogs (from onnxruntime<2.0,>=1.15->fastembed==0.1.1->qdrant-client[fastembed])\r\n",
      "  Downloading coloredlogs-15.0.1-py2.py3-none-any.whl (46 kB)\r\n",
      "\u001b[2K     \u001b[90m━━━━━━━━━━━━━━━━━━━━━━━━━━━━━━━━━━━━━━━━\u001b[0m \u001b[32m46.0/46.0 kB\u001b[0m \u001b[31m2.2 MB/s\u001b[0m eta \u001b[36m0:00:00\u001b[0m\r\n",
      "\u001b[?25hRequirement already satisfied: flatbuffers in /opt/conda/lib/python3.10/site-packages (from onnxruntime<2.0,>=1.15->fastembed==0.1.1->qdrant-client[fastembed]) (23.5.26)\r\n",
      "Requirement already satisfied: packaging in /opt/conda/lib/python3.10/site-packages (from onnxruntime<2.0,>=1.15->fastembed==0.1.1->qdrant-client[fastembed]) (21.3)\r\n",
      "Requirement already satisfied: sympy in /opt/conda/lib/python3.10/site-packages (from onnxruntime<2.0,>=1.15->fastembed==0.1.1->qdrant-client[fastembed]) (1.12)\r\n",
      "Requirement already satisfied: charset-normalizer<4,>=2 in /opt/conda/lib/python3.10/site-packages (from requests<3.0,>=2.31->fastembed==0.1.1->qdrant-client[fastembed]) (3.3.2)\r\n",
      "Requirement already satisfied: exceptiongroup>=1.0.2 in /opt/conda/lib/python3.10/site-packages (from anyio->httpx>=0.14.0->httpx[http2]>=0.14.0->qdrant-client[fastembed]) (1.2.0)\r\n",
      "Collecting humanfriendly>=9.1 (from coloredlogs->onnxruntime<2.0,>=1.15->fastembed==0.1.1->qdrant-client[fastembed])\r\n",
      "  Downloading humanfriendly-10.0-py2.py3-none-any.whl (86 kB)\r\n",
      "\u001b[2K     \u001b[90m━━━━━━━━━━━━━━━━━━━━━━━━━━━━━━━━━━━━━━━━\u001b[0m \u001b[32m86.8/86.8 kB\u001b[0m \u001b[31m4.3 MB/s\u001b[0m eta \u001b[36m0:00:00\u001b[0m\r\n",
      "\u001b[?25hRequirement already satisfied: pyparsing!=3.0.5,>=2.0.2 in /opt/conda/lib/python3.10/site-packages (from packaging->onnxruntime<2.0,>=1.15->fastembed==0.1.1->qdrant-client[fastembed]) (3.1.1)\r\n",
      "Requirement already satisfied: mpmath>=0.19 in /opt/conda/lib/python3.10/site-packages (from sympy->onnxruntime<2.0,>=1.15->fastembed==0.1.1->qdrant-client[fastembed]) (1.3.0)\r\n",
      "Downloading fastembed-0.1.1-py3-none-any.whl (14 kB)\r\n",
      "Downloading grpcio_tools-1.60.1-cp310-cp310-manylinux_2_17_x86_64.manylinux2014_x86_64.whl (2.8 MB)\r\n",
      "\u001b[2K   \u001b[90m━━━━━━━━━━━━━━━━━━━━━━━━━━━━━━━━━━━━━━━━\u001b[0m \u001b[32m2.8/2.8 MB\u001b[0m \u001b[31m50.3 MB/s\u001b[0m eta \u001b[36m0:00:00\u001b[0m\r\n",
      "\u001b[?25hDownloading grpcio-1.60.1-cp310-cp310-manylinux_2_17_x86_64.manylinux2014_x86_64.whl (5.4 MB)\r\n",
      "\u001b[2K   \u001b[90m━━━━━━━━━━━━━━━━━━━━━━━━━━━━━━━━━━━━━━━━\u001b[0m \u001b[32m5.4/5.4 MB\u001b[0m \u001b[31m64.7 MB/s\u001b[0m eta \u001b[36m0:00:00\u001b[0m\r\n",
      "\u001b[?25hDownloading httpx-0.26.0-py3-none-any.whl (75 kB)\r\n",
      "\u001b[2K   \u001b[90m━━━━━━━━━━━━━━━━━━━━━━━━━━━━━━━━━━━━━━━━\u001b[0m \u001b[32m75.9/75.9 kB\u001b[0m \u001b[31m3.6 MB/s\u001b[0m eta \u001b[36m0:00:00\u001b[0m\r\n",
      "\u001b[?25hDownloading httpcore-1.0.2-py3-none-any.whl (76 kB)\r\n",
      "\u001b[2K   \u001b[90m━━━━━━━━━━━━━━━━━━━━━━━━━━━━━━━━━━━━━━━━\u001b[0m \u001b[32m76.9/76.9 kB\u001b[0m \u001b[31m3.5 MB/s\u001b[0m eta \u001b[36m0:00:00\u001b[0m\r\n",
      "\u001b[?25hDownloading portalocker-2.8.2-py3-none-any.whl (17 kB)\r\n",
      "Downloading qdrant_client-1.7.3-py3-none-any.whl (206 kB)\r\n",
      "\u001b[2K   \u001b[90m━━━━━━━━━━━━━━━━━━━━━━━━━━━━━━━━━━━━━━━━\u001b[0m \u001b[32m206.3/206.3 kB\u001b[0m \u001b[31m10.9 MB/s\u001b[0m eta \u001b[36m0:00:00\u001b[0m\r\n",
      "\u001b[?25hDownloading onnxruntime-1.17.0-cp310-cp310-manylinux_2_27_x86_64.manylinux_2_28_x86_64.whl (6.8 MB)\r\n",
      "\u001b[2K   \u001b[90m━━━━━━━━━━━━━━━━━━━━━━━━━━━━━━━━━━━━━━━━\u001b[0m \u001b[32m6.8/6.8 MB\u001b[0m \u001b[31m65.8 MB/s\u001b[0m eta \u001b[36m0:00:00\u001b[0m\r\n",
      "\u001b[?25hDownloading protobuf-4.25.2-cp37-abi3-manylinux2014_x86_64.whl (294 kB)\r\n",
      "\u001b[2K   \u001b[90m━━━━━━━━━━━━━━━━━━━━━━━━━━━━━━━━━━━━━━━━\u001b[0m \u001b[32m294.6/294.6 kB\u001b[0m \u001b[31m13.0 MB/s\u001b[0m eta \u001b[36m0:00:00\u001b[0m\r\n",
      "\u001b[?25hInstalling collected packages: tokenizers, protobuf, portalocker, hyperframe, humanfriendly, httpcore, hpack, grpcio, httpx, h2, grpcio-tools, coloredlogs, onnxruntime, qdrant-client, fastembed\r\n",
      "  Attempting uninstall: tokenizers\r\n",
      "    Found existing installation: tokenizers 0.15.1\r\n",
      "    Uninstalling tokenizers-0.15.1:\r\n",
      "      Successfully uninstalled tokenizers-0.15.1\r\n",
      "  Attempting uninstall: protobuf\r\n",
      "    Found existing installation: protobuf 3.20.3\r\n",
      "    Uninstalling protobuf-3.20.3:\r\n",
      "      Successfully uninstalled protobuf-3.20.3\r\n",
      "  Attempting uninstall: grpcio\r\n",
      "    Found existing installation: grpcio 1.60.0\r\n",
      "    Uninstalling grpcio-1.60.0:\r\n",
      "      Successfully uninstalled grpcio-1.60.0\r\n",
      "\u001b[31mERROR: pip's dependency resolver does not currently take into account all the packages that are installed. This behaviour is the source of the following dependency conflicts.\r\n",
      "apache-beam 2.46.0 requires dill<0.3.2,>=0.3.1.1, but you have dill 0.3.7 which is incompatible.\r\n",
      "apache-beam 2.46.0 requires protobuf<4,>3.12.2, but you have protobuf 4.25.2 which is incompatible.\r\n",
      "apache-beam 2.46.0 requires pyarrow<10.0.0,>=3.0.0, but you have pyarrow 15.0.0 which is incompatible.\r\n",
      "google-cloud-aiplatform 0.6.0a1 requires google-api-core[grpc]<2.0.0dev,>=1.22.2, but you have google-api-core 2.11.1 which is incompatible.\r\n",
      "google-cloud-automl 1.0.1 requires google-api-core[grpc]<2.0.0dev,>=1.14.0, but you have google-api-core 2.11.1 which is incompatible.\r\n",
      "google-cloud-bigquery 2.34.4 requires protobuf<4.0.0dev,>=3.12.0, but you have protobuf 4.25.2 which is incompatible.\r\n",
      "google-cloud-bigtable 1.7.3 requires protobuf<4.0.0dev, but you have protobuf 4.25.2 which is incompatible.\r\n",
      "google-cloud-datastore 1.15.5 requires protobuf<4.0.0dev, but you have protobuf 4.25.2 which is incompatible.\r\n",
      "google-cloud-vision 2.8.0 requires protobuf<4.0.0dev,>=3.19.0, but you have protobuf 4.25.2 which is incompatible.\r\n",
      "kfp 2.5.0 requires google-cloud-storage<3,>=2.2.1, but you have google-cloud-storage 1.44.0 which is incompatible.\r\n",
      "kfp 2.5.0 requires protobuf<4,>=3.13.0, but you have protobuf 4.25.2 which is incompatible.\r\n",
      "kfp-pipeline-spec 0.2.2 requires protobuf<4,>=3.13.0, but you have protobuf 4.25.2 which is incompatible.\r\n",
      "tensorboard 2.15.1 requires protobuf<4.24,>=3.19.6, but you have protobuf 4.25.2 which is incompatible.\r\n",
      "tensorflow-metadata 0.14.0 requires protobuf<4,>=3.7, but you have protobuf 4.25.2 which is incompatible.\r\n",
      "tensorflow-transform 0.14.0 requires protobuf<4,>=3.7, but you have protobuf 4.25.2 which is incompatible.\r\n",
      "tensorflowjs 4.16.0 requires packaging~=23.1, but you have packaging 21.3 which is incompatible.\r\n",
      "transformers 4.37.0 requires tokenizers<0.19,>=0.14, but you have tokenizers 0.13.3 which is incompatible.\u001b[0m\u001b[31m\r\n",
      "\u001b[0mSuccessfully installed coloredlogs-15.0.1 fastembed-0.1.1 grpcio-1.60.1 grpcio-tools-1.60.1 h2-4.1.0 hpack-4.0.0 httpcore-1.0.2 httpx-0.26.0 humanfriendly-10.0 hyperframe-6.0.1 onnxruntime-1.17.0 portalocker-2.8.2 protobuf-3.20.3 qdrant-client-1.7.3 tokenizers-0.13.3\r\n"
     ]
    }
   ],
   "source": [
    "!pip install qdrant-client[fastembed]"
   ]
  },
  {
   "cell_type": "markdown",
   "id": "1204872b",
   "metadata": {
    "papermill": {
     "duration": 0.014869,
     "end_time": "2024-02-12T18:07:18.894921",
     "exception": false,
     "start_time": "2024-02-12T18:07:18.880052",
     "status": "completed"
    },
    "tags": []
   },
   "source": [
    "## Preparing Inputs\n",
    "We can save a point in vector database by providing\n",
    "1. `id`: It will be used to give a point a unique indentification\n",
    "2. `document`: This is where the vectory similarity is performed\n",
    "3. `metadata`: We can perform filtering and other conditions for a point in vector space using this metadata"
   ]
  },
  {
   "cell_type": "code",
   "execution_count": 6,
   "id": "fef2f8e4",
   "metadata": {
    "execution": {
     "iopub.execute_input": "2024-02-12T18:07:18.930632Z",
     "iopub.status.busy": "2024-02-12T18:07:18.928717Z",
     "iopub.status.idle": "2024-02-12T18:07:18.961327Z",
     "shell.execute_reply": "2024-02-12T18:07:18.959984Z"
    },
    "papermill": {
     "duration": 0.052611,
     "end_time": "2024-02-12T18:07:18.964293",
     "exception": false,
     "start_time": "2024-02-12T18:07:18.911682",
     "status": "completed"
    },
    "tags": []
   },
   "outputs": [],
   "source": [
    "ids = df.index\n",
    "documents = df['sentences']\n",
    "metadata = df[['title', 'brand', 'category', 'vendor', 'used', 'original_price', 'discounted_price']].fillna(\"\").to_dict(orient='records')"
   ]
  },
  {
   "cell_type": "markdown",
   "id": "58312165",
   "metadata": {
    "papermill": {
     "duration": 0.014116,
     "end_time": "2024-02-12T18:07:18.992467",
     "exception": false,
     "start_time": "2024-02-12T18:07:18.978351",
     "status": "completed"
    },
    "tags": []
   },
   "source": [
    "## Uploading to Vector Database"
   ]
  },
  {
   "cell_type": "code",
   "execution_count": 7,
   "id": "fb5012fa",
   "metadata": {
    "execution": {
     "iopub.execute_input": "2024-02-12T18:07:19.034450Z",
     "iopub.status.busy": "2024-02-12T18:07:19.034064Z",
     "iopub.status.idle": "2024-02-12T18:07:19.039710Z",
     "shell.execute_reply": "2024-02-12T18:07:19.038315Z"
    },
    "papermill": {
     "duration": 0.029039,
     "end_time": "2024-02-12T18:07:19.042696",
     "exception": false,
     "start_time": "2024-02-12T18:07:19.013657",
     "status": "completed"
    },
    "tags": []
   },
   "outputs": [],
   "source": [
    "# Name of Qdrant Collection for saving vectors\n",
    "QD_COLLECTION_NAME = \"collection_name\""
   ]
  },
  {
   "cell_type": "code",
   "execution_count": 8,
   "id": "2fc8e4d3",
   "metadata": {
    "execution": {
     "iopub.execute_input": "2024-02-12T18:07:19.080329Z",
     "iopub.status.busy": "2024-02-12T18:07:19.078992Z",
     "iopub.status.idle": "2024-02-12T18:15:33.154183Z",
     "shell.execute_reply": "2024-02-12T18:15:33.152750Z"
    },
    "papermill": {
     "duration": 494.113801,
     "end_time": "2024-02-12T18:15:33.172785",
     "exception": false,
     "start_time": "2024-02-12T18:07:19.058984",
     "status": "completed"
    },
    "tags": []
   },
   "outputs": [
    {
     "name": "stderr",
     "output_type": "stream",
     "text": [
      "100%|██████████| 77.7M/77.7M [00:03<00:00, 23.2MiB/s]\n"
     ]
    },
    {
     "name": "stdout",
     "output_type": "stream",
     "text": [
      "Completed\n"
     ]
    }
   ],
   "source": [
    "from qdrant_client import QdrantClient\n",
    "\n",
    "client = QdrantClient(\":memory:\")\n",
    "\n",
    "client.add(\n",
    "    collection_name=QD_COLLECTION_NAME,\n",
    "    ids=ids,\n",
    "    documents=documents,\n",
    "    metadata=metadata,\n",
    ")\n",
    "\n",
    "print(\"Completed\")"
   ]
  },
  {
   "cell_type": "markdown",
   "id": "da583a61",
   "metadata": {
    "papermill": {
     "duration": 0.017651,
     "end_time": "2024-02-12T18:15:33.208646",
     "exception": false,
     "start_time": "2024-02-12T18:15:33.190995",
     "status": "completed"
    },
    "tags": []
   },
   "source": [
    "## Using the Search Engine\n",
    "Now we will test the search engine to see how accurate and relevant results it can come up with"
   ]
  },
  {
   "cell_type": "code",
   "execution_count": 9,
   "id": "58807e8f",
   "metadata": {
    "execution": {
     "iopub.execute_input": "2024-02-12T18:15:33.246434Z",
     "iopub.status.busy": "2024-02-12T18:15:33.245730Z",
     "iopub.status.idle": "2024-02-12T18:15:33.254060Z",
     "shell.execute_reply": "2024-02-12T18:15:33.252317Z"
    },
    "papermill": {
     "duration": 0.031359,
     "end_time": "2024-02-12T18:15:33.256722",
     "exception": false,
     "start_time": "2024-02-12T18:15:33.225363",
     "status": "completed"
    },
    "tags": []
   },
   "outputs": [],
   "source": [
    "# This function displays the results understandable output\n",
    "\n",
    "def display_results(results):\n",
    "    for i, result in enumerate(results):\n",
    "        print()\n",
    "        print(f\"{i+1})\")\n",
    "        for k, v in result.metadata.items():\n",
    "            if k != \"document\":\n",
    "                print(f\"{k.capitalize()}: {v}\")"
   ]
  },
  {
   "cell_type": "code",
   "execution_count": 10,
   "id": "cd869526",
   "metadata": {
    "execution": {
     "iopub.execute_input": "2024-02-12T18:15:33.298548Z",
     "iopub.status.busy": "2024-02-12T18:15:33.297992Z",
     "iopub.status.idle": "2024-02-12T18:15:33.340692Z",
     "shell.execute_reply": "2024-02-12T18:15:33.338584Z"
    },
    "papermill": {
     "duration": 0.068245,
     "end_time": "2024-02-12T18:15:33.344321",
     "exception": false,
     "start_time": "2024-02-12T18:15:33.276076",
     "status": "completed"
    },
    "tags": []
   },
   "outputs": [
    {
     "name": "stdout",
     "output_type": "stream",
     "text": [
      "\n",
      "1)\n",
      "Title: Dell Inspiron 3515 15.6 inches AMD Ryzen 5 3450U (8GB-256GB)\n",
      "Brand: \n",
      "Category: Laptop\n",
      "Vendor: PriceOye\n",
      "Used: 0\n",
      "Original_price: 145000.0\n",
      "Discounted_price: 134499.0\n",
      "\n",
      "2)\n",
      "Title: HP Laptop EQ2180AU 15.6 Inches AMD Ryzen 5 (8GB RAM - 512GBSSD)\n",
      "Brand: \n",
      "Category: Laptop\n",
      "Vendor: PriceOye\n",
      "Used: 0\n",
      "Original_price: 175000.0\n",
      "Discounted_price: 171499.0\n",
      "\n",
      "3)\n",
      "Title: Dell Laptop Inspiron 5515 15.6 inches AMD Ryzen 7 (8GB RAM - 512GB SSD)\n",
      "Brand: \n",
      "Category: Laptop\n",
      "Vendor: PriceOye\n",
      "Used: 0\n",
      "Original_price: 245499.0\n",
      "Discounted_price: 191499.0\n",
      "\n",
      "4)\n",
      "Title: ASUS TUF Gaming A15 FA507R AMD Ryzen 7 8GB RAM 512GB SSD 4GB RTX 3050Ti Windows 11 Mecha Grey \n",
      "Brand: Asus\n",
      "Category: Laptop\n",
      "Vendor: MEGA.PK\n",
      "Used: 0\n",
      "Original_price: 294999.0\n",
      "Discounted_price: \n",
      "\n",
      "5)\n",
      "Title: Asus M515U Ryzen 5\n",
      "Brand: Asus\n",
      "Category: Laptop\n",
      "Vendor: Paklap\n",
      "Used: 0\n",
      "Original_price: 139900.0\n",
      "Discounted_price: \n"
     ]
    }
   ],
   "source": [
    "results = client.query(\n",
    "    collection_name=QD_COLLECTION_NAME,\n",
    "    query_text=\"amd ryzen laptops\",\n",
    "    limit=5\n",
    ")\n",
    "display_results(results)"
   ]
  },
  {
   "cell_type": "code",
   "execution_count": 11,
   "id": "b15b009f",
   "metadata": {
    "execution": {
     "iopub.execute_input": "2024-02-12T18:15:33.440371Z",
     "iopub.status.busy": "2024-02-12T18:15:33.439744Z",
     "iopub.status.idle": "2024-02-12T18:15:33.521815Z",
     "shell.execute_reply": "2024-02-12T18:15:33.519379Z"
    },
    "papermill": {
     "duration": 0.143196,
     "end_time": "2024-02-12T18:15:33.524916",
     "exception": false,
     "start_time": "2024-02-12T18:15:33.381720",
     "status": "completed"
    },
    "tags": []
   },
   "outputs": [
    {
     "name": "stdout",
     "output_type": "stream",
     "text": [
      "\n",
      "1)\n",
      "Title: Asus ROG ZEPHYRUS 16 GU603ZW GAMING Core i9 12th Generation 16GB RAM 1TB SSD 8GB NVIDIA RTX 3070Ti Windows 11 \n",
      "Brand: Asus\n",
      "Category: Laptop\n",
      "Vendor: MEGA.PK\n",
      "Used: 0\n",
      "Original_price: 650000.0\n",
      "Discounted_price: \n",
      "\n",
      "2)\n",
      "Title: Dell G15 5520 Gaming Core i7 12th Generation 16GB RAM 512GB SSD 6GB NVIDIA RTX3060 Windows 11 \n",
      "Brand: Dell\n",
      "Category: Laptop\n",
      "Vendor: MEGA.PK\n",
      "Used: 0\n",
      "Original_price: 376999.0\n",
      "Discounted_price: \n",
      "\n",
      "3)\n",
      "Title: Dell G15 5520 Gaming Core i5 12th Generation 8GB RAM 256GB SSD 4GB NVIDIA RTX3050 DOS \n",
      "Brand: Dell\n",
      "Category: Laptop\n",
      "Vendor: MEGA.PK\n",
      "Used: 0\n",
      "Original_price: 247999.0\n",
      "Discounted_price: \n",
      "\n",
      "4)\n",
      "Title: Hp Victus Gaming 15 FB0028NR AMD Ryzen 7 16GB RAM 512GB SSD 4GB RTX 3050Ti Windows 11 \n",
      "Brand: HP\n",
      "Category: Laptop\n",
      "Vendor: MEGA.PK\n",
      "Used: 0\n",
      "Original_price: 264999.0\n",
      "Discounted_price: \n",
      "\n",
      "5)\n",
      "Title: ASUS TUF Gaming A15 FA507R AMD Ryzen 7 8GB RAM 512GB SSD 4GB RTX 3050Ti Windows 11 Mecha Grey \n",
      "Brand: Asus\n",
      "Category: Laptop\n",
      "Vendor: MEGA.PK\n",
      "Used: 0\n",
      "Original_price: 294999.0\n",
      "Discounted_price: \n"
     ]
    }
   ],
   "source": [
    "from qdrant_client.http.models import Filter, FieldCondition, MatchValue\n",
    "\n",
    "# searching with a condition: products only belonging to vendor \"MEGA.PK\"\n",
    "results = client.query(\n",
    "    collection_name=QD_COLLECTION_NAME,\n",
    "    query_text=\"gaming laptops\",\n",
    "    query_filter=Filter(\n",
    "        must=[\n",
    "            FieldCondition(\n",
    "                key=\"vendor\",\n",
    "                match=MatchValue(value='MEGA.PK')\n",
    "            )\n",
    "        ]\n",
    "    ),\n",
    "    limit=5\n",
    ")\n",
    "\n",
    "display_results(results)"
   ]
  },
  {
   "cell_type": "markdown",
   "id": "ff079b79",
   "metadata": {
    "papermill": {
     "duration": 0.039365,
     "end_time": "2024-02-12T18:15:33.603658",
     "exception": false,
     "start_time": "2024-02-12T18:15:33.564293",
     "status": "completed"
    },
    "tags": []
   },
   "source": [
    "# Explore More\n",
    "\n",
    "- Create Search Engine in 5 minutes using Qdrant on Quora Quesiton Pair Dataset\n",
    "    - Read this article on Medium: [Build a search engine in 5 minutes using Qdrant](https://medium.com/@raoarmaghanshakir040/build-a-search-engine-in-5-minutes-using-qdrant-f43df4fbe8d1)\n",
    "    - See the implementation in Kaggle Notebook: [Quora Search Engine Using Qdrant:](https://www.kaggle.com/code/sacrum/e-commerce-products-search-engine-using-qdrant)\n",
    "- [Qdrant](https://qdrant.tech)\n",
    "- [Qdrant Documentation](https://qdrant.tech/documentation/)\n",
    "- [Qdrant Python Client Documentation](https://python-client.qdrant.tech)\n",
    "- [Pricegram](https://github.com/Me-AU/pricegram)\n"
   ]
  },
  {
   "cell_type": "code",
   "execution_count": null,
   "id": "f1575cad",
   "metadata": {
    "papermill": {
     "duration": 0.019145,
     "end_time": "2024-02-12T18:15:33.659242",
     "exception": false,
     "start_time": "2024-02-12T18:15:33.640097",
     "status": "completed"
    },
    "tags": []
   },
   "outputs": [],
   "source": []
  }
 ],
 "metadata": {
  "kaggle": {
   "accelerator": "none",
   "dataSources": [
    {
     "datasetId": 3451217,
     "sourceId": 6033117,
     "sourceType": "datasetVersion"
    }
   ],
   "dockerImageVersionId": 30646,
   "isGpuEnabled": false,
   "isInternetEnabled": true,
   "language": "python",
   "sourceType": "notebook"
  },
  "kernelspec": {
   "display_name": "Python 3",
   "language": "python",
   "name": "python3"
  },
  "language_info": {
   "codemirror_mode": {
    "name": "ipython",
    "version": 3
   },
   "file_extension": ".py",
   "mimetype": "text/x-python",
   "name": "python",
   "nbconvert_exporter": "python",
   "pygments_lexer": "ipython3",
   "version": "3.10.13"
  },
  "papermill": {
   "default_parameters": {},
   "duration": 545.21959,
   "end_time": "2024-02-12T18:15:34.907637",
   "environment_variables": {},
   "exception": null,
   "input_path": "__notebook__.ipynb",
   "output_path": "__notebook__.ipynb",
   "parameters": {},
   "start_time": "2024-02-12T18:06:29.688047",
   "version": "2.5.0"
  }
 },
 "nbformat": 4,
 "nbformat_minor": 5
}
