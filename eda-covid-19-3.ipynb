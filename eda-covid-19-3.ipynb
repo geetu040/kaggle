{
 "cells": [
  {
   "cell_type": "code",
   "execution_count": 1,
   "id": "73a532bb",
   "metadata": {
    "execution": {
     "iopub.execute_input": "2024-01-25T10:44:10.045067Z",
     "iopub.status.busy": "2024-01-25T10:44:10.044434Z",
     "iopub.status.idle": "2024-01-25T10:44:13.769600Z",
     "shell.execute_reply": "2024-01-25T10:44:13.768260Z"
    },
    "id": "8ebWZbOFIJkg",
    "papermill": {
     "duration": 3.748523,
     "end_time": "2024-01-25T10:44:13.772927",
     "exception": false,
     "start_time": "2024-01-25T10:44:10.024404",
     "status": "completed"
    },
    "tags": []
   },
   "outputs": [],
   "source": [
    "import pandas as pd\t\n",
    "import numpy as np\n",
    "import os\n",
    "\n",
    "import matplotlib.pyplot as plt\n",
    "import seaborn as sns\n",
    "import plotly.express as px\n",
    "import plotly.graph_objects as go"
   ]
  },
  {
   "cell_type": "markdown",
   "id": "f64b3258",
   "metadata": {
    "id": "NyeJBQZoIJkk",
    "papermill": {
     "duration": 0.015921,
     "end_time": "2024-01-25T10:44:13.805577",
     "exception": false,
     "start_time": "2024-01-25T10:44:13.789656",
     "status": "completed"
    },
    "tags": []
   },
   "source": [
    "# Datasets\n",
    "\n",
    "- **Source**: [COVID-19 Dataset](https://www.kaggle.com/datasets/imdevskp/corona-virus-report)\n",
    "- **Author**: [DEVAKUMAR K. P.](https://www.kaggle.com/imdevskp)\n",
    "\n",
    "### Context\n",
    "- A new coronavirus designated 2019-nCoV was first identified in Wuhan, the capital of China's Hubei province\n",
    "- People developed pneumonia without a clear cause and for which existing vaccines or treatments were not effective.\n",
    "- The virus has shown evidence of human-to-human transmission\n",
    "- Transmission rate (rate of infection) appeared to escalate in mid-January 2020\n",
    "- As of 30 January 2020, approximately 8,243 cases have been confirmed\n",
    "\n",
    "### Content\n",
    "- full_grouped.csv - Day to day country wise no. of cases (Has County/State/Province level data)\n",
    "- covid_19_clean_complete.csv - Day to day country wise no. of cases (Doesn't have County/State/Province level data)\n",
    "- country_wise_latest.csv - Latest country level no. of cases\n",
    "- day_wise.csv - Day wise no. of cases (Doesn't have country level data)\n",
    "- usa_county_wise.csv - Day to day county level no. of cases\n",
    "- worldometer_data.csv - Latest data from https://www.worldometers.info/"
   ]
  },
  {
   "cell_type": "markdown",
   "id": "2d264f4d",
   "metadata": {
    "papermill": {
     "duration": 0.017207,
     "end_time": "2024-01-25T10:44:13.838897",
     "exception": false,
     "start_time": "2024-01-25T10:44:13.821690",
     "status": "completed"
    },
    "tags": []
   },
   "source": [
    "## Loading"
   ]
  },
  {
   "cell_type": "code",
   "execution_count": 2,
   "id": "3d13536a",
   "metadata": {
    "execution": {
     "iopub.execute_input": "2024-01-25T10:44:13.874927Z",
     "iopub.status.busy": "2024-01-25T10:44:13.873818Z",
     "iopub.status.idle": "2024-01-25T10:44:13.903917Z",
     "shell.execute_reply": "2024-01-25T10:44:13.902368Z"
    },
    "papermill": {
     "duration": 0.051522,
     "end_time": "2024-01-25T10:44:13.906999",
     "exception": false,
     "start_time": "2024-01-25T10:44:13.855477",
     "status": "completed"
    },
    "tags": []
   },
   "outputs": [
    {
     "name": "stdout",
     "output_type": "stream",
     "text": [
      "Files in Dataset:\n"
     ]
    },
    {
     "data": {
      "text/plain": [
       "['covid_19_clean_complete.csv',\n",
       " 'country_wise_latest.csv',\n",
       " 'day_wise.csv',\n",
       " 'usa_county_wise.csv',\n",
       " 'worldometer_data.csv',\n",
       " 'full_grouped.csv']"
      ]
     },
     "execution_count": 2,
     "metadata": {},
     "output_type": "execute_result"
    }
   ],
   "source": [
    "# directory to the data folder\n",
    "data_path = \"/kaggle/input/corona-virus-report\"\n",
    "\n",
    "print(\"Files in Dataset:\")\n",
    "os.listdir(data_path)"
   ]
  },
  {
   "cell_type": "code",
   "execution_count": 3,
   "id": "edb7a12c",
   "metadata": {
    "execution": {
     "iopub.execute_input": "2024-01-25T10:44:13.943440Z",
     "iopub.status.busy": "2024-01-25T10:44:13.942994Z",
     "iopub.status.idle": "2024-01-25T10:44:14.093804Z",
     "shell.execute_reply": "2024-01-25T10:44:14.092422Z"
    },
    "papermill": {
     "duration": 0.173953,
     "end_time": "2024-01-25T10:44:14.097530",
     "exception": false,
     "start_time": "2024-01-25T10:44:13.923577",
     "status": "completed"
    },
    "tags": []
   },
   "outputs": [
    {
     "name": "stdout",
     "output_type": "stream",
     "text": [
      "Shape: (35156, 10)\n"
     ]
    },
    {
     "data": {
      "text/html": [
       "<div>\n",
       "<style scoped>\n",
       "    .dataframe tbody tr th:only-of-type {\n",
       "        vertical-align: middle;\n",
       "    }\n",
       "\n",
       "    .dataframe tbody tr th {\n",
       "        vertical-align: top;\n",
       "    }\n",
       "\n",
       "    .dataframe thead th {\n",
       "        text-align: right;\n",
       "    }\n",
       "</style>\n",
       "<table border=\"1\" class=\"dataframe\">\n",
       "  <thead>\n",
       "    <tr style=\"text-align: right;\">\n",
       "      <th></th>\n",
       "      <th>Date</th>\n",
       "      <th>Country/Region</th>\n",
       "      <th>Confirmed</th>\n",
       "      <th>Deaths</th>\n",
       "      <th>Recovered</th>\n",
       "      <th>Active</th>\n",
       "      <th>New cases</th>\n",
       "      <th>New deaths</th>\n",
       "      <th>New recovered</th>\n",
       "      <th>WHO Region</th>\n",
       "    </tr>\n",
       "  </thead>\n",
       "  <tbody>\n",
       "    <tr>\n",
       "      <th>0</th>\n",
       "      <td>2020-01-22</td>\n",
       "      <td>Afghanistan</td>\n",
       "      <td>0</td>\n",
       "      <td>0</td>\n",
       "      <td>0</td>\n",
       "      <td>0</td>\n",
       "      <td>0</td>\n",
       "      <td>0</td>\n",
       "      <td>0</td>\n",
       "      <td>Eastern Mediterranean</td>\n",
       "    </tr>\n",
       "    <tr>\n",
       "      <th>1</th>\n",
       "      <td>2020-01-22</td>\n",
       "      <td>Albania</td>\n",
       "      <td>0</td>\n",
       "      <td>0</td>\n",
       "      <td>0</td>\n",
       "      <td>0</td>\n",
       "      <td>0</td>\n",
       "      <td>0</td>\n",
       "      <td>0</td>\n",
       "      <td>Europe</td>\n",
       "    </tr>\n",
       "    <tr>\n",
       "      <th>2</th>\n",
       "      <td>2020-01-22</td>\n",
       "      <td>Algeria</td>\n",
       "      <td>0</td>\n",
       "      <td>0</td>\n",
       "      <td>0</td>\n",
       "      <td>0</td>\n",
       "      <td>0</td>\n",
       "      <td>0</td>\n",
       "      <td>0</td>\n",
       "      <td>Africa</td>\n",
       "    </tr>\n",
       "    <tr>\n",
       "      <th>3</th>\n",
       "      <td>2020-01-22</td>\n",
       "      <td>Andorra</td>\n",
       "      <td>0</td>\n",
       "      <td>0</td>\n",
       "      <td>0</td>\n",
       "      <td>0</td>\n",
       "      <td>0</td>\n",
       "      <td>0</td>\n",
       "      <td>0</td>\n",
       "      <td>Europe</td>\n",
       "    </tr>\n",
       "    <tr>\n",
       "      <th>4</th>\n",
       "      <td>2020-01-22</td>\n",
       "      <td>Angola</td>\n",
       "      <td>0</td>\n",
       "      <td>0</td>\n",
       "      <td>0</td>\n",
       "      <td>0</td>\n",
       "      <td>0</td>\n",
       "      <td>0</td>\n",
       "      <td>0</td>\n",
       "      <td>Africa</td>\n",
       "    </tr>\n",
       "  </tbody>\n",
       "</table>\n",
       "</div>"
      ],
      "text/plain": [
       "         Date Country/Region  Confirmed  Deaths  Recovered  Active  New cases  \\\n",
       "0  2020-01-22    Afghanistan          0       0          0       0          0   \n",
       "1  2020-01-22        Albania          0       0          0       0          0   \n",
       "2  2020-01-22        Algeria          0       0          0       0          0   \n",
       "3  2020-01-22        Andorra          0       0          0       0          0   \n",
       "4  2020-01-22         Angola          0       0          0       0          0   \n",
       "\n",
       "   New deaths  New recovered             WHO Region  \n",
       "0           0              0  Eastern Mediterranean  \n",
       "1           0              0                 Europe  \n",
       "2           0              0                 Africa  \n",
       "3           0              0                 Europe  \n",
       "4           0              0                 Africa  "
      ]
     },
     "execution_count": 3,
     "metadata": {},
     "output_type": "execute_result"
    }
   ],
   "source": [
    "df_full = pd.read_csv(os.path.join(data_path, 'full_grouped.csv'))\n",
    "print(\"Shape:\", df_full.shape)\n",
    "df_full.head()"
   ]
  },
  {
   "cell_type": "code",
   "execution_count": 4,
   "id": "c92bd47d",
   "metadata": {
    "execution": {
     "iopub.execute_input": "2024-01-25T10:44:14.134270Z",
     "iopub.status.busy": "2024-01-25T10:44:14.133488Z",
     "iopub.status.idle": "2024-01-25T10:44:14.165072Z",
     "shell.execute_reply": "2024-01-25T10:44:14.164225Z"
    },
    "papermill": {
     "duration": 0.053884,
     "end_time": "2024-01-25T10:44:14.168603",
     "exception": false,
     "start_time": "2024-01-25T10:44:14.114719",
     "status": "completed"
    },
    "tags": []
   },
   "outputs": [
    {
     "name": "stdout",
     "output_type": "stream",
     "text": [
      "Shape: (188, 12)\n"
     ]
    },
    {
     "data": {
      "text/html": [
       "<div>\n",
       "<style scoped>\n",
       "    .dataframe tbody tr th:only-of-type {\n",
       "        vertical-align: middle;\n",
       "    }\n",
       "\n",
       "    .dataframe tbody tr th {\n",
       "        vertical-align: top;\n",
       "    }\n",
       "\n",
       "    .dataframe thead th {\n",
       "        text-align: right;\n",
       "    }\n",
       "</style>\n",
       "<table border=\"1\" class=\"dataframe\">\n",
       "  <thead>\n",
       "    <tr style=\"text-align: right;\">\n",
       "      <th></th>\n",
       "      <th>Date</th>\n",
       "      <th>Confirmed</th>\n",
       "      <th>Deaths</th>\n",
       "      <th>Recovered</th>\n",
       "      <th>Active</th>\n",
       "      <th>New cases</th>\n",
       "      <th>New deaths</th>\n",
       "      <th>New recovered</th>\n",
       "      <th>Deaths / 100 Cases</th>\n",
       "      <th>Recovered / 100 Cases</th>\n",
       "      <th>Deaths / 100 Recovered</th>\n",
       "      <th>No. of countries</th>\n",
       "    </tr>\n",
       "  </thead>\n",
       "  <tbody>\n",
       "    <tr>\n",
       "      <th>0</th>\n",
       "      <td>2020-01-22</td>\n",
       "      <td>555</td>\n",
       "      <td>17</td>\n",
       "      <td>28</td>\n",
       "      <td>510</td>\n",
       "      <td>0</td>\n",
       "      <td>0</td>\n",
       "      <td>0</td>\n",
       "      <td>3.06</td>\n",
       "      <td>5.05</td>\n",
       "      <td>60.71</td>\n",
       "      <td>6</td>\n",
       "    </tr>\n",
       "    <tr>\n",
       "      <th>1</th>\n",
       "      <td>2020-01-23</td>\n",
       "      <td>654</td>\n",
       "      <td>18</td>\n",
       "      <td>30</td>\n",
       "      <td>606</td>\n",
       "      <td>99</td>\n",
       "      <td>1</td>\n",
       "      <td>2</td>\n",
       "      <td>2.75</td>\n",
       "      <td>4.59</td>\n",
       "      <td>60.00</td>\n",
       "      <td>8</td>\n",
       "    </tr>\n",
       "    <tr>\n",
       "      <th>2</th>\n",
       "      <td>2020-01-24</td>\n",
       "      <td>941</td>\n",
       "      <td>26</td>\n",
       "      <td>36</td>\n",
       "      <td>879</td>\n",
       "      <td>287</td>\n",
       "      <td>8</td>\n",
       "      <td>6</td>\n",
       "      <td>2.76</td>\n",
       "      <td>3.83</td>\n",
       "      <td>72.22</td>\n",
       "      <td>9</td>\n",
       "    </tr>\n",
       "    <tr>\n",
       "      <th>3</th>\n",
       "      <td>2020-01-25</td>\n",
       "      <td>1434</td>\n",
       "      <td>42</td>\n",
       "      <td>39</td>\n",
       "      <td>1353</td>\n",
       "      <td>493</td>\n",
       "      <td>16</td>\n",
       "      <td>3</td>\n",
       "      <td>2.93</td>\n",
       "      <td>2.72</td>\n",
       "      <td>107.69</td>\n",
       "      <td>11</td>\n",
       "    </tr>\n",
       "    <tr>\n",
       "      <th>4</th>\n",
       "      <td>2020-01-26</td>\n",
       "      <td>2118</td>\n",
       "      <td>56</td>\n",
       "      <td>52</td>\n",
       "      <td>2010</td>\n",
       "      <td>684</td>\n",
       "      <td>14</td>\n",
       "      <td>13</td>\n",
       "      <td>2.64</td>\n",
       "      <td>2.46</td>\n",
       "      <td>107.69</td>\n",
       "      <td>13</td>\n",
       "    </tr>\n",
       "  </tbody>\n",
       "</table>\n",
       "</div>"
      ],
      "text/plain": [
       "         Date  Confirmed  Deaths  Recovered  Active  New cases  New deaths  \\\n",
       "0  2020-01-22        555      17         28     510          0           0   \n",
       "1  2020-01-23        654      18         30     606         99           1   \n",
       "2  2020-01-24        941      26         36     879        287           8   \n",
       "3  2020-01-25       1434      42         39    1353        493          16   \n",
       "4  2020-01-26       2118      56         52    2010        684          14   \n",
       "\n",
       "   New recovered  Deaths / 100 Cases  Recovered / 100 Cases  \\\n",
       "0              0                3.06                   5.05   \n",
       "1              2                2.75                   4.59   \n",
       "2              6                2.76                   3.83   \n",
       "3              3                2.93                   2.72   \n",
       "4             13                2.64                   2.46   \n",
       "\n",
       "   Deaths / 100 Recovered  No. of countries  \n",
       "0                   60.71                 6  \n",
       "1                   60.00                 8  \n",
       "2                   72.22                 9  \n",
       "3                  107.69                11  \n",
       "4                  107.69                13  "
      ]
     },
     "execution_count": 4,
     "metadata": {},
     "output_type": "execute_result"
    }
   ],
   "source": [
    "df_date = pd.read_csv(os.path.join(data_path, 'day_wise.csv'))\n",
    "print(\"Shape:\", df_date.shape)\n",
    "df_date.head()"
   ]
  },
  {
   "cell_type": "code",
   "execution_count": 5,
   "id": "fb2c686a",
   "metadata": {
    "execution": {
     "iopub.execute_input": "2024-01-25T10:44:14.207072Z",
     "iopub.status.busy": "2024-01-25T10:44:14.206386Z",
     "iopub.status.idle": "2024-01-25T10:44:14.237954Z",
     "shell.execute_reply": "2024-01-25T10:44:14.236676Z"
    },
    "papermill": {
     "duration": 0.054032,
     "end_time": "2024-01-25T10:44:14.241031",
     "exception": false,
     "start_time": "2024-01-25T10:44:14.186999",
     "status": "completed"
    },
    "tags": []
   },
   "outputs": [
    {
     "name": "stdout",
     "output_type": "stream",
     "text": [
      "Shape: (187, 15)\n"
     ]
    },
    {
     "data": {
      "text/html": [
       "<div>\n",
       "<style scoped>\n",
       "    .dataframe tbody tr th:only-of-type {\n",
       "        vertical-align: middle;\n",
       "    }\n",
       "\n",
       "    .dataframe tbody tr th {\n",
       "        vertical-align: top;\n",
       "    }\n",
       "\n",
       "    .dataframe thead th {\n",
       "        text-align: right;\n",
       "    }\n",
       "</style>\n",
       "<table border=\"1\" class=\"dataframe\">\n",
       "  <thead>\n",
       "    <tr style=\"text-align: right;\">\n",
       "      <th></th>\n",
       "      <th>Country/Region</th>\n",
       "      <th>Confirmed</th>\n",
       "      <th>Deaths</th>\n",
       "      <th>Recovered</th>\n",
       "      <th>Active</th>\n",
       "      <th>New cases</th>\n",
       "      <th>New deaths</th>\n",
       "      <th>New recovered</th>\n",
       "      <th>Deaths / 100 Cases</th>\n",
       "      <th>Recovered / 100 Cases</th>\n",
       "      <th>Deaths / 100 Recovered</th>\n",
       "      <th>Confirmed last week</th>\n",
       "      <th>1 week change</th>\n",
       "      <th>1 week % increase</th>\n",
       "      <th>WHO Region</th>\n",
       "    </tr>\n",
       "  </thead>\n",
       "  <tbody>\n",
       "    <tr>\n",
       "      <th>0</th>\n",
       "      <td>Afghanistan</td>\n",
       "      <td>36263</td>\n",
       "      <td>1269</td>\n",
       "      <td>25198</td>\n",
       "      <td>9796</td>\n",
       "      <td>106</td>\n",
       "      <td>10</td>\n",
       "      <td>18</td>\n",
       "      <td>3.50</td>\n",
       "      <td>69.49</td>\n",
       "      <td>5.04</td>\n",
       "      <td>35526</td>\n",
       "      <td>737</td>\n",
       "      <td>2.07</td>\n",
       "      <td>Eastern Mediterranean</td>\n",
       "    </tr>\n",
       "    <tr>\n",
       "      <th>1</th>\n",
       "      <td>Albania</td>\n",
       "      <td>4880</td>\n",
       "      <td>144</td>\n",
       "      <td>2745</td>\n",
       "      <td>1991</td>\n",
       "      <td>117</td>\n",
       "      <td>6</td>\n",
       "      <td>63</td>\n",
       "      <td>2.95</td>\n",
       "      <td>56.25</td>\n",
       "      <td>5.25</td>\n",
       "      <td>4171</td>\n",
       "      <td>709</td>\n",
       "      <td>17.00</td>\n",
       "      <td>Europe</td>\n",
       "    </tr>\n",
       "    <tr>\n",
       "      <th>2</th>\n",
       "      <td>Algeria</td>\n",
       "      <td>27973</td>\n",
       "      <td>1163</td>\n",
       "      <td>18837</td>\n",
       "      <td>7973</td>\n",
       "      <td>616</td>\n",
       "      <td>8</td>\n",
       "      <td>749</td>\n",
       "      <td>4.16</td>\n",
       "      <td>67.34</td>\n",
       "      <td>6.17</td>\n",
       "      <td>23691</td>\n",
       "      <td>4282</td>\n",
       "      <td>18.07</td>\n",
       "      <td>Africa</td>\n",
       "    </tr>\n",
       "    <tr>\n",
       "      <th>3</th>\n",
       "      <td>Andorra</td>\n",
       "      <td>907</td>\n",
       "      <td>52</td>\n",
       "      <td>803</td>\n",
       "      <td>52</td>\n",
       "      <td>10</td>\n",
       "      <td>0</td>\n",
       "      <td>0</td>\n",
       "      <td>5.73</td>\n",
       "      <td>88.53</td>\n",
       "      <td>6.48</td>\n",
       "      <td>884</td>\n",
       "      <td>23</td>\n",
       "      <td>2.60</td>\n",
       "      <td>Europe</td>\n",
       "    </tr>\n",
       "    <tr>\n",
       "      <th>4</th>\n",
       "      <td>Angola</td>\n",
       "      <td>950</td>\n",
       "      <td>41</td>\n",
       "      <td>242</td>\n",
       "      <td>667</td>\n",
       "      <td>18</td>\n",
       "      <td>1</td>\n",
       "      <td>0</td>\n",
       "      <td>4.32</td>\n",
       "      <td>25.47</td>\n",
       "      <td>16.94</td>\n",
       "      <td>749</td>\n",
       "      <td>201</td>\n",
       "      <td>26.84</td>\n",
       "      <td>Africa</td>\n",
       "    </tr>\n",
       "  </tbody>\n",
       "</table>\n",
       "</div>"
      ],
      "text/plain": [
       "  Country/Region  Confirmed  Deaths  Recovered  Active  New cases  New deaths  \\\n",
       "0    Afghanistan      36263    1269      25198    9796        106          10   \n",
       "1        Albania       4880     144       2745    1991        117           6   \n",
       "2        Algeria      27973    1163      18837    7973        616           8   \n",
       "3        Andorra        907      52        803      52         10           0   \n",
       "4         Angola        950      41        242     667         18           1   \n",
       "\n",
       "   New recovered  Deaths / 100 Cases  Recovered / 100 Cases  \\\n",
       "0             18                3.50                  69.49   \n",
       "1             63                2.95                  56.25   \n",
       "2            749                4.16                  67.34   \n",
       "3              0                5.73                  88.53   \n",
       "4              0                4.32                  25.47   \n",
       "\n",
       "   Deaths / 100 Recovered  Confirmed last week  1 week change  \\\n",
       "0                    5.04                35526            737   \n",
       "1                    5.25                 4171            709   \n",
       "2                    6.17                23691           4282   \n",
       "3                    6.48                  884             23   \n",
       "4                   16.94                  749            201   \n",
       "\n",
       "   1 week % increase             WHO Region  \n",
       "0               2.07  Eastern Mediterranean  \n",
       "1              17.00                 Europe  \n",
       "2              18.07                 Africa  \n",
       "3               2.60                 Europe  \n",
       "4              26.84                 Africa  "
      ]
     },
     "execution_count": 5,
     "metadata": {},
     "output_type": "execute_result"
    }
   ],
   "source": [
    "df_country = pd.read_csv(os.path.join(data_path, 'country_wise_latest.csv'))\n",
    "print(\"Shape:\", df_country.shape)\n",
    "df_country.head()"
   ]
  },
  {
   "cell_type": "markdown",
   "id": "0c85f41a",
   "metadata": {
    "papermill": {
     "duration": 0.017913,
     "end_time": "2024-01-25T10:44:14.276976",
     "exception": false,
     "start_time": "2024-01-25T10:44:14.259063",
     "status": "completed"
    },
    "tags": []
   },
   "source": [
    "## Preprocessing"
   ]
  },
  {
   "cell_type": "code",
   "execution_count": 6,
   "id": "70b42227",
   "metadata": {
    "execution": {
     "iopub.execute_input": "2024-01-25T10:44:14.319948Z",
     "iopub.status.busy": "2024-01-25T10:44:14.319520Z",
     "iopub.status.idle": "2024-01-25T10:44:33.043030Z",
     "shell.execute_reply": "2024-01-25T10:44:33.041684Z"
    },
    "papermill": {
     "duration": 18.748309,
     "end_time": "2024-01-25T10:44:33.046284",
     "exception": false,
     "start_time": "2024-01-25T10:44:14.297975",
     "status": "completed"
    },
    "tags": []
   },
   "outputs": [],
   "source": [
    "# 1. It converts date from string format to pandas datetime format\n",
    "df_date.Date = df_date.Date.apply(pd.to_datetime)\n",
    "df_full.Date = df_full.Date.apply(pd.to_datetime)"
   ]
  },
  {
   "cell_type": "code",
   "execution_count": 7,
   "id": "9cb0112b",
   "metadata": {
    "execution": {
     "iopub.execute_input": "2024-01-25T10:44:33.085836Z",
     "iopub.status.busy": "2024-01-25T10:44:33.085204Z",
     "iopub.status.idle": "2024-01-25T10:44:33.132690Z",
     "shell.execute_reply": "2024-01-25T10:44:33.131101Z"
    },
    "papermill": {
     "duration": 0.070472,
     "end_time": "2024-01-25T10:44:33.135346",
     "exception": false,
     "start_time": "2024-01-25T10:44:33.064874",
     "status": "completed"
    },
    "tags": []
   },
   "outputs": [
    {
     "data": {
      "text/plain": [
       "'These steps are not applied but can be applied to alter graphs'"
      ]
     },
     "execution_count": 7,
     "metadata": {},
     "output_type": "execute_result"
    }
   ],
   "source": [
    "# 2. fill null values\n",
    "df_date.fillna(0)\n",
    "\n",
    "# 3. drop any columns\n",
    "cols_to_dop = [\n",
    "\t# put the column names here\n",
    "]\n",
    "df_full.drop(cols_to_dop, axis=1)\n",
    "\n",
    "# 4. GROUP: df_full to df_date\n",
    "df_full.drop(['Country/Region', 'WHO Region'], axis=1).groupby(\"Date\").mean()\n",
    "\n",
    "# 5. GROUP: df_full to df_country\n",
    "df_full.groupby('Country/Region').last()\n",
    "\n",
    "\"These steps are not applied but can be applied to alter graphs\""
   ]
  },
  {
   "cell_type": "markdown",
   "id": "e3d529e3",
   "metadata": {
    "papermill": {
     "duration": 0.017583,
     "end_time": "2024-01-25T10:44:33.171237",
     "exception": false,
     "start_time": "2024-01-25T10:44:33.153654",
     "status": "completed"
    },
    "tags": []
   },
   "source": [
    "## Basic Information"
   ]
  },
  {
   "cell_type": "markdown",
   "id": "518843f8",
   "metadata": {
    "papermill": {
     "duration": 0.018411,
     "end_time": "2024-01-25T10:44:33.286763",
     "exception": false,
     "start_time": "2024-01-25T10:44:33.268352",
     "status": "completed"
    },
    "tags": []
   },
   "source": [
    "### df_full\n",
    "This is the complete dataset with all countries and all dates"
   ]
  },
  {
   "cell_type": "code",
   "execution_count": 8,
   "id": "bc2d6deb",
   "metadata": {
    "execution": {
     "iopub.execute_input": "2024-01-25T10:44:33.326494Z",
     "iopub.status.busy": "2024-01-25T10:44:33.325751Z",
     "iopub.status.idle": "2024-01-25T10:44:33.332586Z",
     "shell.execute_reply": "2024-01-25T10:44:33.331751Z"
    },
    "papermill": {
     "duration": 0.029534,
     "end_time": "2024-01-25T10:44:33.335150",
     "exception": false,
     "start_time": "2024-01-25T10:44:33.305616",
     "status": "completed"
    },
    "tags": []
   },
   "outputs": [
    {
     "data": {
      "text/plain": [
       "Index(['Date', 'Country/Region', 'Confirmed', 'Deaths', 'Recovered', 'Active',\n",
       "       'New cases', 'New deaths', 'New recovered', 'WHO Region'],\n",
       "      dtype='object')"
      ]
     },
     "execution_count": 8,
     "metadata": {},
     "output_type": "execute_result"
    }
   ],
   "source": [
    "df_full.columns"
   ]
  },
  {
   "cell_type": "code",
   "execution_count": 9,
   "id": "78584187",
   "metadata": {
    "execution": {
     "iopub.execute_input": "2024-01-25T10:44:33.375563Z",
     "iopub.status.busy": "2024-01-25T10:44:33.374964Z",
     "iopub.status.idle": "2024-01-25T10:44:33.443744Z",
     "shell.execute_reply": "2024-01-25T10:44:33.442430Z"
    },
    "papermill": {
     "duration": 0.092489,
     "end_time": "2024-01-25T10:44:33.446874",
     "exception": false,
     "start_time": "2024-01-25T10:44:33.354385",
     "status": "completed"
    },
    "tags": []
   },
   "outputs": [
    {
     "data": {
      "text/html": [
       "<div>\n",
       "<style scoped>\n",
       "    .dataframe tbody tr th:only-of-type {\n",
       "        vertical-align: middle;\n",
       "    }\n",
       "\n",
       "    .dataframe tbody tr th {\n",
       "        vertical-align: top;\n",
       "    }\n",
       "\n",
       "    .dataframe thead th {\n",
       "        text-align: right;\n",
       "    }\n",
       "</style>\n",
       "<table border=\"1\" class=\"dataframe\">\n",
       "  <thead>\n",
       "    <tr style=\"text-align: right;\">\n",
       "      <th></th>\n",
       "      <th>Date</th>\n",
       "      <th>Confirmed</th>\n",
       "      <th>Deaths</th>\n",
       "      <th>Recovered</th>\n",
       "      <th>Active</th>\n",
       "      <th>New cases</th>\n",
       "      <th>New deaths</th>\n",
       "      <th>New recovered</th>\n",
       "    </tr>\n",
       "  </thead>\n",
       "  <tbody>\n",
       "    <tr>\n",
       "      <th>count</th>\n",
       "      <td>35156</td>\n",
       "      <td>3.515600e+04</td>\n",
       "      <td>35156.000000</td>\n",
       "      <td>3.515600e+04</td>\n",
       "      <td>3.515600e+04</td>\n",
       "      <td>35156.00000</td>\n",
       "      <td>35156.000000</td>\n",
       "      <td>35156.000000</td>\n",
       "    </tr>\n",
       "    <tr>\n",
       "      <th>mean</th>\n",
       "      <td>2020-04-24 12:00:00</td>\n",
       "      <td>2.356663e+04</td>\n",
       "      <td>1234.068239</td>\n",
       "      <td>1.104813e+04</td>\n",
       "      <td>1.128443e+04</td>\n",
       "      <td>469.36375</td>\n",
       "      <td>18.603339</td>\n",
       "      <td>269.315593</td>\n",
       "    </tr>\n",
       "    <tr>\n",
       "      <th>min</th>\n",
       "      <td>2020-01-22 00:00:00</td>\n",
       "      <td>0.000000e+00</td>\n",
       "      <td>0.000000</td>\n",
       "      <td>0.000000e+00</td>\n",
       "      <td>-2.000000e+00</td>\n",
       "      <td>0.00000</td>\n",
       "      <td>-1918.000000</td>\n",
       "      <td>-16298.000000</td>\n",
       "    </tr>\n",
       "    <tr>\n",
       "      <th>25%</th>\n",
       "      <td>2020-03-08 18:00:00</td>\n",
       "      <td>1.000000e+00</td>\n",
       "      <td>0.000000</td>\n",
       "      <td>0.000000e+00</td>\n",
       "      <td>0.000000e+00</td>\n",
       "      <td>0.00000</td>\n",
       "      <td>0.000000</td>\n",
       "      <td>0.000000</td>\n",
       "    </tr>\n",
       "    <tr>\n",
       "      <th>50%</th>\n",
       "      <td>2020-04-24 12:00:00</td>\n",
       "      <td>2.500000e+02</td>\n",
       "      <td>4.000000</td>\n",
       "      <td>3.300000e+01</td>\n",
       "      <td>8.500000e+01</td>\n",
       "      <td>2.00000</td>\n",
       "      <td>0.000000</td>\n",
       "      <td>0.000000</td>\n",
       "    </tr>\n",
       "    <tr>\n",
       "      <th>75%</th>\n",
       "      <td>2020-06-10 06:00:00</td>\n",
       "      <td>3.640250e+03</td>\n",
       "      <td>78.250000</td>\n",
       "      <td>1.286250e+03</td>\n",
       "      <td>1.454000e+03</td>\n",
       "      <td>75.00000</td>\n",
       "      <td>1.000000</td>\n",
       "      <td>20.000000</td>\n",
       "    </tr>\n",
       "    <tr>\n",
       "      <th>max</th>\n",
       "      <td>2020-07-27 00:00:00</td>\n",
       "      <td>4.290259e+06</td>\n",
       "      <td>148011.000000</td>\n",
       "      <td>1.846641e+06</td>\n",
       "      <td>2.816444e+06</td>\n",
       "      <td>77255.00000</td>\n",
       "      <td>3887.000000</td>\n",
       "      <td>140050.000000</td>\n",
       "    </tr>\n",
       "    <tr>\n",
       "      <th>std</th>\n",
       "      <td>NaN</td>\n",
       "      <td>1.499818e+05</td>\n",
       "      <td>7437.238354</td>\n",
       "      <td>6.454640e+04</td>\n",
       "      <td>8.997149e+04</td>\n",
       "      <td>3005.86754</td>\n",
       "      <td>115.706351</td>\n",
       "      <td>2068.063852</td>\n",
       "    </tr>\n",
       "  </tbody>\n",
       "</table>\n",
       "</div>"
      ],
      "text/plain": [
       "                      Date     Confirmed         Deaths     Recovered  \\\n",
       "count                35156  3.515600e+04   35156.000000  3.515600e+04   \n",
       "mean   2020-04-24 12:00:00  2.356663e+04    1234.068239  1.104813e+04   \n",
       "min    2020-01-22 00:00:00  0.000000e+00       0.000000  0.000000e+00   \n",
       "25%    2020-03-08 18:00:00  1.000000e+00       0.000000  0.000000e+00   \n",
       "50%    2020-04-24 12:00:00  2.500000e+02       4.000000  3.300000e+01   \n",
       "75%    2020-06-10 06:00:00  3.640250e+03      78.250000  1.286250e+03   \n",
       "max    2020-07-27 00:00:00  4.290259e+06  148011.000000  1.846641e+06   \n",
       "std                    NaN  1.499818e+05    7437.238354  6.454640e+04   \n",
       "\n",
       "             Active    New cases    New deaths  New recovered  \n",
       "count  3.515600e+04  35156.00000  35156.000000   35156.000000  \n",
       "mean   1.128443e+04    469.36375     18.603339     269.315593  \n",
       "min   -2.000000e+00      0.00000  -1918.000000  -16298.000000  \n",
       "25%    0.000000e+00      0.00000      0.000000       0.000000  \n",
       "50%    8.500000e+01      2.00000      0.000000       0.000000  \n",
       "75%    1.454000e+03     75.00000      1.000000      20.000000  \n",
       "max    2.816444e+06  77255.00000   3887.000000  140050.000000  \n",
       "std    8.997149e+04   3005.86754    115.706351    2068.063852  "
      ]
     },
     "execution_count": 9,
     "metadata": {},
     "output_type": "execute_result"
    }
   ],
   "source": [
    "df_full.describe()"
   ]
  },
  {
   "cell_type": "code",
   "execution_count": 10,
   "id": "3b451f7b",
   "metadata": {
    "execution": {
     "iopub.execute_input": "2024-01-25T10:44:33.487316Z",
     "iopub.status.busy": "2024-01-25T10:44:33.486815Z",
     "iopub.status.idle": "2024-01-25T10:44:33.517358Z",
     "shell.execute_reply": "2024-01-25T10:44:33.515555Z"
    },
    "papermill": {
     "duration": 0.054243,
     "end_time": "2024-01-25T10:44:33.520335",
     "exception": false,
     "start_time": "2024-01-25T10:44:33.466092",
     "status": "completed"
    },
    "tags": []
   },
   "outputs": [
    {
     "name": "stdout",
     "output_type": "stream",
     "text": [
      "<class 'pandas.core.frame.DataFrame'>\n",
      "RangeIndex: 35156 entries, 0 to 35155\n",
      "Data columns (total 10 columns):\n",
      " #   Column          Non-Null Count  Dtype         \n",
      "---  ------          --------------  -----         \n",
      " 0   Date            35156 non-null  datetime64[ns]\n",
      " 1   Country/Region  35156 non-null  object        \n",
      " 2   Confirmed       35156 non-null  int64         \n",
      " 3   Deaths          35156 non-null  int64         \n",
      " 4   Recovered       35156 non-null  int64         \n",
      " 5   Active          35156 non-null  int64         \n",
      " 6   New cases       35156 non-null  int64         \n",
      " 7   New deaths      35156 non-null  int64         \n",
      " 8   New recovered   35156 non-null  int64         \n",
      " 9   WHO Region      35156 non-null  object        \n",
      "dtypes: datetime64[ns](1), int64(7), object(2)\n",
      "memory usage: 2.7+ MB\n"
     ]
    }
   ],
   "source": [
    "df_full.info()"
   ]
  },
  {
   "cell_type": "code",
   "execution_count": 11,
   "id": "12ab6703",
   "metadata": {
    "execution": {
     "iopub.execute_input": "2024-01-25T10:44:33.559817Z",
     "iopub.status.busy": "2024-01-25T10:44:33.559392Z",
     "iopub.status.idle": "2024-01-25T10:44:33.576853Z",
     "shell.execute_reply": "2024-01-25T10:44:33.575660Z"
    },
    "papermill": {
     "duration": 0.04015,
     "end_time": "2024-01-25T10:44:33.579274",
     "exception": false,
     "start_time": "2024-01-25T10:44:33.539124",
     "status": "completed"
    },
    "tags": []
   },
   "outputs": [
    {
     "data": {
      "text/plain": [
       "Date              0\n",
       "Country/Region    0\n",
       "Confirmed         0\n",
       "Deaths            0\n",
       "Recovered         0\n",
       "Active            0\n",
       "New cases         0\n",
       "New deaths        0\n",
       "New recovered     0\n",
       "WHO Region        0\n",
       "dtype: int64"
      ]
     },
     "execution_count": 11,
     "metadata": {},
     "output_type": "execute_result"
    }
   ],
   "source": [
    "df_full.isna().sum()"
   ]
  },
  {
   "cell_type": "code",
   "execution_count": 12,
   "id": "649ebf66",
   "metadata": {
    "execution": {
     "iopub.execute_input": "2024-01-25T10:44:33.619176Z",
     "iopub.status.busy": "2024-01-25T10:44:33.618571Z",
     "iopub.status.idle": "2024-01-25T10:44:35.898826Z",
     "shell.execute_reply": "2024-01-25T10:44:35.897264Z"
    },
    "papermill": {
     "duration": 2.303615,
     "end_time": "2024-01-25T10:44:35.901493",
     "exception": false,
     "start_time": "2024-01-25T10:44:33.597878",
     "status": "completed"
    },
    "tags": []
   },
   "outputs": [
    {
     "data": {
      "text/html": [
       "        <script type=\"text/javascript\">\n",
       "        window.PlotlyConfig = {MathJaxConfig: 'local'};\n",
       "        if (window.MathJax && window.MathJax.Hub && window.MathJax.Hub.Config) {window.MathJax.Hub.Config({SVG: {font: \"STIX-Web\"}});}\n",
       "        if (typeof require !== 'undefined') {\n",
       "        require.undef(\"plotly\");\n",
       "        requirejs.config({\n",
       "            paths: {\n",
       "                'plotly': ['https://cdn.plot.ly/plotly-2.25.2.min']\n",
       "            }\n",
       "        });\n",
       "        require(['plotly'], function(Plotly) {\n",
       "            window._Plotly = Plotly;\n",
       "        });\n",
       "        }\n",
       "        </script>\n",
       "        "
      ]
     },
     "metadata": {},
     "output_type": "display_data"
    },
    {
     "data": {
      "text/html": [
       "<div>                            <div id=\"327272e0-956c-42de-b38e-74667d2baffa\" class=\"plotly-graph-div\" style=\"height:525px; width:100%;\"></div>            <script type=\"text/javascript\">                require([\"plotly\"], function(Plotly) {                    window.PLOTLYENV=window.PLOTLYENV || {};                                    if (document.getElementById(\"327272e0-956c-42de-b38e-74667d2baffa\")) {                    Plotly.newPlot(                        \"327272e0-956c-42de-b38e-74667d2baffa\",                        [{\"hovertemplate\":\"Date=%{x}\\u003cbr\\u003eCountry\\u002fRegion=%{y}\\u003cextra\\u003e\\u003c\\u002fextra\\u003e\",\"legendgroup\":\"\",\"line\":{\"color\":\"#636efa\",\"dash\":\"solid\"},\"marker\":{\"symbol\":\"circle\"},\"mode\":\"markers+lines\",\"name\":\"\",\"orientation\":\"v\",\"showlegend\":false,\"x\":[\"2020-01-22T00:00:00\",\"2020-01-23T00:00:00\",\"2020-01-24T00:00:00\",\"2020-01-25T00:00:00\",\"2020-01-26T00:00:00\",\"2020-01-27T00:00:00\",\"2020-01-28T00:00:00\",\"2020-01-29T00:00:00\",\"2020-01-30T00:00:00\",\"2020-01-31T00:00:00\",\"2020-02-01T00:00:00\",\"2020-02-02T00:00:00\",\"2020-02-03T00:00:00\",\"2020-02-04T00:00:00\",\"2020-02-05T00:00:00\",\"2020-02-06T00:00:00\",\"2020-02-07T00:00:00\",\"2020-02-08T00:00:00\",\"2020-02-09T00:00:00\",\"2020-02-10T00:00:00\",\"2020-02-11T00:00:00\",\"2020-02-12T00:00:00\",\"2020-02-13T00:00:00\",\"2020-02-14T00:00:00\",\"2020-02-15T00:00:00\",\"2020-02-16T00:00:00\",\"2020-02-17T00:00:00\",\"2020-02-18T00:00:00\",\"2020-02-19T00:00:00\",\"2020-02-20T00:00:00\",\"2020-02-21T00:00:00\",\"2020-02-22T00:00:00\",\"2020-02-23T00:00:00\",\"2020-02-24T00:00:00\",\"2020-02-25T00:00:00\",\"2020-02-26T00:00:00\",\"2020-02-27T00:00:00\",\"2020-02-28T00:00:00\",\"2020-02-29T00:00:00\",\"2020-03-01T00:00:00\",\"2020-03-02T00:00:00\",\"2020-03-03T00:00:00\",\"2020-03-04T00:00:00\",\"2020-03-05T00:00:00\",\"2020-03-06T00:00:00\",\"2020-03-07T00:00:00\",\"2020-03-08T00:00:00\",\"2020-03-09T00:00:00\",\"2020-03-10T00:00:00\",\"2020-03-11T00:00:00\",\"2020-03-12T00:00:00\",\"2020-03-13T00:00:00\",\"2020-03-14T00:00:00\",\"2020-03-15T00:00:00\",\"2020-03-16T00:00:00\",\"2020-03-17T00:00:00\",\"2020-03-18T00:00:00\",\"2020-03-19T00:00:00\",\"2020-03-20T00:00:00\",\"2020-03-21T00:00:00\",\"2020-03-22T00:00:00\",\"2020-03-23T00:00:00\",\"2020-03-24T00:00:00\",\"2020-03-25T00:00:00\",\"2020-03-26T00:00:00\",\"2020-03-27T00:00:00\",\"2020-03-28T00:00:00\",\"2020-03-29T00:00:00\",\"2020-03-30T00:00:00\",\"2020-03-31T00:00:00\",\"2020-04-01T00:00:00\",\"2020-04-02T00:00:00\",\"2020-04-03T00:00:00\",\"2020-04-04T00:00:00\",\"2020-04-05T00:00:00\",\"2020-04-06T00:00:00\",\"2020-04-07T00:00:00\",\"2020-04-08T00:00:00\",\"2020-04-09T00:00:00\",\"2020-04-10T00:00:00\",\"2020-04-11T00:00:00\",\"2020-04-12T00:00:00\",\"2020-04-13T00:00:00\",\"2020-04-14T00:00:00\",\"2020-04-15T00:00:00\",\"2020-04-16T00:00:00\",\"2020-04-17T00:00:00\",\"2020-04-18T00:00:00\",\"2020-04-19T00:00:00\",\"2020-04-20T00:00:00\",\"2020-04-21T00:00:00\",\"2020-04-22T00:00:00\",\"2020-04-23T00:00:00\",\"2020-04-24T00:00:00\",\"2020-04-25T00:00:00\",\"2020-04-26T00:00:00\",\"2020-04-27T00:00:00\",\"2020-04-28T00:00:00\",\"2020-04-29T00:00:00\",\"2020-04-30T00:00:00\",\"2020-05-01T00:00:00\",\"2020-05-02T00:00:00\",\"2020-05-03T00:00:00\",\"2020-05-04T00:00:00\",\"2020-05-05T00:00:00\",\"2020-05-06T00:00:00\",\"2020-05-07T00:00:00\",\"2020-05-08T00:00:00\",\"2020-05-09T00:00:00\",\"2020-05-10T00:00:00\",\"2020-05-11T00:00:00\",\"2020-05-12T00:00:00\",\"2020-05-13T00:00:00\",\"2020-05-14T00:00:00\",\"2020-05-15T00:00:00\",\"2020-05-16T00:00:00\",\"2020-05-17T00:00:00\",\"2020-05-18T00:00:00\",\"2020-05-19T00:00:00\",\"2020-05-20T00:00:00\",\"2020-05-21T00:00:00\",\"2020-05-22T00:00:00\",\"2020-05-23T00:00:00\",\"2020-05-24T00:00:00\",\"2020-05-25T00:00:00\",\"2020-05-26T00:00:00\",\"2020-05-27T00:00:00\",\"2020-05-28T00:00:00\",\"2020-05-29T00:00:00\",\"2020-05-30T00:00:00\",\"2020-05-31T00:00:00\",\"2020-06-01T00:00:00\",\"2020-06-02T00:00:00\",\"2020-06-03T00:00:00\",\"2020-06-04T00:00:00\",\"2020-06-05T00:00:00\",\"2020-06-06T00:00:00\",\"2020-06-07T00:00:00\",\"2020-06-08T00:00:00\",\"2020-06-09T00:00:00\",\"2020-06-10T00:00:00\",\"2020-06-11T00:00:00\",\"2020-06-12T00:00:00\",\"2020-06-13T00:00:00\",\"2020-06-14T00:00:00\",\"2020-06-15T00:00:00\",\"2020-06-16T00:00:00\",\"2020-06-17T00:00:00\",\"2020-06-18T00:00:00\",\"2020-06-19T00:00:00\",\"2020-06-20T00:00:00\",\"2020-06-21T00:00:00\",\"2020-06-22T00:00:00\",\"2020-06-23T00:00:00\",\"2020-06-24T00:00:00\",\"2020-06-25T00:00:00\",\"2020-06-26T00:00:00\",\"2020-06-27T00:00:00\",\"2020-06-28T00:00:00\",\"2020-06-29T00:00:00\",\"2020-06-30T00:00:00\",\"2020-07-01T00:00:00\",\"2020-07-02T00:00:00\",\"2020-07-03T00:00:00\",\"2020-07-04T00:00:00\",\"2020-07-05T00:00:00\",\"2020-07-06T00:00:00\",\"2020-07-07T00:00:00\",\"2020-07-08T00:00:00\",\"2020-07-09T00:00:00\",\"2020-07-10T00:00:00\",\"2020-07-11T00:00:00\",\"2020-07-12T00:00:00\",\"2020-07-13T00:00:00\",\"2020-07-14T00:00:00\",\"2020-07-15T00:00:00\",\"2020-07-16T00:00:00\",\"2020-07-17T00:00:00\",\"2020-07-18T00:00:00\",\"2020-07-19T00:00:00\",\"2020-07-20T00:00:00\",\"2020-07-21T00:00:00\",\"2020-07-22T00:00:00\",\"2020-07-23T00:00:00\",\"2020-07-24T00:00:00\",\"2020-07-25T00:00:00\",\"2020-07-26T00:00:00\",\"2020-07-27T00:00:00\"],\"xaxis\":\"x\",\"y\":[187,187,187,187,187,187,187,187,187,187,187,187,187,187,187,187,187,187,187,187,187,187,187,187,187,187,187,187,187,187,187,187,187,187,187,187,187,187,187,187,187,187,187,187,187,187,187,187,187,187,187,187,187,187,187,187,187,187,187,187,187,187,187,187,187,187,187,187,187,187,187,187,187,187,187,187,187,187,187,187,187,187,187,187,187,187,187,187,187,187,187,187,187,187,187,187,187,187,187,187,187,187,187,187,187,187,187,187,187,187,187,187,187,187,187,187,187,187,187,187,187,187,187,187,187,187,187,187,187,187,187,187,187,187,187,187,187,187,187,187,187,187,187,187,187,187,187,187,187,187,187,187,187,187,187,187,187,187,187,187,187,187,187,187,187,187,187,187,187,187,187,187,187,187,187,187,187,187,187,187,187,187,187,187,187,187,187,187],\"yaxis\":\"y\",\"type\":\"scatter\"}],                        {\"template\":{\"data\":{\"histogram2dcontour\":[{\"type\":\"histogram2dcontour\",\"colorbar\":{\"outlinewidth\":0,\"ticks\":\"\"},\"colorscale\":[[0.0,\"#0d0887\"],[0.1111111111111111,\"#46039f\"],[0.2222222222222222,\"#7201a8\"],[0.3333333333333333,\"#9c179e\"],[0.4444444444444444,\"#bd3786\"],[0.5555555555555556,\"#d8576b\"],[0.6666666666666666,\"#ed7953\"],[0.7777777777777778,\"#fb9f3a\"],[0.8888888888888888,\"#fdca26\"],[1.0,\"#f0f921\"]]}],\"choropleth\":[{\"type\":\"choropleth\",\"colorbar\":{\"outlinewidth\":0,\"ticks\":\"\"}}],\"histogram2d\":[{\"type\":\"histogram2d\",\"colorbar\":{\"outlinewidth\":0,\"ticks\":\"\"},\"colorscale\":[[0.0,\"#0d0887\"],[0.1111111111111111,\"#46039f\"],[0.2222222222222222,\"#7201a8\"],[0.3333333333333333,\"#9c179e\"],[0.4444444444444444,\"#bd3786\"],[0.5555555555555556,\"#d8576b\"],[0.6666666666666666,\"#ed7953\"],[0.7777777777777778,\"#fb9f3a\"],[0.8888888888888888,\"#fdca26\"],[1.0,\"#f0f921\"]]}],\"heatmap\":[{\"type\":\"heatmap\",\"colorbar\":{\"outlinewidth\":0,\"ticks\":\"\"},\"colorscale\":[[0.0,\"#0d0887\"],[0.1111111111111111,\"#46039f\"],[0.2222222222222222,\"#7201a8\"],[0.3333333333333333,\"#9c179e\"],[0.4444444444444444,\"#bd3786\"],[0.5555555555555556,\"#d8576b\"],[0.6666666666666666,\"#ed7953\"],[0.7777777777777778,\"#fb9f3a\"],[0.8888888888888888,\"#fdca26\"],[1.0,\"#f0f921\"]]}],\"heatmapgl\":[{\"type\":\"heatmapgl\",\"colorbar\":{\"outlinewidth\":0,\"ticks\":\"\"},\"colorscale\":[[0.0,\"#0d0887\"],[0.1111111111111111,\"#46039f\"],[0.2222222222222222,\"#7201a8\"],[0.3333333333333333,\"#9c179e\"],[0.4444444444444444,\"#bd3786\"],[0.5555555555555556,\"#d8576b\"],[0.6666666666666666,\"#ed7953\"],[0.7777777777777778,\"#fb9f3a\"],[0.8888888888888888,\"#fdca26\"],[1.0,\"#f0f921\"]]}],\"contourcarpet\":[{\"type\":\"contourcarpet\",\"colorbar\":{\"outlinewidth\":0,\"ticks\":\"\"}}],\"contour\":[{\"type\":\"contour\",\"colorbar\":{\"outlinewidth\":0,\"ticks\":\"\"},\"colorscale\":[[0.0,\"#0d0887\"],[0.1111111111111111,\"#46039f\"],[0.2222222222222222,\"#7201a8\"],[0.3333333333333333,\"#9c179e\"],[0.4444444444444444,\"#bd3786\"],[0.5555555555555556,\"#d8576b\"],[0.6666666666666666,\"#ed7953\"],[0.7777777777777778,\"#fb9f3a\"],[0.8888888888888888,\"#fdca26\"],[1.0,\"#f0f921\"]]}],\"surface\":[{\"type\":\"surface\",\"colorbar\":{\"outlinewidth\":0,\"ticks\":\"\"},\"colorscale\":[[0.0,\"#0d0887\"],[0.1111111111111111,\"#46039f\"],[0.2222222222222222,\"#7201a8\"],[0.3333333333333333,\"#9c179e\"],[0.4444444444444444,\"#bd3786\"],[0.5555555555555556,\"#d8576b\"],[0.6666666666666666,\"#ed7953\"],[0.7777777777777778,\"#fb9f3a\"],[0.8888888888888888,\"#fdca26\"],[1.0,\"#f0f921\"]]}],\"mesh3d\":[{\"type\":\"mesh3d\",\"colorbar\":{\"outlinewidth\":0,\"ticks\":\"\"}}],\"scatter\":[{\"fillpattern\":{\"fillmode\":\"overlay\",\"size\":10,\"solidity\":0.2},\"type\":\"scatter\"}],\"parcoords\":[{\"type\":\"parcoords\",\"line\":{\"colorbar\":{\"outlinewidth\":0,\"ticks\":\"\"}}}],\"scatterpolargl\":[{\"type\":\"scatterpolargl\",\"marker\":{\"colorbar\":{\"outlinewidth\":0,\"ticks\":\"\"}}}],\"bar\":[{\"error_x\":{\"color\":\"#2a3f5f\"},\"error_y\":{\"color\":\"#2a3f5f\"},\"marker\":{\"line\":{\"color\":\"#E5ECF6\",\"width\":0.5},\"pattern\":{\"fillmode\":\"overlay\",\"size\":10,\"solidity\":0.2}},\"type\":\"bar\"}],\"scattergeo\":[{\"type\":\"scattergeo\",\"marker\":{\"colorbar\":{\"outlinewidth\":0,\"ticks\":\"\"}}}],\"scatterpolar\":[{\"type\":\"scatterpolar\",\"marker\":{\"colorbar\":{\"outlinewidth\":0,\"ticks\":\"\"}}}],\"histogram\":[{\"marker\":{\"pattern\":{\"fillmode\":\"overlay\",\"size\":10,\"solidity\":0.2}},\"type\":\"histogram\"}],\"scattergl\":[{\"type\":\"scattergl\",\"marker\":{\"colorbar\":{\"outlinewidth\":0,\"ticks\":\"\"}}}],\"scatter3d\":[{\"type\":\"scatter3d\",\"line\":{\"colorbar\":{\"outlinewidth\":0,\"ticks\":\"\"}},\"marker\":{\"colorbar\":{\"outlinewidth\":0,\"ticks\":\"\"}}}],\"scattermapbox\":[{\"type\":\"scattermapbox\",\"marker\":{\"colorbar\":{\"outlinewidth\":0,\"ticks\":\"\"}}}],\"scatterternary\":[{\"type\":\"scatterternary\",\"marker\":{\"colorbar\":{\"outlinewidth\":0,\"ticks\":\"\"}}}],\"scattercarpet\":[{\"type\":\"scattercarpet\",\"marker\":{\"colorbar\":{\"outlinewidth\":0,\"ticks\":\"\"}}}],\"carpet\":[{\"aaxis\":{\"endlinecolor\":\"#2a3f5f\",\"gridcolor\":\"white\",\"linecolor\":\"white\",\"minorgridcolor\":\"white\",\"startlinecolor\":\"#2a3f5f\"},\"baxis\":{\"endlinecolor\":\"#2a3f5f\",\"gridcolor\":\"white\",\"linecolor\":\"white\",\"minorgridcolor\":\"white\",\"startlinecolor\":\"#2a3f5f\"},\"type\":\"carpet\"}],\"table\":[{\"cells\":{\"fill\":{\"color\":\"#EBF0F8\"},\"line\":{\"color\":\"white\"}},\"header\":{\"fill\":{\"color\":\"#C8D4E3\"},\"line\":{\"color\":\"white\"}},\"type\":\"table\"}],\"barpolar\":[{\"marker\":{\"line\":{\"color\":\"#E5ECF6\",\"width\":0.5},\"pattern\":{\"fillmode\":\"overlay\",\"size\":10,\"solidity\":0.2}},\"type\":\"barpolar\"}],\"pie\":[{\"automargin\":true,\"type\":\"pie\"}]},\"layout\":{\"autotypenumbers\":\"strict\",\"colorway\":[\"#636efa\",\"#EF553B\",\"#00cc96\",\"#ab63fa\",\"#FFA15A\",\"#19d3f3\",\"#FF6692\",\"#B6E880\",\"#FF97FF\",\"#FECB52\"],\"font\":{\"color\":\"#2a3f5f\"},\"hovermode\":\"closest\",\"hoverlabel\":{\"align\":\"left\"},\"paper_bgcolor\":\"white\",\"plot_bgcolor\":\"#E5ECF6\",\"polar\":{\"bgcolor\":\"#E5ECF6\",\"angularaxis\":{\"gridcolor\":\"white\",\"linecolor\":\"white\",\"ticks\":\"\"},\"radialaxis\":{\"gridcolor\":\"white\",\"linecolor\":\"white\",\"ticks\":\"\"}},\"ternary\":{\"bgcolor\":\"#E5ECF6\",\"aaxis\":{\"gridcolor\":\"white\",\"linecolor\":\"white\",\"ticks\":\"\"},\"baxis\":{\"gridcolor\":\"white\",\"linecolor\":\"white\",\"ticks\":\"\"},\"caxis\":{\"gridcolor\":\"white\",\"linecolor\":\"white\",\"ticks\":\"\"}},\"coloraxis\":{\"colorbar\":{\"outlinewidth\":0,\"ticks\":\"\"}},\"colorscale\":{\"sequential\":[[0.0,\"#0d0887\"],[0.1111111111111111,\"#46039f\"],[0.2222222222222222,\"#7201a8\"],[0.3333333333333333,\"#9c179e\"],[0.4444444444444444,\"#bd3786\"],[0.5555555555555556,\"#d8576b\"],[0.6666666666666666,\"#ed7953\"],[0.7777777777777778,\"#fb9f3a\"],[0.8888888888888888,\"#fdca26\"],[1.0,\"#f0f921\"]],\"sequentialminus\":[[0.0,\"#0d0887\"],[0.1111111111111111,\"#46039f\"],[0.2222222222222222,\"#7201a8\"],[0.3333333333333333,\"#9c179e\"],[0.4444444444444444,\"#bd3786\"],[0.5555555555555556,\"#d8576b\"],[0.6666666666666666,\"#ed7953\"],[0.7777777777777778,\"#fb9f3a\"],[0.8888888888888888,\"#fdca26\"],[1.0,\"#f0f921\"]],\"diverging\":[[0,\"#8e0152\"],[0.1,\"#c51b7d\"],[0.2,\"#de77ae\"],[0.3,\"#f1b6da\"],[0.4,\"#fde0ef\"],[0.5,\"#f7f7f7\"],[0.6,\"#e6f5d0\"],[0.7,\"#b8e186\"],[0.8,\"#7fbc41\"],[0.9,\"#4d9221\"],[1,\"#276419\"]]},\"xaxis\":{\"gridcolor\":\"white\",\"linecolor\":\"white\",\"ticks\":\"\",\"title\":{\"standoff\":15},\"zerolinecolor\":\"white\",\"automargin\":true,\"zerolinewidth\":2},\"yaxis\":{\"gridcolor\":\"white\",\"linecolor\":\"white\",\"ticks\":\"\",\"title\":{\"standoff\":15},\"zerolinecolor\":\"white\",\"automargin\":true,\"zerolinewidth\":2},\"scene\":{\"xaxis\":{\"backgroundcolor\":\"#E5ECF6\",\"gridcolor\":\"white\",\"linecolor\":\"white\",\"showbackground\":true,\"ticks\":\"\",\"zerolinecolor\":\"white\",\"gridwidth\":2},\"yaxis\":{\"backgroundcolor\":\"#E5ECF6\",\"gridcolor\":\"white\",\"linecolor\":\"white\",\"showbackground\":true,\"ticks\":\"\",\"zerolinecolor\":\"white\",\"gridwidth\":2},\"zaxis\":{\"backgroundcolor\":\"#E5ECF6\",\"gridcolor\":\"white\",\"linecolor\":\"white\",\"showbackground\":true,\"ticks\":\"\",\"zerolinecolor\":\"white\",\"gridwidth\":2}},\"shapedefaults\":{\"line\":{\"color\":\"#2a3f5f\"}},\"annotationdefaults\":{\"arrowcolor\":\"#2a3f5f\",\"arrowhead\":0,\"arrowwidth\":1},\"geo\":{\"bgcolor\":\"white\",\"landcolor\":\"#E5ECF6\",\"subunitcolor\":\"white\",\"showland\":true,\"showlakes\":true,\"lakecolor\":\"white\"},\"title\":{\"x\":0.05},\"mapbox\":{\"style\":\"light\"}}},\"xaxis\":{\"anchor\":\"y\",\"domain\":[0.0,1.0],\"title\":{\"text\":\"Date\"}},\"yaxis\":{\"anchor\":\"x\",\"domain\":[0.0,1.0],\"title\":{\"text\":\"Country\\u002fRegion\"}},\"legend\":{\"tracegroupgap\":0},\"title\":{\"text\":\"No of Countries for each Date\"}},                        {\"responsive\": true}                    ).then(function(){\n",
       "                            \n",
       "var gd = document.getElementById('327272e0-956c-42de-b38e-74667d2baffa');\n",
       "var x = new MutationObserver(function (mutations, observer) {{\n",
       "        var display = window.getComputedStyle(gd).display;\n",
       "        if (!display || display === 'none') {{\n",
       "            console.log([gd, 'removed!']);\n",
       "            Plotly.purge(gd);\n",
       "            observer.disconnect();\n",
       "        }}\n",
       "}});\n",
       "\n",
       "// Listen for the removal of the full notebook cells\n",
       "var notebookContainer = gd.closest('#notebook-container');\n",
       "if (notebookContainer) {{\n",
       "    x.observe(notebookContainer, {childList: true});\n",
       "}}\n",
       "\n",
       "// Listen for the clearing of the current output cell\n",
       "var outputEl = gd.closest('.output');\n",
       "if (outputEl) {{\n",
       "    x.observe(outputEl, {childList: true});\n",
       "}}\n",
       "\n",
       "                        })                };                });            </script>        </div>"
      ]
     },
     "metadata": {},
     "output_type": "display_data"
    }
   ],
   "source": [
    "fig = px.line(\n",
    "\tdf_full.groupby(\"Date\").count()['Country/Region'].reset_index(),\n",
    "\tx='Date', y='Country/Region',\n",
    "              title='No of Countries for each Date',\n",
    "              markers=True)\n",
    "fig.show()"
   ]
  },
  {
   "cell_type": "markdown",
   "id": "97de734e",
   "metadata": {
    "papermill": {
     "duration": 0.018887,
     "end_time": "2024-01-25T10:44:35.939539",
     "exception": false,
     "start_time": "2024-01-25T10:44:35.920652",
     "status": "completed"
    },
    "tags": []
   },
   "source": [
    "As we can see, there is no data missing for any day for any country. We can be confident in our graphs"
   ]
  },
  {
   "cell_type": "markdown",
   "id": "fb4fbc56",
   "metadata": {
    "papermill": {
     "duration": 0.018943,
     "end_time": "2024-01-25T10:44:35.978029",
     "exception": false,
     "start_time": "2024-01-25T10:44:35.959086",
     "status": "completed"
    },
    "tags": []
   },
   "source": [
    "### df_date\n",
    "It contains data for each date and instead of a specific country, it considers data globally"
   ]
  },
  {
   "cell_type": "code",
   "execution_count": 13,
   "id": "083caf9b",
   "metadata": {
    "execution": {
     "iopub.execute_input": "2024-01-25T10:44:36.020257Z",
     "iopub.status.busy": "2024-01-25T10:44:36.019773Z",
     "iopub.status.idle": "2024-01-25T10:44:36.029114Z",
     "shell.execute_reply": "2024-01-25T10:44:36.027839Z"
    },
    "papermill": {
     "duration": 0.034089,
     "end_time": "2024-01-25T10:44:36.031915",
     "exception": false,
     "start_time": "2024-01-25T10:44:35.997826",
     "status": "completed"
    },
    "tags": []
   },
   "outputs": [
    {
     "data": {
      "text/plain": [
       "Index(['Date', 'Confirmed', 'Deaths', 'Recovered', 'Active', 'New cases',\n",
       "       'New deaths', 'New recovered', 'Deaths / 100 Cases',\n",
       "       'Recovered / 100 Cases', 'Deaths / 100 Recovered', 'No. of countries'],\n",
       "      dtype='object')"
      ]
     },
     "execution_count": 13,
     "metadata": {},
     "output_type": "execute_result"
    }
   ],
   "source": [
    "df_date.columns"
   ]
  },
  {
   "cell_type": "code",
   "execution_count": 14,
   "id": "086534b3",
   "metadata": {
    "execution": {
     "iopub.execute_input": "2024-01-25T10:44:36.074566Z",
     "iopub.status.busy": "2024-01-25T10:44:36.073405Z",
     "iopub.status.idle": "2024-01-25T10:44:36.126576Z",
     "shell.execute_reply": "2024-01-25T10:44:36.124875Z"
    },
    "papermill": {
     "duration": 0.078249,
     "end_time": "2024-01-25T10:44:36.129615",
     "exception": false,
     "start_time": "2024-01-25T10:44:36.051366",
     "status": "completed"
    },
    "tags": []
   },
   "outputs": [
    {
     "data": {
      "text/html": [
       "<div>\n",
       "<style scoped>\n",
       "    .dataframe tbody tr th:only-of-type {\n",
       "        vertical-align: middle;\n",
       "    }\n",
       "\n",
       "    .dataframe tbody tr th {\n",
       "        vertical-align: top;\n",
       "    }\n",
       "\n",
       "    .dataframe thead th {\n",
       "        text-align: right;\n",
       "    }\n",
       "</style>\n",
       "<table border=\"1\" class=\"dataframe\">\n",
       "  <thead>\n",
       "    <tr style=\"text-align: right;\">\n",
       "      <th></th>\n",
       "      <th>Date</th>\n",
       "      <th>Confirmed</th>\n",
       "      <th>Deaths</th>\n",
       "      <th>Recovered</th>\n",
       "      <th>Active</th>\n",
       "      <th>New cases</th>\n",
       "      <th>New deaths</th>\n",
       "      <th>New recovered</th>\n",
       "      <th>Deaths / 100 Cases</th>\n",
       "      <th>Recovered / 100 Cases</th>\n",
       "      <th>Deaths / 100 Recovered</th>\n",
       "      <th>No. of countries</th>\n",
       "    </tr>\n",
       "  </thead>\n",
       "  <tbody>\n",
       "    <tr>\n",
       "      <th>count</th>\n",
       "      <td>188</td>\n",
       "      <td>1.880000e+02</td>\n",
       "      <td>188.000000</td>\n",
       "      <td>1.880000e+02</td>\n",
       "      <td>1.880000e+02</td>\n",
       "      <td>188.000000</td>\n",
       "      <td>188.000000</td>\n",
       "      <td>188.000000</td>\n",
       "      <td>188.000000</td>\n",
       "      <td>188.000000</td>\n",
       "      <td>188.000000</td>\n",
       "      <td>188.000000</td>\n",
       "    </tr>\n",
       "    <tr>\n",
       "      <th>mean</th>\n",
       "      <td>2020-04-24 12:00:00</td>\n",
       "      <td>4.406960e+06</td>\n",
       "      <td>230770.760638</td>\n",
       "      <td>2.066001e+06</td>\n",
       "      <td>2.110188e+06</td>\n",
       "      <td>87771.021277</td>\n",
       "      <td>3478.824468</td>\n",
       "      <td>50362.015957</td>\n",
       "      <td>4.860638</td>\n",
       "      <td>34.343936</td>\n",
       "      <td>22.104521</td>\n",
       "      <td>144.351064</td>\n",
       "    </tr>\n",
       "    <tr>\n",
       "      <th>min</th>\n",
       "      <td>2020-01-22 00:00:00</td>\n",
       "      <td>5.550000e+02</td>\n",
       "      <td>17.000000</td>\n",
       "      <td>2.800000e+01</td>\n",
       "      <td>5.100000e+02</td>\n",
       "      <td>0.000000</td>\n",
       "      <td>0.000000</td>\n",
       "      <td>0.000000</td>\n",
       "      <td>2.040000</td>\n",
       "      <td>1.710000</td>\n",
       "      <td>6.260000</td>\n",
       "      <td>6.000000</td>\n",
       "    </tr>\n",
       "    <tr>\n",
       "      <th>25%</th>\n",
       "      <td>2020-03-08 18:00:00</td>\n",
       "      <td>1.121910e+05</td>\n",
       "      <td>3935.000000</td>\n",
       "      <td>6.044125e+04</td>\n",
       "      <td>5.864175e+04</td>\n",
       "      <td>5568.500000</td>\n",
       "      <td>250.750000</td>\n",
       "      <td>2488.250000</td>\n",
       "      <td>3.510000</td>\n",
       "      <td>22.785000</td>\n",
       "      <td>9.650000</td>\n",
       "      <td>101.250000</td>\n",
       "    </tr>\n",
       "    <tr>\n",
       "      <th>50%</th>\n",
       "      <td>2020-04-24 12:00:00</td>\n",
       "      <td>2.848733e+06</td>\n",
       "      <td>204190.000000</td>\n",
       "      <td>7.847840e+05</td>\n",
       "      <td>1.859759e+06</td>\n",
       "      <td>81114.000000</td>\n",
       "      <td>4116.000000</td>\n",
       "      <td>30991.500000</td>\n",
       "      <td>4.850000</td>\n",
       "      <td>35.680000</td>\n",
       "      <td>15.380000</td>\n",
       "      <td>184.000000</td>\n",
       "    </tr>\n",
       "    <tr>\n",
       "      <th>75%</th>\n",
       "      <td>2020-06-10 06:00:00</td>\n",
       "      <td>7.422046e+06</td>\n",
       "      <td>418634.500000</td>\n",
       "      <td>3.416396e+06</td>\n",
       "      <td>3.587015e+06</td>\n",
       "      <td>131502.500000</td>\n",
       "      <td>5346.000000</td>\n",
       "      <td>79706.250000</td>\n",
       "      <td>6.297500</td>\n",
       "      <td>48.945000</td>\n",
       "      <td>25.342500</td>\n",
       "      <td>187.000000</td>\n",
       "    </tr>\n",
       "    <tr>\n",
       "      <th>max</th>\n",
       "      <td>2020-07-27 00:00:00</td>\n",
       "      <td>1.648048e+07</td>\n",
       "      <td>654036.000000</td>\n",
       "      <td>9.468087e+06</td>\n",
       "      <td>6.358362e+06</td>\n",
       "      <td>282756.000000</td>\n",
       "      <td>9966.000000</td>\n",
       "      <td>284394.000000</td>\n",
       "      <td>7.180000</td>\n",
       "      <td>57.450000</td>\n",
       "      <td>134.430000</td>\n",
       "      <td>187.000000</td>\n",
       "    </tr>\n",
       "    <tr>\n",
       "      <th>std</th>\n",
       "      <td>NaN</td>\n",
       "      <td>4.757988e+06</td>\n",
       "      <td>217929.094183</td>\n",
       "      <td>2.627976e+06</td>\n",
       "      <td>1.969670e+06</td>\n",
       "      <td>75295.293255</td>\n",
       "      <td>2537.735652</td>\n",
       "      <td>56090.892479</td>\n",
       "      <td>1.579541</td>\n",
       "      <td>16.206159</td>\n",
       "      <td>22.568307</td>\n",
       "      <td>65.175979</td>\n",
       "    </tr>\n",
       "  </tbody>\n",
       "</table>\n",
       "</div>"
      ],
      "text/plain": [
       "                      Date     Confirmed         Deaths     Recovered  \\\n",
       "count                  188  1.880000e+02     188.000000  1.880000e+02   \n",
       "mean   2020-04-24 12:00:00  4.406960e+06  230770.760638  2.066001e+06   \n",
       "min    2020-01-22 00:00:00  5.550000e+02      17.000000  2.800000e+01   \n",
       "25%    2020-03-08 18:00:00  1.121910e+05    3935.000000  6.044125e+04   \n",
       "50%    2020-04-24 12:00:00  2.848733e+06  204190.000000  7.847840e+05   \n",
       "75%    2020-06-10 06:00:00  7.422046e+06  418634.500000  3.416396e+06   \n",
       "max    2020-07-27 00:00:00  1.648048e+07  654036.000000  9.468087e+06   \n",
       "std                    NaN  4.757988e+06  217929.094183  2.627976e+06   \n",
       "\n",
       "             Active      New cases   New deaths  New recovered  \\\n",
       "count  1.880000e+02     188.000000   188.000000     188.000000   \n",
       "mean   2.110188e+06   87771.021277  3478.824468   50362.015957   \n",
       "min    5.100000e+02       0.000000     0.000000       0.000000   \n",
       "25%    5.864175e+04    5568.500000   250.750000    2488.250000   \n",
       "50%    1.859759e+06   81114.000000  4116.000000   30991.500000   \n",
       "75%    3.587015e+06  131502.500000  5346.000000   79706.250000   \n",
       "max    6.358362e+06  282756.000000  9966.000000  284394.000000   \n",
       "std    1.969670e+06   75295.293255  2537.735652   56090.892479   \n",
       "\n",
       "       Deaths / 100 Cases  Recovered / 100 Cases  Deaths / 100 Recovered  \\\n",
       "count          188.000000             188.000000              188.000000   \n",
       "mean             4.860638              34.343936               22.104521   \n",
       "min              2.040000               1.710000                6.260000   \n",
       "25%              3.510000              22.785000                9.650000   \n",
       "50%              4.850000              35.680000               15.380000   \n",
       "75%              6.297500              48.945000               25.342500   \n",
       "max              7.180000              57.450000              134.430000   \n",
       "std              1.579541              16.206159               22.568307   \n",
       "\n",
       "       No. of countries  \n",
       "count        188.000000  \n",
       "mean         144.351064  \n",
       "min            6.000000  \n",
       "25%          101.250000  \n",
       "50%          184.000000  \n",
       "75%          187.000000  \n",
       "max          187.000000  \n",
       "std           65.175979  "
      ]
     },
     "execution_count": 14,
     "metadata": {},
     "output_type": "execute_result"
    }
   ],
   "source": [
    "df_date.describe()"
   ]
  },
  {
   "cell_type": "code",
   "execution_count": 15,
   "id": "360028b7",
   "metadata": {
    "execution": {
     "iopub.execute_input": "2024-01-25T10:44:36.172152Z",
     "iopub.status.busy": "2024-01-25T10:44:36.171733Z",
     "iopub.status.idle": "2024-01-25T10:44:36.186318Z",
     "shell.execute_reply": "2024-01-25T10:44:36.184794Z"
    },
    "papermill": {
     "duration": 0.03978,
     "end_time": "2024-01-25T10:44:36.189350",
     "exception": false,
     "start_time": "2024-01-25T10:44:36.149570",
     "status": "completed"
    },
    "tags": []
   },
   "outputs": [
    {
     "name": "stdout",
     "output_type": "stream",
     "text": [
      "<class 'pandas.core.frame.DataFrame'>\n",
      "RangeIndex: 188 entries, 0 to 187\n",
      "Data columns (total 12 columns):\n",
      " #   Column                  Non-Null Count  Dtype         \n",
      "---  ------                  --------------  -----         \n",
      " 0   Date                    188 non-null    datetime64[ns]\n",
      " 1   Confirmed               188 non-null    int64         \n",
      " 2   Deaths                  188 non-null    int64         \n",
      " 3   Recovered               188 non-null    int64         \n",
      " 4   Active                  188 non-null    int64         \n",
      " 5   New cases               188 non-null    int64         \n",
      " 6   New deaths              188 non-null    int64         \n",
      " 7   New recovered           188 non-null    int64         \n",
      " 8   Deaths / 100 Cases      188 non-null    float64       \n",
      " 9   Recovered / 100 Cases   188 non-null    float64       \n",
      " 10  Deaths / 100 Recovered  188 non-null    float64       \n",
      " 11  No. of countries        188 non-null    int64         \n",
      "dtypes: datetime64[ns](1), float64(3), int64(8)\n",
      "memory usage: 17.8 KB\n"
     ]
    }
   ],
   "source": [
    "df_date.info()"
   ]
  },
  {
   "cell_type": "code",
   "execution_count": 16,
   "id": "6340914c",
   "metadata": {
    "execution": {
     "iopub.execute_input": "2024-01-25T10:44:36.231821Z",
     "iopub.status.busy": "2024-01-25T10:44:36.231388Z",
     "iopub.status.idle": "2024-01-25T10:44:36.240912Z",
     "shell.execute_reply": "2024-01-25T10:44:36.239717Z"
    },
    "papermill": {
     "duration": 0.034264,
     "end_time": "2024-01-25T10:44:36.243637",
     "exception": false,
     "start_time": "2024-01-25T10:44:36.209373",
     "status": "completed"
    },
    "tags": []
   },
   "outputs": [
    {
     "data": {
      "text/plain": [
       "Date                      0\n",
       "Confirmed                 0\n",
       "Deaths                    0\n",
       "Recovered                 0\n",
       "Active                    0\n",
       "New cases                 0\n",
       "New deaths                0\n",
       "New recovered             0\n",
       "Deaths / 100 Cases        0\n",
       "Recovered / 100 Cases     0\n",
       "Deaths / 100 Recovered    0\n",
       "No. of countries          0\n",
       "dtype: int64"
      ]
     },
     "execution_count": 16,
     "metadata": {},
     "output_type": "execute_result"
    }
   ],
   "source": [
    "df_date.isna().sum()"
   ]
  },
  {
   "cell_type": "code",
   "execution_count": 17,
   "id": "4887f1c4",
   "metadata": {
    "execution": {
     "iopub.execute_input": "2024-01-25T10:44:36.287997Z",
     "iopub.status.busy": "2024-01-25T10:44:36.287501Z",
     "iopub.status.idle": "2024-01-25T10:44:36.297865Z",
     "shell.execute_reply": "2024-01-25T10:44:36.296982Z"
    },
    "papermill": {
     "duration": 0.035499,
     "end_time": "2024-01-25T10:44:36.300260",
     "exception": false,
     "start_time": "2024-01-25T10:44:36.264761",
     "status": "completed"
    },
    "tags": []
   },
   "outputs": [
    {
     "name": "stdout",
     "output_type": "stream",
     "text": [
      "Starting Date: 2020-01-22 00:00:00\n",
      "Ending Date: 2020-07-27 00:00:00\n",
      "Duration: 187 days 00:00:00\n"
     ]
    }
   ],
   "source": [
    "print(\"Starting Date:\", df_date.Date.min())\n",
    "print(\"Ending Date:\", df_date.Date.max())\n",
    "print(\"Duration:\", df_date.Date.max() - df_date.Date.min())"
   ]
  },
  {
   "cell_type": "code",
   "execution_count": 18,
   "id": "8df75664",
   "metadata": {
    "execution": {
     "iopub.execute_input": "2024-01-25T10:44:36.343163Z",
     "iopub.status.busy": "2024-01-25T10:44:36.342660Z",
     "iopub.status.idle": "2024-01-25T10:44:36.369541Z",
     "shell.execute_reply": "2024-01-25T10:44:36.368377Z"
    },
    "papermill": {
     "duration": 0.051757,
     "end_time": "2024-01-25T10:44:36.372178",
     "exception": false,
     "start_time": "2024-01-25T10:44:36.320421",
     "status": "completed"
    },
    "tags": []
   },
   "outputs": [
    {
     "data": {
      "text/html": [
       "<div>\n",
       "<style scoped>\n",
       "    .dataframe tbody tr th:only-of-type {\n",
       "        vertical-align: middle;\n",
       "    }\n",
       "\n",
       "    .dataframe tbody tr th {\n",
       "        vertical-align: top;\n",
       "    }\n",
       "\n",
       "    .dataframe thead th {\n",
       "        text-align: right;\n",
       "    }\n",
       "</style>\n",
       "<table border=\"1\" class=\"dataframe\">\n",
       "  <thead>\n",
       "    <tr style=\"text-align: right;\">\n",
       "      <th></th>\n",
       "      <th>Date</th>\n",
       "      <th>Confirmed</th>\n",
       "      <th>Deaths</th>\n",
       "      <th>Recovered</th>\n",
       "      <th>Active</th>\n",
       "      <th>New cases</th>\n",
       "      <th>New deaths</th>\n",
       "      <th>New recovered</th>\n",
       "      <th>Deaths / 100 Cases</th>\n",
       "      <th>Recovered / 100 Cases</th>\n",
       "      <th>Deaths / 100 Recovered</th>\n",
       "      <th>No. of countries</th>\n",
       "    </tr>\n",
       "  </thead>\n",
       "  <tbody>\n",
       "    <tr>\n",
       "      <th>0</th>\n",
       "      <td>2020-01-22</td>\n",
       "      <td>555</td>\n",
       "      <td>17</td>\n",
       "      <td>28</td>\n",
       "      <td>510</td>\n",
       "      <td>0</td>\n",
       "      <td>0</td>\n",
       "      <td>0</td>\n",
       "      <td>3.06</td>\n",
       "      <td>5.05</td>\n",
       "      <td>60.71</td>\n",
       "      <td>6</td>\n",
       "    </tr>\n",
       "    <tr>\n",
       "      <th>1</th>\n",
       "      <td>2020-01-23</td>\n",
       "      <td>654</td>\n",
       "      <td>18</td>\n",
       "      <td>30</td>\n",
       "      <td>606</td>\n",
       "      <td>99</td>\n",
       "      <td>1</td>\n",
       "      <td>2</td>\n",
       "      <td>2.75</td>\n",
       "      <td>4.59</td>\n",
       "      <td>60.00</td>\n",
       "      <td>8</td>\n",
       "    </tr>\n",
       "    <tr>\n",
       "      <th>2</th>\n",
       "      <td>2020-01-24</td>\n",
       "      <td>941</td>\n",
       "      <td>26</td>\n",
       "      <td>36</td>\n",
       "      <td>879</td>\n",
       "      <td>287</td>\n",
       "      <td>8</td>\n",
       "      <td>6</td>\n",
       "      <td>2.76</td>\n",
       "      <td>3.83</td>\n",
       "      <td>72.22</td>\n",
       "      <td>9</td>\n",
       "    </tr>\n",
       "    <tr>\n",
       "      <th>3</th>\n",
       "      <td>2020-01-25</td>\n",
       "      <td>1434</td>\n",
       "      <td>42</td>\n",
       "      <td>39</td>\n",
       "      <td>1353</td>\n",
       "      <td>493</td>\n",
       "      <td>16</td>\n",
       "      <td>3</td>\n",
       "      <td>2.93</td>\n",
       "      <td>2.72</td>\n",
       "      <td>107.69</td>\n",
       "      <td>11</td>\n",
       "    </tr>\n",
       "    <tr>\n",
       "      <th>4</th>\n",
       "      <td>2020-01-26</td>\n",
       "      <td>2118</td>\n",
       "      <td>56</td>\n",
       "      <td>52</td>\n",
       "      <td>2010</td>\n",
       "      <td>684</td>\n",
       "      <td>14</td>\n",
       "      <td>13</td>\n",
       "      <td>2.64</td>\n",
       "      <td>2.46</td>\n",
       "      <td>107.69</td>\n",
       "      <td>13</td>\n",
       "    </tr>\n",
       "    <tr>\n",
       "      <th>...</th>\n",
       "      <td>...</td>\n",
       "      <td>...</td>\n",
       "      <td>...</td>\n",
       "      <td>...</td>\n",
       "      <td>...</td>\n",
       "      <td>...</td>\n",
       "      <td>...</td>\n",
       "      <td>...</td>\n",
       "      <td>...</td>\n",
       "      <td>...</td>\n",
       "      <td>...</td>\n",
       "      <td>...</td>\n",
       "    </tr>\n",
       "    <tr>\n",
       "      <th>183</th>\n",
       "      <td>2020-07-23</td>\n",
       "      <td>15510481</td>\n",
       "      <td>633506</td>\n",
       "      <td>8710969</td>\n",
       "      <td>6166006</td>\n",
       "      <td>282756</td>\n",
       "      <td>9966</td>\n",
       "      <td>169714</td>\n",
       "      <td>4.08</td>\n",
       "      <td>56.16</td>\n",
       "      <td>7.27</td>\n",
       "      <td>187</td>\n",
       "    </tr>\n",
       "    <tr>\n",
       "      <th>184</th>\n",
       "      <td>2020-07-24</td>\n",
       "      <td>15791645</td>\n",
       "      <td>639650</td>\n",
       "      <td>8939705</td>\n",
       "      <td>6212290</td>\n",
       "      <td>281164</td>\n",
       "      <td>6144</td>\n",
       "      <td>228736</td>\n",
       "      <td>4.05</td>\n",
       "      <td>56.61</td>\n",
       "      <td>7.16</td>\n",
       "      <td>187</td>\n",
       "    </tr>\n",
       "    <tr>\n",
       "      <th>185</th>\n",
       "      <td>2020-07-25</td>\n",
       "      <td>16047190</td>\n",
       "      <td>644517</td>\n",
       "      <td>9158743</td>\n",
       "      <td>6243930</td>\n",
       "      <td>255545</td>\n",
       "      <td>4867</td>\n",
       "      <td>219038</td>\n",
       "      <td>4.02</td>\n",
       "      <td>57.07</td>\n",
       "      <td>7.04</td>\n",
       "      <td>187</td>\n",
       "    </tr>\n",
       "    <tr>\n",
       "      <th>186</th>\n",
       "      <td>2020-07-26</td>\n",
       "      <td>16251796</td>\n",
       "      <td>648621</td>\n",
       "      <td>9293464</td>\n",
       "      <td>6309711</td>\n",
       "      <td>204606</td>\n",
       "      <td>4104</td>\n",
       "      <td>134721</td>\n",
       "      <td>3.99</td>\n",
       "      <td>57.18</td>\n",
       "      <td>6.98</td>\n",
       "      <td>187</td>\n",
       "    </tr>\n",
       "    <tr>\n",
       "      <th>187</th>\n",
       "      <td>2020-07-27</td>\n",
       "      <td>16480485</td>\n",
       "      <td>654036</td>\n",
       "      <td>9468087</td>\n",
       "      <td>6358362</td>\n",
       "      <td>228693</td>\n",
       "      <td>5415</td>\n",
       "      <td>174623</td>\n",
       "      <td>3.97</td>\n",
       "      <td>57.45</td>\n",
       "      <td>6.91</td>\n",
       "      <td>187</td>\n",
       "    </tr>\n",
       "  </tbody>\n",
       "</table>\n",
       "<p>188 rows × 12 columns</p>\n",
       "</div>"
      ],
      "text/plain": [
       "          Date  Confirmed  Deaths  Recovered   Active  New cases  New deaths  \\\n",
       "0   2020-01-22        555      17         28      510          0           0   \n",
       "1   2020-01-23        654      18         30      606         99           1   \n",
       "2   2020-01-24        941      26         36      879        287           8   \n",
       "3   2020-01-25       1434      42         39     1353        493          16   \n",
       "4   2020-01-26       2118      56         52     2010        684          14   \n",
       "..         ...        ...     ...        ...      ...        ...         ...   \n",
       "183 2020-07-23   15510481  633506    8710969  6166006     282756        9966   \n",
       "184 2020-07-24   15791645  639650    8939705  6212290     281164        6144   \n",
       "185 2020-07-25   16047190  644517    9158743  6243930     255545        4867   \n",
       "186 2020-07-26   16251796  648621    9293464  6309711     204606        4104   \n",
       "187 2020-07-27   16480485  654036    9468087  6358362     228693        5415   \n",
       "\n",
       "     New recovered  Deaths / 100 Cases  Recovered / 100 Cases  \\\n",
       "0                0                3.06                   5.05   \n",
       "1                2                2.75                   4.59   \n",
       "2                6                2.76                   3.83   \n",
       "3                3                2.93                   2.72   \n",
       "4               13                2.64                   2.46   \n",
       "..             ...                 ...                    ...   \n",
       "183         169714                4.08                  56.16   \n",
       "184         228736                4.05                  56.61   \n",
       "185         219038                4.02                  57.07   \n",
       "186         134721                3.99                  57.18   \n",
       "187         174623                3.97                  57.45   \n",
       "\n",
       "     Deaths / 100 Recovered  No. of countries  \n",
       "0                     60.71                 6  \n",
       "1                     60.00                 8  \n",
       "2                     72.22                 9  \n",
       "3                    107.69                11  \n",
       "4                    107.69                13  \n",
       "..                      ...               ...  \n",
       "183                    7.27               187  \n",
       "184                    7.16               187  \n",
       "185                    7.04               187  \n",
       "186                    6.98               187  \n",
       "187                    6.91               187  \n",
       "\n",
       "[188 rows x 12 columns]"
      ]
     },
     "execution_count": 18,
     "metadata": {},
     "output_type": "execute_result"
    }
   ],
   "source": [
    "df_date"
   ]
  },
  {
   "cell_type": "markdown",
   "id": "1b091a31",
   "metadata": {
    "papermill": {
     "duration": 0.022477,
     "end_time": "2024-01-25T10:44:36.416214",
     "exception": false,
     "start_time": "2024-01-25T10:44:36.393737",
     "status": "completed"
    },
    "tags": []
   },
   "source": [
    "### df_country\n",
    "It contains the data for each country on the last date of record"
   ]
  },
  {
   "cell_type": "code",
   "execution_count": 19,
   "id": "38c3617b",
   "metadata": {
    "execution": {
     "iopub.execute_input": "2024-01-25T10:44:36.461509Z",
     "iopub.status.busy": "2024-01-25T10:44:36.461046Z",
     "iopub.status.idle": "2024-01-25T10:44:36.469137Z",
     "shell.execute_reply": "2024-01-25T10:44:36.467637Z"
    },
    "papermill": {
     "duration": 0.033886,
     "end_time": "2024-01-25T10:44:36.471955",
     "exception": false,
     "start_time": "2024-01-25T10:44:36.438069",
     "status": "completed"
    },
    "tags": []
   },
   "outputs": [
    {
     "data": {
      "text/plain": [
       "Index(['Country/Region', 'Confirmed', 'Deaths', 'Recovered', 'Active',\n",
       "       'New cases', 'New deaths', 'New recovered', 'Deaths / 100 Cases',\n",
       "       'Recovered / 100 Cases', 'Deaths / 100 Recovered',\n",
       "       'Confirmed last week', '1 week change', '1 week % increase',\n",
       "       'WHO Region'],\n",
       "      dtype='object')"
      ]
     },
     "execution_count": 19,
     "metadata": {},
     "output_type": "execute_result"
    }
   ],
   "source": [
    "df_country.columns"
   ]
  },
  {
   "cell_type": "code",
   "execution_count": 20,
   "id": "e5353683",
   "metadata": {
    "execution": {
     "iopub.execute_input": "2024-01-25T10:44:36.517954Z",
     "iopub.status.busy": "2024-01-25T10:44:36.517453Z",
     "iopub.status.idle": "2024-01-25T10:44:36.573727Z",
     "shell.execute_reply": "2024-01-25T10:44:36.572429Z"
    },
    "papermill": {
     "duration": 0.083129,
     "end_time": "2024-01-25T10:44:36.576933",
     "exception": false,
     "start_time": "2024-01-25T10:44:36.493804",
     "status": "completed"
    },
    "tags": []
   },
   "outputs": [
    {
     "data": {
      "text/html": [
       "<div>\n",
       "<style scoped>\n",
       "    .dataframe tbody tr th:only-of-type {\n",
       "        vertical-align: middle;\n",
       "    }\n",
       "\n",
       "    .dataframe tbody tr th {\n",
       "        vertical-align: top;\n",
       "    }\n",
       "\n",
       "    .dataframe thead th {\n",
       "        text-align: right;\n",
       "    }\n",
       "</style>\n",
       "<table border=\"1\" class=\"dataframe\">\n",
       "  <thead>\n",
       "    <tr style=\"text-align: right;\">\n",
       "      <th></th>\n",
       "      <th>Confirmed</th>\n",
       "      <th>Deaths</th>\n",
       "      <th>Recovered</th>\n",
       "      <th>Active</th>\n",
       "      <th>New cases</th>\n",
       "      <th>New deaths</th>\n",
       "      <th>New recovered</th>\n",
       "      <th>Deaths / 100 Cases</th>\n",
       "      <th>Recovered / 100 Cases</th>\n",
       "      <th>Deaths / 100 Recovered</th>\n",
       "      <th>Confirmed last week</th>\n",
       "      <th>1 week change</th>\n",
       "      <th>1 week % increase</th>\n",
       "    </tr>\n",
       "  </thead>\n",
       "  <tbody>\n",
       "    <tr>\n",
       "      <th>count</th>\n",
       "      <td>1.870000e+02</td>\n",
       "      <td>187.000000</td>\n",
       "      <td>1.870000e+02</td>\n",
       "      <td>1.870000e+02</td>\n",
       "      <td>187.000000</td>\n",
       "      <td>187.000000</td>\n",
       "      <td>187.000000</td>\n",
       "      <td>187.000000</td>\n",
       "      <td>187.000000</td>\n",
       "      <td>187.00</td>\n",
       "      <td>1.870000e+02</td>\n",
       "      <td>187.000000</td>\n",
       "      <td>187.000000</td>\n",
       "    </tr>\n",
       "    <tr>\n",
       "      <th>mean</th>\n",
       "      <td>8.813094e+04</td>\n",
       "      <td>3497.518717</td>\n",
       "      <td>5.063148e+04</td>\n",
       "      <td>3.400194e+04</td>\n",
       "      <td>1222.957219</td>\n",
       "      <td>28.957219</td>\n",
       "      <td>933.812834</td>\n",
       "      <td>3.019519</td>\n",
       "      <td>64.820535</td>\n",
       "      <td>inf</td>\n",
       "      <td>7.868248e+04</td>\n",
       "      <td>9448.459893</td>\n",
       "      <td>13.606203</td>\n",
       "    </tr>\n",
       "    <tr>\n",
       "      <th>std</th>\n",
       "      <td>3.833187e+05</td>\n",
       "      <td>14100.002482</td>\n",
       "      <td>1.901882e+05</td>\n",
       "      <td>2.133262e+05</td>\n",
       "      <td>5710.374790</td>\n",
       "      <td>120.037173</td>\n",
       "      <td>4197.719635</td>\n",
       "      <td>3.454302</td>\n",
       "      <td>26.287694</td>\n",
       "      <td>NaN</td>\n",
       "      <td>3.382737e+05</td>\n",
       "      <td>47491.127684</td>\n",
       "      <td>24.509838</td>\n",
       "    </tr>\n",
       "    <tr>\n",
       "      <th>min</th>\n",
       "      <td>1.000000e+01</td>\n",
       "      <td>0.000000</td>\n",
       "      <td>0.000000e+00</td>\n",
       "      <td>0.000000e+00</td>\n",
       "      <td>0.000000</td>\n",
       "      <td>0.000000</td>\n",
       "      <td>0.000000</td>\n",
       "      <td>0.000000</td>\n",
       "      <td>0.000000</td>\n",
       "      <td>0.00</td>\n",
       "      <td>1.000000e+01</td>\n",
       "      <td>-47.000000</td>\n",
       "      <td>-3.840000</td>\n",
       "    </tr>\n",
       "    <tr>\n",
       "      <th>25%</th>\n",
       "      <td>1.114000e+03</td>\n",
       "      <td>18.500000</td>\n",
       "      <td>6.265000e+02</td>\n",
       "      <td>1.415000e+02</td>\n",
       "      <td>4.000000</td>\n",
       "      <td>0.000000</td>\n",
       "      <td>0.000000</td>\n",
       "      <td>0.945000</td>\n",
       "      <td>48.770000</td>\n",
       "      <td>1.45</td>\n",
       "      <td>1.051500e+03</td>\n",
       "      <td>49.000000</td>\n",
       "      <td>2.775000</td>\n",
       "    </tr>\n",
       "    <tr>\n",
       "      <th>50%</th>\n",
       "      <td>5.059000e+03</td>\n",
       "      <td>108.000000</td>\n",
       "      <td>2.815000e+03</td>\n",
       "      <td>1.600000e+03</td>\n",
       "      <td>49.000000</td>\n",
       "      <td>1.000000</td>\n",
       "      <td>22.000000</td>\n",
       "      <td>2.150000</td>\n",
       "      <td>71.320000</td>\n",
       "      <td>3.62</td>\n",
       "      <td>5.020000e+03</td>\n",
       "      <td>432.000000</td>\n",
       "      <td>6.890000</td>\n",
       "    </tr>\n",
       "    <tr>\n",
       "      <th>75%</th>\n",
       "      <td>4.046050e+04</td>\n",
       "      <td>734.000000</td>\n",
       "      <td>2.260600e+04</td>\n",
       "      <td>9.149000e+03</td>\n",
       "      <td>419.500000</td>\n",
       "      <td>6.000000</td>\n",
       "      <td>221.000000</td>\n",
       "      <td>3.875000</td>\n",
       "      <td>86.885000</td>\n",
       "      <td>6.44</td>\n",
       "      <td>3.708050e+04</td>\n",
       "      <td>3172.000000</td>\n",
       "      <td>16.855000</td>\n",
       "    </tr>\n",
       "    <tr>\n",
       "      <th>max</th>\n",
       "      <td>4.290259e+06</td>\n",
       "      <td>148011.000000</td>\n",
       "      <td>1.846641e+06</td>\n",
       "      <td>2.816444e+06</td>\n",
       "      <td>56336.000000</td>\n",
       "      <td>1076.000000</td>\n",
       "      <td>33728.000000</td>\n",
       "      <td>28.560000</td>\n",
       "      <td>100.000000</td>\n",
       "      <td>inf</td>\n",
       "      <td>3.834677e+06</td>\n",
       "      <td>455582.000000</td>\n",
       "      <td>226.320000</td>\n",
       "    </tr>\n",
       "  </tbody>\n",
       "</table>\n",
       "</div>"
      ],
      "text/plain": [
       "          Confirmed         Deaths     Recovered        Active     New cases  \\\n",
       "count  1.870000e+02     187.000000  1.870000e+02  1.870000e+02    187.000000   \n",
       "mean   8.813094e+04    3497.518717  5.063148e+04  3.400194e+04   1222.957219   \n",
       "std    3.833187e+05   14100.002482  1.901882e+05  2.133262e+05   5710.374790   \n",
       "min    1.000000e+01       0.000000  0.000000e+00  0.000000e+00      0.000000   \n",
       "25%    1.114000e+03      18.500000  6.265000e+02  1.415000e+02      4.000000   \n",
       "50%    5.059000e+03     108.000000  2.815000e+03  1.600000e+03     49.000000   \n",
       "75%    4.046050e+04     734.000000  2.260600e+04  9.149000e+03    419.500000   \n",
       "max    4.290259e+06  148011.000000  1.846641e+06  2.816444e+06  56336.000000   \n",
       "\n",
       "        New deaths  New recovered  Deaths / 100 Cases  Recovered / 100 Cases  \\\n",
       "count   187.000000     187.000000          187.000000             187.000000   \n",
       "mean     28.957219     933.812834            3.019519              64.820535   \n",
       "std     120.037173    4197.719635            3.454302              26.287694   \n",
       "min       0.000000       0.000000            0.000000               0.000000   \n",
       "25%       0.000000       0.000000            0.945000              48.770000   \n",
       "50%       1.000000      22.000000            2.150000              71.320000   \n",
       "75%       6.000000     221.000000            3.875000              86.885000   \n",
       "max    1076.000000   33728.000000           28.560000             100.000000   \n",
       "\n",
       "       Deaths / 100 Recovered  Confirmed last week  1 week change  \\\n",
       "count                  187.00         1.870000e+02     187.000000   \n",
       "mean                      inf         7.868248e+04    9448.459893   \n",
       "std                       NaN         3.382737e+05   47491.127684   \n",
       "min                      0.00         1.000000e+01     -47.000000   \n",
       "25%                      1.45         1.051500e+03      49.000000   \n",
       "50%                      3.62         5.020000e+03     432.000000   \n",
       "75%                      6.44         3.708050e+04    3172.000000   \n",
       "max                       inf         3.834677e+06  455582.000000   \n",
       "\n",
       "       1 week % increase  \n",
       "count         187.000000  \n",
       "mean           13.606203  \n",
       "std            24.509838  \n",
       "min            -3.840000  \n",
       "25%             2.775000  \n",
       "50%             6.890000  \n",
       "75%            16.855000  \n",
       "max           226.320000  "
      ]
     },
     "execution_count": 20,
     "metadata": {},
     "output_type": "execute_result"
    }
   ],
   "source": [
    "df_country.describe()"
   ]
  },
  {
   "cell_type": "code",
   "execution_count": 21,
   "id": "9f488f4b",
   "metadata": {
    "execution": {
     "iopub.execute_input": "2024-01-25T10:44:36.622441Z",
     "iopub.status.busy": "2024-01-25T10:44:36.621961Z",
     "iopub.status.idle": "2024-01-25T10:44:36.638868Z",
     "shell.execute_reply": "2024-01-25T10:44:36.637453Z"
    },
    "papermill": {
     "duration": 0.042663,
     "end_time": "2024-01-25T10:44:36.641337",
     "exception": false,
     "start_time": "2024-01-25T10:44:36.598674",
     "status": "completed"
    },
    "tags": []
   },
   "outputs": [
    {
     "name": "stdout",
     "output_type": "stream",
     "text": [
      "<class 'pandas.core.frame.DataFrame'>\n",
      "RangeIndex: 187 entries, 0 to 186\n",
      "Data columns (total 15 columns):\n",
      " #   Column                  Non-Null Count  Dtype  \n",
      "---  ------                  --------------  -----  \n",
      " 0   Country/Region          187 non-null    object \n",
      " 1   Confirmed               187 non-null    int64  \n",
      " 2   Deaths                  187 non-null    int64  \n",
      " 3   Recovered               187 non-null    int64  \n",
      " 4   Active                  187 non-null    int64  \n",
      " 5   New cases               187 non-null    int64  \n",
      " 6   New deaths              187 non-null    int64  \n",
      " 7   New recovered           187 non-null    int64  \n",
      " 8   Deaths / 100 Cases      187 non-null    float64\n",
      " 9   Recovered / 100 Cases   187 non-null    float64\n",
      " 10  Deaths / 100 Recovered  187 non-null    float64\n",
      " 11  Confirmed last week     187 non-null    int64  \n",
      " 12  1 week change           187 non-null    int64  \n",
      " 13  1 week % increase       187 non-null    float64\n",
      " 14  WHO Region              187 non-null    object \n",
      "dtypes: float64(4), int64(9), object(2)\n",
      "memory usage: 22.0+ KB\n"
     ]
    }
   ],
   "source": [
    "df_country.info()"
   ]
  },
  {
   "cell_type": "code",
   "execution_count": 22,
   "id": "76f89668",
   "metadata": {
    "execution": {
     "iopub.execute_input": "2024-01-25T10:44:36.687805Z",
     "iopub.status.busy": "2024-01-25T10:44:36.686997Z",
     "iopub.status.idle": "2024-01-25T10:44:36.696924Z",
     "shell.execute_reply": "2024-01-25T10:44:36.695777Z"
    },
    "papermill": {
     "duration": 0.036818,
     "end_time": "2024-01-25T10:44:36.699632",
     "exception": false,
     "start_time": "2024-01-25T10:44:36.662814",
     "status": "completed"
    },
    "tags": []
   },
   "outputs": [
    {
     "data": {
      "text/plain": [
       "Country/Region            0\n",
       "Confirmed                 0\n",
       "Deaths                    0\n",
       "Recovered                 0\n",
       "Active                    0\n",
       "New cases                 0\n",
       "New deaths                0\n",
       "New recovered             0\n",
       "Deaths / 100 Cases        0\n",
       "Recovered / 100 Cases     0\n",
       "Deaths / 100 Recovered    0\n",
       "Confirmed last week       0\n",
       "1 week change             0\n",
       "1 week % increase         0\n",
       "WHO Region                0\n",
       "dtype: int64"
      ]
     },
     "execution_count": 22,
     "metadata": {},
     "output_type": "execute_result"
    }
   ],
   "source": [
    "df_country.isna().sum()"
   ]
  },
  {
   "cell_type": "code",
   "execution_count": 23,
   "id": "a928b48a",
   "metadata": {
    "execution": {
     "iopub.execute_input": "2024-01-25T10:44:36.747128Z",
     "iopub.status.busy": "2024-01-25T10:44:36.746388Z",
     "iopub.status.idle": "2024-01-25T10:44:36.754356Z",
     "shell.execute_reply": "2024-01-25T10:44:36.752560Z"
    },
    "papermill": {
     "duration": 0.034978,
     "end_time": "2024-01-25T10:44:36.757006",
     "exception": false,
     "start_time": "2024-01-25T10:44:36.722028",
     "status": "completed"
    },
    "tags": []
   },
   "outputs": [
    {
     "name": "stdout",
     "output_type": "stream",
     "text": [
      "Total No of Countries: 187\n"
     ]
    }
   ],
   "source": [
    "print(\"Total No of Countries:\", len(df_country['Country/Region'].unique()))"
   ]
  },
  {
   "cell_type": "code",
   "execution_count": 24,
   "id": "d2c8c5b3",
   "metadata": {
    "execution": {
     "iopub.execute_input": "2024-01-25T10:44:36.805952Z",
     "iopub.status.busy": "2024-01-25T10:44:36.805538Z",
     "iopub.status.idle": "2024-01-25T10:44:36.815961Z",
     "shell.execute_reply": "2024-01-25T10:44:36.814530Z"
    },
    "papermill": {
     "duration": 0.037961,
     "end_time": "2024-01-25T10:44:36.818719",
     "exception": false,
     "start_time": "2024-01-25T10:44:36.780758",
     "status": "completed"
    },
    "tags": []
   },
   "outputs": [
    {
     "data": {
      "text/plain": [
       "WHO Region\n",
       "Europe                   56\n",
       "Africa                   48\n",
       "Americas                 35\n",
       "Eastern Mediterranean    22\n",
       "Western Pacific          16\n",
       "South-East Asia          10\n",
       "Name: count, dtype: int64"
      ]
     },
     "execution_count": 24,
     "metadata": {},
     "output_type": "execute_result"
    }
   ],
   "source": [
    "df_country['WHO Region'].value_counts()"
   ]
  },
  {
   "cell_type": "code",
   "execution_count": 25,
   "id": "c938d4b7",
   "metadata": {
    "execution": {
     "iopub.execute_input": "2024-01-25T10:44:36.866368Z",
     "iopub.status.busy": "2024-01-25T10:44:36.865767Z",
     "iopub.status.idle": "2024-01-25T10:44:36.965138Z",
     "shell.execute_reply": "2024-01-25T10:44:36.963705Z"
    },
    "papermill": {
     "duration": 0.126281,
     "end_time": "2024-01-25T10:44:36.967744",
     "exception": false,
     "start_time": "2024-01-25T10:44:36.841463",
     "status": "completed"
    },
    "tags": []
   },
   "outputs": [
    {
     "data": {
      "text/html": [
       "<div>                            <div id=\"9c4b0399-0f7d-4444-a14c-8b71b35ece2f\" class=\"plotly-graph-div\" style=\"height:525px; width:100%;\"></div>            <script type=\"text/javascript\">                require([\"plotly\"], function(Plotly) {                    window.PLOTLYENV=window.PLOTLYENV || {};                                    if (document.getElementById(\"9c4b0399-0f7d-4444-a14c-8b71b35ece2f\")) {                    Plotly.newPlot(                        \"9c4b0399-0f7d-4444-a14c-8b71b35ece2f\",                        [{\"alignmentgroup\":\"True\",\"hovertemplate\":\"WHO Regions=%{x}\\u003cbr\\u003eCountries=%{y}\\u003cextra\\u003e\\u003c\\u002fextra\\u003e\",\"legendgroup\":\"\",\"marker\":{\"color\":\"#636efa\",\"pattern\":{\"shape\":\"\"}},\"name\":\"\",\"offsetgroup\":\"\",\"orientation\":\"v\",\"showlegend\":false,\"textposition\":\"auto\",\"x\":[\"Europe\",\"Africa\",\"Americas\",\"Eastern Mediterranean\",\"Western Pacific\",\"South-East Asia\"],\"xaxis\":\"x\",\"y\":[56,48,35,22,16,10],\"yaxis\":\"y\",\"type\":\"bar\"}],                        {\"template\":{\"data\":{\"histogram2dcontour\":[{\"type\":\"histogram2dcontour\",\"colorbar\":{\"outlinewidth\":0,\"ticks\":\"\"},\"colorscale\":[[0.0,\"#0d0887\"],[0.1111111111111111,\"#46039f\"],[0.2222222222222222,\"#7201a8\"],[0.3333333333333333,\"#9c179e\"],[0.4444444444444444,\"#bd3786\"],[0.5555555555555556,\"#d8576b\"],[0.6666666666666666,\"#ed7953\"],[0.7777777777777778,\"#fb9f3a\"],[0.8888888888888888,\"#fdca26\"],[1.0,\"#f0f921\"]]}],\"choropleth\":[{\"type\":\"choropleth\",\"colorbar\":{\"outlinewidth\":0,\"ticks\":\"\"}}],\"histogram2d\":[{\"type\":\"histogram2d\",\"colorbar\":{\"outlinewidth\":0,\"ticks\":\"\"},\"colorscale\":[[0.0,\"#0d0887\"],[0.1111111111111111,\"#46039f\"],[0.2222222222222222,\"#7201a8\"],[0.3333333333333333,\"#9c179e\"],[0.4444444444444444,\"#bd3786\"],[0.5555555555555556,\"#d8576b\"],[0.6666666666666666,\"#ed7953\"],[0.7777777777777778,\"#fb9f3a\"],[0.8888888888888888,\"#fdca26\"],[1.0,\"#f0f921\"]]}],\"heatmap\":[{\"type\":\"heatmap\",\"colorbar\":{\"outlinewidth\":0,\"ticks\":\"\"},\"colorscale\":[[0.0,\"#0d0887\"],[0.1111111111111111,\"#46039f\"],[0.2222222222222222,\"#7201a8\"],[0.3333333333333333,\"#9c179e\"],[0.4444444444444444,\"#bd3786\"],[0.5555555555555556,\"#d8576b\"],[0.6666666666666666,\"#ed7953\"],[0.7777777777777778,\"#fb9f3a\"],[0.8888888888888888,\"#fdca26\"],[1.0,\"#f0f921\"]]}],\"heatmapgl\":[{\"type\":\"heatmapgl\",\"colorbar\":{\"outlinewidth\":0,\"ticks\":\"\"},\"colorscale\":[[0.0,\"#0d0887\"],[0.1111111111111111,\"#46039f\"],[0.2222222222222222,\"#7201a8\"],[0.3333333333333333,\"#9c179e\"],[0.4444444444444444,\"#bd3786\"],[0.5555555555555556,\"#d8576b\"],[0.6666666666666666,\"#ed7953\"],[0.7777777777777778,\"#fb9f3a\"],[0.8888888888888888,\"#fdca26\"],[1.0,\"#f0f921\"]]}],\"contourcarpet\":[{\"type\":\"contourcarpet\",\"colorbar\":{\"outlinewidth\":0,\"ticks\":\"\"}}],\"contour\":[{\"type\":\"contour\",\"colorbar\":{\"outlinewidth\":0,\"ticks\":\"\"},\"colorscale\":[[0.0,\"#0d0887\"],[0.1111111111111111,\"#46039f\"],[0.2222222222222222,\"#7201a8\"],[0.3333333333333333,\"#9c179e\"],[0.4444444444444444,\"#bd3786\"],[0.5555555555555556,\"#d8576b\"],[0.6666666666666666,\"#ed7953\"],[0.7777777777777778,\"#fb9f3a\"],[0.8888888888888888,\"#fdca26\"],[1.0,\"#f0f921\"]]}],\"surface\":[{\"type\":\"surface\",\"colorbar\":{\"outlinewidth\":0,\"ticks\":\"\"},\"colorscale\":[[0.0,\"#0d0887\"],[0.1111111111111111,\"#46039f\"],[0.2222222222222222,\"#7201a8\"],[0.3333333333333333,\"#9c179e\"],[0.4444444444444444,\"#bd3786\"],[0.5555555555555556,\"#d8576b\"],[0.6666666666666666,\"#ed7953\"],[0.7777777777777778,\"#fb9f3a\"],[0.8888888888888888,\"#fdca26\"],[1.0,\"#f0f921\"]]}],\"mesh3d\":[{\"type\":\"mesh3d\",\"colorbar\":{\"outlinewidth\":0,\"ticks\":\"\"}}],\"scatter\":[{\"fillpattern\":{\"fillmode\":\"overlay\",\"size\":10,\"solidity\":0.2},\"type\":\"scatter\"}],\"parcoords\":[{\"type\":\"parcoords\",\"line\":{\"colorbar\":{\"outlinewidth\":0,\"ticks\":\"\"}}}],\"scatterpolargl\":[{\"type\":\"scatterpolargl\",\"marker\":{\"colorbar\":{\"outlinewidth\":0,\"ticks\":\"\"}}}],\"bar\":[{\"error_x\":{\"color\":\"#2a3f5f\"},\"error_y\":{\"color\":\"#2a3f5f\"},\"marker\":{\"line\":{\"color\":\"#E5ECF6\",\"width\":0.5},\"pattern\":{\"fillmode\":\"overlay\",\"size\":10,\"solidity\":0.2}},\"type\":\"bar\"}],\"scattergeo\":[{\"type\":\"scattergeo\",\"marker\":{\"colorbar\":{\"outlinewidth\":0,\"ticks\":\"\"}}}],\"scatterpolar\":[{\"type\":\"scatterpolar\",\"marker\":{\"colorbar\":{\"outlinewidth\":0,\"ticks\":\"\"}}}],\"histogram\":[{\"marker\":{\"pattern\":{\"fillmode\":\"overlay\",\"size\":10,\"solidity\":0.2}},\"type\":\"histogram\"}],\"scattergl\":[{\"type\":\"scattergl\",\"marker\":{\"colorbar\":{\"outlinewidth\":0,\"ticks\":\"\"}}}],\"scatter3d\":[{\"type\":\"scatter3d\",\"line\":{\"colorbar\":{\"outlinewidth\":0,\"ticks\":\"\"}},\"marker\":{\"colorbar\":{\"outlinewidth\":0,\"ticks\":\"\"}}}],\"scattermapbox\":[{\"type\":\"scattermapbox\",\"marker\":{\"colorbar\":{\"outlinewidth\":0,\"ticks\":\"\"}}}],\"scatterternary\":[{\"type\":\"scatterternary\",\"marker\":{\"colorbar\":{\"outlinewidth\":0,\"ticks\":\"\"}}}],\"scattercarpet\":[{\"type\":\"scattercarpet\",\"marker\":{\"colorbar\":{\"outlinewidth\":0,\"ticks\":\"\"}}}],\"carpet\":[{\"aaxis\":{\"endlinecolor\":\"#2a3f5f\",\"gridcolor\":\"white\",\"linecolor\":\"white\",\"minorgridcolor\":\"white\",\"startlinecolor\":\"#2a3f5f\"},\"baxis\":{\"endlinecolor\":\"#2a3f5f\",\"gridcolor\":\"white\",\"linecolor\":\"white\",\"minorgridcolor\":\"white\",\"startlinecolor\":\"#2a3f5f\"},\"type\":\"carpet\"}],\"table\":[{\"cells\":{\"fill\":{\"color\":\"#EBF0F8\"},\"line\":{\"color\":\"white\"}},\"header\":{\"fill\":{\"color\":\"#C8D4E3\"},\"line\":{\"color\":\"white\"}},\"type\":\"table\"}],\"barpolar\":[{\"marker\":{\"line\":{\"color\":\"#E5ECF6\",\"width\":0.5},\"pattern\":{\"fillmode\":\"overlay\",\"size\":10,\"solidity\":0.2}},\"type\":\"barpolar\"}],\"pie\":[{\"automargin\":true,\"type\":\"pie\"}]},\"layout\":{\"autotypenumbers\":\"strict\",\"colorway\":[\"#636efa\",\"#EF553B\",\"#00cc96\",\"#ab63fa\",\"#FFA15A\",\"#19d3f3\",\"#FF6692\",\"#B6E880\",\"#FF97FF\",\"#FECB52\"],\"font\":{\"color\":\"#2a3f5f\"},\"hovermode\":\"closest\",\"hoverlabel\":{\"align\":\"left\"},\"paper_bgcolor\":\"white\",\"plot_bgcolor\":\"#E5ECF6\",\"polar\":{\"bgcolor\":\"#E5ECF6\",\"angularaxis\":{\"gridcolor\":\"white\",\"linecolor\":\"white\",\"ticks\":\"\"},\"radialaxis\":{\"gridcolor\":\"white\",\"linecolor\":\"white\",\"ticks\":\"\"}},\"ternary\":{\"bgcolor\":\"#E5ECF6\",\"aaxis\":{\"gridcolor\":\"white\",\"linecolor\":\"white\",\"ticks\":\"\"},\"baxis\":{\"gridcolor\":\"white\",\"linecolor\":\"white\",\"ticks\":\"\"},\"caxis\":{\"gridcolor\":\"white\",\"linecolor\":\"white\",\"ticks\":\"\"}},\"coloraxis\":{\"colorbar\":{\"outlinewidth\":0,\"ticks\":\"\"}},\"colorscale\":{\"sequential\":[[0.0,\"#0d0887\"],[0.1111111111111111,\"#46039f\"],[0.2222222222222222,\"#7201a8\"],[0.3333333333333333,\"#9c179e\"],[0.4444444444444444,\"#bd3786\"],[0.5555555555555556,\"#d8576b\"],[0.6666666666666666,\"#ed7953\"],[0.7777777777777778,\"#fb9f3a\"],[0.8888888888888888,\"#fdca26\"],[1.0,\"#f0f921\"]],\"sequentialminus\":[[0.0,\"#0d0887\"],[0.1111111111111111,\"#46039f\"],[0.2222222222222222,\"#7201a8\"],[0.3333333333333333,\"#9c179e\"],[0.4444444444444444,\"#bd3786\"],[0.5555555555555556,\"#d8576b\"],[0.6666666666666666,\"#ed7953\"],[0.7777777777777778,\"#fb9f3a\"],[0.8888888888888888,\"#fdca26\"],[1.0,\"#f0f921\"]],\"diverging\":[[0,\"#8e0152\"],[0.1,\"#c51b7d\"],[0.2,\"#de77ae\"],[0.3,\"#f1b6da\"],[0.4,\"#fde0ef\"],[0.5,\"#f7f7f7\"],[0.6,\"#e6f5d0\"],[0.7,\"#b8e186\"],[0.8,\"#7fbc41\"],[0.9,\"#4d9221\"],[1,\"#276419\"]]},\"xaxis\":{\"gridcolor\":\"white\",\"linecolor\":\"white\",\"ticks\":\"\",\"title\":{\"standoff\":15},\"zerolinecolor\":\"white\",\"automargin\":true,\"zerolinewidth\":2},\"yaxis\":{\"gridcolor\":\"white\",\"linecolor\":\"white\",\"ticks\":\"\",\"title\":{\"standoff\":15},\"zerolinecolor\":\"white\",\"automargin\":true,\"zerolinewidth\":2},\"scene\":{\"xaxis\":{\"backgroundcolor\":\"#E5ECF6\",\"gridcolor\":\"white\",\"linecolor\":\"white\",\"showbackground\":true,\"ticks\":\"\",\"zerolinecolor\":\"white\",\"gridwidth\":2},\"yaxis\":{\"backgroundcolor\":\"#E5ECF6\",\"gridcolor\":\"white\",\"linecolor\":\"white\",\"showbackground\":true,\"ticks\":\"\",\"zerolinecolor\":\"white\",\"gridwidth\":2},\"zaxis\":{\"backgroundcolor\":\"#E5ECF6\",\"gridcolor\":\"white\",\"linecolor\":\"white\",\"showbackground\":true,\"ticks\":\"\",\"zerolinecolor\":\"white\",\"gridwidth\":2}},\"shapedefaults\":{\"line\":{\"color\":\"#2a3f5f\"}},\"annotationdefaults\":{\"arrowcolor\":\"#2a3f5f\",\"arrowhead\":0,\"arrowwidth\":1},\"geo\":{\"bgcolor\":\"white\",\"landcolor\":\"#E5ECF6\",\"subunitcolor\":\"white\",\"showland\":true,\"showlakes\":true,\"lakecolor\":\"white\"},\"title\":{\"x\":0.05},\"mapbox\":{\"style\":\"light\"}}},\"xaxis\":{\"anchor\":\"y\",\"domain\":[0.0,1.0],\"title\":{\"text\":\"WHO Regions\"}},\"yaxis\":{\"anchor\":\"x\",\"domain\":[0.0,1.0],\"title\":{\"text\":\"Countries\"}},\"legend\":{\"tracegroupgap\":0},\"title\":{\"text\":\"No of Countries in Each Region\"},\"barmode\":\"relative\"},                        {\"responsive\": true}                    ).then(function(){\n",
       "                            \n",
       "var gd = document.getElementById('9c4b0399-0f7d-4444-a14c-8b71b35ece2f');\n",
       "var x = new MutationObserver(function (mutations, observer) {{\n",
       "        var display = window.getComputedStyle(gd).display;\n",
       "        if (!display || display === 'none') {{\n",
       "            console.log([gd, 'removed!']);\n",
       "            Plotly.purge(gd);\n",
       "            observer.disconnect();\n",
       "        }}\n",
       "}});\n",
       "\n",
       "// Listen for the removal of the full notebook cells\n",
       "var notebookContainer = gd.closest('#notebook-container');\n",
       "if (notebookContainer) {{\n",
       "    x.observe(notebookContainer, {childList: true});\n",
       "}}\n",
       "\n",
       "// Listen for the clearing of the current output cell\n",
       "var outputEl = gd.closest('.output');\n",
       "if (outputEl) {{\n",
       "    x.observe(outputEl, {childList: true});\n",
       "}}\n",
       "\n",
       "                        })                };                });            </script>        </div>"
      ]
     },
     "metadata": {},
     "output_type": "display_data"
    }
   ],
   "source": [
    "value_counts = df_country['WHO Region'].value_counts()\n",
    "distribution_df = pd.DataFrame({'WHO Regions': value_counts.index, 'Countries': value_counts.values})\n",
    "fig = px.bar(distribution_df, x='WHO Regions', y='Countries', title=f'No of Countries in Each Region')\n",
    "fig.show()"
   ]
  },
  {
   "cell_type": "markdown",
   "id": "9736aa31",
   "metadata": {
    "papermill": {
     "duration": 0.022891,
     "end_time": "2024-01-25T10:44:37.013955",
     "exception": false,
     "start_time": "2024-01-25T10:44:36.991064",
     "status": "completed"
    },
    "tags": []
   },
   "source": [
    "# Visualization By Date\n",
    "The Global View of Pandemic over time "
   ]
  },
  {
   "cell_type": "code",
   "execution_count": 26,
   "id": "d7beee51",
   "metadata": {
    "execution": {
     "iopub.execute_input": "2024-01-25T10:44:37.063417Z",
     "iopub.status.busy": "2024-01-25T10:44:37.061814Z",
     "iopub.status.idle": "2024-01-25T10:44:37.088254Z",
     "shell.execute_reply": "2024-01-25T10:44:37.086585Z"
    },
    "papermill": {
     "duration": 0.053817,
     "end_time": "2024-01-25T10:44:37.091279",
     "exception": false,
     "start_time": "2024-01-25T10:44:37.037462",
     "status": "completed"
    },
    "tags": []
   },
   "outputs": [],
   "source": [
    "df = df_date.resample('1W-Mon', on='Date').mean().reset_index()\n",
    "\n",
    "cols = {\n",
    "\t\"Cases\": ['Deaths', 'Recovered',\t'Active'],\n",
    "\t\"New\": ['New deaths',\t'New recovered'],\n",
    "\t\"Per 100\": ['Deaths / 100 Cases','Recovered / 100 Cases',\t'Deaths / 100 Recovered'],\n",
    "\t\"Number of Countries Affected\": ['No. of countries'],\n",
    "}"
   ]
  },
  {
   "cell_type": "code",
   "execution_count": 27,
   "id": "4f52b095",
   "metadata": {
    "execution": {
     "iopub.execute_input": "2024-01-25T10:44:37.139015Z",
     "iopub.status.busy": "2024-01-25T10:44:37.138536Z",
     "iopub.status.idle": "2024-01-25T10:44:37.349553Z",
     "shell.execute_reply": "2024-01-25T10:44:37.348316Z"
    },
    "papermill": {
     "duration": 0.238455,
     "end_time": "2024-01-25T10:44:37.352274",
     "exception": false,
     "start_time": "2024-01-25T10:44:37.113819",
     "status": "completed"
    },
    "tags": []
   },
   "outputs": [
    {
     "data": {
      "text/html": [
       "<div>                            <div id=\"221b97e9-78d3-41b3-89a3-1c9842d14483\" class=\"plotly-graph-div\" style=\"height:525px; width:100%;\"></div>            <script type=\"text/javascript\">                require([\"plotly\"], function(Plotly) {                    window.PLOTLYENV=window.PLOTLYENV || {};                                    if (document.getElementById(\"221b97e9-78d3-41b3-89a3-1c9842d14483\")) {                    Plotly.newPlot(                        \"221b97e9-78d3-41b3-89a3-1c9842d14483\",                        [{\"name\":\"Deaths\",\"x\":[\"2020-01-27T00:00:00\",\"2020-02-03T00:00:00\",\"2020-02-10T00:00:00\",\"2020-02-17T00:00:00\",\"2020-02-24T00:00:00\",\"2020-03-02T00:00:00\",\"2020-03-09T00:00:00\",\"2020-03-16T00:00:00\",\"2020-03-23T00:00:00\",\"2020-03-30T00:00:00\",\"2020-04-06T00:00:00\",\"2020-04-13T00:00:00\",\"2020-04-20T00:00:00\",\"2020-04-27T00:00:00\",\"2020-05-04T00:00:00\",\"2020-05-11T00:00:00\",\"2020-05-18T00:00:00\",\"2020-05-25T00:00:00\",\"2020-06-01T00:00:00\",\"2020-06-08T00:00:00\",\"2020-06-15T00:00:00\",\"2020-06-22T00:00:00\",\"2020-06-29T00:00:00\",\"2020-07-06T00:00:00\",\"2020-07-13T00:00:00\",\"2020-07-20T00:00:00\",\"2020-07-27T00:00:00\"],\"y\":[40.166666666666664,242.14285714285714,733.4285714285714,1489.857142857143,2311.1428571428573,2879.4285714285716,3504.285714285714,5515.714285714285,11840.857142857143,28718.285714285714,61930.57142857143,107352.0,155259.2857142857,199782.7142857143,238850.42857142858,274762.4285714286,307587.85714285716,337841.14285714284,365486.4285714286,395654.85714285716,425832.4285714286,459560.4285714286,493405.0,525415.7142857143,559320.0,595328.5714285715,637203.8571428572],\"type\":\"bar\"},{\"name\":\"Recovered\",\"x\":[\"2020-01-27T00:00:00\",\"2020-02-03T00:00:00\",\"2020-02-10T00:00:00\",\"2020-02-17T00:00:00\",\"2020-02-24T00:00:00\",\"2020-03-02T00:00:00\",\"2020-03-09T00:00:00\",\"2020-03-16T00:00:00\",\"2020-03-23T00:00:00\",\"2020-03-30T00:00:00\",\"2020-04-06T00:00:00\",\"2020-04-13T00:00:00\",\"2020-04-20T00:00:00\",\"2020-04-27T00:00:00\",\"2020-05-04T00:00:00\",\"2020-05-11T00:00:00\",\"2020-05-18T00:00:00\",\"2020-05-25T00:00:00\",\"2020-06-01T00:00:00\",\"2020-06-08T00:00:00\",\"2020-06-15T00:00:00\",\"2020-06-22T00:00:00\",\"2020-06-29T00:00:00\",\"2020-07-06T00:00:00\",\"2020-07-13T00:00:00\",\"2020-07-20T00:00:00\",\"2020-07-27T00:00:00\"],\"y\":[41.0,276.57142857142856,2064.8571428571427,7711.571428571428,18946.0,35223.0,54221.42857142857,69109.71428571429,87309.28571428571,130074.57142857143,222425.85714285713,367536.85714285716,551635.5714285715,760979.7142857143,1017287.7142857143,1290698.2857142857,1596548.857142857,1987566.857142857,2438824.714285714,2966414.0,3557541.285714286,4184956.5714285714,4871546.714285715,5781664.285714285,6789434.857142857,7771540.0,8925315.57142857],\"type\":\"bar\"},{\"name\":\"Active\",\"x\":[\"2020-01-27T00:00:00\",\"2020-02-03T00:00:00\",\"2020-02-10T00:00:00\",\"2020-02-17T00:00:00\",\"2020-02-24T00:00:00\",\"2020-03-02T00:00:00\",\"2020-03-09T00:00:00\",\"2020-03-16T00:00:00\",\"2020-03-23T00:00:00\",\"2020-03-30T00:00:00\",\"2020-04-06T00:00:00\",\"2020-04-13T00:00:00\",\"2020-04-20T00:00:00\",\"2020-04-27T00:00:00\",\"2020-05-04T00:00:00\",\"2020-05-11T00:00:00\",\"2020-05-18T00:00:00\",\"2020-05-25T00:00:00\",\"2020-06-01T00:00:00\",\"2020-06-08T00:00:00\",\"2020-06-15T00:00:00\",\"2020-06-22T00:00:00\",\"2020-06-29T00:00:00\",\"2020-07-06T00:00:00\",\"2020-07-13T00:00:00\",\"2020-07-20T00:00:00\",\"2020-07-27T00:00:00\"],\"y\":[1357.0,10712.285714285714,30983.571428571428,52311.57142857143,55390.42857142857,45966.42857142857,44150.0,72509.85714285714,182669.85714285713,446677.0,823340.8571428572,1193311.2857142857,1531948.5714285714,1838896.2857142857,2095621.142857143,2368406.5714285714,2632726.1428571427,2885425.4285714286,3138558.0,3412186.285714286,3670919.1428571427,3989476.285714286,4400416.285714285,4752912.571428572,5137044.0,5671503.571428572,6188394.857142857],\"type\":\"bar\"}],                        {\"template\":{\"data\":{\"barpolar\":[{\"marker\":{\"line\":{\"color\":\"rgb(17,17,17)\",\"width\":0.5},\"pattern\":{\"fillmode\":\"overlay\",\"size\":10,\"solidity\":0.2}},\"type\":\"barpolar\"}],\"bar\":[{\"error_x\":{\"color\":\"#f2f5fa\"},\"error_y\":{\"color\":\"#f2f5fa\"},\"marker\":{\"line\":{\"color\":\"rgb(17,17,17)\",\"width\":0.5},\"pattern\":{\"fillmode\":\"overlay\",\"size\":10,\"solidity\":0.2}},\"type\":\"bar\"}],\"carpet\":[{\"aaxis\":{\"endlinecolor\":\"#A2B1C6\",\"gridcolor\":\"#506784\",\"linecolor\":\"#506784\",\"minorgridcolor\":\"#506784\",\"startlinecolor\":\"#A2B1C6\"},\"baxis\":{\"endlinecolor\":\"#A2B1C6\",\"gridcolor\":\"#506784\",\"linecolor\":\"#506784\",\"minorgridcolor\":\"#506784\",\"startlinecolor\":\"#A2B1C6\"},\"type\":\"carpet\"}],\"choropleth\":[{\"colorbar\":{\"outlinewidth\":0,\"ticks\":\"\"},\"type\":\"choropleth\"}],\"contourcarpet\":[{\"colorbar\":{\"outlinewidth\":0,\"ticks\":\"\"},\"type\":\"contourcarpet\"}],\"contour\":[{\"colorbar\":{\"outlinewidth\":0,\"ticks\":\"\"},\"colorscale\":[[0.0,\"#0d0887\"],[0.1111111111111111,\"#46039f\"],[0.2222222222222222,\"#7201a8\"],[0.3333333333333333,\"#9c179e\"],[0.4444444444444444,\"#bd3786\"],[0.5555555555555556,\"#d8576b\"],[0.6666666666666666,\"#ed7953\"],[0.7777777777777778,\"#fb9f3a\"],[0.8888888888888888,\"#fdca26\"],[1.0,\"#f0f921\"]],\"type\":\"contour\"}],\"heatmapgl\":[{\"colorbar\":{\"outlinewidth\":0,\"ticks\":\"\"},\"colorscale\":[[0.0,\"#0d0887\"],[0.1111111111111111,\"#46039f\"],[0.2222222222222222,\"#7201a8\"],[0.3333333333333333,\"#9c179e\"],[0.4444444444444444,\"#bd3786\"],[0.5555555555555556,\"#d8576b\"],[0.6666666666666666,\"#ed7953\"],[0.7777777777777778,\"#fb9f3a\"],[0.8888888888888888,\"#fdca26\"],[1.0,\"#f0f921\"]],\"type\":\"heatmapgl\"}],\"heatmap\":[{\"colorbar\":{\"outlinewidth\":0,\"ticks\":\"\"},\"colorscale\":[[0.0,\"#0d0887\"],[0.1111111111111111,\"#46039f\"],[0.2222222222222222,\"#7201a8\"],[0.3333333333333333,\"#9c179e\"],[0.4444444444444444,\"#bd3786\"],[0.5555555555555556,\"#d8576b\"],[0.6666666666666666,\"#ed7953\"],[0.7777777777777778,\"#fb9f3a\"],[0.8888888888888888,\"#fdca26\"],[1.0,\"#f0f921\"]],\"type\":\"heatmap\"}],\"histogram2dcontour\":[{\"colorbar\":{\"outlinewidth\":0,\"ticks\":\"\"},\"colorscale\":[[0.0,\"#0d0887\"],[0.1111111111111111,\"#46039f\"],[0.2222222222222222,\"#7201a8\"],[0.3333333333333333,\"#9c179e\"],[0.4444444444444444,\"#bd3786\"],[0.5555555555555556,\"#d8576b\"],[0.6666666666666666,\"#ed7953\"],[0.7777777777777778,\"#fb9f3a\"],[0.8888888888888888,\"#fdca26\"],[1.0,\"#f0f921\"]],\"type\":\"histogram2dcontour\"}],\"histogram2d\":[{\"colorbar\":{\"outlinewidth\":0,\"ticks\":\"\"},\"colorscale\":[[0.0,\"#0d0887\"],[0.1111111111111111,\"#46039f\"],[0.2222222222222222,\"#7201a8\"],[0.3333333333333333,\"#9c179e\"],[0.4444444444444444,\"#bd3786\"],[0.5555555555555556,\"#d8576b\"],[0.6666666666666666,\"#ed7953\"],[0.7777777777777778,\"#fb9f3a\"],[0.8888888888888888,\"#fdca26\"],[1.0,\"#f0f921\"]],\"type\":\"histogram2d\"}],\"histogram\":[{\"marker\":{\"pattern\":{\"fillmode\":\"overlay\",\"size\":10,\"solidity\":0.2}},\"type\":\"histogram\"}],\"mesh3d\":[{\"colorbar\":{\"outlinewidth\":0,\"ticks\":\"\"},\"type\":\"mesh3d\"}],\"parcoords\":[{\"line\":{\"colorbar\":{\"outlinewidth\":0,\"ticks\":\"\"}},\"type\":\"parcoords\"}],\"pie\":[{\"automargin\":true,\"type\":\"pie\"}],\"scatter3d\":[{\"line\":{\"colorbar\":{\"outlinewidth\":0,\"ticks\":\"\"}},\"marker\":{\"colorbar\":{\"outlinewidth\":0,\"ticks\":\"\"}},\"type\":\"scatter3d\"}],\"scattercarpet\":[{\"marker\":{\"colorbar\":{\"outlinewidth\":0,\"ticks\":\"\"}},\"type\":\"scattercarpet\"}],\"scattergeo\":[{\"marker\":{\"colorbar\":{\"outlinewidth\":0,\"ticks\":\"\"}},\"type\":\"scattergeo\"}],\"scattergl\":[{\"marker\":{\"line\":{\"color\":\"#283442\"}},\"type\":\"scattergl\"}],\"scattermapbox\":[{\"marker\":{\"colorbar\":{\"outlinewidth\":0,\"ticks\":\"\"}},\"type\":\"scattermapbox\"}],\"scatterpolargl\":[{\"marker\":{\"colorbar\":{\"outlinewidth\":0,\"ticks\":\"\"}},\"type\":\"scatterpolargl\"}],\"scatterpolar\":[{\"marker\":{\"colorbar\":{\"outlinewidth\":0,\"ticks\":\"\"}},\"type\":\"scatterpolar\"}],\"scatter\":[{\"marker\":{\"line\":{\"color\":\"#283442\"}},\"type\":\"scatter\"}],\"scatterternary\":[{\"marker\":{\"colorbar\":{\"outlinewidth\":0,\"ticks\":\"\"}},\"type\":\"scatterternary\"}],\"surface\":[{\"colorbar\":{\"outlinewidth\":0,\"ticks\":\"\"},\"colorscale\":[[0.0,\"#0d0887\"],[0.1111111111111111,\"#46039f\"],[0.2222222222222222,\"#7201a8\"],[0.3333333333333333,\"#9c179e\"],[0.4444444444444444,\"#bd3786\"],[0.5555555555555556,\"#d8576b\"],[0.6666666666666666,\"#ed7953\"],[0.7777777777777778,\"#fb9f3a\"],[0.8888888888888888,\"#fdca26\"],[1.0,\"#f0f921\"]],\"type\":\"surface\"}],\"table\":[{\"cells\":{\"fill\":{\"color\":\"#506784\"},\"line\":{\"color\":\"rgb(17,17,17)\"}},\"header\":{\"fill\":{\"color\":\"#2a3f5f\"},\"line\":{\"color\":\"rgb(17,17,17)\"}},\"type\":\"table\"}]},\"layout\":{\"annotationdefaults\":{\"arrowcolor\":\"#f2f5fa\",\"arrowhead\":0,\"arrowwidth\":1},\"autotypenumbers\":\"strict\",\"coloraxis\":{\"colorbar\":{\"outlinewidth\":0,\"ticks\":\"\"}},\"colorscale\":{\"diverging\":[[0,\"#8e0152\"],[0.1,\"#c51b7d\"],[0.2,\"#de77ae\"],[0.3,\"#f1b6da\"],[0.4,\"#fde0ef\"],[0.5,\"#f7f7f7\"],[0.6,\"#e6f5d0\"],[0.7,\"#b8e186\"],[0.8,\"#7fbc41\"],[0.9,\"#4d9221\"],[1,\"#276419\"]],\"sequential\":[[0.0,\"#0d0887\"],[0.1111111111111111,\"#46039f\"],[0.2222222222222222,\"#7201a8\"],[0.3333333333333333,\"#9c179e\"],[0.4444444444444444,\"#bd3786\"],[0.5555555555555556,\"#d8576b\"],[0.6666666666666666,\"#ed7953\"],[0.7777777777777778,\"#fb9f3a\"],[0.8888888888888888,\"#fdca26\"],[1.0,\"#f0f921\"]],\"sequentialminus\":[[0.0,\"#0d0887\"],[0.1111111111111111,\"#46039f\"],[0.2222222222222222,\"#7201a8\"],[0.3333333333333333,\"#9c179e\"],[0.4444444444444444,\"#bd3786\"],[0.5555555555555556,\"#d8576b\"],[0.6666666666666666,\"#ed7953\"],[0.7777777777777778,\"#fb9f3a\"],[0.8888888888888888,\"#fdca26\"],[1.0,\"#f0f921\"]]},\"colorway\":[\"#636efa\",\"#EF553B\",\"#00cc96\",\"#ab63fa\",\"#FFA15A\",\"#19d3f3\",\"#FF6692\",\"#B6E880\",\"#FF97FF\",\"#FECB52\"],\"font\":{\"color\":\"#f2f5fa\"},\"geo\":{\"bgcolor\":\"rgb(17,17,17)\",\"lakecolor\":\"rgb(17,17,17)\",\"landcolor\":\"rgb(17,17,17)\",\"showlakes\":true,\"showland\":true,\"subunitcolor\":\"#506784\"},\"hoverlabel\":{\"align\":\"left\"},\"hovermode\":\"closest\",\"mapbox\":{\"style\":\"dark\"},\"paper_bgcolor\":\"rgb(17,17,17)\",\"plot_bgcolor\":\"rgb(17,17,17)\",\"polar\":{\"angularaxis\":{\"gridcolor\":\"#506784\",\"linecolor\":\"#506784\",\"ticks\":\"\"},\"bgcolor\":\"rgb(17,17,17)\",\"radialaxis\":{\"gridcolor\":\"#506784\",\"linecolor\":\"#506784\",\"ticks\":\"\"}},\"scene\":{\"xaxis\":{\"backgroundcolor\":\"rgb(17,17,17)\",\"gridcolor\":\"#506784\",\"gridwidth\":2,\"linecolor\":\"#506784\",\"showbackground\":true,\"ticks\":\"\",\"zerolinecolor\":\"#C8D4E3\"},\"yaxis\":{\"backgroundcolor\":\"rgb(17,17,17)\",\"gridcolor\":\"#506784\",\"gridwidth\":2,\"linecolor\":\"#506784\",\"showbackground\":true,\"ticks\":\"\",\"zerolinecolor\":\"#C8D4E3\"},\"zaxis\":{\"backgroundcolor\":\"rgb(17,17,17)\",\"gridcolor\":\"#506784\",\"gridwidth\":2,\"linecolor\":\"#506784\",\"showbackground\":true,\"ticks\":\"\",\"zerolinecolor\":\"#C8D4E3\"}},\"shapedefaults\":{\"line\":{\"color\":\"#f2f5fa\"}},\"sliderdefaults\":{\"bgcolor\":\"#C8D4E3\",\"bordercolor\":\"rgb(17,17,17)\",\"borderwidth\":1,\"tickwidth\":0},\"ternary\":{\"aaxis\":{\"gridcolor\":\"#506784\",\"linecolor\":\"#506784\",\"ticks\":\"\"},\"baxis\":{\"gridcolor\":\"#506784\",\"linecolor\":\"#506784\",\"ticks\":\"\"},\"bgcolor\":\"rgb(17,17,17)\",\"caxis\":{\"gridcolor\":\"#506784\",\"linecolor\":\"#506784\",\"ticks\":\"\"}},\"title\":{\"x\":0.05},\"updatemenudefaults\":{\"bgcolor\":\"#506784\",\"borderwidth\":0},\"xaxis\":{\"automargin\":true,\"gridcolor\":\"#283442\",\"linecolor\":\"#506784\",\"ticks\":\"\",\"title\":{\"standoff\":15},\"zerolinecolor\":\"#283442\",\"zerolinewidth\":2},\"yaxis\":{\"automargin\":true,\"gridcolor\":\"#283442\",\"linecolor\":\"#506784\",\"ticks\":\"\",\"title\":{\"standoff\":15},\"zerolinecolor\":\"#283442\",\"zerolinewidth\":2}}},\"title\":{\"text\":\"Rolling Sum for Cases\"},\"xaxis\":{\"title\":{\"text\":\"Date\"}},\"yaxis\":{\"title\":{\"text\":\"Count\"}},\"barmode\":\"stack\"},                        {\"responsive\": true}                    ).then(function(){\n",
       "                            \n",
       "var gd = document.getElementById('221b97e9-78d3-41b3-89a3-1c9842d14483');\n",
       "var x = new MutationObserver(function (mutations, observer) {{\n",
       "        var display = window.getComputedStyle(gd).display;\n",
       "        if (!display || display === 'none') {{\n",
       "            console.log([gd, 'removed!']);\n",
       "            Plotly.purge(gd);\n",
       "            observer.disconnect();\n",
       "        }}\n",
       "}});\n",
       "\n",
       "// Listen for the removal of the full notebook cells\n",
       "var notebookContainer = gd.closest('#notebook-container');\n",
       "if (notebookContainer) {{\n",
       "    x.observe(notebookContainer, {childList: true});\n",
       "}}\n",
       "\n",
       "// Listen for the clearing of the current output cell\n",
       "var outputEl = gd.closest('.output');\n",
       "if (outputEl) {{\n",
       "    x.observe(outputEl, {childList: true});\n",
       "}}\n",
       "\n",
       "                        })                };                });            </script>        </div>"
      ]
     },
     "metadata": {},
     "output_type": "display_data"
    },
    {
     "data": {
      "text/html": [
       "<div>                            <div id=\"afc1440e-a7bf-4200-98d1-9c2400d10fbb\" class=\"plotly-graph-div\" style=\"height:525px; width:100%;\"></div>            <script type=\"text/javascript\">                require([\"plotly\"], function(Plotly) {                    window.PLOTLYENV=window.PLOTLYENV || {};                                    if (document.getElementById(\"afc1440e-a7bf-4200-98d1-9c2400d10fbb\")) {                    Plotly.newPlot(                        \"afc1440e-a7bf-4200-98d1-9c2400d10fbb\",                        [{\"name\":\"New deaths\",\"x\":[\"2020-01-27T00:00:00\",\"2020-02-03T00:00:00\",\"2020-02-10T00:00:00\",\"2020-02-17T00:00:00\",\"2020-02-24T00:00:00\",\"2020-03-02T00:00:00\",\"2020-03-09T00:00:00\",\"2020-03-16T00:00:00\",\"2020-03-23T00:00:00\",\"2020-03-30T00:00:00\",\"2020-04-06T00:00:00\",\"2020-04-13T00:00:00\",\"2020-04-20T00:00:00\",\"2020-04-27T00:00:00\",\"2020-05-04T00:00:00\",\"2020-05-11T00:00:00\",\"2020-05-18T00:00:00\",\"2020-05-25T00:00:00\",\"2020-06-01T00:00:00\",\"2020-06-08T00:00:00\",\"2020-06-15T00:00:00\",\"2020-06-22T00:00:00\",\"2020-06-29T00:00:00\",\"2020-07-06T00:00:00\",\"2020-07-13T00:00:00\",\"2020-07-20T00:00:00\",\"2020-07-27T00:00:00\"],\"y\":[10.833333333333334,49.142857142857146,83.85714285714286,122.14285714285714,108.42857142857143,64.57142857142857,128.85714285714286,451.85714285714283,1372.0,3269.4285714285716,5625.571428571428,6726.428571428572,6838.142857142857,5935.142857142857,5325.142857142857,4974.428571428572,4578.428571428572,4006.5714285714284,4138.714285714285,4377.142857142857,4319.285714285715,5029.571428571428,4760.285714285715,4552.714285714285,4980.142857142857,5358.714285714285,6245.285714285715],\"type\":\"bar\"},{\"name\":\"New recovered\",\"x\":[\"2020-01-27T00:00:00\",\"2020-02-03T00:00:00\",\"2020-02-10T00:00:00\",\"2020-02-17T00:00:00\",\"2020-02-24T00:00:00\",\"2020-03-02T00:00:00\",\"2020-03-09T00:00:00\",\"2020-03-16T00:00:00\",\"2020-03-23T00:00:00\",\"2020-03-30T00:00:00\",\"2020-04-06T00:00:00\",\"2020-04-13T00:00:00\",\"2020-04-20T00:00:00\",\"2020-04-27T00:00:00\",\"2020-05-04T00:00:00\",\"2020-05-11T00:00:00\",\"2020-05-18T00:00:00\",\"2020-05-25T00:00:00\",\"2020-06-01T00:00:00\",\"2020-06-08T00:00:00\",\"2020-06-15T00:00:00\",\"2020-06-22T00:00:00\",\"2020-06-29T00:00:00\",\"2020-07-06T00:00:00\",\"2020-07-13T00:00:00\",\"2020-07-20T00:00:00\",\"2020-07-27T00:00:00\"],\"y\":[5.5,77.57142857142857,444.2857142857143,1176.7142857142858,1728.0,2862.5714285714284,2400.8571428571427,2185.8571428571427,2894.8571428571427,9321.57142857143,15586.42857142857,23940.428571428572,27352.428571428572,31788.571428571428,39734.857142857145,40811.142857142855,46386.42857142857,62813.71428571428,65570.57142857143,85148.71428571429,79680.85714285714,94955.28571428571,100914.42857142857,152039.14285714287,136053.0,144234.0,182472.85714285713],\"type\":\"bar\"}],                        {\"template\":{\"data\":{\"barpolar\":[{\"marker\":{\"line\":{\"color\":\"rgb(17,17,17)\",\"width\":0.5},\"pattern\":{\"fillmode\":\"overlay\",\"size\":10,\"solidity\":0.2}},\"type\":\"barpolar\"}],\"bar\":[{\"error_x\":{\"color\":\"#f2f5fa\"},\"error_y\":{\"color\":\"#f2f5fa\"},\"marker\":{\"line\":{\"color\":\"rgb(17,17,17)\",\"width\":0.5},\"pattern\":{\"fillmode\":\"overlay\",\"size\":10,\"solidity\":0.2}},\"type\":\"bar\"}],\"carpet\":[{\"aaxis\":{\"endlinecolor\":\"#A2B1C6\",\"gridcolor\":\"#506784\",\"linecolor\":\"#506784\",\"minorgridcolor\":\"#506784\",\"startlinecolor\":\"#A2B1C6\"},\"baxis\":{\"endlinecolor\":\"#A2B1C6\",\"gridcolor\":\"#506784\",\"linecolor\":\"#506784\",\"minorgridcolor\":\"#506784\",\"startlinecolor\":\"#A2B1C6\"},\"type\":\"carpet\"}],\"choropleth\":[{\"colorbar\":{\"outlinewidth\":0,\"ticks\":\"\"},\"type\":\"choropleth\"}],\"contourcarpet\":[{\"colorbar\":{\"outlinewidth\":0,\"ticks\":\"\"},\"type\":\"contourcarpet\"}],\"contour\":[{\"colorbar\":{\"outlinewidth\":0,\"ticks\":\"\"},\"colorscale\":[[0.0,\"#0d0887\"],[0.1111111111111111,\"#46039f\"],[0.2222222222222222,\"#7201a8\"],[0.3333333333333333,\"#9c179e\"],[0.4444444444444444,\"#bd3786\"],[0.5555555555555556,\"#d8576b\"],[0.6666666666666666,\"#ed7953\"],[0.7777777777777778,\"#fb9f3a\"],[0.8888888888888888,\"#fdca26\"],[1.0,\"#f0f921\"]],\"type\":\"contour\"}],\"heatmapgl\":[{\"colorbar\":{\"outlinewidth\":0,\"ticks\":\"\"},\"colorscale\":[[0.0,\"#0d0887\"],[0.1111111111111111,\"#46039f\"],[0.2222222222222222,\"#7201a8\"],[0.3333333333333333,\"#9c179e\"],[0.4444444444444444,\"#bd3786\"],[0.5555555555555556,\"#d8576b\"],[0.6666666666666666,\"#ed7953\"],[0.7777777777777778,\"#fb9f3a\"],[0.8888888888888888,\"#fdca26\"],[1.0,\"#f0f921\"]],\"type\":\"heatmapgl\"}],\"heatmap\":[{\"colorbar\":{\"outlinewidth\":0,\"ticks\":\"\"},\"colorscale\":[[0.0,\"#0d0887\"],[0.1111111111111111,\"#46039f\"],[0.2222222222222222,\"#7201a8\"],[0.3333333333333333,\"#9c179e\"],[0.4444444444444444,\"#bd3786\"],[0.5555555555555556,\"#d8576b\"],[0.6666666666666666,\"#ed7953\"],[0.7777777777777778,\"#fb9f3a\"],[0.8888888888888888,\"#fdca26\"],[1.0,\"#f0f921\"]],\"type\":\"heatmap\"}],\"histogram2dcontour\":[{\"colorbar\":{\"outlinewidth\":0,\"ticks\":\"\"},\"colorscale\":[[0.0,\"#0d0887\"],[0.1111111111111111,\"#46039f\"],[0.2222222222222222,\"#7201a8\"],[0.3333333333333333,\"#9c179e\"],[0.4444444444444444,\"#bd3786\"],[0.5555555555555556,\"#d8576b\"],[0.6666666666666666,\"#ed7953\"],[0.7777777777777778,\"#fb9f3a\"],[0.8888888888888888,\"#fdca26\"],[1.0,\"#f0f921\"]],\"type\":\"histogram2dcontour\"}],\"histogram2d\":[{\"colorbar\":{\"outlinewidth\":0,\"ticks\":\"\"},\"colorscale\":[[0.0,\"#0d0887\"],[0.1111111111111111,\"#46039f\"],[0.2222222222222222,\"#7201a8\"],[0.3333333333333333,\"#9c179e\"],[0.4444444444444444,\"#bd3786\"],[0.5555555555555556,\"#d8576b\"],[0.6666666666666666,\"#ed7953\"],[0.7777777777777778,\"#fb9f3a\"],[0.8888888888888888,\"#fdca26\"],[1.0,\"#f0f921\"]],\"type\":\"histogram2d\"}],\"histogram\":[{\"marker\":{\"pattern\":{\"fillmode\":\"overlay\",\"size\":10,\"solidity\":0.2}},\"type\":\"histogram\"}],\"mesh3d\":[{\"colorbar\":{\"outlinewidth\":0,\"ticks\":\"\"},\"type\":\"mesh3d\"}],\"parcoords\":[{\"line\":{\"colorbar\":{\"outlinewidth\":0,\"ticks\":\"\"}},\"type\":\"parcoords\"}],\"pie\":[{\"automargin\":true,\"type\":\"pie\"}],\"scatter3d\":[{\"line\":{\"colorbar\":{\"outlinewidth\":0,\"ticks\":\"\"}},\"marker\":{\"colorbar\":{\"outlinewidth\":0,\"ticks\":\"\"}},\"type\":\"scatter3d\"}],\"scattercarpet\":[{\"marker\":{\"colorbar\":{\"outlinewidth\":0,\"ticks\":\"\"}},\"type\":\"scattercarpet\"}],\"scattergeo\":[{\"marker\":{\"colorbar\":{\"outlinewidth\":0,\"ticks\":\"\"}},\"type\":\"scattergeo\"}],\"scattergl\":[{\"marker\":{\"line\":{\"color\":\"#283442\"}},\"type\":\"scattergl\"}],\"scattermapbox\":[{\"marker\":{\"colorbar\":{\"outlinewidth\":0,\"ticks\":\"\"}},\"type\":\"scattermapbox\"}],\"scatterpolargl\":[{\"marker\":{\"colorbar\":{\"outlinewidth\":0,\"ticks\":\"\"}},\"type\":\"scatterpolargl\"}],\"scatterpolar\":[{\"marker\":{\"colorbar\":{\"outlinewidth\":0,\"ticks\":\"\"}},\"type\":\"scatterpolar\"}],\"scatter\":[{\"marker\":{\"line\":{\"color\":\"#283442\"}},\"type\":\"scatter\"}],\"scatterternary\":[{\"marker\":{\"colorbar\":{\"outlinewidth\":0,\"ticks\":\"\"}},\"type\":\"scatterternary\"}],\"surface\":[{\"colorbar\":{\"outlinewidth\":0,\"ticks\":\"\"},\"colorscale\":[[0.0,\"#0d0887\"],[0.1111111111111111,\"#46039f\"],[0.2222222222222222,\"#7201a8\"],[0.3333333333333333,\"#9c179e\"],[0.4444444444444444,\"#bd3786\"],[0.5555555555555556,\"#d8576b\"],[0.6666666666666666,\"#ed7953\"],[0.7777777777777778,\"#fb9f3a\"],[0.8888888888888888,\"#fdca26\"],[1.0,\"#f0f921\"]],\"type\":\"surface\"}],\"table\":[{\"cells\":{\"fill\":{\"color\":\"#506784\"},\"line\":{\"color\":\"rgb(17,17,17)\"}},\"header\":{\"fill\":{\"color\":\"#2a3f5f\"},\"line\":{\"color\":\"rgb(17,17,17)\"}},\"type\":\"table\"}]},\"layout\":{\"annotationdefaults\":{\"arrowcolor\":\"#f2f5fa\",\"arrowhead\":0,\"arrowwidth\":1},\"autotypenumbers\":\"strict\",\"coloraxis\":{\"colorbar\":{\"outlinewidth\":0,\"ticks\":\"\"}},\"colorscale\":{\"diverging\":[[0,\"#8e0152\"],[0.1,\"#c51b7d\"],[0.2,\"#de77ae\"],[0.3,\"#f1b6da\"],[0.4,\"#fde0ef\"],[0.5,\"#f7f7f7\"],[0.6,\"#e6f5d0\"],[0.7,\"#b8e186\"],[0.8,\"#7fbc41\"],[0.9,\"#4d9221\"],[1,\"#276419\"]],\"sequential\":[[0.0,\"#0d0887\"],[0.1111111111111111,\"#46039f\"],[0.2222222222222222,\"#7201a8\"],[0.3333333333333333,\"#9c179e\"],[0.4444444444444444,\"#bd3786\"],[0.5555555555555556,\"#d8576b\"],[0.6666666666666666,\"#ed7953\"],[0.7777777777777778,\"#fb9f3a\"],[0.8888888888888888,\"#fdca26\"],[1.0,\"#f0f921\"]],\"sequentialminus\":[[0.0,\"#0d0887\"],[0.1111111111111111,\"#46039f\"],[0.2222222222222222,\"#7201a8\"],[0.3333333333333333,\"#9c179e\"],[0.4444444444444444,\"#bd3786\"],[0.5555555555555556,\"#d8576b\"],[0.6666666666666666,\"#ed7953\"],[0.7777777777777778,\"#fb9f3a\"],[0.8888888888888888,\"#fdca26\"],[1.0,\"#f0f921\"]]},\"colorway\":[\"#636efa\",\"#EF553B\",\"#00cc96\",\"#ab63fa\",\"#FFA15A\",\"#19d3f3\",\"#FF6692\",\"#B6E880\",\"#FF97FF\",\"#FECB52\"],\"font\":{\"color\":\"#f2f5fa\"},\"geo\":{\"bgcolor\":\"rgb(17,17,17)\",\"lakecolor\":\"rgb(17,17,17)\",\"landcolor\":\"rgb(17,17,17)\",\"showlakes\":true,\"showland\":true,\"subunitcolor\":\"#506784\"},\"hoverlabel\":{\"align\":\"left\"},\"hovermode\":\"closest\",\"mapbox\":{\"style\":\"dark\"},\"paper_bgcolor\":\"rgb(17,17,17)\",\"plot_bgcolor\":\"rgb(17,17,17)\",\"polar\":{\"angularaxis\":{\"gridcolor\":\"#506784\",\"linecolor\":\"#506784\",\"ticks\":\"\"},\"bgcolor\":\"rgb(17,17,17)\",\"radialaxis\":{\"gridcolor\":\"#506784\",\"linecolor\":\"#506784\",\"ticks\":\"\"}},\"scene\":{\"xaxis\":{\"backgroundcolor\":\"rgb(17,17,17)\",\"gridcolor\":\"#506784\",\"gridwidth\":2,\"linecolor\":\"#506784\",\"showbackground\":true,\"ticks\":\"\",\"zerolinecolor\":\"#C8D4E3\"},\"yaxis\":{\"backgroundcolor\":\"rgb(17,17,17)\",\"gridcolor\":\"#506784\",\"gridwidth\":2,\"linecolor\":\"#506784\",\"showbackground\":true,\"ticks\":\"\",\"zerolinecolor\":\"#C8D4E3\"},\"zaxis\":{\"backgroundcolor\":\"rgb(17,17,17)\",\"gridcolor\":\"#506784\",\"gridwidth\":2,\"linecolor\":\"#506784\",\"showbackground\":true,\"ticks\":\"\",\"zerolinecolor\":\"#C8D4E3\"}},\"shapedefaults\":{\"line\":{\"color\":\"#f2f5fa\"}},\"sliderdefaults\":{\"bgcolor\":\"#C8D4E3\",\"bordercolor\":\"rgb(17,17,17)\",\"borderwidth\":1,\"tickwidth\":0},\"ternary\":{\"aaxis\":{\"gridcolor\":\"#506784\",\"linecolor\":\"#506784\",\"ticks\":\"\"},\"baxis\":{\"gridcolor\":\"#506784\",\"linecolor\":\"#506784\",\"ticks\":\"\"},\"bgcolor\":\"rgb(17,17,17)\",\"caxis\":{\"gridcolor\":\"#506784\",\"linecolor\":\"#506784\",\"ticks\":\"\"}},\"title\":{\"x\":0.05},\"updatemenudefaults\":{\"bgcolor\":\"#506784\",\"borderwidth\":0},\"xaxis\":{\"automargin\":true,\"gridcolor\":\"#283442\",\"linecolor\":\"#506784\",\"ticks\":\"\",\"title\":{\"standoff\":15},\"zerolinecolor\":\"#283442\",\"zerolinewidth\":2},\"yaxis\":{\"automargin\":true,\"gridcolor\":\"#283442\",\"linecolor\":\"#506784\",\"ticks\":\"\",\"title\":{\"standoff\":15},\"zerolinecolor\":\"#283442\",\"zerolinewidth\":2}}},\"title\":{\"text\":\"Rolling Sum for New\"},\"xaxis\":{\"title\":{\"text\":\"Date\"}},\"yaxis\":{\"title\":{\"text\":\"Count\"}},\"barmode\":\"stack\"},                        {\"responsive\": true}                    ).then(function(){\n",
       "                            \n",
       "var gd = document.getElementById('afc1440e-a7bf-4200-98d1-9c2400d10fbb');\n",
       "var x = new MutationObserver(function (mutations, observer) {{\n",
       "        var display = window.getComputedStyle(gd).display;\n",
       "        if (!display || display === 'none') {{\n",
       "            console.log([gd, 'removed!']);\n",
       "            Plotly.purge(gd);\n",
       "            observer.disconnect();\n",
       "        }}\n",
       "}});\n",
       "\n",
       "// Listen for the removal of the full notebook cells\n",
       "var notebookContainer = gd.closest('#notebook-container');\n",
       "if (notebookContainer) {{\n",
       "    x.observe(notebookContainer, {childList: true});\n",
       "}}\n",
       "\n",
       "// Listen for the clearing of the current output cell\n",
       "var outputEl = gd.closest('.output');\n",
       "if (outputEl) {{\n",
       "    x.observe(outputEl, {childList: true});\n",
       "}}\n",
       "\n",
       "                        })                };                });            </script>        </div>"
      ]
     },
     "metadata": {},
     "output_type": "display_data"
    },
    {
     "data": {
      "text/html": [
       "<div>                            <div id=\"a905d09f-b7e4-4a56-9132-8ea428ed2a1b\" class=\"plotly-graph-div\" style=\"height:525px; width:100%;\"></div>            <script type=\"text/javascript\">                require([\"plotly\"], function(Plotly) {                    window.PLOTLYENV=window.PLOTLYENV || {};                                    if (document.getElementById(\"a905d09f-b7e4-4a56-9132-8ea428ed2a1b\")) {                    Plotly.newPlot(                        \"a905d09f-b7e4-4a56-9132-8ea428ed2a1b\",                        [{\"name\":\"Deaths \\u002f 100 Cases\",\"x\":[\"2020-01-27T00:00:00\",\"2020-02-03T00:00:00\",\"2020-02-10T00:00:00\",\"2020-02-17T00:00:00\",\"2020-02-24T00:00:00\",\"2020-03-02T00:00:00\",\"2020-03-09T00:00:00\",\"2020-03-16T00:00:00\",\"2020-03-23T00:00:00\",\"2020-03-30T00:00:00\",\"2020-04-06T00:00:00\",\"2020-04-13T00:00:00\",\"2020-04-20T00:00:00\",\"2020-04-27T00:00:00\",\"2020-05-04T00:00:00\",\"2020-05-11T00:00:00\",\"2020-05-18T00:00:00\",\"2020-05-25T00:00:00\",\"2020-06-01T00:00:00\",\"2020-06-08T00:00:00\",\"2020-06-15T00:00:00\",\"2020-06-22T00:00:00\",\"2020-06-29T00:00:00\",\"2020-07-06T00:00:00\",\"2020-07-13T00:00:00\",\"2020-07-20T00:00:00\",\"2020-07-27T00:00:00\"],\"y\":[2.8233333333333337,2.1700000000000004,2.1514285714285712,2.4199999999999995,3.0100000000000002,3.4257142857142857,3.4385714285714286,3.7357142857142853,4.17,4.711428571428572,5.5528571428571425,6.418571428571428,6.927142857142857,7.135714285714286,7.127142857142857,6.987142857142857,6.782857142857144,6.488571428571428,6.155714285714285,5.844285714285715,5.565714285714286,5.324285714285715,5.055714285714286,4.752857142857143,4.482857142857143,4.242857142857143,4.045714285714285],\"type\":\"bar\"},{\"name\":\"Recovered \\u002f 100 Cases\",\"x\":[\"2020-01-27T00:00:00\",\"2020-02-03T00:00:00\",\"2020-02-10T00:00:00\",\"2020-02-17T00:00:00\",\"2020-02-24T00:00:00\",\"2020-03-02T00:00:00\",\"2020-03-09T00:00:00\",\"2020-03-16T00:00:00\",\"2020-03-23T00:00:00\",\"2020-03-30T00:00:00\",\"2020-04-06T00:00:00\",\"2020-04-13T00:00:00\",\"2020-04-20T00:00:00\",\"2020-04-27T00:00:00\",\"2020-05-04T00:00:00\",\"2020-05-11T00:00:00\",\"2020-05-18T00:00:00\",\"2020-05-25T00:00:00\",\"2020-06-01T00:00:00\",\"2020-06-08T00:00:00\",\"2020-06-15T00:00:00\",\"2020-06-22T00:00:00\",\"2020-06-29T00:00:00\",\"2020-07-06T00:00:00\",\"2020-07-13T00:00:00\",\"2020-07-20T00:00:00\",\"2020-07-27T00:00:00\"],\"y\":[3.455,2.281428571428571,5.777142857142857,12.212857142857144,24.634285714285713,41.68428571428571,53.16285714285714,47.55857142857143,32.01571428571428,21.814285714285713,20.068571428571428,21.97,24.59142857142857,27.138571428571428,30.3,32.77857142857143,35.16428571428572,38.10142857142857,41.01,43.76571428571429,46.46,48.45142857142857,49.87571428571429,52.23428571428571,54.36857142857143,55.35285714285715,56.645714285714284],\"type\":\"bar\"},{\"name\":\"Deaths \\u002f 100 Recovered\",\"x\":[\"2020-01-27T00:00:00\",\"2020-02-03T00:00:00\",\"2020-02-10T00:00:00\",\"2020-02-17T00:00:00\",\"2020-02-24T00:00:00\",\"2020-03-02T00:00:00\",\"2020-03-09T00:00:00\",\"2020-03-16T00:00:00\",\"2020-03-23T00:00:00\",\"2020-03-30T00:00:00\",\"2020-04-06T00:00:00\",\"2020-04-13T00:00:00\",\"2020-04-20T00:00:00\",\"2020-04-27T00:00:00\",\"2020-05-04T00:00:00\",\"2020-05-11T00:00:00\",\"2020-05-18T00:00:00\",\"2020-05-25T00:00:00\",\"2020-06-01T00:00:00\",\"2020-06-08T00:00:00\",\"2020-06-15T00:00:00\",\"2020-06-22T00:00:00\",\"2020-06-29T00:00:00\",\"2020-07-06T00:00:00\",\"2020-07-13T00:00:00\",\"2020-07-20T00:00:00\",\"2020-07-27T00:00:00\"],\"y\":[90.45666666666666,98.42,40.66142857142857,20.41142857142857,12.447142857142856,8.357142857142858,6.471428571428571,7.925714285714286,13.388571428571428,21.768571428571427,27.67142857142857,29.23,28.175714285714285,26.315714285714286,23.557142857142857,21.327142857142857,19.3,17.048571428571428,15.014285714285714,13.36,11.982857142857142,10.991428571428571,10.137142857142859,9.11,8.244285714285715,7.665714285714286,7.147142857142858],\"type\":\"bar\"}],                        {\"template\":{\"data\":{\"barpolar\":[{\"marker\":{\"line\":{\"color\":\"rgb(17,17,17)\",\"width\":0.5},\"pattern\":{\"fillmode\":\"overlay\",\"size\":10,\"solidity\":0.2}},\"type\":\"barpolar\"}],\"bar\":[{\"error_x\":{\"color\":\"#f2f5fa\"},\"error_y\":{\"color\":\"#f2f5fa\"},\"marker\":{\"line\":{\"color\":\"rgb(17,17,17)\",\"width\":0.5},\"pattern\":{\"fillmode\":\"overlay\",\"size\":10,\"solidity\":0.2}},\"type\":\"bar\"}],\"carpet\":[{\"aaxis\":{\"endlinecolor\":\"#A2B1C6\",\"gridcolor\":\"#506784\",\"linecolor\":\"#506784\",\"minorgridcolor\":\"#506784\",\"startlinecolor\":\"#A2B1C6\"},\"baxis\":{\"endlinecolor\":\"#A2B1C6\",\"gridcolor\":\"#506784\",\"linecolor\":\"#506784\",\"minorgridcolor\":\"#506784\",\"startlinecolor\":\"#A2B1C6\"},\"type\":\"carpet\"}],\"choropleth\":[{\"colorbar\":{\"outlinewidth\":0,\"ticks\":\"\"},\"type\":\"choropleth\"}],\"contourcarpet\":[{\"colorbar\":{\"outlinewidth\":0,\"ticks\":\"\"},\"type\":\"contourcarpet\"}],\"contour\":[{\"colorbar\":{\"outlinewidth\":0,\"ticks\":\"\"},\"colorscale\":[[0.0,\"#0d0887\"],[0.1111111111111111,\"#46039f\"],[0.2222222222222222,\"#7201a8\"],[0.3333333333333333,\"#9c179e\"],[0.4444444444444444,\"#bd3786\"],[0.5555555555555556,\"#d8576b\"],[0.6666666666666666,\"#ed7953\"],[0.7777777777777778,\"#fb9f3a\"],[0.8888888888888888,\"#fdca26\"],[1.0,\"#f0f921\"]],\"type\":\"contour\"}],\"heatmapgl\":[{\"colorbar\":{\"outlinewidth\":0,\"ticks\":\"\"},\"colorscale\":[[0.0,\"#0d0887\"],[0.1111111111111111,\"#46039f\"],[0.2222222222222222,\"#7201a8\"],[0.3333333333333333,\"#9c179e\"],[0.4444444444444444,\"#bd3786\"],[0.5555555555555556,\"#d8576b\"],[0.6666666666666666,\"#ed7953\"],[0.7777777777777778,\"#fb9f3a\"],[0.8888888888888888,\"#fdca26\"],[1.0,\"#f0f921\"]],\"type\":\"heatmapgl\"}],\"heatmap\":[{\"colorbar\":{\"outlinewidth\":0,\"ticks\":\"\"},\"colorscale\":[[0.0,\"#0d0887\"],[0.1111111111111111,\"#46039f\"],[0.2222222222222222,\"#7201a8\"],[0.3333333333333333,\"#9c179e\"],[0.4444444444444444,\"#bd3786\"],[0.5555555555555556,\"#d8576b\"],[0.6666666666666666,\"#ed7953\"],[0.7777777777777778,\"#fb9f3a\"],[0.8888888888888888,\"#fdca26\"],[1.0,\"#f0f921\"]],\"type\":\"heatmap\"}],\"histogram2dcontour\":[{\"colorbar\":{\"outlinewidth\":0,\"ticks\":\"\"},\"colorscale\":[[0.0,\"#0d0887\"],[0.1111111111111111,\"#46039f\"],[0.2222222222222222,\"#7201a8\"],[0.3333333333333333,\"#9c179e\"],[0.4444444444444444,\"#bd3786\"],[0.5555555555555556,\"#d8576b\"],[0.6666666666666666,\"#ed7953\"],[0.7777777777777778,\"#fb9f3a\"],[0.8888888888888888,\"#fdca26\"],[1.0,\"#f0f921\"]],\"type\":\"histogram2dcontour\"}],\"histogram2d\":[{\"colorbar\":{\"outlinewidth\":0,\"ticks\":\"\"},\"colorscale\":[[0.0,\"#0d0887\"],[0.1111111111111111,\"#46039f\"],[0.2222222222222222,\"#7201a8\"],[0.3333333333333333,\"#9c179e\"],[0.4444444444444444,\"#bd3786\"],[0.5555555555555556,\"#d8576b\"],[0.6666666666666666,\"#ed7953\"],[0.7777777777777778,\"#fb9f3a\"],[0.8888888888888888,\"#fdca26\"],[1.0,\"#f0f921\"]],\"type\":\"histogram2d\"}],\"histogram\":[{\"marker\":{\"pattern\":{\"fillmode\":\"overlay\",\"size\":10,\"solidity\":0.2}},\"type\":\"histogram\"}],\"mesh3d\":[{\"colorbar\":{\"outlinewidth\":0,\"ticks\":\"\"},\"type\":\"mesh3d\"}],\"parcoords\":[{\"line\":{\"colorbar\":{\"outlinewidth\":0,\"ticks\":\"\"}},\"type\":\"parcoords\"}],\"pie\":[{\"automargin\":true,\"type\":\"pie\"}],\"scatter3d\":[{\"line\":{\"colorbar\":{\"outlinewidth\":0,\"ticks\":\"\"}},\"marker\":{\"colorbar\":{\"outlinewidth\":0,\"ticks\":\"\"}},\"type\":\"scatter3d\"}],\"scattercarpet\":[{\"marker\":{\"colorbar\":{\"outlinewidth\":0,\"ticks\":\"\"}},\"type\":\"scattercarpet\"}],\"scattergeo\":[{\"marker\":{\"colorbar\":{\"outlinewidth\":0,\"ticks\":\"\"}},\"type\":\"scattergeo\"}],\"scattergl\":[{\"marker\":{\"line\":{\"color\":\"#283442\"}},\"type\":\"scattergl\"}],\"scattermapbox\":[{\"marker\":{\"colorbar\":{\"outlinewidth\":0,\"ticks\":\"\"}},\"type\":\"scattermapbox\"}],\"scatterpolargl\":[{\"marker\":{\"colorbar\":{\"outlinewidth\":0,\"ticks\":\"\"}},\"type\":\"scatterpolargl\"}],\"scatterpolar\":[{\"marker\":{\"colorbar\":{\"outlinewidth\":0,\"ticks\":\"\"}},\"type\":\"scatterpolar\"}],\"scatter\":[{\"marker\":{\"line\":{\"color\":\"#283442\"}},\"type\":\"scatter\"}],\"scatterternary\":[{\"marker\":{\"colorbar\":{\"outlinewidth\":0,\"ticks\":\"\"}},\"type\":\"scatterternary\"}],\"surface\":[{\"colorbar\":{\"outlinewidth\":0,\"ticks\":\"\"},\"colorscale\":[[0.0,\"#0d0887\"],[0.1111111111111111,\"#46039f\"],[0.2222222222222222,\"#7201a8\"],[0.3333333333333333,\"#9c179e\"],[0.4444444444444444,\"#bd3786\"],[0.5555555555555556,\"#d8576b\"],[0.6666666666666666,\"#ed7953\"],[0.7777777777777778,\"#fb9f3a\"],[0.8888888888888888,\"#fdca26\"],[1.0,\"#f0f921\"]],\"type\":\"surface\"}],\"table\":[{\"cells\":{\"fill\":{\"color\":\"#506784\"},\"line\":{\"color\":\"rgb(17,17,17)\"}},\"header\":{\"fill\":{\"color\":\"#2a3f5f\"},\"line\":{\"color\":\"rgb(17,17,17)\"}},\"type\":\"table\"}]},\"layout\":{\"annotationdefaults\":{\"arrowcolor\":\"#f2f5fa\",\"arrowhead\":0,\"arrowwidth\":1},\"autotypenumbers\":\"strict\",\"coloraxis\":{\"colorbar\":{\"outlinewidth\":0,\"ticks\":\"\"}},\"colorscale\":{\"diverging\":[[0,\"#8e0152\"],[0.1,\"#c51b7d\"],[0.2,\"#de77ae\"],[0.3,\"#f1b6da\"],[0.4,\"#fde0ef\"],[0.5,\"#f7f7f7\"],[0.6,\"#e6f5d0\"],[0.7,\"#b8e186\"],[0.8,\"#7fbc41\"],[0.9,\"#4d9221\"],[1,\"#276419\"]],\"sequential\":[[0.0,\"#0d0887\"],[0.1111111111111111,\"#46039f\"],[0.2222222222222222,\"#7201a8\"],[0.3333333333333333,\"#9c179e\"],[0.4444444444444444,\"#bd3786\"],[0.5555555555555556,\"#d8576b\"],[0.6666666666666666,\"#ed7953\"],[0.7777777777777778,\"#fb9f3a\"],[0.8888888888888888,\"#fdca26\"],[1.0,\"#f0f921\"]],\"sequentialminus\":[[0.0,\"#0d0887\"],[0.1111111111111111,\"#46039f\"],[0.2222222222222222,\"#7201a8\"],[0.3333333333333333,\"#9c179e\"],[0.4444444444444444,\"#bd3786\"],[0.5555555555555556,\"#d8576b\"],[0.6666666666666666,\"#ed7953\"],[0.7777777777777778,\"#fb9f3a\"],[0.8888888888888888,\"#fdca26\"],[1.0,\"#f0f921\"]]},\"colorway\":[\"#636efa\",\"#EF553B\",\"#00cc96\",\"#ab63fa\",\"#FFA15A\",\"#19d3f3\",\"#FF6692\",\"#B6E880\",\"#FF97FF\",\"#FECB52\"],\"font\":{\"color\":\"#f2f5fa\"},\"geo\":{\"bgcolor\":\"rgb(17,17,17)\",\"lakecolor\":\"rgb(17,17,17)\",\"landcolor\":\"rgb(17,17,17)\",\"showlakes\":true,\"showland\":true,\"subunitcolor\":\"#506784\"},\"hoverlabel\":{\"align\":\"left\"},\"hovermode\":\"closest\",\"mapbox\":{\"style\":\"dark\"},\"paper_bgcolor\":\"rgb(17,17,17)\",\"plot_bgcolor\":\"rgb(17,17,17)\",\"polar\":{\"angularaxis\":{\"gridcolor\":\"#506784\",\"linecolor\":\"#506784\",\"ticks\":\"\"},\"bgcolor\":\"rgb(17,17,17)\",\"radialaxis\":{\"gridcolor\":\"#506784\",\"linecolor\":\"#506784\",\"ticks\":\"\"}},\"scene\":{\"xaxis\":{\"backgroundcolor\":\"rgb(17,17,17)\",\"gridcolor\":\"#506784\",\"gridwidth\":2,\"linecolor\":\"#506784\",\"showbackground\":true,\"ticks\":\"\",\"zerolinecolor\":\"#C8D4E3\"},\"yaxis\":{\"backgroundcolor\":\"rgb(17,17,17)\",\"gridcolor\":\"#506784\",\"gridwidth\":2,\"linecolor\":\"#506784\",\"showbackground\":true,\"ticks\":\"\",\"zerolinecolor\":\"#C8D4E3\"},\"zaxis\":{\"backgroundcolor\":\"rgb(17,17,17)\",\"gridcolor\":\"#506784\",\"gridwidth\":2,\"linecolor\":\"#506784\",\"showbackground\":true,\"ticks\":\"\",\"zerolinecolor\":\"#C8D4E3\"}},\"shapedefaults\":{\"line\":{\"color\":\"#f2f5fa\"}},\"sliderdefaults\":{\"bgcolor\":\"#C8D4E3\",\"bordercolor\":\"rgb(17,17,17)\",\"borderwidth\":1,\"tickwidth\":0},\"ternary\":{\"aaxis\":{\"gridcolor\":\"#506784\",\"linecolor\":\"#506784\",\"ticks\":\"\"},\"baxis\":{\"gridcolor\":\"#506784\",\"linecolor\":\"#506784\",\"ticks\":\"\"},\"bgcolor\":\"rgb(17,17,17)\",\"caxis\":{\"gridcolor\":\"#506784\",\"linecolor\":\"#506784\",\"ticks\":\"\"}},\"title\":{\"x\":0.05},\"updatemenudefaults\":{\"bgcolor\":\"#506784\",\"borderwidth\":0},\"xaxis\":{\"automargin\":true,\"gridcolor\":\"#283442\",\"linecolor\":\"#506784\",\"ticks\":\"\",\"title\":{\"standoff\":15},\"zerolinecolor\":\"#283442\",\"zerolinewidth\":2},\"yaxis\":{\"automargin\":true,\"gridcolor\":\"#283442\",\"linecolor\":\"#506784\",\"ticks\":\"\",\"title\":{\"standoff\":15},\"zerolinecolor\":\"#283442\",\"zerolinewidth\":2}}},\"title\":{\"text\":\"Rolling Sum for Per 100\"},\"xaxis\":{\"title\":{\"text\":\"Date\"}},\"yaxis\":{\"title\":{\"text\":\"Count\"}},\"barmode\":\"stack\"},                        {\"responsive\": true}                    ).then(function(){\n",
       "                            \n",
       "var gd = document.getElementById('a905d09f-b7e4-4a56-9132-8ea428ed2a1b');\n",
       "var x = new MutationObserver(function (mutations, observer) {{\n",
       "        var display = window.getComputedStyle(gd).display;\n",
       "        if (!display || display === 'none') {{\n",
       "            console.log([gd, 'removed!']);\n",
       "            Plotly.purge(gd);\n",
       "            observer.disconnect();\n",
       "        }}\n",
       "}});\n",
       "\n",
       "// Listen for the removal of the full notebook cells\n",
       "var notebookContainer = gd.closest('#notebook-container');\n",
       "if (notebookContainer) {{\n",
       "    x.observe(notebookContainer, {childList: true});\n",
       "}}\n",
       "\n",
       "// Listen for the clearing of the current output cell\n",
       "var outputEl = gd.closest('.output');\n",
       "if (outputEl) {{\n",
       "    x.observe(outputEl, {childList: true});\n",
       "}}\n",
       "\n",
       "                        })                };                });            </script>        </div>"
      ]
     },
     "metadata": {},
     "output_type": "display_data"
    },
    {
     "data": {
      "text/html": [
       "<div>                            <div id=\"2e68f8c2-f82e-4377-8c55-e6d854f0e715\" class=\"plotly-graph-div\" style=\"height:525px; width:100%;\"></div>            <script type=\"text/javascript\">                require([\"plotly\"], function(Plotly) {                    window.PLOTLYENV=window.PLOTLYENV || {};                                    if (document.getElementById(\"2e68f8c2-f82e-4377-8c55-e6d854f0e715\")) {                    Plotly.newPlot(                        \"2e68f8c2-f82e-4377-8c55-e6d854f0e715\",                        [{\"name\":\"No. of countries\",\"x\":[\"2020-01-27T00:00:00\",\"2020-02-03T00:00:00\",\"2020-02-10T00:00:00\",\"2020-02-17T00:00:00\",\"2020-02-24T00:00:00\",\"2020-03-02T00:00:00\",\"2020-03-09T00:00:00\",\"2020-03-16T00:00:00\",\"2020-03-23T00:00:00\",\"2020-03-30T00:00:00\",\"2020-04-06T00:00:00\",\"2020-04-13T00:00:00\",\"2020-04-20T00:00:00\",\"2020-04-27T00:00:00\",\"2020-05-04T00:00:00\",\"2020-05-11T00:00:00\",\"2020-05-18T00:00:00\",\"2020-05-25T00:00:00\",\"2020-06-01T00:00:00\",\"2020-06-08T00:00:00\",\"2020-06-15T00:00:00\",\"2020-06-22T00:00:00\",\"2020-06-29T00:00:00\",\"2020-07-06T00:00:00\",\"2020-07-13T00:00:00\",\"2020-07-20T00:00:00\",\"2020-07-27T00:00:00\"],\"y\":[10.5,21.857142857142858,26.0,26.571428571428573,30.0,56.57142857142857,89.71428571428571,123.14285714285714,158.71428571428572,175.0,180.42857142857142,183.57142857142858,184.0,184.0,185.42857142857142,186.0,186.85714285714286,187.0,187.0,187.0,187.0,187.0,187.0,187.0,187.0,187.0,187.0],\"type\":\"bar\"}],                        {\"template\":{\"data\":{\"barpolar\":[{\"marker\":{\"line\":{\"color\":\"rgb(17,17,17)\",\"width\":0.5},\"pattern\":{\"fillmode\":\"overlay\",\"size\":10,\"solidity\":0.2}},\"type\":\"barpolar\"}],\"bar\":[{\"error_x\":{\"color\":\"#f2f5fa\"},\"error_y\":{\"color\":\"#f2f5fa\"},\"marker\":{\"line\":{\"color\":\"rgb(17,17,17)\",\"width\":0.5},\"pattern\":{\"fillmode\":\"overlay\",\"size\":10,\"solidity\":0.2}},\"type\":\"bar\"}],\"carpet\":[{\"aaxis\":{\"endlinecolor\":\"#A2B1C6\",\"gridcolor\":\"#506784\",\"linecolor\":\"#506784\",\"minorgridcolor\":\"#506784\",\"startlinecolor\":\"#A2B1C6\"},\"baxis\":{\"endlinecolor\":\"#A2B1C6\",\"gridcolor\":\"#506784\",\"linecolor\":\"#506784\",\"minorgridcolor\":\"#506784\",\"startlinecolor\":\"#A2B1C6\"},\"type\":\"carpet\"}],\"choropleth\":[{\"colorbar\":{\"outlinewidth\":0,\"ticks\":\"\"},\"type\":\"choropleth\"}],\"contourcarpet\":[{\"colorbar\":{\"outlinewidth\":0,\"ticks\":\"\"},\"type\":\"contourcarpet\"}],\"contour\":[{\"colorbar\":{\"outlinewidth\":0,\"ticks\":\"\"},\"colorscale\":[[0.0,\"#0d0887\"],[0.1111111111111111,\"#46039f\"],[0.2222222222222222,\"#7201a8\"],[0.3333333333333333,\"#9c179e\"],[0.4444444444444444,\"#bd3786\"],[0.5555555555555556,\"#d8576b\"],[0.6666666666666666,\"#ed7953\"],[0.7777777777777778,\"#fb9f3a\"],[0.8888888888888888,\"#fdca26\"],[1.0,\"#f0f921\"]],\"type\":\"contour\"}],\"heatmapgl\":[{\"colorbar\":{\"outlinewidth\":0,\"ticks\":\"\"},\"colorscale\":[[0.0,\"#0d0887\"],[0.1111111111111111,\"#46039f\"],[0.2222222222222222,\"#7201a8\"],[0.3333333333333333,\"#9c179e\"],[0.4444444444444444,\"#bd3786\"],[0.5555555555555556,\"#d8576b\"],[0.6666666666666666,\"#ed7953\"],[0.7777777777777778,\"#fb9f3a\"],[0.8888888888888888,\"#fdca26\"],[1.0,\"#f0f921\"]],\"type\":\"heatmapgl\"}],\"heatmap\":[{\"colorbar\":{\"outlinewidth\":0,\"ticks\":\"\"},\"colorscale\":[[0.0,\"#0d0887\"],[0.1111111111111111,\"#46039f\"],[0.2222222222222222,\"#7201a8\"],[0.3333333333333333,\"#9c179e\"],[0.4444444444444444,\"#bd3786\"],[0.5555555555555556,\"#d8576b\"],[0.6666666666666666,\"#ed7953\"],[0.7777777777777778,\"#fb9f3a\"],[0.8888888888888888,\"#fdca26\"],[1.0,\"#f0f921\"]],\"type\":\"heatmap\"}],\"histogram2dcontour\":[{\"colorbar\":{\"outlinewidth\":0,\"ticks\":\"\"},\"colorscale\":[[0.0,\"#0d0887\"],[0.1111111111111111,\"#46039f\"],[0.2222222222222222,\"#7201a8\"],[0.3333333333333333,\"#9c179e\"],[0.4444444444444444,\"#bd3786\"],[0.5555555555555556,\"#d8576b\"],[0.6666666666666666,\"#ed7953\"],[0.7777777777777778,\"#fb9f3a\"],[0.8888888888888888,\"#fdca26\"],[1.0,\"#f0f921\"]],\"type\":\"histogram2dcontour\"}],\"histogram2d\":[{\"colorbar\":{\"outlinewidth\":0,\"ticks\":\"\"},\"colorscale\":[[0.0,\"#0d0887\"],[0.1111111111111111,\"#46039f\"],[0.2222222222222222,\"#7201a8\"],[0.3333333333333333,\"#9c179e\"],[0.4444444444444444,\"#bd3786\"],[0.5555555555555556,\"#d8576b\"],[0.6666666666666666,\"#ed7953\"],[0.7777777777777778,\"#fb9f3a\"],[0.8888888888888888,\"#fdca26\"],[1.0,\"#f0f921\"]],\"type\":\"histogram2d\"}],\"histogram\":[{\"marker\":{\"pattern\":{\"fillmode\":\"overlay\",\"size\":10,\"solidity\":0.2}},\"type\":\"histogram\"}],\"mesh3d\":[{\"colorbar\":{\"outlinewidth\":0,\"ticks\":\"\"},\"type\":\"mesh3d\"}],\"parcoords\":[{\"line\":{\"colorbar\":{\"outlinewidth\":0,\"ticks\":\"\"}},\"type\":\"parcoords\"}],\"pie\":[{\"automargin\":true,\"type\":\"pie\"}],\"scatter3d\":[{\"line\":{\"colorbar\":{\"outlinewidth\":0,\"ticks\":\"\"}},\"marker\":{\"colorbar\":{\"outlinewidth\":0,\"ticks\":\"\"}},\"type\":\"scatter3d\"}],\"scattercarpet\":[{\"marker\":{\"colorbar\":{\"outlinewidth\":0,\"ticks\":\"\"}},\"type\":\"scattercarpet\"}],\"scattergeo\":[{\"marker\":{\"colorbar\":{\"outlinewidth\":0,\"ticks\":\"\"}},\"type\":\"scattergeo\"}],\"scattergl\":[{\"marker\":{\"line\":{\"color\":\"#283442\"}},\"type\":\"scattergl\"}],\"scattermapbox\":[{\"marker\":{\"colorbar\":{\"outlinewidth\":0,\"ticks\":\"\"}},\"type\":\"scattermapbox\"}],\"scatterpolargl\":[{\"marker\":{\"colorbar\":{\"outlinewidth\":0,\"ticks\":\"\"}},\"type\":\"scatterpolargl\"}],\"scatterpolar\":[{\"marker\":{\"colorbar\":{\"outlinewidth\":0,\"ticks\":\"\"}},\"type\":\"scatterpolar\"}],\"scatter\":[{\"marker\":{\"line\":{\"color\":\"#283442\"}},\"type\":\"scatter\"}],\"scatterternary\":[{\"marker\":{\"colorbar\":{\"outlinewidth\":0,\"ticks\":\"\"}},\"type\":\"scatterternary\"}],\"surface\":[{\"colorbar\":{\"outlinewidth\":0,\"ticks\":\"\"},\"colorscale\":[[0.0,\"#0d0887\"],[0.1111111111111111,\"#46039f\"],[0.2222222222222222,\"#7201a8\"],[0.3333333333333333,\"#9c179e\"],[0.4444444444444444,\"#bd3786\"],[0.5555555555555556,\"#d8576b\"],[0.6666666666666666,\"#ed7953\"],[0.7777777777777778,\"#fb9f3a\"],[0.8888888888888888,\"#fdca26\"],[1.0,\"#f0f921\"]],\"type\":\"surface\"}],\"table\":[{\"cells\":{\"fill\":{\"color\":\"#506784\"},\"line\":{\"color\":\"rgb(17,17,17)\"}},\"header\":{\"fill\":{\"color\":\"#2a3f5f\"},\"line\":{\"color\":\"rgb(17,17,17)\"}},\"type\":\"table\"}]},\"layout\":{\"annotationdefaults\":{\"arrowcolor\":\"#f2f5fa\",\"arrowhead\":0,\"arrowwidth\":1},\"autotypenumbers\":\"strict\",\"coloraxis\":{\"colorbar\":{\"outlinewidth\":0,\"ticks\":\"\"}},\"colorscale\":{\"diverging\":[[0,\"#8e0152\"],[0.1,\"#c51b7d\"],[0.2,\"#de77ae\"],[0.3,\"#f1b6da\"],[0.4,\"#fde0ef\"],[0.5,\"#f7f7f7\"],[0.6,\"#e6f5d0\"],[0.7,\"#b8e186\"],[0.8,\"#7fbc41\"],[0.9,\"#4d9221\"],[1,\"#276419\"]],\"sequential\":[[0.0,\"#0d0887\"],[0.1111111111111111,\"#46039f\"],[0.2222222222222222,\"#7201a8\"],[0.3333333333333333,\"#9c179e\"],[0.4444444444444444,\"#bd3786\"],[0.5555555555555556,\"#d8576b\"],[0.6666666666666666,\"#ed7953\"],[0.7777777777777778,\"#fb9f3a\"],[0.8888888888888888,\"#fdca26\"],[1.0,\"#f0f921\"]],\"sequentialminus\":[[0.0,\"#0d0887\"],[0.1111111111111111,\"#46039f\"],[0.2222222222222222,\"#7201a8\"],[0.3333333333333333,\"#9c179e\"],[0.4444444444444444,\"#bd3786\"],[0.5555555555555556,\"#d8576b\"],[0.6666666666666666,\"#ed7953\"],[0.7777777777777778,\"#fb9f3a\"],[0.8888888888888888,\"#fdca26\"],[1.0,\"#f0f921\"]]},\"colorway\":[\"#636efa\",\"#EF553B\",\"#00cc96\",\"#ab63fa\",\"#FFA15A\",\"#19d3f3\",\"#FF6692\",\"#B6E880\",\"#FF97FF\",\"#FECB52\"],\"font\":{\"color\":\"#f2f5fa\"},\"geo\":{\"bgcolor\":\"rgb(17,17,17)\",\"lakecolor\":\"rgb(17,17,17)\",\"landcolor\":\"rgb(17,17,17)\",\"showlakes\":true,\"showland\":true,\"subunitcolor\":\"#506784\"},\"hoverlabel\":{\"align\":\"left\"},\"hovermode\":\"closest\",\"mapbox\":{\"style\":\"dark\"},\"paper_bgcolor\":\"rgb(17,17,17)\",\"plot_bgcolor\":\"rgb(17,17,17)\",\"polar\":{\"angularaxis\":{\"gridcolor\":\"#506784\",\"linecolor\":\"#506784\",\"ticks\":\"\"},\"bgcolor\":\"rgb(17,17,17)\",\"radialaxis\":{\"gridcolor\":\"#506784\",\"linecolor\":\"#506784\",\"ticks\":\"\"}},\"scene\":{\"xaxis\":{\"backgroundcolor\":\"rgb(17,17,17)\",\"gridcolor\":\"#506784\",\"gridwidth\":2,\"linecolor\":\"#506784\",\"showbackground\":true,\"ticks\":\"\",\"zerolinecolor\":\"#C8D4E3\"},\"yaxis\":{\"backgroundcolor\":\"rgb(17,17,17)\",\"gridcolor\":\"#506784\",\"gridwidth\":2,\"linecolor\":\"#506784\",\"showbackground\":true,\"ticks\":\"\",\"zerolinecolor\":\"#C8D4E3\"},\"zaxis\":{\"backgroundcolor\":\"rgb(17,17,17)\",\"gridcolor\":\"#506784\",\"gridwidth\":2,\"linecolor\":\"#506784\",\"showbackground\":true,\"ticks\":\"\",\"zerolinecolor\":\"#C8D4E3\"}},\"shapedefaults\":{\"line\":{\"color\":\"#f2f5fa\"}},\"sliderdefaults\":{\"bgcolor\":\"#C8D4E3\",\"bordercolor\":\"rgb(17,17,17)\",\"borderwidth\":1,\"tickwidth\":0},\"ternary\":{\"aaxis\":{\"gridcolor\":\"#506784\",\"linecolor\":\"#506784\",\"ticks\":\"\"},\"baxis\":{\"gridcolor\":\"#506784\",\"linecolor\":\"#506784\",\"ticks\":\"\"},\"bgcolor\":\"rgb(17,17,17)\",\"caxis\":{\"gridcolor\":\"#506784\",\"linecolor\":\"#506784\",\"ticks\":\"\"}},\"title\":{\"x\":0.05},\"updatemenudefaults\":{\"bgcolor\":\"#506784\",\"borderwidth\":0},\"xaxis\":{\"automargin\":true,\"gridcolor\":\"#283442\",\"linecolor\":\"#506784\",\"ticks\":\"\",\"title\":{\"standoff\":15},\"zerolinecolor\":\"#283442\",\"zerolinewidth\":2},\"yaxis\":{\"automargin\":true,\"gridcolor\":\"#283442\",\"linecolor\":\"#506784\",\"ticks\":\"\",\"title\":{\"standoff\":15},\"zerolinecolor\":\"#283442\",\"zerolinewidth\":2}}},\"title\":{\"text\":\"Rolling Sum for Number of Countries Affected\"},\"xaxis\":{\"title\":{\"text\":\"Date\"}},\"yaxis\":{\"title\":{\"text\":\"Count\"}},\"barmode\":\"stack\"},                        {\"responsive\": true}                    ).then(function(){\n",
       "                            \n",
       "var gd = document.getElementById('2e68f8c2-f82e-4377-8c55-e6d854f0e715');\n",
       "var x = new MutationObserver(function (mutations, observer) {{\n",
       "        var display = window.getComputedStyle(gd).display;\n",
       "        if (!display || display === 'none') {{\n",
       "            console.log([gd, 'removed!']);\n",
       "            Plotly.purge(gd);\n",
       "            observer.disconnect();\n",
       "        }}\n",
       "}});\n",
       "\n",
       "// Listen for the removal of the full notebook cells\n",
       "var notebookContainer = gd.closest('#notebook-container');\n",
       "if (notebookContainer) {{\n",
       "    x.observe(notebookContainer, {childList: true});\n",
       "}}\n",
       "\n",
       "// Listen for the clearing of the current output cell\n",
       "var outputEl = gd.closest('.output');\n",
       "if (outputEl) {{\n",
       "    x.observe(outputEl, {childList: true});\n",
       "}}\n",
       "\n",
       "                        })                };                });            </script>        </div>"
      ]
     },
     "metadata": {},
     "output_type": "display_data"
    }
   ],
   "source": [
    "for col_title, col in cols.items():\n",
    "\n",
    "    # Create a figure with multiple traces for each column\n",
    "    fig = go.Figure()\n",
    "\n",
    "    # Add traces for each column\n",
    "    for c in col:\n",
    "        fig.add_trace(go.Bar(x=df['Date'], y=df[c], name=c))\n",
    "\n",
    "    # Customize the layout\n",
    "    fig.update_layout(title=f'Rolling Sum for {col_title}',\n",
    "                    xaxis_title='Date',\n",
    "                    yaxis_title='Count',\n",
    "                    template='plotly_dark',  # You can change the template based on your preference\n",
    "                    barmode='stack',  # 'stack' for stacked bars, 'group' for grouped bars\n",
    "                    )\n",
    "\n",
    "    # Show the figure\n",
    "    fig.show()"
   ]
  },
  {
   "cell_type": "markdown",
   "id": "134341a6",
   "metadata": {
    "papermill": {
     "duration": 0.02454,
     "end_time": "2024-01-25T10:44:37.401241",
     "exception": false,
     "start_time": "2024-01-25T10:44:37.376701",
     "status": "completed"
    },
    "tags": []
   },
   "source": [
    "# Visualization By Country\n",
    "Cases across different countries as of latest date"
   ]
  },
  {
   "cell_type": "code",
   "execution_count": 28,
   "id": "9f9f8760",
   "metadata": {
    "execution": {
     "iopub.execute_input": "2024-01-25T10:44:37.453128Z",
     "iopub.status.busy": "2024-01-25T10:44:37.452631Z",
     "iopub.status.idle": "2024-01-25T10:44:37.459999Z",
     "shell.execute_reply": "2024-01-25T10:44:37.459027Z"
    },
    "papermill": {
     "duration": 0.035398,
     "end_time": "2024-01-25T10:44:37.462474",
     "exception": false,
     "start_time": "2024-01-25T10:44:37.427076",
     "status": "completed"
    },
    "tags": []
   },
   "outputs": [],
   "source": [
    "k = 5   # show only top k countries\n",
    "\n",
    "# Sort DataFrame by 'Confirmed' column in descending order\n",
    "df_country_sorted = df_country.sort_values(by='Confirmed', ascending=False)\n",
    "\n",
    "# Select the top 10 countries\n",
    "top_countries = df_country_sorted.head(k)"
   ]
  },
  {
   "cell_type": "code",
   "execution_count": 29,
   "id": "f8708b0a",
   "metadata": {
    "execution": {
     "iopub.execute_input": "2024-01-25T10:44:37.513820Z",
     "iopub.status.busy": "2024-01-25T10:44:37.512538Z",
     "iopub.status.idle": "2024-01-25T10:44:37.609315Z",
     "shell.execute_reply": "2024-01-25T10:44:37.608468Z"
    },
    "papermill": {
     "duration": 0.125263,
     "end_time": "2024-01-25T10:44:37.611962",
     "exception": false,
     "start_time": "2024-01-25T10:44:37.486699",
     "status": "completed"
    },
    "tags": []
   },
   "outputs": [
    {
     "data": {
      "text/html": [
       "<div>                            <div id=\"93c23ea6-97f0-4270-a788-a0e1e3f349e2\" class=\"plotly-graph-div\" style=\"height:525px; width:100%;\"></div>            <script type=\"text/javascript\">                require([\"plotly\"], function(Plotly) {                    window.PLOTLYENV=window.PLOTLYENV || {};                                    if (document.getElementById(\"93c23ea6-97f0-4270-a788-a0e1e3f349e2\")) {                    Plotly.newPlot(                        \"93c23ea6-97f0-4270-a788-a0e1e3f349e2\",                        [{\"domain\":{\"x\":[0.0,1.0],\"y\":[0.0,1.0]},\"hovertemplate\":\"Country\\u002fRegion=%{label}\\u003cbr\\u003eConfirmed=%{value}\\u003cextra\\u003e\\u003c\\u002fextra\\u003e\",\"labels\":[\"US\",\"Brazil\",\"India\",\"Russia\",\"South Africa\"],\"legendgroup\":\"\",\"name\":\"\",\"showlegend\":true,\"values\":[4290259,2442375,1480073,816680,452529],\"type\":\"pie\"}],                        {\"template\":{\"data\":{\"barpolar\":[{\"marker\":{\"line\":{\"color\":\"rgb(17,17,17)\",\"width\":0.5},\"pattern\":{\"fillmode\":\"overlay\",\"size\":10,\"solidity\":0.2}},\"type\":\"barpolar\"}],\"bar\":[{\"error_x\":{\"color\":\"#f2f5fa\"},\"error_y\":{\"color\":\"#f2f5fa\"},\"marker\":{\"line\":{\"color\":\"rgb(17,17,17)\",\"width\":0.5},\"pattern\":{\"fillmode\":\"overlay\",\"size\":10,\"solidity\":0.2}},\"type\":\"bar\"}],\"carpet\":[{\"aaxis\":{\"endlinecolor\":\"#A2B1C6\",\"gridcolor\":\"#506784\",\"linecolor\":\"#506784\",\"minorgridcolor\":\"#506784\",\"startlinecolor\":\"#A2B1C6\"},\"baxis\":{\"endlinecolor\":\"#A2B1C6\",\"gridcolor\":\"#506784\",\"linecolor\":\"#506784\",\"minorgridcolor\":\"#506784\",\"startlinecolor\":\"#A2B1C6\"},\"type\":\"carpet\"}],\"choropleth\":[{\"colorbar\":{\"outlinewidth\":0,\"ticks\":\"\"},\"type\":\"choropleth\"}],\"contourcarpet\":[{\"colorbar\":{\"outlinewidth\":0,\"ticks\":\"\"},\"type\":\"contourcarpet\"}],\"contour\":[{\"colorbar\":{\"outlinewidth\":0,\"ticks\":\"\"},\"colorscale\":[[0.0,\"#0d0887\"],[0.1111111111111111,\"#46039f\"],[0.2222222222222222,\"#7201a8\"],[0.3333333333333333,\"#9c179e\"],[0.4444444444444444,\"#bd3786\"],[0.5555555555555556,\"#d8576b\"],[0.6666666666666666,\"#ed7953\"],[0.7777777777777778,\"#fb9f3a\"],[0.8888888888888888,\"#fdca26\"],[1.0,\"#f0f921\"]],\"type\":\"contour\"}],\"heatmapgl\":[{\"colorbar\":{\"outlinewidth\":0,\"ticks\":\"\"},\"colorscale\":[[0.0,\"#0d0887\"],[0.1111111111111111,\"#46039f\"],[0.2222222222222222,\"#7201a8\"],[0.3333333333333333,\"#9c179e\"],[0.4444444444444444,\"#bd3786\"],[0.5555555555555556,\"#d8576b\"],[0.6666666666666666,\"#ed7953\"],[0.7777777777777778,\"#fb9f3a\"],[0.8888888888888888,\"#fdca26\"],[1.0,\"#f0f921\"]],\"type\":\"heatmapgl\"}],\"heatmap\":[{\"colorbar\":{\"outlinewidth\":0,\"ticks\":\"\"},\"colorscale\":[[0.0,\"#0d0887\"],[0.1111111111111111,\"#46039f\"],[0.2222222222222222,\"#7201a8\"],[0.3333333333333333,\"#9c179e\"],[0.4444444444444444,\"#bd3786\"],[0.5555555555555556,\"#d8576b\"],[0.6666666666666666,\"#ed7953\"],[0.7777777777777778,\"#fb9f3a\"],[0.8888888888888888,\"#fdca26\"],[1.0,\"#f0f921\"]],\"type\":\"heatmap\"}],\"histogram2dcontour\":[{\"colorbar\":{\"outlinewidth\":0,\"ticks\":\"\"},\"colorscale\":[[0.0,\"#0d0887\"],[0.1111111111111111,\"#46039f\"],[0.2222222222222222,\"#7201a8\"],[0.3333333333333333,\"#9c179e\"],[0.4444444444444444,\"#bd3786\"],[0.5555555555555556,\"#d8576b\"],[0.6666666666666666,\"#ed7953\"],[0.7777777777777778,\"#fb9f3a\"],[0.8888888888888888,\"#fdca26\"],[1.0,\"#f0f921\"]],\"type\":\"histogram2dcontour\"}],\"histogram2d\":[{\"colorbar\":{\"outlinewidth\":0,\"ticks\":\"\"},\"colorscale\":[[0.0,\"#0d0887\"],[0.1111111111111111,\"#46039f\"],[0.2222222222222222,\"#7201a8\"],[0.3333333333333333,\"#9c179e\"],[0.4444444444444444,\"#bd3786\"],[0.5555555555555556,\"#d8576b\"],[0.6666666666666666,\"#ed7953\"],[0.7777777777777778,\"#fb9f3a\"],[0.8888888888888888,\"#fdca26\"],[1.0,\"#f0f921\"]],\"type\":\"histogram2d\"}],\"histogram\":[{\"marker\":{\"pattern\":{\"fillmode\":\"overlay\",\"size\":10,\"solidity\":0.2}},\"type\":\"histogram\"}],\"mesh3d\":[{\"colorbar\":{\"outlinewidth\":0,\"ticks\":\"\"},\"type\":\"mesh3d\"}],\"parcoords\":[{\"line\":{\"colorbar\":{\"outlinewidth\":0,\"ticks\":\"\"}},\"type\":\"parcoords\"}],\"pie\":[{\"automargin\":true,\"type\":\"pie\"}],\"scatter3d\":[{\"line\":{\"colorbar\":{\"outlinewidth\":0,\"ticks\":\"\"}},\"marker\":{\"colorbar\":{\"outlinewidth\":0,\"ticks\":\"\"}},\"type\":\"scatter3d\"}],\"scattercarpet\":[{\"marker\":{\"colorbar\":{\"outlinewidth\":0,\"ticks\":\"\"}},\"type\":\"scattercarpet\"}],\"scattergeo\":[{\"marker\":{\"colorbar\":{\"outlinewidth\":0,\"ticks\":\"\"}},\"type\":\"scattergeo\"}],\"scattergl\":[{\"marker\":{\"line\":{\"color\":\"#283442\"}},\"type\":\"scattergl\"}],\"scattermapbox\":[{\"marker\":{\"colorbar\":{\"outlinewidth\":0,\"ticks\":\"\"}},\"type\":\"scattermapbox\"}],\"scatterpolargl\":[{\"marker\":{\"colorbar\":{\"outlinewidth\":0,\"ticks\":\"\"}},\"type\":\"scatterpolargl\"}],\"scatterpolar\":[{\"marker\":{\"colorbar\":{\"outlinewidth\":0,\"ticks\":\"\"}},\"type\":\"scatterpolar\"}],\"scatter\":[{\"marker\":{\"line\":{\"color\":\"#283442\"}},\"type\":\"scatter\"}],\"scatterternary\":[{\"marker\":{\"colorbar\":{\"outlinewidth\":0,\"ticks\":\"\"}},\"type\":\"scatterternary\"}],\"surface\":[{\"colorbar\":{\"outlinewidth\":0,\"ticks\":\"\"},\"colorscale\":[[0.0,\"#0d0887\"],[0.1111111111111111,\"#46039f\"],[0.2222222222222222,\"#7201a8\"],[0.3333333333333333,\"#9c179e\"],[0.4444444444444444,\"#bd3786\"],[0.5555555555555556,\"#d8576b\"],[0.6666666666666666,\"#ed7953\"],[0.7777777777777778,\"#fb9f3a\"],[0.8888888888888888,\"#fdca26\"],[1.0,\"#f0f921\"]],\"type\":\"surface\"}],\"table\":[{\"cells\":{\"fill\":{\"color\":\"#506784\"},\"line\":{\"color\":\"rgb(17,17,17)\"}},\"header\":{\"fill\":{\"color\":\"#2a3f5f\"},\"line\":{\"color\":\"rgb(17,17,17)\"}},\"type\":\"table\"}]},\"layout\":{\"annotationdefaults\":{\"arrowcolor\":\"#f2f5fa\",\"arrowhead\":0,\"arrowwidth\":1},\"autotypenumbers\":\"strict\",\"coloraxis\":{\"colorbar\":{\"outlinewidth\":0,\"ticks\":\"\"}},\"colorscale\":{\"diverging\":[[0,\"#8e0152\"],[0.1,\"#c51b7d\"],[0.2,\"#de77ae\"],[0.3,\"#f1b6da\"],[0.4,\"#fde0ef\"],[0.5,\"#f7f7f7\"],[0.6,\"#e6f5d0\"],[0.7,\"#b8e186\"],[0.8,\"#7fbc41\"],[0.9,\"#4d9221\"],[1,\"#276419\"]],\"sequential\":[[0.0,\"#0d0887\"],[0.1111111111111111,\"#46039f\"],[0.2222222222222222,\"#7201a8\"],[0.3333333333333333,\"#9c179e\"],[0.4444444444444444,\"#bd3786\"],[0.5555555555555556,\"#d8576b\"],[0.6666666666666666,\"#ed7953\"],[0.7777777777777778,\"#fb9f3a\"],[0.8888888888888888,\"#fdca26\"],[1.0,\"#f0f921\"]],\"sequentialminus\":[[0.0,\"#0d0887\"],[0.1111111111111111,\"#46039f\"],[0.2222222222222222,\"#7201a8\"],[0.3333333333333333,\"#9c179e\"],[0.4444444444444444,\"#bd3786\"],[0.5555555555555556,\"#d8576b\"],[0.6666666666666666,\"#ed7953\"],[0.7777777777777778,\"#fb9f3a\"],[0.8888888888888888,\"#fdca26\"],[1.0,\"#f0f921\"]]},\"colorway\":[\"#636efa\",\"#EF553B\",\"#00cc96\",\"#ab63fa\",\"#FFA15A\",\"#19d3f3\",\"#FF6692\",\"#B6E880\",\"#FF97FF\",\"#FECB52\"],\"font\":{\"color\":\"#f2f5fa\"},\"geo\":{\"bgcolor\":\"rgb(17,17,17)\",\"lakecolor\":\"rgb(17,17,17)\",\"landcolor\":\"rgb(17,17,17)\",\"showlakes\":true,\"showland\":true,\"subunitcolor\":\"#506784\"},\"hoverlabel\":{\"align\":\"left\"},\"hovermode\":\"closest\",\"mapbox\":{\"style\":\"dark\"},\"paper_bgcolor\":\"rgb(17,17,17)\",\"plot_bgcolor\":\"rgb(17,17,17)\",\"polar\":{\"angularaxis\":{\"gridcolor\":\"#506784\",\"linecolor\":\"#506784\",\"ticks\":\"\"},\"bgcolor\":\"rgb(17,17,17)\",\"radialaxis\":{\"gridcolor\":\"#506784\",\"linecolor\":\"#506784\",\"ticks\":\"\"}},\"scene\":{\"xaxis\":{\"backgroundcolor\":\"rgb(17,17,17)\",\"gridcolor\":\"#506784\",\"gridwidth\":2,\"linecolor\":\"#506784\",\"showbackground\":true,\"ticks\":\"\",\"zerolinecolor\":\"#C8D4E3\"},\"yaxis\":{\"backgroundcolor\":\"rgb(17,17,17)\",\"gridcolor\":\"#506784\",\"gridwidth\":2,\"linecolor\":\"#506784\",\"showbackground\":true,\"ticks\":\"\",\"zerolinecolor\":\"#C8D4E3\"},\"zaxis\":{\"backgroundcolor\":\"rgb(17,17,17)\",\"gridcolor\":\"#506784\",\"gridwidth\":2,\"linecolor\":\"#506784\",\"showbackground\":true,\"ticks\":\"\",\"zerolinecolor\":\"#C8D4E3\"}},\"shapedefaults\":{\"line\":{\"color\":\"#f2f5fa\"}},\"sliderdefaults\":{\"bgcolor\":\"#C8D4E3\",\"bordercolor\":\"rgb(17,17,17)\",\"borderwidth\":1,\"tickwidth\":0},\"ternary\":{\"aaxis\":{\"gridcolor\":\"#506784\",\"linecolor\":\"#506784\",\"ticks\":\"\"},\"baxis\":{\"gridcolor\":\"#506784\",\"linecolor\":\"#506784\",\"ticks\":\"\"},\"bgcolor\":\"rgb(17,17,17)\",\"caxis\":{\"gridcolor\":\"#506784\",\"linecolor\":\"#506784\",\"ticks\":\"\"}},\"title\":{\"x\":0.05},\"updatemenudefaults\":{\"bgcolor\":\"#506784\",\"borderwidth\":0},\"xaxis\":{\"automargin\":true,\"gridcolor\":\"#283442\",\"linecolor\":\"#506784\",\"ticks\":\"\",\"title\":{\"standoff\":15},\"zerolinecolor\":\"#283442\",\"zerolinewidth\":2},\"yaxis\":{\"automargin\":true,\"gridcolor\":\"#283442\",\"linecolor\":\"#506784\",\"ticks\":\"\",\"title\":{\"standoff\":15},\"zerolinecolor\":\"#283442\",\"zerolinewidth\":2}}},\"legend\":{\"tracegroupgap\":0},\"title\":{\"text\":\"Top 5 Countries by Confirmed Cases\"}},                        {\"responsive\": true}                    ).then(function(){\n",
       "                            \n",
       "var gd = document.getElementById('93c23ea6-97f0-4270-a788-a0e1e3f349e2');\n",
       "var x = new MutationObserver(function (mutations, observer) {{\n",
       "        var display = window.getComputedStyle(gd).display;\n",
       "        if (!display || display === 'none') {{\n",
       "            console.log([gd, 'removed!']);\n",
       "            Plotly.purge(gd);\n",
       "            observer.disconnect();\n",
       "        }}\n",
       "}});\n",
       "\n",
       "// Listen for the removal of the full notebook cells\n",
       "var notebookContainer = gd.closest('#notebook-container');\n",
       "if (notebookContainer) {{\n",
       "    x.observe(notebookContainer, {childList: true});\n",
       "}}\n",
       "\n",
       "// Listen for the clearing of the current output cell\n",
       "var outputEl = gd.closest('.output');\n",
       "if (outputEl) {{\n",
       "    x.observe(outputEl, {childList: true});\n",
       "}}\n",
       "\n",
       "                        })                };                });            </script>        </div>"
      ]
     },
     "metadata": {},
     "output_type": "display_data"
    }
   ],
   "source": [
    "# Create a pie chart for the top 10 countries\n",
    "fig = px.pie(top_countries, names='Country/Region', values='Confirmed',\n",
    "             title=f'Top {k} Countries by Confirmed Cases',\n",
    "             template='plotly_dark',  # You can change the template based on your preference\n",
    "            )\n",
    "\n",
    "# Show the figure\n",
    "fig.show()"
   ]
  },
  {
   "cell_type": "code",
   "execution_count": 30,
   "id": "83d98150",
   "metadata": {
    "execution": {
     "iopub.execute_input": "2024-01-25T10:44:37.663658Z",
     "iopub.status.busy": "2024-01-25T10:44:37.662870Z",
     "iopub.status.idle": "2024-01-25T10:44:37.668313Z",
     "shell.execute_reply": "2024-01-25T10:44:37.667425Z"
    },
    "papermill": {
     "duration": 0.034265,
     "end_time": "2024-01-25T10:44:37.670722",
     "exception": false,
     "start_time": "2024-01-25T10:44:37.636457",
     "status": "completed"
    },
    "tags": []
   },
   "outputs": [],
   "source": [
    "cols = {\n",
    "\t\"Cases\": ['Deaths', 'Recovered',\t'Active'],\n",
    "\t\"New\": ['New deaths',\t'New recovered'],\n",
    "\t\"Per 100\": ['Deaths / 100 Cases','Recovered / 100 Cases',\t'Deaths / 100 Recovered'],\n",
    "\t\"Week\": ['Confirmed last week',\t'1 week change'],\n",
    "\t\"Last Week Percentage Increase\": ['1 week % increase']\n",
    "}"
   ]
  },
  {
   "cell_type": "code",
   "execution_count": 31,
   "id": "5fab2675",
   "metadata": {
    "execution": {
     "iopub.execute_input": "2024-01-25T10:44:37.722287Z",
     "iopub.status.busy": "2024-01-25T10:44:37.721483Z",
     "iopub.status.idle": "2024-01-25T10:44:38.155057Z",
     "shell.execute_reply": "2024-01-25T10:44:38.153559Z"
    },
    "papermill": {
     "duration": 0.462792,
     "end_time": "2024-01-25T10:44:38.158125",
     "exception": false,
     "start_time": "2024-01-25T10:44:37.695333",
     "status": "completed"
    },
    "tags": []
   },
   "outputs": [
    {
     "data": {
      "text/html": [
       "<div>                            <div id=\"c7678fe1-22be-4b71-81ae-3f422acf95d7\" class=\"plotly-graph-div\" style=\"height:525px; width:100%;\"></div>            <script type=\"text/javascript\">                require([\"plotly\"], function(Plotly) {                    window.PLOTLYENV=window.PLOTLYENV || {};                                    if (document.getElementById(\"c7678fe1-22be-4b71-81ae-3f422acf95d7\")) {                    Plotly.newPlot(                        \"c7678fe1-22be-4b71-81ae-3f422acf95d7\",                        [{\"alignmentgroup\":\"True\",\"hovertemplate\":\"variable=Deaths\\u003cbr\\u003eCountry\\u002fRegion=%{x}\\u003cbr\\u003evalue=%{y}\\u003cextra\\u003e\\u003c\\u002fextra\\u003e\",\"legendgroup\":\"Deaths\",\"marker\":{\"color\":\"#636efa\",\"pattern\":{\"shape\":\"\"}},\"name\":\"Deaths\",\"offsetgroup\":\"Deaths\",\"orientation\":\"v\",\"showlegend\":true,\"textposition\":\"auto\",\"x\":[\"US\",\"Brazil\",\"India\",\"Russia\",\"South Africa\"],\"xaxis\":\"x\",\"y\":[148011,87618,33408,13334,7067],\"yaxis\":\"y\",\"type\":\"bar\"},{\"alignmentgroup\":\"True\",\"hovertemplate\":\"variable=Recovered\\u003cbr\\u003eCountry\\u002fRegion=%{x}\\u003cbr\\u003evalue=%{y}\\u003cextra\\u003e\\u003c\\u002fextra\\u003e\",\"legendgroup\":\"Recovered\",\"marker\":{\"color\":\"#EF553B\",\"pattern\":{\"shape\":\"\"}},\"name\":\"Recovered\",\"offsetgroup\":\"Recovered\",\"orientation\":\"v\",\"showlegend\":true,\"textposition\":\"auto\",\"x\":[\"US\",\"Brazil\",\"India\",\"Russia\",\"South Africa\"],\"xaxis\":\"x\",\"y\":[1325804,1846641,951166,602249,274925],\"yaxis\":\"y\",\"type\":\"bar\"},{\"alignmentgroup\":\"True\",\"hovertemplate\":\"variable=Active\\u003cbr\\u003eCountry\\u002fRegion=%{x}\\u003cbr\\u003evalue=%{y}\\u003cextra\\u003e\\u003c\\u002fextra\\u003e\",\"legendgroup\":\"Active\",\"marker\":{\"color\":\"#00cc96\",\"pattern\":{\"shape\":\"\"}},\"name\":\"Active\",\"offsetgroup\":\"Active\",\"orientation\":\"v\",\"showlegend\":true,\"textposition\":\"auto\",\"x\":[\"US\",\"Brazil\",\"India\",\"Russia\",\"South Africa\"],\"xaxis\":\"x\",\"y\":[2816444,508116,495499,201097,170537],\"yaxis\":\"y\",\"type\":\"bar\"}],                        {\"template\":{\"data\":{\"barpolar\":[{\"marker\":{\"line\":{\"color\":\"rgb(17,17,17)\",\"width\":0.5},\"pattern\":{\"fillmode\":\"overlay\",\"size\":10,\"solidity\":0.2}},\"type\":\"barpolar\"}],\"bar\":[{\"error_x\":{\"color\":\"#f2f5fa\"},\"error_y\":{\"color\":\"#f2f5fa\"},\"marker\":{\"line\":{\"color\":\"rgb(17,17,17)\",\"width\":0.5},\"pattern\":{\"fillmode\":\"overlay\",\"size\":10,\"solidity\":0.2}},\"type\":\"bar\"}],\"carpet\":[{\"aaxis\":{\"endlinecolor\":\"#A2B1C6\",\"gridcolor\":\"#506784\",\"linecolor\":\"#506784\",\"minorgridcolor\":\"#506784\",\"startlinecolor\":\"#A2B1C6\"},\"baxis\":{\"endlinecolor\":\"#A2B1C6\",\"gridcolor\":\"#506784\",\"linecolor\":\"#506784\",\"minorgridcolor\":\"#506784\",\"startlinecolor\":\"#A2B1C6\"},\"type\":\"carpet\"}],\"choropleth\":[{\"colorbar\":{\"outlinewidth\":0,\"ticks\":\"\"},\"type\":\"choropleth\"}],\"contourcarpet\":[{\"colorbar\":{\"outlinewidth\":0,\"ticks\":\"\"},\"type\":\"contourcarpet\"}],\"contour\":[{\"colorbar\":{\"outlinewidth\":0,\"ticks\":\"\"},\"colorscale\":[[0.0,\"#0d0887\"],[0.1111111111111111,\"#46039f\"],[0.2222222222222222,\"#7201a8\"],[0.3333333333333333,\"#9c179e\"],[0.4444444444444444,\"#bd3786\"],[0.5555555555555556,\"#d8576b\"],[0.6666666666666666,\"#ed7953\"],[0.7777777777777778,\"#fb9f3a\"],[0.8888888888888888,\"#fdca26\"],[1.0,\"#f0f921\"]],\"type\":\"contour\"}],\"heatmapgl\":[{\"colorbar\":{\"outlinewidth\":0,\"ticks\":\"\"},\"colorscale\":[[0.0,\"#0d0887\"],[0.1111111111111111,\"#46039f\"],[0.2222222222222222,\"#7201a8\"],[0.3333333333333333,\"#9c179e\"],[0.4444444444444444,\"#bd3786\"],[0.5555555555555556,\"#d8576b\"],[0.6666666666666666,\"#ed7953\"],[0.7777777777777778,\"#fb9f3a\"],[0.8888888888888888,\"#fdca26\"],[1.0,\"#f0f921\"]],\"type\":\"heatmapgl\"}],\"heatmap\":[{\"colorbar\":{\"outlinewidth\":0,\"ticks\":\"\"},\"colorscale\":[[0.0,\"#0d0887\"],[0.1111111111111111,\"#46039f\"],[0.2222222222222222,\"#7201a8\"],[0.3333333333333333,\"#9c179e\"],[0.4444444444444444,\"#bd3786\"],[0.5555555555555556,\"#d8576b\"],[0.6666666666666666,\"#ed7953\"],[0.7777777777777778,\"#fb9f3a\"],[0.8888888888888888,\"#fdca26\"],[1.0,\"#f0f921\"]],\"type\":\"heatmap\"}],\"histogram2dcontour\":[{\"colorbar\":{\"outlinewidth\":0,\"ticks\":\"\"},\"colorscale\":[[0.0,\"#0d0887\"],[0.1111111111111111,\"#46039f\"],[0.2222222222222222,\"#7201a8\"],[0.3333333333333333,\"#9c179e\"],[0.4444444444444444,\"#bd3786\"],[0.5555555555555556,\"#d8576b\"],[0.6666666666666666,\"#ed7953\"],[0.7777777777777778,\"#fb9f3a\"],[0.8888888888888888,\"#fdca26\"],[1.0,\"#f0f921\"]],\"type\":\"histogram2dcontour\"}],\"histogram2d\":[{\"colorbar\":{\"outlinewidth\":0,\"ticks\":\"\"},\"colorscale\":[[0.0,\"#0d0887\"],[0.1111111111111111,\"#46039f\"],[0.2222222222222222,\"#7201a8\"],[0.3333333333333333,\"#9c179e\"],[0.4444444444444444,\"#bd3786\"],[0.5555555555555556,\"#d8576b\"],[0.6666666666666666,\"#ed7953\"],[0.7777777777777778,\"#fb9f3a\"],[0.8888888888888888,\"#fdca26\"],[1.0,\"#f0f921\"]],\"type\":\"histogram2d\"}],\"histogram\":[{\"marker\":{\"pattern\":{\"fillmode\":\"overlay\",\"size\":10,\"solidity\":0.2}},\"type\":\"histogram\"}],\"mesh3d\":[{\"colorbar\":{\"outlinewidth\":0,\"ticks\":\"\"},\"type\":\"mesh3d\"}],\"parcoords\":[{\"line\":{\"colorbar\":{\"outlinewidth\":0,\"ticks\":\"\"}},\"type\":\"parcoords\"}],\"pie\":[{\"automargin\":true,\"type\":\"pie\"}],\"scatter3d\":[{\"line\":{\"colorbar\":{\"outlinewidth\":0,\"ticks\":\"\"}},\"marker\":{\"colorbar\":{\"outlinewidth\":0,\"ticks\":\"\"}},\"type\":\"scatter3d\"}],\"scattercarpet\":[{\"marker\":{\"colorbar\":{\"outlinewidth\":0,\"ticks\":\"\"}},\"type\":\"scattercarpet\"}],\"scattergeo\":[{\"marker\":{\"colorbar\":{\"outlinewidth\":0,\"ticks\":\"\"}},\"type\":\"scattergeo\"}],\"scattergl\":[{\"marker\":{\"line\":{\"color\":\"#283442\"}},\"type\":\"scattergl\"}],\"scattermapbox\":[{\"marker\":{\"colorbar\":{\"outlinewidth\":0,\"ticks\":\"\"}},\"type\":\"scattermapbox\"}],\"scatterpolargl\":[{\"marker\":{\"colorbar\":{\"outlinewidth\":0,\"ticks\":\"\"}},\"type\":\"scatterpolargl\"}],\"scatterpolar\":[{\"marker\":{\"colorbar\":{\"outlinewidth\":0,\"ticks\":\"\"}},\"type\":\"scatterpolar\"}],\"scatter\":[{\"marker\":{\"line\":{\"color\":\"#283442\"}},\"type\":\"scatter\"}],\"scatterternary\":[{\"marker\":{\"colorbar\":{\"outlinewidth\":0,\"ticks\":\"\"}},\"type\":\"scatterternary\"}],\"surface\":[{\"colorbar\":{\"outlinewidth\":0,\"ticks\":\"\"},\"colorscale\":[[0.0,\"#0d0887\"],[0.1111111111111111,\"#46039f\"],[0.2222222222222222,\"#7201a8\"],[0.3333333333333333,\"#9c179e\"],[0.4444444444444444,\"#bd3786\"],[0.5555555555555556,\"#d8576b\"],[0.6666666666666666,\"#ed7953\"],[0.7777777777777778,\"#fb9f3a\"],[0.8888888888888888,\"#fdca26\"],[1.0,\"#f0f921\"]],\"type\":\"surface\"}],\"table\":[{\"cells\":{\"fill\":{\"color\":\"#506784\"},\"line\":{\"color\":\"rgb(17,17,17)\"}},\"header\":{\"fill\":{\"color\":\"#2a3f5f\"},\"line\":{\"color\":\"rgb(17,17,17)\"}},\"type\":\"table\"}]},\"layout\":{\"annotationdefaults\":{\"arrowcolor\":\"#f2f5fa\",\"arrowhead\":0,\"arrowwidth\":1},\"autotypenumbers\":\"strict\",\"coloraxis\":{\"colorbar\":{\"outlinewidth\":0,\"ticks\":\"\"}},\"colorscale\":{\"diverging\":[[0,\"#8e0152\"],[0.1,\"#c51b7d\"],[0.2,\"#de77ae\"],[0.3,\"#f1b6da\"],[0.4,\"#fde0ef\"],[0.5,\"#f7f7f7\"],[0.6,\"#e6f5d0\"],[0.7,\"#b8e186\"],[0.8,\"#7fbc41\"],[0.9,\"#4d9221\"],[1,\"#276419\"]],\"sequential\":[[0.0,\"#0d0887\"],[0.1111111111111111,\"#46039f\"],[0.2222222222222222,\"#7201a8\"],[0.3333333333333333,\"#9c179e\"],[0.4444444444444444,\"#bd3786\"],[0.5555555555555556,\"#d8576b\"],[0.6666666666666666,\"#ed7953\"],[0.7777777777777778,\"#fb9f3a\"],[0.8888888888888888,\"#fdca26\"],[1.0,\"#f0f921\"]],\"sequentialminus\":[[0.0,\"#0d0887\"],[0.1111111111111111,\"#46039f\"],[0.2222222222222222,\"#7201a8\"],[0.3333333333333333,\"#9c179e\"],[0.4444444444444444,\"#bd3786\"],[0.5555555555555556,\"#d8576b\"],[0.6666666666666666,\"#ed7953\"],[0.7777777777777778,\"#fb9f3a\"],[0.8888888888888888,\"#fdca26\"],[1.0,\"#f0f921\"]]},\"colorway\":[\"#636efa\",\"#EF553B\",\"#00cc96\",\"#ab63fa\",\"#FFA15A\",\"#19d3f3\",\"#FF6692\",\"#B6E880\",\"#FF97FF\",\"#FECB52\"],\"font\":{\"color\":\"#f2f5fa\"},\"geo\":{\"bgcolor\":\"rgb(17,17,17)\",\"lakecolor\":\"rgb(17,17,17)\",\"landcolor\":\"rgb(17,17,17)\",\"showlakes\":true,\"showland\":true,\"subunitcolor\":\"#506784\"},\"hoverlabel\":{\"align\":\"left\"},\"hovermode\":\"closest\",\"mapbox\":{\"style\":\"dark\"},\"paper_bgcolor\":\"rgb(17,17,17)\",\"plot_bgcolor\":\"rgb(17,17,17)\",\"polar\":{\"angularaxis\":{\"gridcolor\":\"#506784\",\"linecolor\":\"#506784\",\"ticks\":\"\"},\"bgcolor\":\"rgb(17,17,17)\",\"radialaxis\":{\"gridcolor\":\"#506784\",\"linecolor\":\"#506784\",\"ticks\":\"\"}},\"scene\":{\"xaxis\":{\"backgroundcolor\":\"rgb(17,17,17)\",\"gridcolor\":\"#506784\",\"gridwidth\":2,\"linecolor\":\"#506784\",\"showbackground\":true,\"ticks\":\"\",\"zerolinecolor\":\"#C8D4E3\"},\"yaxis\":{\"backgroundcolor\":\"rgb(17,17,17)\",\"gridcolor\":\"#506784\",\"gridwidth\":2,\"linecolor\":\"#506784\",\"showbackground\":true,\"ticks\":\"\",\"zerolinecolor\":\"#C8D4E3\"},\"zaxis\":{\"backgroundcolor\":\"rgb(17,17,17)\",\"gridcolor\":\"#506784\",\"gridwidth\":2,\"linecolor\":\"#506784\",\"showbackground\":true,\"ticks\":\"\",\"zerolinecolor\":\"#C8D4E3\"}},\"shapedefaults\":{\"line\":{\"color\":\"#f2f5fa\"}},\"sliderdefaults\":{\"bgcolor\":\"#C8D4E3\",\"bordercolor\":\"rgb(17,17,17)\",\"borderwidth\":1,\"tickwidth\":0},\"ternary\":{\"aaxis\":{\"gridcolor\":\"#506784\",\"linecolor\":\"#506784\",\"ticks\":\"\"},\"baxis\":{\"gridcolor\":\"#506784\",\"linecolor\":\"#506784\",\"ticks\":\"\"},\"bgcolor\":\"rgb(17,17,17)\",\"caxis\":{\"gridcolor\":\"#506784\",\"linecolor\":\"#506784\",\"ticks\":\"\"}},\"title\":{\"x\":0.05},\"updatemenudefaults\":{\"bgcolor\":\"#506784\",\"borderwidth\":0},\"xaxis\":{\"automargin\":true,\"gridcolor\":\"#283442\",\"linecolor\":\"#506784\",\"ticks\":\"\",\"title\":{\"standoff\":15},\"zerolinecolor\":\"#283442\",\"zerolinewidth\":2},\"yaxis\":{\"automargin\":true,\"gridcolor\":\"#283442\",\"linecolor\":\"#506784\",\"ticks\":\"\",\"title\":{\"standoff\":15},\"zerolinecolor\":\"#283442\",\"zerolinewidth\":2}}},\"xaxis\":{\"anchor\":\"y\",\"domain\":[0.0,1.0],\"title\":{\"text\":\"Country\\u002fRegion\"}},\"yaxis\":{\"anchor\":\"x\",\"domain\":[0.0,1.0],\"title\":{\"text\":\"value\"}},\"legend\":{\"title\":{\"text\":\"variable\"},\"tracegroupgap\":0},\"title\":{\"text\":\"Bar Comparison for top 5 Countires on Cases\"},\"barmode\":\"relative\"},                        {\"responsive\": true}                    ).then(function(){\n",
       "                            \n",
       "var gd = document.getElementById('c7678fe1-22be-4b71-81ae-3f422acf95d7');\n",
       "var x = new MutationObserver(function (mutations, observer) {{\n",
       "        var display = window.getComputedStyle(gd).display;\n",
       "        if (!display || display === 'none') {{\n",
       "            console.log([gd, 'removed!']);\n",
       "            Plotly.purge(gd);\n",
       "            observer.disconnect();\n",
       "        }}\n",
       "}});\n",
       "\n",
       "// Listen for the removal of the full notebook cells\n",
       "var notebookContainer = gd.closest('#notebook-container');\n",
       "if (notebookContainer) {{\n",
       "    x.observe(notebookContainer, {childList: true});\n",
       "}}\n",
       "\n",
       "// Listen for the clearing of the current output cell\n",
       "var outputEl = gd.closest('.output');\n",
       "if (outputEl) {{\n",
       "    x.observe(outputEl, {childList: true});\n",
       "}}\n",
       "\n",
       "                        })                };                });            </script>        </div>"
      ]
     },
     "metadata": {},
     "output_type": "display_data"
    },
    {
     "data": {
      "text/html": [
       "<div>                            <div id=\"71fa00fd-6fea-42df-8596-86b94eead1b2\" class=\"plotly-graph-div\" style=\"height:525px; width:100%;\"></div>            <script type=\"text/javascript\">                require([\"plotly\"], function(Plotly) {                    window.PLOTLYENV=window.PLOTLYENV || {};                                    if (document.getElementById(\"71fa00fd-6fea-42df-8596-86b94eead1b2\")) {                    Plotly.newPlot(                        \"71fa00fd-6fea-42df-8596-86b94eead1b2\",                        [{\"alignmentgroup\":\"True\",\"hovertemplate\":\"variable=New deaths\\u003cbr\\u003eCountry\\u002fRegion=%{x}\\u003cbr\\u003evalue=%{y}\\u003cextra\\u003e\\u003c\\u002fextra\\u003e\",\"legendgroup\":\"New deaths\",\"marker\":{\"color\":\"#636efa\",\"pattern\":{\"shape\":\"\"}},\"name\":\"New deaths\",\"offsetgroup\":\"New deaths\",\"orientation\":\"v\",\"showlegend\":true,\"textposition\":\"auto\",\"x\":[\"US\",\"Brazil\",\"India\",\"Russia\",\"South Africa\"],\"xaxis\":\"x\",\"y\":[1076,614,637,85,298],\"yaxis\":\"y\",\"type\":\"bar\"},{\"alignmentgroup\":\"True\",\"hovertemplate\":\"variable=New recovered\\u003cbr\\u003eCountry\\u002fRegion=%{x}\\u003cbr\\u003evalue=%{y}\\u003cextra\\u003e\\u003c\\u002fextra\\u003e\",\"legendgroup\":\"New recovered\",\"marker\":{\"color\":\"#EF553B\",\"pattern\":{\"shape\":\"\"}},\"name\":\"New recovered\",\"offsetgroup\":\"New recovered\",\"orientation\":\"v\",\"showlegend\":true,\"textposition\":\"auto\",\"x\":[\"US\",\"Brazil\",\"India\",\"Russia\",\"South Africa\"],\"xaxis\":\"x\",\"y\":[27941,33728,33598,3077,9848],\"yaxis\":\"y\",\"type\":\"bar\"}],                        {\"template\":{\"data\":{\"barpolar\":[{\"marker\":{\"line\":{\"color\":\"rgb(17,17,17)\",\"width\":0.5},\"pattern\":{\"fillmode\":\"overlay\",\"size\":10,\"solidity\":0.2}},\"type\":\"barpolar\"}],\"bar\":[{\"error_x\":{\"color\":\"#f2f5fa\"},\"error_y\":{\"color\":\"#f2f5fa\"},\"marker\":{\"line\":{\"color\":\"rgb(17,17,17)\",\"width\":0.5},\"pattern\":{\"fillmode\":\"overlay\",\"size\":10,\"solidity\":0.2}},\"type\":\"bar\"}],\"carpet\":[{\"aaxis\":{\"endlinecolor\":\"#A2B1C6\",\"gridcolor\":\"#506784\",\"linecolor\":\"#506784\",\"minorgridcolor\":\"#506784\",\"startlinecolor\":\"#A2B1C6\"},\"baxis\":{\"endlinecolor\":\"#A2B1C6\",\"gridcolor\":\"#506784\",\"linecolor\":\"#506784\",\"minorgridcolor\":\"#506784\",\"startlinecolor\":\"#A2B1C6\"},\"type\":\"carpet\"}],\"choropleth\":[{\"colorbar\":{\"outlinewidth\":0,\"ticks\":\"\"},\"type\":\"choropleth\"}],\"contourcarpet\":[{\"colorbar\":{\"outlinewidth\":0,\"ticks\":\"\"},\"type\":\"contourcarpet\"}],\"contour\":[{\"colorbar\":{\"outlinewidth\":0,\"ticks\":\"\"},\"colorscale\":[[0.0,\"#0d0887\"],[0.1111111111111111,\"#46039f\"],[0.2222222222222222,\"#7201a8\"],[0.3333333333333333,\"#9c179e\"],[0.4444444444444444,\"#bd3786\"],[0.5555555555555556,\"#d8576b\"],[0.6666666666666666,\"#ed7953\"],[0.7777777777777778,\"#fb9f3a\"],[0.8888888888888888,\"#fdca26\"],[1.0,\"#f0f921\"]],\"type\":\"contour\"}],\"heatmapgl\":[{\"colorbar\":{\"outlinewidth\":0,\"ticks\":\"\"},\"colorscale\":[[0.0,\"#0d0887\"],[0.1111111111111111,\"#46039f\"],[0.2222222222222222,\"#7201a8\"],[0.3333333333333333,\"#9c179e\"],[0.4444444444444444,\"#bd3786\"],[0.5555555555555556,\"#d8576b\"],[0.6666666666666666,\"#ed7953\"],[0.7777777777777778,\"#fb9f3a\"],[0.8888888888888888,\"#fdca26\"],[1.0,\"#f0f921\"]],\"type\":\"heatmapgl\"}],\"heatmap\":[{\"colorbar\":{\"outlinewidth\":0,\"ticks\":\"\"},\"colorscale\":[[0.0,\"#0d0887\"],[0.1111111111111111,\"#46039f\"],[0.2222222222222222,\"#7201a8\"],[0.3333333333333333,\"#9c179e\"],[0.4444444444444444,\"#bd3786\"],[0.5555555555555556,\"#d8576b\"],[0.6666666666666666,\"#ed7953\"],[0.7777777777777778,\"#fb9f3a\"],[0.8888888888888888,\"#fdca26\"],[1.0,\"#f0f921\"]],\"type\":\"heatmap\"}],\"histogram2dcontour\":[{\"colorbar\":{\"outlinewidth\":0,\"ticks\":\"\"},\"colorscale\":[[0.0,\"#0d0887\"],[0.1111111111111111,\"#46039f\"],[0.2222222222222222,\"#7201a8\"],[0.3333333333333333,\"#9c179e\"],[0.4444444444444444,\"#bd3786\"],[0.5555555555555556,\"#d8576b\"],[0.6666666666666666,\"#ed7953\"],[0.7777777777777778,\"#fb9f3a\"],[0.8888888888888888,\"#fdca26\"],[1.0,\"#f0f921\"]],\"type\":\"histogram2dcontour\"}],\"histogram2d\":[{\"colorbar\":{\"outlinewidth\":0,\"ticks\":\"\"},\"colorscale\":[[0.0,\"#0d0887\"],[0.1111111111111111,\"#46039f\"],[0.2222222222222222,\"#7201a8\"],[0.3333333333333333,\"#9c179e\"],[0.4444444444444444,\"#bd3786\"],[0.5555555555555556,\"#d8576b\"],[0.6666666666666666,\"#ed7953\"],[0.7777777777777778,\"#fb9f3a\"],[0.8888888888888888,\"#fdca26\"],[1.0,\"#f0f921\"]],\"type\":\"histogram2d\"}],\"histogram\":[{\"marker\":{\"pattern\":{\"fillmode\":\"overlay\",\"size\":10,\"solidity\":0.2}},\"type\":\"histogram\"}],\"mesh3d\":[{\"colorbar\":{\"outlinewidth\":0,\"ticks\":\"\"},\"type\":\"mesh3d\"}],\"parcoords\":[{\"line\":{\"colorbar\":{\"outlinewidth\":0,\"ticks\":\"\"}},\"type\":\"parcoords\"}],\"pie\":[{\"automargin\":true,\"type\":\"pie\"}],\"scatter3d\":[{\"line\":{\"colorbar\":{\"outlinewidth\":0,\"ticks\":\"\"}},\"marker\":{\"colorbar\":{\"outlinewidth\":0,\"ticks\":\"\"}},\"type\":\"scatter3d\"}],\"scattercarpet\":[{\"marker\":{\"colorbar\":{\"outlinewidth\":0,\"ticks\":\"\"}},\"type\":\"scattercarpet\"}],\"scattergeo\":[{\"marker\":{\"colorbar\":{\"outlinewidth\":0,\"ticks\":\"\"}},\"type\":\"scattergeo\"}],\"scattergl\":[{\"marker\":{\"line\":{\"color\":\"#283442\"}},\"type\":\"scattergl\"}],\"scattermapbox\":[{\"marker\":{\"colorbar\":{\"outlinewidth\":0,\"ticks\":\"\"}},\"type\":\"scattermapbox\"}],\"scatterpolargl\":[{\"marker\":{\"colorbar\":{\"outlinewidth\":0,\"ticks\":\"\"}},\"type\":\"scatterpolargl\"}],\"scatterpolar\":[{\"marker\":{\"colorbar\":{\"outlinewidth\":0,\"ticks\":\"\"}},\"type\":\"scatterpolar\"}],\"scatter\":[{\"marker\":{\"line\":{\"color\":\"#283442\"}},\"type\":\"scatter\"}],\"scatterternary\":[{\"marker\":{\"colorbar\":{\"outlinewidth\":0,\"ticks\":\"\"}},\"type\":\"scatterternary\"}],\"surface\":[{\"colorbar\":{\"outlinewidth\":0,\"ticks\":\"\"},\"colorscale\":[[0.0,\"#0d0887\"],[0.1111111111111111,\"#46039f\"],[0.2222222222222222,\"#7201a8\"],[0.3333333333333333,\"#9c179e\"],[0.4444444444444444,\"#bd3786\"],[0.5555555555555556,\"#d8576b\"],[0.6666666666666666,\"#ed7953\"],[0.7777777777777778,\"#fb9f3a\"],[0.8888888888888888,\"#fdca26\"],[1.0,\"#f0f921\"]],\"type\":\"surface\"}],\"table\":[{\"cells\":{\"fill\":{\"color\":\"#506784\"},\"line\":{\"color\":\"rgb(17,17,17)\"}},\"header\":{\"fill\":{\"color\":\"#2a3f5f\"},\"line\":{\"color\":\"rgb(17,17,17)\"}},\"type\":\"table\"}]},\"layout\":{\"annotationdefaults\":{\"arrowcolor\":\"#f2f5fa\",\"arrowhead\":0,\"arrowwidth\":1},\"autotypenumbers\":\"strict\",\"coloraxis\":{\"colorbar\":{\"outlinewidth\":0,\"ticks\":\"\"}},\"colorscale\":{\"diverging\":[[0,\"#8e0152\"],[0.1,\"#c51b7d\"],[0.2,\"#de77ae\"],[0.3,\"#f1b6da\"],[0.4,\"#fde0ef\"],[0.5,\"#f7f7f7\"],[0.6,\"#e6f5d0\"],[0.7,\"#b8e186\"],[0.8,\"#7fbc41\"],[0.9,\"#4d9221\"],[1,\"#276419\"]],\"sequential\":[[0.0,\"#0d0887\"],[0.1111111111111111,\"#46039f\"],[0.2222222222222222,\"#7201a8\"],[0.3333333333333333,\"#9c179e\"],[0.4444444444444444,\"#bd3786\"],[0.5555555555555556,\"#d8576b\"],[0.6666666666666666,\"#ed7953\"],[0.7777777777777778,\"#fb9f3a\"],[0.8888888888888888,\"#fdca26\"],[1.0,\"#f0f921\"]],\"sequentialminus\":[[0.0,\"#0d0887\"],[0.1111111111111111,\"#46039f\"],[0.2222222222222222,\"#7201a8\"],[0.3333333333333333,\"#9c179e\"],[0.4444444444444444,\"#bd3786\"],[0.5555555555555556,\"#d8576b\"],[0.6666666666666666,\"#ed7953\"],[0.7777777777777778,\"#fb9f3a\"],[0.8888888888888888,\"#fdca26\"],[1.0,\"#f0f921\"]]},\"colorway\":[\"#636efa\",\"#EF553B\",\"#00cc96\",\"#ab63fa\",\"#FFA15A\",\"#19d3f3\",\"#FF6692\",\"#B6E880\",\"#FF97FF\",\"#FECB52\"],\"font\":{\"color\":\"#f2f5fa\"},\"geo\":{\"bgcolor\":\"rgb(17,17,17)\",\"lakecolor\":\"rgb(17,17,17)\",\"landcolor\":\"rgb(17,17,17)\",\"showlakes\":true,\"showland\":true,\"subunitcolor\":\"#506784\"},\"hoverlabel\":{\"align\":\"left\"},\"hovermode\":\"closest\",\"mapbox\":{\"style\":\"dark\"},\"paper_bgcolor\":\"rgb(17,17,17)\",\"plot_bgcolor\":\"rgb(17,17,17)\",\"polar\":{\"angularaxis\":{\"gridcolor\":\"#506784\",\"linecolor\":\"#506784\",\"ticks\":\"\"},\"bgcolor\":\"rgb(17,17,17)\",\"radialaxis\":{\"gridcolor\":\"#506784\",\"linecolor\":\"#506784\",\"ticks\":\"\"}},\"scene\":{\"xaxis\":{\"backgroundcolor\":\"rgb(17,17,17)\",\"gridcolor\":\"#506784\",\"gridwidth\":2,\"linecolor\":\"#506784\",\"showbackground\":true,\"ticks\":\"\",\"zerolinecolor\":\"#C8D4E3\"},\"yaxis\":{\"backgroundcolor\":\"rgb(17,17,17)\",\"gridcolor\":\"#506784\",\"gridwidth\":2,\"linecolor\":\"#506784\",\"showbackground\":true,\"ticks\":\"\",\"zerolinecolor\":\"#C8D4E3\"},\"zaxis\":{\"backgroundcolor\":\"rgb(17,17,17)\",\"gridcolor\":\"#506784\",\"gridwidth\":2,\"linecolor\":\"#506784\",\"showbackground\":true,\"ticks\":\"\",\"zerolinecolor\":\"#C8D4E3\"}},\"shapedefaults\":{\"line\":{\"color\":\"#f2f5fa\"}},\"sliderdefaults\":{\"bgcolor\":\"#C8D4E3\",\"bordercolor\":\"rgb(17,17,17)\",\"borderwidth\":1,\"tickwidth\":0},\"ternary\":{\"aaxis\":{\"gridcolor\":\"#506784\",\"linecolor\":\"#506784\",\"ticks\":\"\"},\"baxis\":{\"gridcolor\":\"#506784\",\"linecolor\":\"#506784\",\"ticks\":\"\"},\"bgcolor\":\"rgb(17,17,17)\",\"caxis\":{\"gridcolor\":\"#506784\",\"linecolor\":\"#506784\",\"ticks\":\"\"}},\"title\":{\"x\":0.05},\"updatemenudefaults\":{\"bgcolor\":\"#506784\",\"borderwidth\":0},\"xaxis\":{\"automargin\":true,\"gridcolor\":\"#283442\",\"linecolor\":\"#506784\",\"ticks\":\"\",\"title\":{\"standoff\":15},\"zerolinecolor\":\"#283442\",\"zerolinewidth\":2},\"yaxis\":{\"automargin\":true,\"gridcolor\":\"#283442\",\"linecolor\":\"#506784\",\"ticks\":\"\",\"title\":{\"standoff\":15},\"zerolinecolor\":\"#283442\",\"zerolinewidth\":2}}},\"xaxis\":{\"anchor\":\"y\",\"domain\":[0.0,1.0],\"title\":{\"text\":\"Country\\u002fRegion\"}},\"yaxis\":{\"anchor\":\"x\",\"domain\":[0.0,1.0],\"title\":{\"text\":\"value\"}},\"legend\":{\"title\":{\"text\":\"variable\"},\"tracegroupgap\":0},\"title\":{\"text\":\"Bar Comparison for top 5 Countires on New\"},\"barmode\":\"relative\"},                        {\"responsive\": true}                    ).then(function(){\n",
       "                            \n",
       "var gd = document.getElementById('71fa00fd-6fea-42df-8596-86b94eead1b2');\n",
       "var x = new MutationObserver(function (mutations, observer) {{\n",
       "        var display = window.getComputedStyle(gd).display;\n",
       "        if (!display || display === 'none') {{\n",
       "            console.log([gd, 'removed!']);\n",
       "            Plotly.purge(gd);\n",
       "            observer.disconnect();\n",
       "        }}\n",
       "}});\n",
       "\n",
       "// Listen for the removal of the full notebook cells\n",
       "var notebookContainer = gd.closest('#notebook-container');\n",
       "if (notebookContainer) {{\n",
       "    x.observe(notebookContainer, {childList: true});\n",
       "}}\n",
       "\n",
       "// Listen for the clearing of the current output cell\n",
       "var outputEl = gd.closest('.output');\n",
       "if (outputEl) {{\n",
       "    x.observe(outputEl, {childList: true});\n",
       "}}\n",
       "\n",
       "                        })                };                });            </script>        </div>"
      ]
     },
     "metadata": {},
     "output_type": "display_data"
    },
    {
     "data": {
      "text/html": [
       "<div>                            <div id=\"e5d606cd-b420-49ce-8595-afd153298238\" class=\"plotly-graph-div\" style=\"height:525px; width:100%;\"></div>            <script type=\"text/javascript\">                require([\"plotly\"], function(Plotly) {                    window.PLOTLYENV=window.PLOTLYENV || {};                                    if (document.getElementById(\"e5d606cd-b420-49ce-8595-afd153298238\")) {                    Plotly.newPlot(                        \"e5d606cd-b420-49ce-8595-afd153298238\",                        [{\"alignmentgroup\":\"True\",\"hovertemplate\":\"variable=Deaths \\u002f 100 Cases\\u003cbr\\u003eCountry\\u002fRegion=%{x}\\u003cbr\\u003evalue=%{y}\\u003cextra\\u003e\\u003c\\u002fextra\\u003e\",\"legendgroup\":\"Deaths \\u002f 100 Cases\",\"marker\":{\"color\":\"#636efa\",\"pattern\":{\"shape\":\"\"}},\"name\":\"Deaths \\u002f 100 Cases\",\"offsetgroup\":\"Deaths \\u002f 100 Cases\",\"orientation\":\"v\",\"showlegend\":true,\"textposition\":\"auto\",\"x\":[\"US\",\"Brazil\",\"India\",\"Russia\",\"South Africa\"],\"xaxis\":\"x\",\"y\":[3.45,3.59,2.26,1.63,1.56],\"yaxis\":\"y\",\"type\":\"bar\"},{\"alignmentgroup\":\"True\",\"hovertemplate\":\"variable=Recovered \\u002f 100 Cases\\u003cbr\\u003eCountry\\u002fRegion=%{x}\\u003cbr\\u003evalue=%{y}\\u003cextra\\u003e\\u003c\\u002fextra\\u003e\",\"legendgroup\":\"Recovered \\u002f 100 Cases\",\"marker\":{\"color\":\"#EF553B\",\"pattern\":{\"shape\":\"\"}},\"name\":\"Recovered \\u002f 100 Cases\",\"offsetgroup\":\"Recovered \\u002f 100 Cases\",\"orientation\":\"v\",\"showlegend\":true,\"textposition\":\"auto\",\"x\":[\"US\",\"Brazil\",\"India\",\"Russia\",\"South Africa\"],\"xaxis\":\"x\",\"y\":[30.9,75.61,64.26,73.74,60.75],\"yaxis\":\"y\",\"type\":\"bar\"},{\"alignmentgroup\":\"True\",\"hovertemplate\":\"variable=Deaths \\u002f 100 Recovered\\u003cbr\\u003eCountry\\u002fRegion=%{x}\\u003cbr\\u003evalue=%{y}\\u003cextra\\u003e\\u003c\\u002fextra\\u003e\",\"legendgroup\":\"Deaths \\u002f 100 Recovered\",\"marker\":{\"color\":\"#00cc96\",\"pattern\":{\"shape\":\"\"}},\"name\":\"Deaths \\u002f 100 Recovered\",\"offsetgroup\":\"Deaths \\u002f 100 Recovered\",\"orientation\":\"v\",\"showlegend\":true,\"textposition\":\"auto\",\"x\":[\"US\",\"Brazil\",\"India\",\"Russia\",\"South Africa\"],\"xaxis\":\"x\",\"y\":[11.16,4.74,3.51,2.21,2.57],\"yaxis\":\"y\",\"type\":\"bar\"}],                        {\"template\":{\"data\":{\"barpolar\":[{\"marker\":{\"line\":{\"color\":\"rgb(17,17,17)\",\"width\":0.5},\"pattern\":{\"fillmode\":\"overlay\",\"size\":10,\"solidity\":0.2}},\"type\":\"barpolar\"}],\"bar\":[{\"error_x\":{\"color\":\"#f2f5fa\"},\"error_y\":{\"color\":\"#f2f5fa\"},\"marker\":{\"line\":{\"color\":\"rgb(17,17,17)\",\"width\":0.5},\"pattern\":{\"fillmode\":\"overlay\",\"size\":10,\"solidity\":0.2}},\"type\":\"bar\"}],\"carpet\":[{\"aaxis\":{\"endlinecolor\":\"#A2B1C6\",\"gridcolor\":\"#506784\",\"linecolor\":\"#506784\",\"minorgridcolor\":\"#506784\",\"startlinecolor\":\"#A2B1C6\"},\"baxis\":{\"endlinecolor\":\"#A2B1C6\",\"gridcolor\":\"#506784\",\"linecolor\":\"#506784\",\"minorgridcolor\":\"#506784\",\"startlinecolor\":\"#A2B1C6\"},\"type\":\"carpet\"}],\"choropleth\":[{\"colorbar\":{\"outlinewidth\":0,\"ticks\":\"\"},\"type\":\"choropleth\"}],\"contourcarpet\":[{\"colorbar\":{\"outlinewidth\":0,\"ticks\":\"\"},\"type\":\"contourcarpet\"}],\"contour\":[{\"colorbar\":{\"outlinewidth\":0,\"ticks\":\"\"},\"colorscale\":[[0.0,\"#0d0887\"],[0.1111111111111111,\"#46039f\"],[0.2222222222222222,\"#7201a8\"],[0.3333333333333333,\"#9c179e\"],[0.4444444444444444,\"#bd3786\"],[0.5555555555555556,\"#d8576b\"],[0.6666666666666666,\"#ed7953\"],[0.7777777777777778,\"#fb9f3a\"],[0.8888888888888888,\"#fdca26\"],[1.0,\"#f0f921\"]],\"type\":\"contour\"}],\"heatmapgl\":[{\"colorbar\":{\"outlinewidth\":0,\"ticks\":\"\"},\"colorscale\":[[0.0,\"#0d0887\"],[0.1111111111111111,\"#46039f\"],[0.2222222222222222,\"#7201a8\"],[0.3333333333333333,\"#9c179e\"],[0.4444444444444444,\"#bd3786\"],[0.5555555555555556,\"#d8576b\"],[0.6666666666666666,\"#ed7953\"],[0.7777777777777778,\"#fb9f3a\"],[0.8888888888888888,\"#fdca26\"],[1.0,\"#f0f921\"]],\"type\":\"heatmapgl\"}],\"heatmap\":[{\"colorbar\":{\"outlinewidth\":0,\"ticks\":\"\"},\"colorscale\":[[0.0,\"#0d0887\"],[0.1111111111111111,\"#46039f\"],[0.2222222222222222,\"#7201a8\"],[0.3333333333333333,\"#9c179e\"],[0.4444444444444444,\"#bd3786\"],[0.5555555555555556,\"#d8576b\"],[0.6666666666666666,\"#ed7953\"],[0.7777777777777778,\"#fb9f3a\"],[0.8888888888888888,\"#fdca26\"],[1.0,\"#f0f921\"]],\"type\":\"heatmap\"}],\"histogram2dcontour\":[{\"colorbar\":{\"outlinewidth\":0,\"ticks\":\"\"},\"colorscale\":[[0.0,\"#0d0887\"],[0.1111111111111111,\"#46039f\"],[0.2222222222222222,\"#7201a8\"],[0.3333333333333333,\"#9c179e\"],[0.4444444444444444,\"#bd3786\"],[0.5555555555555556,\"#d8576b\"],[0.6666666666666666,\"#ed7953\"],[0.7777777777777778,\"#fb9f3a\"],[0.8888888888888888,\"#fdca26\"],[1.0,\"#f0f921\"]],\"type\":\"histogram2dcontour\"}],\"histogram2d\":[{\"colorbar\":{\"outlinewidth\":0,\"ticks\":\"\"},\"colorscale\":[[0.0,\"#0d0887\"],[0.1111111111111111,\"#46039f\"],[0.2222222222222222,\"#7201a8\"],[0.3333333333333333,\"#9c179e\"],[0.4444444444444444,\"#bd3786\"],[0.5555555555555556,\"#d8576b\"],[0.6666666666666666,\"#ed7953\"],[0.7777777777777778,\"#fb9f3a\"],[0.8888888888888888,\"#fdca26\"],[1.0,\"#f0f921\"]],\"type\":\"histogram2d\"}],\"histogram\":[{\"marker\":{\"pattern\":{\"fillmode\":\"overlay\",\"size\":10,\"solidity\":0.2}},\"type\":\"histogram\"}],\"mesh3d\":[{\"colorbar\":{\"outlinewidth\":0,\"ticks\":\"\"},\"type\":\"mesh3d\"}],\"parcoords\":[{\"line\":{\"colorbar\":{\"outlinewidth\":0,\"ticks\":\"\"}},\"type\":\"parcoords\"}],\"pie\":[{\"automargin\":true,\"type\":\"pie\"}],\"scatter3d\":[{\"line\":{\"colorbar\":{\"outlinewidth\":0,\"ticks\":\"\"}},\"marker\":{\"colorbar\":{\"outlinewidth\":0,\"ticks\":\"\"}},\"type\":\"scatter3d\"}],\"scattercarpet\":[{\"marker\":{\"colorbar\":{\"outlinewidth\":0,\"ticks\":\"\"}},\"type\":\"scattercarpet\"}],\"scattergeo\":[{\"marker\":{\"colorbar\":{\"outlinewidth\":0,\"ticks\":\"\"}},\"type\":\"scattergeo\"}],\"scattergl\":[{\"marker\":{\"line\":{\"color\":\"#283442\"}},\"type\":\"scattergl\"}],\"scattermapbox\":[{\"marker\":{\"colorbar\":{\"outlinewidth\":0,\"ticks\":\"\"}},\"type\":\"scattermapbox\"}],\"scatterpolargl\":[{\"marker\":{\"colorbar\":{\"outlinewidth\":0,\"ticks\":\"\"}},\"type\":\"scatterpolargl\"}],\"scatterpolar\":[{\"marker\":{\"colorbar\":{\"outlinewidth\":0,\"ticks\":\"\"}},\"type\":\"scatterpolar\"}],\"scatter\":[{\"marker\":{\"line\":{\"color\":\"#283442\"}},\"type\":\"scatter\"}],\"scatterternary\":[{\"marker\":{\"colorbar\":{\"outlinewidth\":0,\"ticks\":\"\"}},\"type\":\"scatterternary\"}],\"surface\":[{\"colorbar\":{\"outlinewidth\":0,\"ticks\":\"\"},\"colorscale\":[[0.0,\"#0d0887\"],[0.1111111111111111,\"#46039f\"],[0.2222222222222222,\"#7201a8\"],[0.3333333333333333,\"#9c179e\"],[0.4444444444444444,\"#bd3786\"],[0.5555555555555556,\"#d8576b\"],[0.6666666666666666,\"#ed7953\"],[0.7777777777777778,\"#fb9f3a\"],[0.8888888888888888,\"#fdca26\"],[1.0,\"#f0f921\"]],\"type\":\"surface\"}],\"table\":[{\"cells\":{\"fill\":{\"color\":\"#506784\"},\"line\":{\"color\":\"rgb(17,17,17)\"}},\"header\":{\"fill\":{\"color\":\"#2a3f5f\"},\"line\":{\"color\":\"rgb(17,17,17)\"}},\"type\":\"table\"}]},\"layout\":{\"annotationdefaults\":{\"arrowcolor\":\"#f2f5fa\",\"arrowhead\":0,\"arrowwidth\":1},\"autotypenumbers\":\"strict\",\"coloraxis\":{\"colorbar\":{\"outlinewidth\":0,\"ticks\":\"\"}},\"colorscale\":{\"diverging\":[[0,\"#8e0152\"],[0.1,\"#c51b7d\"],[0.2,\"#de77ae\"],[0.3,\"#f1b6da\"],[0.4,\"#fde0ef\"],[0.5,\"#f7f7f7\"],[0.6,\"#e6f5d0\"],[0.7,\"#b8e186\"],[0.8,\"#7fbc41\"],[0.9,\"#4d9221\"],[1,\"#276419\"]],\"sequential\":[[0.0,\"#0d0887\"],[0.1111111111111111,\"#46039f\"],[0.2222222222222222,\"#7201a8\"],[0.3333333333333333,\"#9c179e\"],[0.4444444444444444,\"#bd3786\"],[0.5555555555555556,\"#d8576b\"],[0.6666666666666666,\"#ed7953\"],[0.7777777777777778,\"#fb9f3a\"],[0.8888888888888888,\"#fdca26\"],[1.0,\"#f0f921\"]],\"sequentialminus\":[[0.0,\"#0d0887\"],[0.1111111111111111,\"#46039f\"],[0.2222222222222222,\"#7201a8\"],[0.3333333333333333,\"#9c179e\"],[0.4444444444444444,\"#bd3786\"],[0.5555555555555556,\"#d8576b\"],[0.6666666666666666,\"#ed7953\"],[0.7777777777777778,\"#fb9f3a\"],[0.8888888888888888,\"#fdca26\"],[1.0,\"#f0f921\"]]},\"colorway\":[\"#636efa\",\"#EF553B\",\"#00cc96\",\"#ab63fa\",\"#FFA15A\",\"#19d3f3\",\"#FF6692\",\"#B6E880\",\"#FF97FF\",\"#FECB52\"],\"font\":{\"color\":\"#f2f5fa\"},\"geo\":{\"bgcolor\":\"rgb(17,17,17)\",\"lakecolor\":\"rgb(17,17,17)\",\"landcolor\":\"rgb(17,17,17)\",\"showlakes\":true,\"showland\":true,\"subunitcolor\":\"#506784\"},\"hoverlabel\":{\"align\":\"left\"},\"hovermode\":\"closest\",\"mapbox\":{\"style\":\"dark\"},\"paper_bgcolor\":\"rgb(17,17,17)\",\"plot_bgcolor\":\"rgb(17,17,17)\",\"polar\":{\"angularaxis\":{\"gridcolor\":\"#506784\",\"linecolor\":\"#506784\",\"ticks\":\"\"},\"bgcolor\":\"rgb(17,17,17)\",\"radialaxis\":{\"gridcolor\":\"#506784\",\"linecolor\":\"#506784\",\"ticks\":\"\"}},\"scene\":{\"xaxis\":{\"backgroundcolor\":\"rgb(17,17,17)\",\"gridcolor\":\"#506784\",\"gridwidth\":2,\"linecolor\":\"#506784\",\"showbackground\":true,\"ticks\":\"\",\"zerolinecolor\":\"#C8D4E3\"},\"yaxis\":{\"backgroundcolor\":\"rgb(17,17,17)\",\"gridcolor\":\"#506784\",\"gridwidth\":2,\"linecolor\":\"#506784\",\"showbackground\":true,\"ticks\":\"\",\"zerolinecolor\":\"#C8D4E3\"},\"zaxis\":{\"backgroundcolor\":\"rgb(17,17,17)\",\"gridcolor\":\"#506784\",\"gridwidth\":2,\"linecolor\":\"#506784\",\"showbackground\":true,\"ticks\":\"\",\"zerolinecolor\":\"#C8D4E3\"}},\"shapedefaults\":{\"line\":{\"color\":\"#f2f5fa\"}},\"sliderdefaults\":{\"bgcolor\":\"#C8D4E3\",\"bordercolor\":\"rgb(17,17,17)\",\"borderwidth\":1,\"tickwidth\":0},\"ternary\":{\"aaxis\":{\"gridcolor\":\"#506784\",\"linecolor\":\"#506784\",\"ticks\":\"\"},\"baxis\":{\"gridcolor\":\"#506784\",\"linecolor\":\"#506784\",\"ticks\":\"\"},\"bgcolor\":\"rgb(17,17,17)\",\"caxis\":{\"gridcolor\":\"#506784\",\"linecolor\":\"#506784\",\"ticks\":\"\"}},\"title\":{\"x\":0.05},\"updatemenudefaults\":{\"bgcolor\":\"#506784\",\"borderwidth\":0},\"xaxis\":{\"automargin\":true,\"gridcolor\":\"#283442\",\"linecolor\":\"#506784\",\"ticks\":\"\",\"title\":{\"standoff\":15},\"zerolinecolor\":\"#283442\",\"zerolinewidth\":2},\"yaxis\":{\"automargin\":true,\"gridcolor\":\"#283442\",\"linecolor\":\"#506784\",\"ticks\":\"\",\"title\":{\"standoff\":15},\"zerolinecolor\":\"#283442\",\"zerolinewidth\":2}}},\"xaxis\":{\"anchor\":\"y\",\"domain\":[0.0,1.0],\"title\":{\"text\":\"Country\\u002fRegion\"}},\"yaxis\":{\"anchor\":\"x\",\"domain\":[0.0,1.0],\"title\":{\"text\":\"value\"}},\"legend\":{\"title\":{\"text\":\"variable\"},\"tracegroupgap\":0},\"title\":{\"text\":\"Bar Comparison for top 5 Countires on Per 100\"},\"barmode\":\"relative\"},                        {\"responsive\": true}                    ).then(function(){\n",
       "                            \n",
       "var gd = document.getElementById('e5d606cd-b420-49ce-8595-afd153298238');\n",
       "var x = new MutationObserver(function (mutations, observer) {{\n",
       "        var display = window.getComputedStyle(gd).display;\n",
       "        if (!display || display === 'none') {{\n",
       "            console.log([gd, 'removed!']);\n",
       "            Plotly.purge(gd);\n",
       "            observer.disconnect();\n",
       "        }}\n",
       "}});\n",
       "\n",
       "// Listen for the removal of the full notebook cells\n",
       "var notebookContainer = gd.closest('#notebook-container');\n",
       "if (notebookContainer) {{\n",
       "    x.observe(notebookContainer, {childList: true});\n",
       "}}\n",
       "\n",
       "// Listen for the clearing of the current output cell\n",
       "var outputEl = gd.closest('.output');\n",
       "if (outputEl) {{\n",
       "    x.observe(outputEl, {childList: true});\n",
       "}}\n",
       "\n",
       "                        })                };                });            </script>        </div>"
      ]
     },
     "metadata": {},
     "output_type": "display_data"
    },
    {
     "data": {
      "text/html": [
       "<div>                            <div id=\"41a4c69b-2d5d-42fe-86e6-073b3ab53bd3\" class=\"plotly-graph-div\" style=\"height:525px; width:100%;\"></div>            <script type=\"text/javascript\">                require([\"plotly\"], function(Plotly) {                    window.PLOTLYENV=window.PLOTLYENV || {};                                    if (document.getElementById(\"41a4c69b-2d5d-42fe-86e6-073b3ab53bd3\")) {                    Plotly.newPlot(                        \"41a4c69b-2d5d-42fe-86e6-073b3ab53bd3\",                        [{\"alignmentgroup\":\"True\",\"hovertemplate\":\"variable=Confirmed last week\\u003cbr\\u003eCountry\\u002fRegion=%{x}\\u003cbr\\u003evalue=%{y}\\u003cextra\\u003e\\u003c\\u002fextra\\u003e\",\"legendgroup\":\"Confirmed last week\",\"marker\":{\"color\":\"#636efa\",\"pattern\":{\"shape\":\"\"}},\"name\":\"Confirmed last week\",\"offsetgroup\":\"Confirmed last week\",\"orientation\":\"v\",\"showlegend\":true,\"textposition\":\"auto\",\"x\":[\"US\",\"Brazil\",\"India\",\"Russia\",\"South Africa\"],\"xaxis\":\"x\",\"y\":[3834677,2118646,1155338,776212,373628],\"yaxis\":\"y\",\"type\":\"bar\"},{\"alignmentgroup\":\"True\",\"hovertemplate\":\"variable=1 week change\\u003cbr\\u003eCountry\\u002fRegion=%{x}\\u003cbr\\u003evalue=%{y}\\u003cextra\\u003e\\u003c\\u002fextra\\u003e\",\"legendgroup\":\"1 week change\",\"marker\":{\"color\":\"#EF553B\",\"pattern\":{\"shape\":\"\"}},\"name\":\"1 week change\",\"offsetgroup\":\"1 week change\",\"orientation\":\"v\",\"showlegend\":true,\"textposition\":\"auto\",\"x\":[\"US\",\"Brazil\",\"India\",\"Russia\",\"South Africa\"],\"xaxis\":\"x\",\"y\":[455582,323729,324735,40468,78901],\"yaxis\":\"y\",\"type\":\"bar\"}],                        {\"template\":{\"data\":{\"barpolar\":[{\"marker\":{\"line\":{\"color\":\"rgb(17,17,17)\",\"width\":0.5},\"pattern\":{\"fillmode\":\"overlay\",\"size\":10,\"solidity\":0.2}},\"type\":\"barpolar\"}],\"bar\":[{\"error_x\":{\"color\":\"#f2f5fa\"},\"error_y\":{\"color\":\"#f2f5fa\"},\"marker\":{\"line\":{\"color\":\"rgb(17,17,17)\",\"width\":0.5},\"pattern\":{\"fillmode\":\"overlay\",\"size\":10,\"solidity\":0.2}},\"type\":\"bar\"}],\"carpet\":[{\"aaxis\":{\"endlinecolor\":\"#A2B1C6\",\"gridcolor\":\"#506784\",\"linecolor\":\"#506784\",\"minorgridcolor\":\"#506784\",\"startlinecolor\":\"#A2B1C6\"},\"baxis\":{\"endlinecolor\":\"#A2B1C6\",\"gridcolor\":\"#506784\",\"linecolor\":\"#506784\",\"minorgridcolor\":\"#506784\",\"startlinecolor\":\"#A2B1C6\"},\"type\":\"carpet\"}],\"choropleth\":[{\"colorbar\":{\"outlinewidth\":0,\"ticks\":\"\"},\"type\":\"choropleth\"}],\"contourcarpet\":[{\"colorbar\":{\"outlinewidth\":0,\"ticks\":\"\"},\"type\":\"contourcarpet\"}],\"contour\":[{\"colorbar\":{\"outlinewidth\":0,\"ticks\":\"\"},\"colorscale\":[[0.0,\"#0d0887\"],[0.1111111111111111,\"#46039f\"],[0.2222222222222222,\"#7201a8\"],[0.3333333333333333,\"#9c179e\"],[0.4444444444444444,\"#bd3786\"],[0.5555555555555556,\"#d8576b\"],[0.6666666666666666,\"#ed7953\"],[0.7777777777777778,\"#fb9f3a\"],[0.8888888888888888,\"#fdca26\"],[1.0,\"#f0f921\"]],\"type\":\"contour\"}],\"heatmapgl\":[{\"colorbar\":{\"outlinewidth\":0,\"ticks\":\"\"},\"colorscale\":[[0.0,\"#0d0887\"],[0.1111111111111111,\"#46039f\"],[0.2222222222222222,\"#7201a8\"],[0.3333333333333333,\"#9c179e\"],[0.4444444444444444,\"#bd3786\"],[0.5555555555555556,\"#d8576b\"],[0.6666666666666666,\"#ed7953\"],[0.7777777777777778,\"#fb9f3a\"],[0.8888888888888888,\"#fdca26\"],[1.0,\"#f0f921\"]],\"type\":\"heatmapgl\"}],\"heatmap\":[{\"colorbar\":{\"outlinewidth\":0,\"ticks\":\"\"},\"colorscale\":[[0.0,\"#0d0887\"],[0.1111111111111111,\"#46039f\"],[0.2222222222222222,\"#7201a8\"],[0.3333333333333333,\"#9c179e\"],[0.4444444444444444,\"#bd3786\"],[0.5555555555555556,\"#d8576b\"],[0.6666666666666666,\"#ed7953\"],[0.7777777777777778,\"#fb9f3a\"],[0.8888888888888888,\"#fdca26\"],[1.0,\"#f0f921\"]],\"type\":\"heatmap\"}],\"histogram2dcontour\":[{\"colorbar\":{\"outlinewidth\":0,\"ticks\":\"\"},\"colorscale\":[[0.0,\"#0d0887\"],[0.1111111111111111,\"#46039f\"],[0.2222222222222222,\"#7201a8\"],[0.3333333333333333,\"#9c179e\"],[0.4444444444444444,\"#bd3786\"],[0.5555555555555556,\"#d8576b\"],[0.6666666666666666,\"#ed7953\"],[0.7777777777777778,\"#fb9f3a\"],[0.8888888888888888,\"#fdca26\"],[1.0,\"#f0f921\"]],\"type\":\"histogram2dcontour\"}],\"histogram2d\":[{\"colorbar\":{\"outlinewidth\":0,\"ticks\":\"\"},\"colorscale\":[[0.0,\"#0d0887\"],[0.1111111111111111,\"#46039f\"],[0.2222222222222222,\"#7201a8\"],[0.3333333333333333,\"#9c179e\"],[0.4444444444444444,\"#bd3786\"],[0.5555555555555556,\"#d8576b\"],[0.6666666666666666,\"#ed7953\"],[0.7777777777777778,\"#fb9f3a\"],[0.8888888888888888,\"#fdca26\"],[1.0,\"#f0f921\"]],\"type\":\"histogram2d\"}],\"histogram\":[{\"marker\":{\"pattern\":{\"fillmode\":\"overlay\",\"size\":10,\"solidity\":0.2}},\"type\":\"histogram\"}],\"mesh3d\":[{\"colorbar\":{\"outlinewidth\":0,\"ticks\":\"\"},\"type\":\"mesh3d\"}],\"parcoords\":[{\"line\":{\"colorbar\":{\"outlinewidth\":0,\"ticks\":\"\"}},\"type\":\"parcoords\"}],\"pie\":[{\"automargin\":true,\"type\":\"pie\"}],\"scatter3d\":[{\"line\":{\"colorbar\":{\"outlinewidth\":0,\"ticks\":\"\"}},\"marker\":{\"colorbar\":{\"outlinewidth\":0,\"ticks\":\"\"}},\"type\":\"scatter3d\"}],\"scattercarpet\":[{\"marker\":{\"colorbar\":{\"outlinewidth\":0,\"ticks\":\"\"}},\"type\":\"scattercarpet\"}],\"scattergeo\":[{\"marker\":{\"colorbar\":{\"outlinewidth\":0,\"ticks\":\"\"}},\"type\":\"scattergeo\"}],\"scattergl\":[{\"marker\":{\"line\":{\"color\":\"#283442\"}},\"type\":\"scattergl\"}],\"scattermapbox\":[{\"marker\":{\"colorbar\":{\"outlinewidth\":0,\"ticks\":\"\"}},\"type\":\"scattermapbox\"}],\"scatterpolargl\":[{\"marker\":{\"colorbar\":{\"outlinewidth\":0,\"ticks\":\"\"}},\"type\":\"scatterpolargl\"}],\"scatterpolar\":[{\"marker\":{\"colorbar\":{\"outlinewidth\":0,\"ticks\":\"\"}},\"type\":\"scatterpolar\"}],\"scatter\":[{\"marker\":{\"line\":{\"color\":\"#283442\"}},\"type\":\"scatter\"}],\"scatterternary\":[{\"marker\":{\"colorbar\":{\"outlinewidth\":0,\"ticks\":\"\"}},\"type\":\"scatterternary\"}],\"surface\":[{\"colorbar\":{\"outlinewidth\":0,\"ticks\":\"\"},\"colorscale\":[[0.0,\"#0d0887\"],[0.1111111111111111,\"#46039f\"],[0.2222222222222222,\"#7201a8\"],[0.3333333333333333,\"#9c179e\"],[0.4444444444444444,\"#bd3786\"],[0.5555555555555556,\"#d8576b\"],[0.6666666666666666,\"#ed7953\"],[0.7777777777777778,\"#fb9f3a\"],[0.8888888888888888,\"#fdca26\"],[1.0,\"#f0f921\"]],\"type\":\"surface\"}],\"table\":[{\"cells\":{\"fill\":{\"color\":\"#506784\"},\"line\":{\"color\":\"rgb(17,17,17)\"}},\"header\":{\"fill\":{\"color\":\"#2a3f5f\"},\"line\":{\"color\":\"rgb(17,17,17)\"}},\"type\":\"table\"}]},\"layout\":{\"annotationdefaults\":{\"arrowcolor\":\"#f2f5fa\",\"arrowhead\":0,\"arrowwidth\":1},\"autotypenumbers\":\"strict\",\"coloraxis\":{\"colorbar\":{\"outlinewidth\":0,\"ticks\":\"\"}},\"colorscale\":{\"diverging\":[[0,\"#8e0152\"],[0.1,\"#c51b7d\"],[0.2,\"#de77ae\"],[0.3,\"#f1b6da\"],[0.4,\"#fde0ef\"],[0.5,\"#f7f7f7\"],[0.6,\"#e6f5d0\"],[0.7,\"#b8e186\"],[0.8,\"#7fbc41\"],[0.9,\"#4d9221\"],[1,\"#276419\"]],\"sequential\":[[0.0,\"#0d0887\"],[0.1111111111111111,\"#46039f\"],[0.2222222222222222,\"#7201a8\"],[0.3333333333333333,\"#9c179e\"],[0.4444444444444444,\"#bd3786\"],[0.5555555555555556,\"#d8576b\"],[0.6666666666666666,\"#ed7953\"],[0.7777777777777778,\"#fb9f3a\"],[0.8888888888888888,\"#fdca26\"],[1.0,\"#f0f921\"]],\"sequentialminus\":[[0.0,\"#0d0887\"],[0.1111111111111111,\"#46039f\"],[0.2222222222222222,\"#7201a8\"],[0.3333333333333333,\"#9c179e\"],[0.4444444444444444,\"#bd3786\"],[0.5555555555555556,\"#d8576b\"],[0.6666666666666666,\"#ed7953\"],[0.7777777777777778,\"#fb9f3a\"],[0.8888888888888888,\"#fdca26\"],[1.0,\"#f0f921\"]]},\"colorway\":[\"#636efa\",\"#EF553B\",\"#00cc96\",\"#ab63fa\",\"#FFA15A\",\"#19d3f3\",\"#FF6692\",\"#B6E880\",\"#FF97FF\",\"#FECB52\"],\"font\":{\"color\":\"#f2f5fa\"},\"geo\":{\"bgcolor\":\"rgb(17,17,17)\",\"lakecolor\":\"rgb(17,17,17)\",\"landcolor\":\"rgb(17,17,17)\",\"showlakes\":true,\"showland\":true,\"subunitcolor\":\"#506784\"},\"hoverlabel\":{\"align\":\"left\"},\"hovermode\":\"closest\",\"mapbox\":{\"style\":\"dark\"},\"paper_bgcolor\":\"rgb(17,17,17)\",\"plot_bgcolor\":\"rgb(17,17,17)\",\"polar\":{\"angularaxis\":{\"gridcolor\":\"#506784\",\"linecolor\":\"#506784\",\"ticks\":\"\"},\"bgcolor\":\"rgb(17,17,17)\",\"radialaxis\":{\"gridcolor\":\"#506784\",\"linecolor\":\"#506784\",\"ticks\":\"\"}},\"scene\":{\"xaxis\":{\"backgroundcolor\":\"rgb(17,17,17)\",\"gridcolor\":\"#506784\",\"gridwidth\":2,\"linecolor\":\"#506784\",\"showbackground\":true,\"ticks\":\"\",\"zerolinecolor\":\"#C8D4E3\"},\"yaxis\":{\"backgroundcolor\":\"rgb(17,17,17)\",\"gridcolor\":\"#506784\",\"gridwidth\":2,\"linecolor\":\"#506784\",\"showbackground\":true,\"ticks\":\"\",\"zerolinecolor\":\"#C8D4E3\"},\"zaxis\":{\"backgroundcolor\":\"rgb(17,17,17)\",\"gridcolor\":\"#506784\",\"gridwidth\":2,\"linecolor\":\"#506784\",\"showbackground\":true,\"ticks\":\"\",\"zerolinecolor\":\"#C8D4E3\"}},\"shapedefaults\":{\"line\":{\"color\":\"#f2f5fa\"}},\"sliderdefaults\":{\"bgcolor\":\"#C8D4E3\",\"bordercolor\":\"rgb(17,17,17)\",\"borderwidth\":1,\"tickwidth\":0},\"ternary\":{\"aaxis\":{\"gridcolor\":\"#506784\",\"linecolor\":\"#506784\",\"ticks\":\"\"},\"baxis\":{\"gridcolor\":\"#506784\",\"linecolor\":\"#506784\",\"ticks\":\"\"},\"bgcolor\":\"rgb(17,17,17)\",\"caxis\":{\"gridcolor\":\"#506784\",\"linecolor\":\"#506784\",\"ticks\":\"\"}},\"title\":{\"x\":0.05},\"updatemenudefaults\":{\"bgcolor\":\"#506784\",\"borderwidth\":0},\"xaxis\":{\"automargin\":true,\"gridcolor\":\"#283442\",\"linecolor\":\"#506784\",\"ticks\":\"\",\"title\":{\"standoff\":15},\"zerolinecolor\":\"#283442\",\"zerolinewidth\":2},\"yaxis\":{\"automargin\":true,\"gridcolor\":\"#283442\",\"linecolor\":\"#506784\",\"ticks\":\"\",\"title\":{\"standoff\":15},\"zerolinecolor\":\"#283442\",\"zerolinewidth\":2}}},\"xaxis\":{\"anchor\":\"y\",\"domain\":[0.0,1.0],\"title\":{\"text\":\"Country\\u002fRegion\"}},\"yaxis\":{\"anchor\":\"x\",\"domain\":[0.0,1.0],\"title\":{\"text\":\"value\"}},\"legend\":{\"title\":{\"text\":\"variable\"},\"tracegroupgap\":0},\"title\":{\"text\":\"Bar Comparison for top 5 Countires on Week\"},\"barmode\":\"relative\"},                        {\"responsive\": true}                    ).then(function(){\n",
       "                            \n",
       "var gd = document.getElementById('41a4c69b-2d5d-42fe-86e6-073b3ab53bd3');\n",
       "var x = new MutationObserver(function (mutations, observer) {{\n",
       "        var display = window.getComputedStyle(gd).display;\n",
       "        if (!display || display === 'none') {{\n",
       "            console.log([gd, 'removed!']);\n",
       "            Plotly.purge(gd);\n",
       "            observer.disconnect();\n",
       "        }}\n",
       "}});\n",
       "\n",
       "// Listen for the removal of the full notebook cells\n",
       "var notebookContainer = gd.closest('#notebook-container');\n",
       "if (notebookContainer) {{\n",
       "    x.observe(notebookContainer, {childList: true});\n",
       "}}\n",
       "\n",
       "// Listen for the clearing of the current output cell\n",
       "var outputEl = gd.closest('.output');\n",
       "if (outputEl) {{\n",
       "    x.observe(outputEl, {childList: true});\n",
       "}}\n",
       "\n",
       "                        })                };                });            </script>        </div>"
      ]
     },
     "metadata": {},
     "output_type": "display_data"
    },
    {
     "data": {
      "text/html": [
       "<div>                            <div id=\"129f6499-9136-43be-b64e-a7587827c259\" class=\"plotly-graph-div\" style=\"height:525px; width:100%;\"></div>            <script type=\"text/javascript\">                require([\"plotly\"], function(Plotly) {                    window.PLOTLYENV=window.PLOTLYENV || {};                                    if (document.getElementById(\"129f6499-9136-43be-b64e-a7587827c259\")) {                    Plotly.newPlot(                        \"129f6499-9136-43be-b64e-a7587827c259\",                        [{\"alignmentgroup\":\"True\",\"hovertemplate\":\"variable=1 week % increase\\u003cbr\\u003eCountry\\u002fRegion=%{x}\\u003cbr\\u003evalue=%{y}\\u003cextra\\u003e\\u003c\\u002fextra\\u003e\",\"legendgroup\":\"1 week % increase\",\"marker\":{\"color\":\"#636efa\",\"pattern\":{\"shape\":\"\"}},\"name\":\"1 week % increase\",\"offsetgroup\":\"1 week % increase\",\"orientation\":\"v\",\"showlegend\":true,\"textposition\":\"auto\",\"x\":[\"US\",\"Brazil\",\"India\",\"Russia\",\"South Africa\"],\"xaxis\":\"x\",\"y\":[11.88,15.28,28.11,5.21,21.12],\"yaxis\":\"y\",\"type\":\"bar\"}],                        {\"template\":{\"data\":{\"barpolar\":[{\"marker\":{\"line\":{\"color\":\"rgb(17,17,17)\",\"width\":0.5},\"pattern\":{\"fillmode\":\"overlay\",\"size\":10,\"solidity\":0.2}},\"type\":\"barpolar\"}],\"bar\":[{\"error_x\":{\"color\":\"#f2f5fa\"},\"error_y\":{\"color\":\"#f2f5fa\"},\"marker\":{\"line\":{\"color\":\"rgb(17,17,17)\",\"width\":0.5},\"pattern\":{\"fillmode\":\"overlay\",\"size\":10,\"solidity\":0.2}},\"type\":\"bar\"}],\"carpet\":[{\"aaxis\":{\"endlinecolor\":\"#A2B1C6\",\"gridcolor\":\"#506784\",\"linecolor\":\"#506784\",\"minorgridcolor\":\"#506784\",\"startlinecolor\":\"#A2B1C6\"},\"baxis\":{\"endlinecolor\":\"#A2B1C6\",\"gridcolor\":\"#506784\",\"linecolor\":\"#506784\",\"minorgridcolor\":\"#506784\",\"startlinecolor\":\"#A2B1C6\"},\"type\":\"carpet\"}],\"choropleth\":[{\"colorbar\":{\"outlinewidth\":0,\"ticks\":\"\"},\"type\":\"choropleth\"}],\"contourcarpet\":[{\"colorbar\":{\"outlinewidth\":0,\"ticks\":\"\"},\"type\":\"contourcarpet\"}],\"contour\":[{\"colorbar\":{\"outlinewidth\":0,\"ticks\":\"\"},\"colorscale\":[[0.0,\"#0d0887\"],[0.1111111111111111,\"#46039f\"],[0.2222222222222222,\"#7201a8\"],[0.3333333333333333,\"#9c179e\"],[0.4444444444444444,\"#bd3786\"],[0.5555555555555556,\"#d8576b\"],[0.6666666666666666,\"#ed7953\"],[0.7777777777777778,\"#fb9f3a\"],[0.8888888888888888,\"#fdca26\"],[1.0,\"#f0f921\"]],\"type\":\"contour\"}],\"heatmapgl\":[{\"colorbar\":{\"outlinewidth\":0,\"ticks\":\"\"},\"colorscale\":[[0.0,\"#0d0887\"],[0.1111111111111111,\"#46039f\"],[0.2222222222222222,\"#7201a8\"],[0.3333333333333333,\"#9c179e\"],[0.4444444444444444,\"#bd3786\"],[0.5555555555555556,\"#d8576b\"],[0.6666666666666666,\"#ed7953\"],[0.7777777777777778,\"#fb9f3a\"],[0.8888888888888888,\"#fdca26\"],[1.0,\"#f0f921\"]],\"type\":\"heatmapgl\"}],\"heatmap\":[{\"colorbar\":{\"outlinewidth\":0,\"ticks\":\"\"},\"colorscale\":[[0.0,\"#0d0887\"],[0.1111111111111111,\"#46039f\"],[0.2222222222222222,\"#7201a8\"],[0.3333333333333333,\"#9c179e\"],[0.4444444444444444,\"#bd3786\"],[0.5555555555555556,\"#d8576b\"],[0.6666666666666666,\"#ed7953\"],[0.7777777777777778,\"#fb9f3a\"],[0.8888888888888888,\"#fdca26\"],[1.0,\"#f0f921\"]],\"type\":\"heatmap\"}],\"histogram2dcontour\":[{\"colorbar\":{\"outlinewidth\":0,\"ticks\":\"\"},\"colorscale\":[[0.0,\"#0d0887\"],[0.1111111111111111,\"#46039f\"],[0.2222222222222222,\"#7201a8\"],[0.3333333333333333,\"#9c179e\"],[0.4444444444444444,\"#bd3786\"],[0.5555555555555556,\"#d8576b\"],[0.6666666666666666,\"#ed7953\"],[0.7777777777777778,\"#fb9f3a\"],[0.8888888888888888,\"#fdca26\"],[1.0,\"#f0f921\"]],\"type\":\"histogram2dcontour\"}],\"histogram2d\":[{\"colorbar\":{\"outlinewidth\":0,\"ticks\":\"\"},\"colorscale\":[[0.0,\"#0d0887\"],[0.1111111111111111,\"#46039f\"],[0.2222222222222222,\"#7201a8\"],[0.3333333333333333,\"#9c179e\"],[0.4444444444444444,\"#bd3786\"],[0.5555555555555556,\"#d8576b\"],[0.6666666666666666,\"#ed7953\"],[0.7777777777777778,\"#fb9f3a\"],[0.8888888888888888,\"#fdca26\"],[1.0,\"#f0f921\"]],\"type\":\"histogram2d\"}],\"histogram\":[{\"marker\":{\"pattern\":{\"fillmode\":\"overlay\",\"size\":10,\"solidity\":0.2}},\"type\":\"histogram\"}],\"mesh3d\":[{\"colorbar\":{\"outlinewidth\":0,\"ticks\":\"\"},\"type\":\"mesh3d\"}],\"parcoords\":[{\"line\":{\"colorbar\":{\"outlinewidth\":0,\"ticks\":\"\"}},\"type\":\"parcoords\"}],\"pie\":[{\"automargin\":true,\"type\":\"pie\"}],\"scatter3d\":[{\"line\":{\"colorbar\":{\"outlinewidth\":0,\"ticks\":\"\"}},\"marker\":{\"colorbar\":{\"outlinewidth\":0,\"ticks\":\"\"}},\"type\":\"scatter3d\"}],\"scattercarpet\":[{\"marker\":{\"colorbar\":{\"outlinewidth\":0,\"ticks\":\"\"}},\"type\":\"scattercarpet\"}],\"scattergeo\":[{\"marker\":{\"colorbar\":{\"outlinewidth\":0,\"ticks\":\"\"}},\"type\":\"scattergeo\"}],\"scattergl\":[{\"marker\":{\"line\":{\"color\":\"#283442\"}},\"type\":\"scattergl\"}],\"scattermapbox\":[{\"marker\":{\"colorbar\":{\"outlinewidth\":0,\"ticks\":\"\"}},\"type\":\"scattermapbox\"}],\"scatterpolargl\":[{\"marker\":{\"colorbar\":{\"outlinewidth\":0,\"ticks\":\"\"}},\"type\":\"scatterpolargl\"}],\"scatterpolar\":[{\"marker\":{\"colorbar\":{\"outlinewidth\":0,\"ticks\":\"\"}},\"type\":\"scatterpolar\"}],\"scatter\":[{\"marker\":{\"line\":{\"color\":\"#283442\"}},\"type\":\"scatter\"}],\"scatterternary\":[{\"marker\":{\"colorbar\":{\"outlinewidth\":0,\"ticks\":\"\"}},\"type\":\"scatterternary\"}],\"surface\":[{\"colorbar\":{\"outlinewidth\":0,\"ticks\":\"\"},\"colorscale\":[[0.0,\"#0d0887\"],[0.1111111111111111,\"#46039f\"],[0.2222222222222222,\"#7201a8\"],[0.3333333333333333,\"#9c179e\"],[0.4444444444444444,\"#bd3786\"],[0.5555555555555556,\"#d8576b\"],[0.6666666666666666,\"#ed7953\"],[0.7777777777777778,\"#fb9f3a\"],[0.8888888888888888,\"#fdca26\"],[1.0,\"#f0f921\"]],\"type\":\"surface\"}],\"table\":[{\"cells\":{\"fill\":{\"color\":\"#506784\"},\"line\":{\"color\":\"rgb(17,17,17)\"}},\"header\":{\"fill\":{\"color\":\"#2a3f5f\"},\"line\":{\"color\":\"rgb(17,17,17)\"}},\"type\":\"table\"}]},\"layout\":{\"annotationdefaults\":{\"arrowcolor\":\"#f2f5fa\",\"arrowhead\":0,\"arrowwidth\":1},\"autotypenumbers\":\"strict\",\"coloraxis\":{\"colorbar\":{\"outlinewidth\":0,\"ticks\":\"\"}},\"colorscale\":{\"diverging\":[[0,\"#8e0152\"],[0.1,\"#c51b7d\"],[0.2,\"#de77ae\"],[0.3,\"#f1b6da\"],[0.4,\"#fde0ef\"],[0.5,\"#f7f7f7\"],[0.6,\"#e6f5d0\"],[0.7,\"#b8e186\"],[0.8,\"#7fbc41\"],[0.9,\"#4d9221\"],[1,\"#276419\"]],\"sequential\":[[0.0,\"#0d0887\"],[0.1111111111111111,\"#46039f\"],[0.2222222222222222,\"#7201a8\"],[0.3333333333333333,\"#9c179e\"],[0.4444444444444444,\"#bd3786\"],[0.5555555555555556,\"#d8576b\"],[0.6666666666666666,\"#ed7953\"],[0.7777777777777778,\"#fb9f3a\"],[0.8888888888888888,\"#fdca26\"],[1.0,\"#f0f921\"]],\"sequentialminus\":[[0.0,\"#0d0887\"],[0.1111111111111111,\"#46039f\"],[0.2222222222222222,\"#7201a8\"],[0.3333333333333333,\"#9c179e\"],[0.4444444444444444,\"#bd3786\"],[0.5555555555555556,\"#d8576b\"],[0.6666666666666666,\"#ed7953\"],[0.7777777777777778,\"#fb9f3a\"],[0.8888888888888888,\"#fdca26\"],[1.0,\"#f0f921\"]]},\"colorway\":[\"#636efa\",\"#EF553B\",\"#00cc96\",\"#ab63fa\",\"#FFA15A\",\"#19d3f3\",\"#FF6692\",\"#B6E880\",\"#FF97FF\",\"#FECB52\"],\"font\":{\"color\":\"#f2f5fa\"},\"geo\":{\"bgcolor\":\"rgb(17,17,17)\",\"lakecolor\":\"rgb(17,17,17)\",\"landcolor\":\"rgb(17,17,17)\",\"showlakes\":true,\"showland\":true,\"subunitcolor\":\"#506784\"},\"hoverlabel\":{\"align\":\"left\"},\"hovermode\":\"closest\",\"mapbox\":{\"style\":\"dark\"},\"paper_bgcolor\":\"rgb(17,17,17)\",\"plot_bgcolor\":\"rgb(17,17,17)\",\"polar\":{\"angularaxis\":{\"gridcolor\":\"#506784\",\"linecolor\":\"#506784\",\"ticks\":\"\"},\"bgcolor\":\"rgb(17,17,17)\",\"radialaxis\":{\"gridcolor\":\"#506784\",\"linecolor\":\"#506784\",\"ticks\":\"\"}},\"scene\":{\"xaxis\":{\"backgroundcolor\":\"rgb(17,17,17)\",\"gridcolor\":\"#506784\",\"gridwidth\":2,\"linecolor\":\"#506784\",\"showbackground\":true,\"ticks\":\"\",\"zerolinecolor\":\"#C8D4E3\"},\"yaxis\":{\"backgroundcolor\":\"rgb(17,17,17)\",\"gridcolor\":\"#506784\",\"gridwidth\":2,\"linecolor\":\"#506784\",\"showbackground\":true,\"ticks\":\"\",\"zerolinecolor\":\"#C8D4E3\"},\"zaxis\":{\"backgroundcolor\":\"rgb(17,17,17)\",\"gridcolor\":\"#506784\",\"gridwidth\":2,\"linecolor\":\"#506784\",\"showbackground\":true,\"ticks\":\"\",\"zerolinecolor\":\"#C8D4E3\"}},\"shapedefaults\":{\"line\":{\"color\":\"#f2f5fa\"}},\"sliderdefaults\":{\"bgcolor\":\"#C8D4E3\",\"bordercolor\":\"rgb(17,17,17)\",\"borderwidth\":1,\"tickwidth\":0},\"ternary\":{\"aaxis\":{\"gridcolor\":\"#506784\",\"linecolor\":\"#506784\",\"ticks\":\"\"},\"baxis\":{\"gridcolor\":\"#506784\",\"linecolor\":\"#506784\",\"ticks\":\"\"},\"bgcolor\":\"rgb(17,17,17)\",\"caxis\":{\"gridcolor\":\"#506784\",\"linecolor\":\"#506784\",\"ticks\":\"\"}},\"title\":{\"x\":0.05},\"updatemenudefaults\":{\"bgcolor\":\"#506784\",\"borderwidth\":0},\"xaxis\":{\"automargin\":true,\"gridcolor\":\"#283442\",\"linecolor\":\"#506784\",\"ticks\":\"\",\"title\":{\"standoff\":15},\"zerolinecolor\":\"#283442\",\"zerolinewidth\":2},\"yaxis\":{\"automargin\":true,\"gridcolor\":\"#283442\",\"linecolor\":\"#506784\",\"ticks\":\"\",\"title\":{\"standoff\":15},\"zerolinecolor\":\"#283442\",\"zerolinewidth\":2}}},\"xaxis\":{\"anchor\":\"y\",\"domain\":[0.0,1.0],\"title\":{\"text\":\"Country\\u002fRegion\"}},\"yaxis\":{\"anchor\":\"x\",\"domain\":[0.0,1.0],\"title\":{\"text\":\"value\"}},\"legend\":{\"title\":{\"text\":\"variable\"},\"tracegroupgap\":0},\"title\":{\"text\":\"Bar Comparison for top 5 Countires on Last Week Percentage Increase\"},\"barmode\":\"relative\"},                        {\"responsive\": true}                    ).then(function(){\n",
       "                            \n",
       "var gd = document.getElementById('129f6499-9136-43be-b64e-a7587827c259');\n",
       "var x = new MutationObserver(function (mutations, observer) {{\n",
       "        var display = window.getComputedStyle(gd).display;\n",
       "        if (!display || display === 'none') {{\n",
       "            console.log([gd, 'removed!']);\n",
       "            Plotly.purge(gd);\n",
       "            observer.disconnect();\n",
       "        }}\n",
       "}});\n",
       "\n",
       "// Listen for the removal of the full notebook cells\n",
       "var notebookContainer = gd.closest('#notebook-container');\n",
       "if (notebookContainer) {{\n",
       "    x.observe(notebookContainer, {childList: true});\n",
       "}}\n",
       "\n",
       "// Listen for the clearing of the current output cell\n",
       "var outputEl = gd.closest('.output');\n",
       "if (outputEl) {{\n",
       "    x.observe(outputEl, {childList: true});\n",
       "}}\n",
       "\n",
       "                        })                };                });            </script>        </div>"
      ]
     },
     "metadata": {},
     "output_type": "display_data"
    }
   ],
   "source": [
    "for col_title, col in cols.items():\n",
    "\n",
    "    # Create a bar chart for multiple columns\n",
    "    fig = px.bar(top_countries, x='Country/Region', y=col,\n",
    "                title=f'Bar Comparison for top {k} Countires on {col_title}',\n",
    "                template='plotly_dark',  # You can change the template based on your preference\n",
    "                )\n",
    "\n",
    "    # Show the figure\n",
    "    fig.show()"
   ]
  },
  {
   "cell_type": "markdown",
   "id": "a94e20f1",
   "metadata": {
    "papermill": {
     "duration": 0.02647,
     "end_time": "2024-01-25T10:44:38.212071",
     "exception": false,
     "start_time": "2024-01-25T10:44:38.185601",
     "status": "completed"
    },
    "tags": []
   },
   "source": [
    "# Visualization By Country Growth in Cases\n",
    "This compares the cases across the countries over the time span"
   ]
  },
  {
   "cell_type": "code",
   "execution_count": 32,
   "id": "e1238df3",
   "metadata": {
    "execution": {
     "iopub.execute_input": "2024-01-25T10:44:38.264946Z",
     "iopub.status.busy": "2024-01-25T10:44:38.264535Z",
     "iopub.status.idle": "2024-01-25T10:44:39.276947Z",
     "shell.execute_reply": "2024-01-25T10:44:39.275685Z"
    },
    "papermill": {
     "duration": 1.042538,
     "end_time": "2024-01-25T10:44:39.280004",
     "exception": false,
     "start_time": "2024-01-25T10:44:38.237466",
     "status": "completed"
    },
    "tags": []
   },
   "outputs": [
    {
     "data": {
      "text/html": [
       "<div>                            <div id=\"0caa23e6-f011-45f0-acc1-bc0292f8f4b5\" class=\"plotly-graph-div\" style=\"height:525px; width:100%;\"></div>            <script type=\"text/javascript\">                require([\"plotly\"], function(Plotly) {                    window.PLOTLYENV=window.PLOTLYENV || {};                                    if (document.getElementById(\"0caa23e6-f011-45f0-acc1-bc0292f8f4b5\")) {                    Plotly.newPlot(                        \"0caa23e6-f011-45f0-acc1-bc0292f8f4b5\",                        [{\"alignmentgroup\":\"True\",\"hovertemplate\":\"Country\\u002fRegion=Brazil\\u003cbr\\u003eDate=%{x}\\u003cbr\\u003eConfirmed=%{y}\\u003cextra\\u003e\\u003c\\u002fextra\\u003e\",\"legendgroup\":\"Brazil\",\"marker\":{\"color\":\"#636efa\",\"pattern\":{\"shape\":\"\"}},\"name\":\"Brazil\",\"offsetgroup\":\"Brazil\",\"orientation\":\"v\",\"showlegend\":true,\"textposition\":\"auto\",\"x\":[\"2020-01-22T00:00:00\",\"2020-01-24T00:00:00\",\"2020-01-26T00:00:00\",\"2020-01-28T00:00:00\",\"2020-01-30T00:00:00\",\"2020-02-02T00:00:00\",\"2020-02-04T00:00:00\",\"2020-02-06T00:00:00\",\"2020-02-08T00:00:00\",\"2020-02-10T00:00:00\",\"2020-02-12T00:00:00\",\"2020-02-14T00:00:00\",\"2020-02-16T00:00:00\",\"2020-02-18T00:00:00\",\"2020-02-20T00:00:00\",\"2020-02-22T00:00:00\",\"2020-02-24T00:00:00\",\"2020-02-26T00:00:00\",\"2020-02-28T00:00:00\",\"2020-03-02T00:00:00\",\"2020-03-04T00:00:00\",\"2020-03-06T00:00:00\",\"2020-03-08T00:00:00\",\"2020-03-10T00:00:00\",\"2020-03-12T00:00:00\",\"2020-03-14T00:00:00\",\"2020-03-16T00:00:00\",\"2020-03-18T00:00:00\",\"2020-03-20T00:00:00\",\"2020-03-22T00:00:00\",\"2020-03-24T00:00:00\",\"2020-03-26T00:00:00\",\"2020-03-28T00:00:00\",\"2020-03-30T00:00:00\",\"2020-04-02T00:00:00\",\"2020-04-04T00:00:00\",\"2020-04-06T00:00:00\",\"2020-04-08T00:00:00\",\"2020-04-10T00:00:00\",\"2020-04-12T00:00:00\",\"2020-04-14T00:00:00\",\"2020-04-16T00:00:00\",\"2020-04-18T00:00:00\",\"2020-04-20T00:00:00\",\"2020-04-22T00:00:00\",\"2020-04-24T00:00:00\",\"2020-04-26T00:00:00\",\"2020-04-28T00:00:00\",\"2020-04-30T00:00:00\",\"2020-05-02T00:00:00\",\"2020-05-04T00:00:00\",\"2020-05-06T00:00:00\",\"2020-05-08T00:00:00\",\"2020-05-10T00:00:00\",\"2020-05-12T00:00:00\",\"2020-05-14T00:00:00\",\"2020-05-16T00:00:00\",\"2020-05-18T00:00:00\",\"2020-05-20T00:00:00\",\"2020-05-22T00:00:00\",\"2020-05-24T00:00:00\",\"2020-05-26T00:00:00\",\"2020-05-28T00:00:00\",\"2020-05-30T00:00:00\",\"2020-06-02T00:00:00\",\"2020-06-04T00:00:00\",\"2020-06-06T00:00:00\",\"2020-06-08T00:00:00\",\"2020-06-10T00:00:00\",\"2020-06-12T00:00:00\",\"2020-06-14T00:00:00\",\"2020-06-16T00:00:00\",\"2020-06-18T00:00:00\",\"2020-06-20T00:00:00\",\"2020-06-22T00:00:00\",\"2020-06-24T00:00:00\",\"2020-06-26T00:00:00\",\"2020-06-28T00:00:00\",\"2020-06-30T00:00:00\",\"2020-07-02T00:00:00\",\"2020-07-04T00:00:00\",\"2020-07-06T00:00:00\",\"2020-07-08T00:00:00\",\"2020-07-10T00:00:00\",\"2020-07-12T00:00:00\",\"2020-07-14T00:00:00\",\"2020-07-16T00:00:00\",\"2020-07-18T00:00:00\",\"2020-07-20T00:00:00\",\"2020-07-22T00:00:00\",\"2020-07-24T00:00:00\",\"2020-07-26T00:00:00\"],\"xaxis\":\"x\",\"y\":[0,0,0,0,0,0,0,0,0,0,0,0,0,0,0,0,0,1,1,2,4,13,20,31,52,151,200,372,793,1546,2247,2985,3904,4579,8044,10360,12161,16170,19638,22192,25262,30425,36658,40743,45757,54043,63100,73235,87187,97100,108620,126611,146894,162699,178214,203165,233511,255368,291579,330890,363211,391222,438238,498440,555383,614941,672846,707412,772416,828810,867624,923189,978142,1067579,1106470,1188631,1274974,1344143,1402041,1496858,1577004,1623284,1713160,1800827,1864681,1926824,2012151,2074860,2118646,2227514,2343366,2419091],\"yaxis\":\"y\",\"type\":\"bar\"},{\"alignmentgroup\":\"True\",\"hovertemplate\":\"Country\\u002fRegion=India\\u003cbr\\u003eDate=%{x}\\u003cbr\\u003eConfirmed=%{y}\\u003cextra\\u003e\\u003c\\u002fextra\\u003e\",\"legendgroup\":\"India\",\"marker\":{\"color\":\"#EF553B\",\"pattern\":{\"shape\":\"\"}},\"name\":\"India\",\"offsetgroup\":\"India\",\"orientation\":\"v\",\"showlegend\":true,\"textposition\":\"auto\",\"x\":[\"2020-01-22T00:00:00\",\"2020-01-24T00:00:00\",\"2020-01-26T00:00:00\",\"2020-01-28T00:00:00\",\"2020-01-30T00:00:00\",\"2020-02-02T00:00:00\",\"2020-02-04T00:00:00\",\"2020-02-06T00:00:00\",\"2020-02-08T00:00:00\",\"2020-02-10T00:00:00\",\"2020-02-12T00:00:00\",\"2020-02-14T00:00:00\",\"2020-02-16T00:00:00\",\"2020-02-18T00:00:00\",\"2020-02-20T00:00:00\",\"2020-02-22T00:00:00\",\"2020-02-24T00:00:00\",\"2020-02-26T00:00:00\",\"2020-02-28T00:00:00\",\"2020-03-02T00:00:00\",\"2020-03-04T00:00:00\",\"2020-03-06T00:00:00\",\"2020-03-08T00:00:00\",\"2020-03-10T00:00:00\",\"2020-03-12T00:00:00\",\"2020-03-14T00:00:00\",\"2020-03-16T00:00:00\",\"2020-03-18T00:00:00\",\"2020-03-20T00:00:00\",\"2020-03-22T00:00:00\",\"2020-03-24T00:00:00\",\"2020-03-26T00:00:00\",\"2020-03-28T00:00:00\",\"2020-03-30T00:00:00\",\"2020-04-02T00:00:00\",\"2020-04-04T00:00:00\",\"2020-04-06T00:00:00\",\"2020-04-08T00:00:00\",\"2020-04-10T00:00:00\",\"2020-04-12T00:00:00\",\"2020-04-14T00:00:00\",\"2020-04-16T00:00:00\",\"2020-04-18T00:00:00\",\"2020-04-20T00:00:00\",\"2020-04-22T00:00:00\",\"2020-04-24T00:00:00\",\"2020-04-26T00:00:00\",\"2020-04-28T00:00:00\",\"2020-04-30T00:00:00\",\"2020-05-02T00:00:00\",\"2020-05-04T00:00:00\",\"2020-05-06T00:00:00\",\"2020-05-08T00:00:00\",\"2020-05-10T00:00:00\",\"2020-05-12T00:00:00\",\"2020-05-14T00:00:00\",\"2020-05-16T00:00:00\",\"2020-05-18T00:00:00\",\"2020-05-20T00:00:00\",\"2020-05-22T00:00:00\",\"2020-05-24T00:00:00\",\"2020-05-26T00:00:00\",\"2020-05-28T00:00:00\",\"2020-05-30T00:00:00\",\"2020-06-02T00:00:00\",\"2020-06-04T00:00:00\",\"2020-06-06T00:00:00\",\"2020-06-08T00:00:00\",\"2020-06-10T00:00:00\",\"2020-06-12T00:00:00\",\"2020-06-14T00:00:00\",\"2020-06-16T00:00:00\",\"2020-06-18T00:00:00\",\"2020-06-20T00:00:00\",\"2020-06-22T00:00:00\",\"2020-06-24T00:00:00\",\"2020-06-26T00:00:00\",\"2020-06-28T00:00:00\",\"2020-06-30T00:00:00\",\"2020-07-02T00:00:00\",\"2020-07-04T00:00:00\",\"2020-07-06T00:00:00\",\"2020-07-08T00:00:00\",\"2020-07-10T00:00:00\",\"2020-07-12T00:00:00\",\"2020-07-14T00:00:00\",\"2020-07-16T00:00:00\",\"2020-07-18T00:00:00\",\"2020-07-20T00:00:00\",\"2020-07-22T00:00:00\",\"2020-07-24T00:00:00\",\"2020-07-26T00:00:00\"],\"xaxis\":\"x\",\"y\":[0,0,0,0,1,2,3,3,3,3,3,3,3,3,3,3,3,3,3,5,28,31,39,56,73,102,119,156,244,396,536,727,987,1251,2543,3082,4778,5916,7598,9205,11487,13430,15722,18539,21370,24530,27890,31324,34863,39699,46437,52987,59695,67161,74292,81997,90648,100328,112028,124794,138536,150793,165386,181827,207191,226713,246622,265928,286605,308993,332424,354065,380532,410451,440215,473105,508953,548318,585481,625544,673165,719664,767296,820916,878254,936181,1003832,1077781,1155338,1238798,1337024,1435616],\"yaxis\":\"y\",\"type\":\"bar\"},{\"alignmentgroup\":\"True\",\"hovertemplate\":\"Country\\u002fRegion=Mexico\\u003cbr\\u003eDate=%{x}\\u003cbr\\u003eConfirmed=%{y}\\u003cextra\\u003e\\u003c\\u002fextra\\u003e\",\"legendgroup\":\"Mexico\",\"marker\":{\"color\":\"#00cc96\",\"pattern\":{\"shape\":\"\"}},\"name\":\"Mexico\",\"offsetgroup\":\"Mexico\",\"orientation\":\"v\",\"showlegend\":true,\"textposition\":\"auto\",\"x\":[\"2020-01-22T00:00:00\",\"2020-01-24T00:00:00\",\"2020-01-26T00:00:00\",\"2020-01-28T00:00:00\",\"2020-01-30T00:00:00\",\"2020-02-02T00:00:00\",\"2020-02-04T00:00:00\",\"2020-02-06T00:00:00\",\"2020-02-08T00:00:00\",\"2020-02-10T00:00:00\",\"2020-02-12T00:00:00\",\"2020-02-14T00:00:00\",\"2020-02-16T00:00:00\",\"2020-02-18T00:00:00\",\"2020-02-20T00:00:00\",\"2020-02-22T00:00:00\",\"2020-02-24T00:00:00\",\"2020-02-26T00:00:00\",\"2020-02-28T00:00:00\",\"2020-03-02T00:00:00\",\"2020-03-04T00:00:00\",\"2020-03-06T00:00:00\",\"2020-03-08T00:00:00\",\"2020-03-10T00:00:00\",\"2020-03-12T00:00:00\",\"2020-03-14T00:00:00\",\"2020-03-16T00:00:00\",\"2020-03-18T00:00:00\",\"2020-03-20T00:00:00\",\"2020-03-22T00:00:00\",\"2020-03-24T00:00:00\",\"2020-03-26T00:00:00\",\"2020-03-28T00:00:00\",\"2020-03-30T00:00:00\",\"2020-04-02T00:00:00\",\"2020-04-04T00:00:00\",\"2020-04-06T00:00:00\",\"2020-04-08T00:00:00\",\"2020-04-10T00:00:00\",\"2020-04-12T00:00:00\",\"2020-04-14T00:00:00\",\"2020-04-16T00:00:00\",\"2020-04-18T00:00:00\",\"2020-04-20T00:00:00\",\"2020-04-22T00:00:00\",\"2020-04-24T00:00:00\",\"2020-04-26T00:00:00\",\"2020-04-28T00:00:00\",\"2020-04-30T00:00:00\",\"2020-05-02T00:00:00\",\"2020-05-04T00:00:00\",\"2020-05-06T00:00:00\",\"2020-05-08T00:00:00\",\"2020-05-10T00:00:00\",\"2020-05-12T00:00:00\",\"2020-05-14T00:00:00\",\"2020-05-16T00:00:00\",\"2020-05-18T00:00:00\",\"2020-05-20T00:00:00\",\"2020-05-22T00:00:00\",\"2020-05-24T00:00:00\",\"2020-05-26T00:00:00\",\"2020-05-28T00:00:00\",\"2020-05-30T00:00:00\",\"2020-06-02T00:00:00\",\"2020-06-04T00:00:00\",\"2020-06-06T00:00:00\",\"2020-06-08T00:00:00\",\"2020-06-10T00:00:00\",\"2020-06-12T00:00:00\",\"2020-06-14T00:00:00\",\"2020-06-16T00:00:00\",\"2020-06-18T00:00:00\",\"2020-06-20T00:00:00\",\"2020-06-22T00:00:00\",\"2020-06-24T00:00:00\",\"2020-06-26T00:00:00\",\"2020-06-28T00:00:00\",\"2020-06-30T00:00:00\",\"2020-07-02T00:00:00\",\"2020-07-04T00:00:00\",\"2020-07-06T00:00:00\",\"2020-07-08T00:00:00\",\"2020-07-10T00:00:00\",\"2020-07-12T00:00:00\",\"2020-07-14T00:00:00\",\"2020-07-16T00:00:00\",\"2020-07-18T00:00:00\",\"2020-07-20T00:00:00\",\"2020-07-22T00:00:00\",\"2020-07-24T00:00:00\",\"2020-07-26T00:00:00\"],\"xaxis\":\"x\",\"y\":[0,0,0,0,0,0,0,0,0,0,0,0,0,0,0,0,0,0,1,5,5,6,7,7,12,41,82,118,203,316,405,585,848,1094,1510,1890,2439,3181,3844,4661,5399,6297,7497,8772,10544,12872,14677,16752,19224,22088,24905,27634,31522,35022,38324,42595,47144,51633,56594,62527,68620,74560,81400,87512,97326,105680,113619,120102,129184,139196,146837,154863,165455,175202,185122,196847,208392,216852,226089,238511,252165,261750,275003,289174,299750,311486,324041,338913,349396,362274,378285,390516],\"yaxis\":\"y\",\"type\":\"bar\"},{\"alignmentgroup\":\"True\",\"hovertemplate\":\"Country\\u002fRegion=Russia\\u003cbr\\u003eDate=%{x}\\u003cbr\\u003eConfirmed=%{y}\\u003cextra\\u003e\\u003c\\u002fextra\\u003e\",\"legendgroup\":\"Russia\",\"marker\":{\"color\":\"#ab63fa\",\"pattern\":{\"shape\":\"\"}},\"name\":\"Russia\",\"offsetgroup\":\"Russia\",\"orientation\":\"v\",\"showlegend\":true,\"textposition\":\"auto\",\"x\":[\"2020-01-22T00:00:00\",\"2020-01-24T00:00:00\",\"2020-01-26T00:00:00\",\"2020-01-28T00:00:00\",\"2020-01-30T00:00:00\",\"2020-02-02T00:00:00\",\"2020-02-04T00:00:00\",\"2020-02-06T00:00:00\",\"2020-02-08T00:00:00\",\"2020-02-10T00:00:00\",\"2020-02-12T00:00:00\",\"2020-02-14T00:00:00\",\"2020-02-16T00:00:00\",\"2020-02-18T00:00:00\",\"2020-02-20T00:00:00\",\"2020-02-22T00:00:00\",\"2020-02-24T00:00:00\",\"2020-02-26T00:00:00\",\"2020-02-28T00:00:00\",\"2020-03-02T00:00:00\",\"2020-03-04T00:00:00\",\"2020-03-06T00:00:00\",\"2020-03-08T00:00:00\",\"2020-03-10T00:00:00\",\"2020-03-12T00:00:00\",\"2020-03-14T00:00:00\",\"2020-03-16T00:00:00\",\"2020-03-18T00:00:00\",\"2020-03-20T00:00:00\",\"2020-03-22T00:00:00\",\"2020-03-24T00:00:00\",\"2020-03-26T00:00:00\",\"2020-03-28T00:00:00\",\"2020-03-30T00:00:00\",\"2020-04-02T00:00:00\",\"2020-04-04T00:00:00\",\"2020-04-06T00:00:00\",\"2020-04-08T00:00:00\",\"2020-04-10T00:00:00\",\"2020-04-12T00:00:00\",\"2020-04-14T00:00:00\",\"2020-04-16T00:00:00\",\"2020-04-18T00:00:00\",\"2020-04-20T00:00:00\",\"2020-04-22T00:00:00\",\"2020-04-24T00:00:00\",\"2020-04-26T00:00:00\",\"2020-04-28T00:00:00\",\"2020-04-30T00:00:00\",\"2020-05-02T00:00:00\",\"2020-05-04T00:00:00\",\"2020-05-06T00:00:00\",\"2020-05-08T00:00:00\",\"2020-05-10T00:00:00\",\"2020-05-12T00:00:00\",\"2020-05-14T00:00:00\",\"2020-05-16T00:00:00\",\"2020-05-18T00:00:00\",\"2020-05-20T00:00:00\",\"2020-05-22T00:00:00\",\"2020-05-24T00:00:00\",\"2020-05-26T00:00:00\",\"2020-05-28T00:00:00\",\"2020-05-30T00:00:00\",\"2020-06-02T00:00:00\",\"2020-06-04T00:00:00\",\"2020-06-06T00:00:00\",\"2020-06-08T00:00:00\",\"2020-06-10T00:00:00\",\"2020-06-12T00:00:00\",\"2020-06-14T00:00:00\",\"2020-06-16T00:00:00\",\"2020-06-18T00:00:00\",\"2020-06-20T00:00:00\",\"2020-06-22T00:00:00\",\"2020-06-24T00:00:00\",\"2020-06-26T00:00:00\",\"2020-06-28T00:00:00\",\"2020-06-30T00:00:00\",\"2020-07-02T00:00:00\",\"2020-07-04T00:00:00\",\"2020-07-06T00:00:00\",\"2020-07-08T00:00:00\",\"2020-07-10T00:00:00\",\"2020-07-12T00:00:00\",\"2020-07-14T00:00:00\",\"2020-07-16T00:00:00\",\"2020-07-18T00:00:00\",\"2020-07-20T00:00:00\",\"2020-07-22T00:00:00\",\"2020-07-24T00:00:00\",\"2020-07-26T00:00:00\"],\"xaxis\":\"x\",\"y\":[0,0,0,0,0,2,2,2,2,2,2,2,2,2,2,2,2,2,2,3,3,13,17,20,28,59,90,147,253,367,495,840,1264,1836,3548,4731,6343,8672,11917,15770,21102,27938,36793,47121,57999,68622,80949,93558,106498,124054,145268,165929,187859,209688,232243,252245,272043,290678,308705,326448,344481,362342,379051,396575,423186,440538,458102,476043,493023,510761,528267,544725,560321,576162,591465,606043,619936,633563,646929,660231,673564,686852,699749,712863,726036,738787,751612,764215,776212,787890,799499,811073],\"yaxis\":\"y\",\"type\":\"bar\"},{\"alignmentgroup\":\"True\",\"hovertemplate\":\"Country\\u002fRegion=South Africa\\u003cbr\\u003eDate=%{x}\\u003cbr\\u003eConfirmed=%{y}\\u003cextra\\u003e\\u003c\\u002fextra\\u003e\",\"legendgroup\":\"South Africa\",\"marker\":{\"color\":\"#FFA15A\",\"pattern\":{\"shape\":\"\"}},\"name\":\"South Africa\",\"offsetgroup\":\"South Africa\",\"orientation\":\"v\",\"showlegend\":true,\"textposition\":\"auto\",\"x\":[\"2020-01-22T00:00:00\",\"2020-01-24T00:00:00\",\"2020-01-26T00:00:00\",\"2020-01-28T00:00:00\",\"2020-01-30T00:00:00\",\"2020-02-02T00:00:00\",\"2020-02-04T00:00:00\",\"2020-02-06T00:00:00\",\"2020-02-08T00:00:00\",\"2020-02-10T00:00:00\",\"2020-02-12T00:00:00\",\"2020-02-14T00:00:00\",\"2020-02-16T00:00:00\",\"2020-02-18T00:00:00\",\"2020-02-20T00:00:00\",\"2020-02-22T00:00:00\",\"2020-02-24T00:00:00\",\"2020-02-26T00:00:00\",\"2020-02-28T00:00:00\",\"2020-03-02T00:00:00\",\"2020-03-04T00:00:00\",\"2020-03-06T00:00:00\",\"2020-03-08T00:00:00\",\"2020-03-10T00:00:00\",\"2020-03-12T00:00:00\",\"2020-03-14T00:00:00\",\"2020-03-16T00:00:00\",\"2020-03-18T00:00:00\",\"2020-03-20T00:00:00\",\"2020-03-22T00:00:00\",\"2020-03-24T00:00:00\",\"2020-03-26T00:00:00\",\"2020-03-28T00:00:00\",\"2020-03-30T00:00:00\",\"2020-04-02T00:00:00\",\"2020-04-04T00:00:00\",\"2020-04-06T00:00:00\",\"2020-04-08T00:00:00\",\"2020-04-10T00:00:00\",\"2020-04-12T00:00:00\",\"2020-04-14T00:00:00\",\"2020-04-16T00:00:00\",\"2020-04-18T00:00:00\",\"2020-04-20T00:00:00\",\"2020-04-22T00:00:00\",\"2020-04-24T00:00:00\",\"2020-04-26T00:00:00\",\"2020-04-28T00:00:00\",\"2020-04-30T00:00:00\",\"2020-05-02T00:00:00\",\"2020-05-04T00:00:00\",\"2020-05-06T00:00:00\",\"2020-05-08T00:00:00\",\"2020-05-10T00:00:00\",\"2020-05-12T00:00:00\",\"2020-05-14T00:00:00\",\"2020-05-16T00:00:00\",\"2020-05-18T00:00:00\",\"2020-05-20T00:00:00\",\"2020-05-22T00:00:00\",\"2020-05-24T00:00:00\",\"2020-05-26T00:00:00\",\"2020-05-28T00:00:00\",\"2020-05-30T00:00:00\",\"2020-06-02T00:00:00\",\"2020-06-04T00:00:00\",\"2020-06-06T00:00:00\",\"2020-06-08T00:00:00\",\"2020-06-10T00:00:00\",\"2020-06-12T00:00:00\",\"2020-06-14T00:00:00\",\"2020-06-16T00:00:00\",\"2020-06-18T00:00:00\",\"2020-06-20T00:00:00\",\"2020-06-22T00:00:00\",\"2020-06-24T00:00:00\",\"2020-06-26T00:00:00\",\"2020-06-28T00:00:00\",\"2020-06-30T00:00:00\",\"2020-07-02T00:00:00\",\"2020-07-04T00:00:00\",\"2020-07-06T00:00:00\",\"2020-07-08T00:00:00\",\"2020-07-10T00:00:00\",\"2020-07-12T00:00:00\",\"2020-07-14T00:00:00\",\"2020-07-16T00:00:00\",\"2020-07-18T00:00:00\",\"2020-07-20T00:00:00\",\"2020-07-22T00:00:00\",\"2020-07-24T00:00:00\",\"2020-07-26T00:00:00\"],\"xaxis\":\"x\",\"y\":[0,0,0,0,0,0,0,0,0,0,0,0,0,0,0,0,0,0,0,0,0,1,3,7,17,38,62,116,202,274,554,927,1187,1326,1462,1585,1686,1845,2003,2173,2415,2605,3034,3300,3635,4220,4546,4996,5647,6336,7220,7808,8895,10015,11350,12739,14355,16433,18003,20125,22583,24264,27403,30967,35812,40792,45973,50879,55421,61927,70038,76334,83890,92681,101590,111796,124590,138134,151209,168061,187977,205721,224665,250687,276242,298292,324221,350879,373628,394948,421996,445433],\"yaxis\":\"y\",\"type\":\"bar\"},{\"alignmentgroup\":\"True\",\"hovertemplate\":\"Country\\u002fRegion=US\\u003cbr\\u003eDate=%{x}\\u003cbr\\u003eConfirmed=%{y}\\u003cextra\\u003e\\u003c\\u002fextra\\u003e\",\"legendgroup\":\"US\",\"marker\":{\"color\":\"#19d3f3\",\"pattern\":{\"shape\":\"\"}},\"name\":\"US\",\"offsetgroup\":\"US\",\"orientation\":\"v\",\"showlegend\":true,\"textposition\":\"auto\",\"x\":[\"2020-01-22T00:00:00\",\"2020-01-24T00:00:00\",\"2020-01-26T00:00:00\",\"2020-01-28T00:00:00\",\"2020-01-30T00:00:00\",\"2020-02-02T00:00:00\",\"2020-02-04T00:00:00\",\"2020-02-06T00:00:00\",\"2020-02-08T00:00:00\",\"2020-02-10T00:00:00\",\"2020-02-12T00:00:00\",\"2020-02-14T00:00:00\",\"2020-02-16T00:00:00\",\"2020-02-18T00:00:00\",\"2020-02-20T00:00:00\",\"2020-02-22T00:00:00\",\"2020-02-24T00:00:00\",\"2020-02-26T00:00:00\",\"2020-02-28T00:00:00\",\"2020-03-02T00:00:00\",\"2020-03-04T00:00:00\",\"2020-03-06T00:00:00\",\"2020-03-08T00:00:00\",\"2020-03-10T00:00:00\",\"2020-03-12T00:00:00\",\"2020-03-14T00:00:00\",\"2020-03-16T00:00:00\",\"2020-03-18T00:00:00\",\"2020-03-20T00:00:00\",\"2020-03-22T00:00:00\",\"2020-03-24T00:00:00\",\"2020-03-26T00:00:00\",\"2020-03-28T00:00:00\",\"2020-03-30T00:00:00\",\"2020-04-02T00:00:00\",\"2020-04-04T00:00:00\",\"2020-04-06T00:00:00\",\"2020-04-08T00:00:00\",\"2020-04-10T00:00:00\",\"2020-04-12T00:00:00\",\"2020-04-14T00:00:00\",\"2020-04-16T00:00:00\",\"2020-04-18T00:00:00\",\"2020-04-20T00:00:00\",\"2020-04-22T00:00:00\",\"2020-04-24T00:00:00\",\"2020-04-26T00:00:00\",\"2020-04-28T00:00:00\",\"2020-04-30T00:00:00\",\"2020-05-02T00:00:00\",\"2020-05-04T00:00:00\",\"2020-05-06T00:00:00\",\"2020-05-08T00:00:00\",\"2020-05-10T00:00:00\",\"2020-05-12T00:00:00\",\"2020-05-14T00:00:00\",\"2020-05-16T00:00:00\",\"2020-05-18T00:00:00\",\"2020-05-20T00:00:00\",\"2020-05-22T00:00:00\",\"2020-05-24T00:00:00\",\"2020-05-26T00:00:00\",\"2020-05-28T00:00:00\",\"2020-05-30T00:00:00\",\"2020-06-02T00:00:00\",\"2020-06-04T00:00:00\",\"2020-06-06T00:00:00\",\"2020-06-08T00:00:00\",\"2020-06-10T00:00:00\",\"2020-06-12T00:00:00\",\"2020-06-14T00:00:00\",\"2020-06-16T00:00:00\",\"2020-06-18T00:00:00\",\"2020-06-20T00:00:00\",\"2020-06-22T00:00:00\",\"2020-06-24T00:00:00\",\"2020-06-26T00:00:00\",\"2020-06-28T00:00:00\",\"2020-06-30T00:00:00\",\"2020-07-02T00:00:00\",\"2020-07-04T00:00:00\",\"2020-07-06T00:00:00\",\"2020-07-08T00:00:00\",\"2020-07-10T00:00:00\",\"2020-07-12T00:00:00\",\"2020-07-14T00:00:00\",\"2020-07-16T00:00:00\",\"2020-07-18T00:00:00\",\"2020-07-20T00:00:00\",\"2020-07-22T00:00:00\",\"2020-07-24T00:00:00\",\"2020-07-26T00:00:00\"],\"xaxis\":\"x\",\"y\":[1,2,5,5,5,8,11,11,11,11,12,13,13,13,13,15,15,15,16,53,104,222,451,711,1561,2870,4360,8917,19479,33761,54112,84091,122069,162707,244610,309699,367215,429686,497943,556522,608878,669272,730337,783716,837422,907908,968518,1015518,1072667,1136024,1184086,1233527,1288587,1334084,1375152,1423727,1474128,1514901,1559157,1608653,1651289,1689163,1730260,1779214,1837374,1878683,1926639,1961785,2000706,2048986,2094366,2137731,2191099,2255328,2312303,2382426,2467554,2549864,2636414,2742049,2841241,2936077,3054699,3185737,3304942,3431574,3576157,3711413,3834677,3970121,4112531,4233923],\"yaxis\":\"y\",\"type\":\"bar\"}],                        {\"template\":{\"data\":{\"barpolar\":[{\"marker\":{\"line\":{\"color\":\"rgb(17,17,17)\",\"width\":0.5},\"pattern\":{\"fillmode\":\"overlay\",\"size\":10,\"solidity\":0.2}},\"type\":\"barpolar\"}],\"bar\":[{\"error_x\":{\"color\":\"#f2f5fa\"},\"error_y\":{\"color\":\"#f2f5fa\"},\"marker\":{\"line\":{\"color\":\"rgb(17,17,17)\",\"width\":0.5},\"pattern\":{\"fillmode\":\"overlay\",\"size\":10,\"solidity\":0.2}},\"type\":\"bar\"}],\"carpet\":[{\"aaxis\":{\"endlinecolor\":\"#A2B1C6\",\"gridcolor\":\"#506784\",\"linecolor\":\"#506784\",\"minorgridcolor\":\"#506784\",\"startlinecolor\":\"#A2B1C6\"},\"baxis\":{\"endlinecolor\":\"#A2B1C6\",\"gridcolor\":\"#506784\",\"linecolor\":\"#506784\",\"minorgridcolor\":\"#506784\",\"startlinecolor\":\"#A2B1C6\"},\"type\":\"carpet\"}],\"choropleth\":[{\"colorbar\":{\"outlinewidth\":0,\"ticks\":\"\"},\"type\":\"choropleth\"}],\"contourcarpet\":[{\"colorbar\":{\"outlinewidth\":0,\"ticks\":\"\"},\"type\":\"contourcarpet\"}],\"contour\":[{\"colorbar\":{\"outlinewidth\":0,\"ticks\":\"\"},\"colorscale\":[[0.0,\"#0d0887\"],[0.1111111111111111,\"#46039f\"],[0.2222222222222222,\"#7201a8\"],[0.3333333333333333,\"#9c179e\"],[0.4444444444444444,\"#bd3786\"],[0.5555555555555556,\"#d8576b\"],[0.6666666666666666,\"#ed7953\"],[0.7777777777777778,\"#fb9f3a\"],[0.8888888888888888,\"#fdca26\"],[1.0,\"#f0f921\"]],\"type\":\"contour\"}],\"heatmapgl\":[{\"colorbar\":{\"outlinewidth\":0,\"ticks\":\"\"},\"colorscale\":[[0.0,\"#0d0887\"],[0.1111111111111111,\"#46039f\"],[0.2222222222222222,\"#7201a8\"],[0.3333333333333333,\"#9c179e\"],[0.4444444444444444,\"#bd3786\"],[0.5555555555555556,\"#d8576b\"],[0.6666666666666666,\"#ed7953\"],[0.7777777777777778,\"#fb9f3a\"],[0.8888888888888888,\"#fdca26\"],[1.0,\"#f0f921\"]],\"type\":\"heatmapgl\"}],\"heatmap\":[{\"colorbar\":{\"outlinewidth\":0,\"ticks\":\"\"},\"colorscale\":[[0.0,\"#0d0887\"],[0.1111111111111111,\"#46039f\"],[0.2222222222222222,\"#7201a8\"],[0.3333333333333333,\"#9c179e\"],[0.4444444444444444,\"#bd3786\"],[0.5555555555555556,\"#d8576b\"],[0.6666666666666666,\"#ed7953\"],[0.7777777777777778,\"#fb9f3a\"],[0.8888888888888888,\"#fdca26\"],[1.0,\"#f0f921\"]],\"type\":\"heatmap\"}],\"histogram2dcontour\":[{\"colorbar\":{\"outlinewidth\":0,\"ticks\":\"\"},\"colorscale\":[[0.0,\"#0d0887\"],[0.1111111111111111,\"#46039f\"],[0.2222222222222222,\"#7201a8\"],[0.3333333333333333,\"#9c179e\"],[0.4444444444444444,\"#bd3786\"],[0.5555555555555556,\"#d8576b\"],[0.6666666666666666,\"#ed7953\"],[0.7777777777777778,\"#fb9f3a\"],[0.8888888888888888,\"#fdca26\"],[1.0,\"#f0f921\"]],\"type\":\"histogram2dcontour\"}],\"histogram2d\":[{\"colorbar\":{\"outlinewidth\":0,\"ticks\":\"\"},\"colorscale\":[[0.0,\"#0d0887\"],[0.1111111111111111,\"#46039f\"],[0.2222222222222222,\"#7201a8\"],[0.3333333333333333,\"#9c179e\"],[0.4444444444444444,\"#bd3786\"],[0.5555555555555556,\"#d8576b\"],[0.6666666666666666,\"#ed7953\"],[0.7777777777777778,\"#fb9f3a\"],[0.8888888888888888,\"#fdca26\"],[1.0,\"#f0f921\"]],\"type\":\"histogram2d\"}],\"histogram\":[{\"marker\":{\"pattern\":{\"fillmode\":\"overlay\",\"size\":10,\"solidity\":0.2}},\"type\":\"histogram\"}],\"mesh3d\":[{\"colorbar\":{\"outlinewidth\":0,\"ticks\":\"\"},\"type\":\"mesh3d\"}],\"parcoords\":[{\"line\":{\"colorbar\":{\"outlinewidth\":0,\"ticks\":\"\"}},\"type\":\"parcoords\"}],\"pie\":[{\"automargin\":true,\"type\":\"pie\"}],\"scatter3d\":[{\"line\":{\"colorbar\":{\"outlinewidth\":0,\"ticks\":\"\"}},\"marker\":{\"colorbar\":{\"outlinewidth\":0,\"ticks\":\"\"}},\"type\":\"scatter3d\"}],\"scattercarpet\":[{\"marker\":{\"colorbar\":{\"outlinewidth\":0,\"ticks\":\"\"}},\"type\":\"scattercarpet\"}],\"scattergeo\":[{\"marker\":{\"colorbar\":{\"outlinewidth\":0,\"ticks\":\"\"}},\"type\":\"scattergeo\"}],\"scattergl\":[{\"marker\":{\"line\":{\"color\":\"#283442\"}},\"type\":\"scattergl\"}],\"scattermapbox\":[{\"marker\":{\"colorbar\":{\"outlinewidth\":0,\"ticks\":\"\"}},\"type\":\"scattermapbox\"}],\"scatterpolargl\":[{\"marker\":{\"colorbar\":{\"outlinewidth\":0,\"ticks\":\"\"}},\"type\":\"scatterpolargl\"}],\"scatterpolar\":[{\"marker\":{\"colorbar\":{\"outlinewidth\":0,\"ticks\":\"\"}},\"type\":\"scatterpolar\"}],\"scatter\":[{\"marker\":{\"line\":{\"color\":\"#283442\"}},\"type\":\"scatter\"}],\"scatterternary\":[{\"marker\":{\"colorbar\":{\"outlinewidth\":0,\"ticks\":\"\"}},\"type\":\"scatterternary\"}],\"surface\":[{\"colorbar\":{\"outlinewidth\":0,\"ticks\":\"\"},\"colorscale\":[[0.0,\"#0d0887\"],[0.1111111111111111,\"#46039f\"],[0.2222222222222222,\"#7201a8\"],[0.3333333333333333,\"#9c179e\"],[0.4444444444444444,\"#bd3786\"],[0.5555555555555556,\"#d8576b\"],[0.6666666666666666,\"#ed7953\"],[0.7777777777777778,\"#fb9f3a\"],[0.8888888888888888,\"#fdca26\"],[1.0,\"#f0f921\"]],\"type\":\"surface\"}],\"table\":[{\"cells\":{\"fill\":{\"color\":\"#506784\"},\"line\":{\"color\":\"rgb(17,17,17)\"}},\"header\":{\"fill\":{\"color\":\"#2a3f5f\"},\"line\":{\"color\":\"rgb(17,17,17)\"}},\"type\":\"table\"}]},\"layout\":{\"annotationdefaults\":{\"arrowcolor\":\"#f2f5fa\",\"arrowhead\":0,\"arrowwidth\":1},\"autotypenumbers\":\"strict\",\"coloraxis\":{\"colorbar\":{\"outlinewidth\":0,\"ticks\":\"\"}},\"colorscale\":{\"diverging\":[[0,\"#8e0152\"],[0.1,\"#c51b7d\"],[0.2,\"#de77ae\"],[0.3,\"#f1b6da\"],[0.4,\"#fde0ef\"],[0.5,\"#f7f7f7\"],[0.6,\"#e6f5d0\"],[0.7,\"#b8e186\"],[0.8,\"#7fbc41\"],[0.9,\"#4d9221\"],[1,\"#276419\"]],\"sequential\":[[0.0,\"#0d0887\"],[0.1111111111111111,\"#46039f\"],[0.2222222222222222,\"#7201a8\"],[0.3333333333333333,\"#9c179e\"],[0.4444444444444444,\"#bd3786\"],[0.5555555555555556,\"#d8576b\"],[0.6666666666666666,\"#ed7953\"],[0.7777777777777778,\"#fb9f3a\"],[0.8888888888888888,\"#fdca26\"],[1.0,\"#f0f921\"]],\"sequentialminus\":[[0.0,\"#0d0887\"],[0.1111111111111111,\"#46039f\"],[0.2222222222222222,\"#7201a8\"],[0.3333333333333333,\"#9c179e\"],[0.4444444444444444,\"#bd3786\"],[0.5555555555555556,\"#d8576b\"],[0.6666666666666666,\"#ed7953\"],[0.7777777777777778,\"#fb9f3a\"],[0.8888888888888888,\"#fdca26\"],[1.0,\"#f0f921\"]]},\"colorway\":[\"#636efa\",\"#EF553B\",\"#00cc96\",\"#ab63fa\",\"#FFA15A\",\"#19d3f3\",\"#FF6692\",\"#B6E880\",\"#FF97FF\",\"#FECB52\"],\"font\":{\"color\":\"#f2f5fa\"},\"geo\":{\"bgcolor\":\"rgb(17,17,17)\",\"lakecolor\":\"rgb(17,17,17)\",\"landcolor\":\"rgb(17,17,17)\",\"showlakes\":true,\"showland\":true,\"subunitcolor\":\"#506784\"},\"hoverlabel\":{\"align\":\"left\"},\"hovermode\":\"closest\",\"mapbox\":{\"style\":\"dark\"},\"paper_bgcolor\":\"rgb(17,17,17)\",\"plot_bgcolor\":\"rgb(17,17,17)\",\"polar\":{\"angularaxis\":{\"gridcolor\":\"#506784\",\"linecolor\":\"#506784\",\"ticks\":\"\"},\"bgcolor\":\"rgb(17,17,17)\",\"radialaxis\":{\"gridcolor\":\"#506784\",\"linecolor\":\"#506784\",\"ticks\":\"\"}},\"scene\":{\"xaxis\":{\"backgroundcolor\":\"rgb(17,17,17)\",\"gridcolor\":\"#506784\",\"gridwidth\":2,\"linecolor\":\"#506784\",\"showbackground\":true,\"ticks\":\"\",\"zerolinecolor\":\"#C8D4E3\"},\"yaxis\":{\"backgroundcolor\":\"rgb(17,17,17)\",\"gridcolor\":\"#506784\",\"gridwidth\":2,\"linecolor\":\"#506784\",\"showbackground\":true,\"ticks\":\"\",\"zerolinecolor\":\"#C8D4E3\"},\"zaxis\":{\"backgroundcolor\":\"rgb(17,17,17)\",\"gridcolor\":\"#506784\",\"gridwidth\":2,\"linecolor\":\"#506784\",\"showbackground\":true,\"ticks\":\"\",\"zerolinecolor\":\"#C8D4E3\"}},\"shapedefaults\":{\"line\":{\"color\":\"#f2f5fa\"}},\"sliderdefaults\":{\"bgcolor\":\"#C8D4E3\",\"bordercolor\":\"rgb(17,17,17)\",\"borderwidth\":1,\"tickwidth\":0},\"ternary\":{\"aaxis\":{\"gridcolor\":\"#506784\",\"linecolor\":\"#506784\",\"ticks\":\"\"},\"baxis\":{\"gridcolor\":\"#506784\",\"linecolor\":\"#506784\",\"ticks\":\"\"},\"bgcolor\":\"rgb(17,17,17)\",\"caxis\":{\"gridcolor\":\"#506784\",\"linecolor\":\"#506784\",\"ticks\":\"\"}},\"title\":{\"x\":0.05},\"updatemenudefaults\":{\"bgcolor\":\"#506784\",\"borderwidth\":0},\"xaxis\":{\"automargin\":true,\"gridcolor\":\"#283442\",\"linecolor\":\"#506784\",\"ticks\":\"\",\"title\":{\"standoff\":15},\"zerolinecolor\":\"#283442\",\"zerolinewidth\":2},\"yaxis\":{\"automargin\":true,\"gridcolor\":\"#283442\",\"linecolor\":\"#506784\",\"ticks\":\"\",\"title\":{\"standoff\":15},\"zerolinecolor\":\"#283442\",\"zerolinewidth\":2}}},\"xaxis\":{\"anchor\":\"y\",\"domain\":[0.0,1.0],\"title\":{\"text\":\"Date\"},\"tickangle\":45},\"yaxis\":{\"anchor\":\"x\",\"domain\":[0.0,1.0],\"title\":{\"text\":\"Confirmed\"}},\"legend\":{\"title\":{\"text\":\"Country\\u002fRegion\"},\"tracegroupgap\":0},\"title\":{\"text\":\"Top 6 Countries in Confirmed\"},\"barmode\":\"relative\"},                        {\"responsive\": true}                    ).then(function(){\n",
       "                            \n",
       "var gd = document.getElementById('0caa23e6-f011-45f0-acc1-bc0292f8f4b5');\n",
       "var x = new MutationObserver(function (mutations, observer) {{\n",
       "        var display = window.getComputedStyle(gd).display;\n",
       "        if (!display || display === 'none') {{\n",
       "            console.log([gd, 'removed!']);\n",
       "            Plotly.purge(gd);\n",
       "            observer.disconnect();\n",
       "        }}\n",
       "}});\n",
       "\n",
       "// Listen for the removal of the full notebook cells\n",
       "var notebookContainer = gd.closest('#notebook-container');\n",
       "if (notebookContainer) {{\n",
       "    x.observe(notebookContainer, {childList: true});\n",
       "}}\n",
       "\n",
       "// Listen for the clearing of the current output cell\n",
       "var outputEl = gd.closest('.output');\n",
       "if (outputEl) {{\n",
       "    x.observe(outputEl, {childList: true});\n",
       "}}\n",
       "\n",
       "                        })                };                });            </script>        </div>"
      ]
     },
     "metadata": {},
     "output_type": "display_data"
    },
    {
     "data": {
      "text/html": [
       "<div>                            <div id=\"7a219cac-a399-46c8-9135-55f63703debb\" class=\"plotly-graph-div\" style=\"height:525px; width:100%;\"></div>            <script type=\"text/javascript\">                require([\"plotly\"], function(Plotly) {                    window.PLOTLYENV=window.PLOTLYENV || {};                                    if (document.getElementById(\"7a219cac-a399-46c8-9135-55f63703debb\")) {                    Plotly.newPlot(                        \"7a219cac-a399-46c8-9135-55f63703debb\",                        [{\"alignmentgroup\":\"True\",\"hovertemplate\":\"Country\\u002fRegion=Brazil\\u003cbr\\u003eDate=%{x}\\u003cbr\\u003eDeaths=%{y}\\u003cextra\\u003e\\u003c\\u002fextra\\u003e\",\"legendgroup\":\"Brazil\",\"marker\":{\"color\":\"#636efa\",\"pattern\":{\"shape\":\"\"}},\"name\":\"Brazil\",\"offsetgroup\":\"Brazil\",\"orientation\":\"v\",\"showlegend\":true,\"textposition\":\"auto\",\"x\":[\"2020-01-22T00:00:00\",\"2020-01-24T00:00:00\",\"2020-01-26T00:00:00\",\"2020-01-28T00:00:00\",\"2020-01-30T00:00:00\",\"2020-02-02T00:00:00\",\"2020-02-04T00:00:00\",\"2020-02-06T00:00:00\",\"2020-02-08T00:00:00\",\"2020-02-10T00:00:00\",\"2020-02-12T00:00:00\",\"2020-02-14T00:00:00\",\"2020-02-16T00:00:00\",\"2020-02-18T00:00:00\",\"2020-02-20T00:00:00\",\"2020-02-22T00:00:00\",\"2020-02-24T00:00:00\",\"2020-02-26T00:00:00\",\"2020-02-28T00:00:00\",\"2020-03-02T00:00:00\",\"2020-03-04T00:00:00\",\"2020-03-06T00:00:00\",\"2020-03-08T00:00:00\",\"2020-03-10T00:00:00\",\"2020-03-12T00:00:00\",\"2020-03-14T00:00:00\",\"2020-03-16T00:00:00\",\"2020-03-18T00:00:00\",\"2020-03-20T00:00:00\",\"2020-03-22T00:00:00\",\"2020-03-24T00:00:00\",\"2020-03-26T00:00:00\",\"2020-03-28T00:00:00\",\"2020-03-30T00:00:00\",\"2020-04-02T00:00:00\",\"2020-04-04T00:00:00\",\"2020-04-06T00:00:00\",\"2020-04-08T00:00:00\",\"2020-04-10T00:00:00\",\"2020-04-12T00:00:00\",\"2020-04-14T00:00:00\",\"2020-04-16T00:00:00\",\"2020-04-18T00:00:00\",\"2020-04-20T00:00:00\",\"2020-04-22T00:00:00\",\"2020-04-24T00:00:00\",\"2020-04-26T00:00:00\",\"2020-04-28T00:00:00\",\"2020-04-30T00:00:00\",\"2020-05-02T00:00:00\",\"2020-05-04T00:00:00\",\"2020-05-06T00:00:00\",\"2020-05-08T00:00:00\",\"2020-05-10T00:00:00\",\"2020-05-12T00:00:00\",\"2020-05-14T00:00:00\",\"2020-05-16T00:00:00\",\"2020-05-18T00:00:00\",\"2020-05-20T00:00:00\",\"2020-05-22T00:00:00\",\"2020-05-24T00:00:00\",\"2020-05-26T00:00:00\",\"2020-05-28T00:00:00\",\"2020-05-30T00:00:00\",\"2020-06-02T00:00:00\",\"2020-06-04T00:00:00\",\"2020-06-06T00:00:00\",\"2020-06-08T00:00:00\",\"2020-06-10T00:00:00\",\"2020-06-12T00:00:00\",\"2020-06-14T00:00:00\",\"2020-06-16T00:00:00\",\"2020-06-18T00:00:00\",\"2020-06-20T00:00:00\",\"2020-06-22T00:00:00\",\"2020-06-24T00:00:00\",\"2020-06-26T00:00:00\",\"2020-06-28T00:00:00\",\"2020-06-30T00:00:00\",\"2020-07-02T00:00:00\",\"2020-07-04T00:00:00\",\"2020-07-06T00:00:00\",\"2020-07-08T00:00:00\",\"2020-07-10T00:00:00\",\"2020-07-12T00:00:00\",\"2020-07-14T00:00:00\",\"2020-07-16T00:00:00\",\"2020-07-18T00:00:00\",\"2020-07-20T00:00:00\",\"2020-07-22T00:00:00\",\"2020-07-24T00:00:00\",\"2020-07-26T00:00:00\"],\"xaxis\":\"x\",\"y\":[0,0,0,0,0,0,0,0,0,0,0,0,0,0,0,0,0,0,0,0,0,0,0,0,0,0,0,3,11,25,46,77,111,159,324,445,564,819,1057,1223,1532,1924,2354,2587,2906,3704,4286,5083,6006,6761,7367,8588,10017,11123,12461,13999,15662,16853,18859,21048,22666,24512,26754,28834,31199,34021,35930,37134,39680,41828,43332,45241,47748,49976,51271,53830,55961,57622,59594,61884,64265,65487,67964,70398,72100,74133,76688,78772,80120,82771,85238,87004],\"yaxis\":\"y\",\"type\":\"bar\"},{\"alignmentgroup\":\"True\",\"hovertemplate\":\"Country\\u002fRegion=India\\u003cbr\\u003eDate=%{x}\\u003cbr\\u003eDeaths=%{y}\\u003cextra\\u003e\\u003c\\u002fextra\\u003e\",\"legendgroup\":\"India\",\"marker\":{\"color\":\"#EF553B\",\"pattern\":{\"shape\":\"\"}},\"name\":\"India\",\"offsetgroup\":\"India\",\"orientation\":\"v\",\"showlegend\":true,\"textposition\":\"auto\",\"x\":[\"2020-01-22T00:00:00\",\"2020-01-24T00:00:00\",\"2020-01-26T00:00:00\",\"2020-01-28T00:00:00\",\"2020-01-30T00:00:00\",\"2020-02-02T00:00:00\",\"2020-02-04T00:00:00\",\"2020-02-06T00:00:00\",\"2020-02-08T00:00:00\",\"2020-02-10T00:00:00\",\"2020-02-12T00:00:00\",\"2020-02-14T00:00:00\",\"2020-02-16T00:00:00\",\"2020-02-18T00:00:00\",\"2020-02-20T00:00:00\",\"2020-02-22T00:00:00\",\"2020-02-24T00:00:00\",\"2020-02-26T00:00:00\",\"2020-02-28T00:00:00\",\"2020-03-02T00:00:00\",\"2020-03-04T00:00:00\",\"2020-03-06T00:00:00\",\"2020-03-08T00:00:00\",\"2020-03-10T00:00:00\",\"2020-03-12T00:00:00\",\"2020-03-14T00:00:00\",\"2020-03-16T00:00:00\",\"2020-03-18T00:00:00\",\"2020-03-20T00:00:00\",\"2020-03-22T00:00:00\",\"2020-03-24T00:00:00\",\"2020-03-26T00:00:00\",\"2020-03-28T00:00:00\",\"2020-03-30T00:00:00\",\"2020-04-02T00:00:00\",\"2020-04-04T00:00:00\",\"2020-04-06T00:00:00\",\"2020-04-08T00:00:00\",\"2020-04-10T00:00:00\",\"2020-04-12T00:00:00\",\"2020-04-14T00:00:00\",\"2020-04-16T00:00:00\",\"2020-04-18T00:00:00\",\"2020-04-20T00:00:00\",\"2020-04-22T00:00:00\",\"2020-04-24T00:00:00\",\"2020-04-26T00:00:00\",\"2020-04-28T00:00:00\",\"2020-04-30T00:00:00\",\"2020-05-02T00:00:00\",\"2020-05-04T00:00:00\",\"2020-05-06T00:00:00\",\"2020-05-08T00:00:00\",\"2020-05-10T00:00:00\",\"2020-05-12T00:00:00\",\"2020-05-14T00:00:00\",\"2020-05-16T00:00:00\",\"2020-05-18T00:00:00\",\"2020-05-20T00:00:00\",\"2020-05-22T00:00:00\",\"2020-05-24T00:00:00\",\"2020-05-26T00:00:00\",\"2020-05-28T00:00:00\",\"2020-05-30T00:00:00\",\"2020-06-02T00:00:00\",\"2020-06-04T00:00:00\",\"2020-06-06T00:00:00\",\"2020-06-08T00:00:00\",\"2020-06-10T00:00:00\",\"2020-06-12T00:00:00\",\"2020-06-14T00:00:00\",\"2020-06-16T00:00:00\",\"2020-06-18T00:00:00\",\"2020-06-20T00:00:00\",\"2020-06-22T00:00:00\",\"2020-06-24T00:00:00\",\"2020-06-26T00:00:00\",\"2020-06-28T00:00:00\",\"2020-06-30T00:00:00\",\"2020-07-02T00:00:00\",\"2020-07-04T00:00:00\",\"2020-07-06T00:00:00\",\"2020-07-08T00:00:00\",\"2020-07-10T00:00:00\",\"2020-07-12T00:00:00\",\"2020-07-14T00:00:00\",\"2020-07-16T00:00:00\",\"2020-07-18T00:00:00\",\"2020-07-20T00:00:00\",\"2020-07-22T00:00:00\",\"2020-07-24T00:00:00\",\"2020-07-26T00:00:00\"],\"xaxis\":\"x\",\"y\":[0,0,0,0,0,0,0,0,0,0,0,0,0,0,0,0,0,0,0,0,0,0,0,0,1,2,2,3,5,7,10,20,24,32,72,86,136,178,246,331,393,448,521,592,681,780,881,1008,1154,1323,1566,1785,1985,2212,2415,2649,2871,3156,3434,3726,4024,4344,4711,5185,5829,6363,6946,7473,8102,8884,9520,11903,12573,13254,14011,14894,15685,16475,17400,18213,19268,20159,21129,22123,23174,24309,25602,26816,28082,29861,31358,32771],\"yaxis\":\"y\",\"type\":\"bar\"},{\"alignmentgroup\":\"True\",\"hovertemplate\":\"Country\\u002fRegion=Italy\\u003cbr\\u003eDate=%{x}\\u003cbr\\u003eDeaths=%{y}\\u003cextra\\u003e\\u003c\\u002fextra\\u003e\",\"legendgroup\":\"Italy\",\"marker\":{\"color\":\"#00cc96\",\"pattern\":{\"shape\":\"\"}},\"name\":\"Italy\",\"offsetgroup\":\"Italy\",\"orientation\":\"v\",\"showlegend\":true,\"textposition\":\"auto\",\"x\":[\"2020-01-22T00:00:00\",\"2020-01-24T00:00:00\",\"2020-01-26T00:00:00\",\"2020-01-28T00:00:00\",\"2020-01-30T00:00:00\",\"2020-02-02T00:00:00\",\"2020-02-04T00:00:00\",\"2020-02-06T00:00:00\",\"2020-02-08T00:00:00\",\"2020-02-10T00:00:00\",\"2020-02-12T00:00:00\",\"2020-02-14T00:00:00\",\"2020-02-16T00:00:00\",\"2020-02-18T00:00:00\",\"2020-02-20T00:00:00\",\"2020-02-22T00:00:00\",\"2020-02-24T00:00:00\",\"2020-02-26T00:00:00\",\"2020-02-28T00:00:00\",\"2020-03-02T00:00:00\",\"2020-03-04T00:00:00\",\"2020-03-06T00:00:00\",\"2020-03-08T00:00:00\",\"2020-03-10T00:00:00\",\"2020-03-12T00:00:00\",\"2020-03-14T00:00:00\",\"2020-03-16T00:00:00\",\"2020-03-18T00:00:00\",\"2020-03-20T00:00:00\",\"2020-03-22T00:00:00\",\"2020-03-24T00:00:00\",\"2020-03-26T00:00:00\",\"2020-03-28T00:00:00\",\"2020-03-30T00:00:00\",\"2020-04-02T00:00:00\",\"2020-04-04T00:00:00\",\"2020-04-06T00:00:00\",\"2020-04-08T00:00:00\",\"2020-04-10T00:00:00\",\"2020-04-12T00:00:00\",\"2020-04-14T00:00:00\",\"2020-04-16T00:00:00\",\"2020-04-18T00:00:00\",\"2020-04-20T00:00:00\",\"2020-04-22T00:00:00\",\"2020-04-24T00:00:00\",\"2020-04-26T00:00:00\",\"2020-04-28T00:00:00\",\"2020-04-30T00:00:00\",\"2020-05-02T00:00:00\",\"2020-05-04T00:00:00\",\"2020-05-06T00:00:00\",\"2020-05-08T00:00:00\",\"2020-05-10T00:00:00\",\"2020-05-12T00:00:00\",\"2020-05-14T00:00:00\",\"2020-05-16T00:00:00\",\"2020-05-18T00:00:00\",\"2020-05-20T00:00:00\",\"2020-05-22T00:00:00\",\"2020-05-24T00:00:00\",\"2020-05-26T00:00:00\",\"2020-05-28T00:00:00\",\"2020-05-30T00:00:00\",\"2020-06-02T00:00:00\",\"2020-06-04T00:00:00\",\"2020-06-06T00:00:00\",\"2020-06-08T00:00:00\",\"2020-06-10T00:00:00\",\"2020-06-12T00:00:00\",\"2020-06-14T00:00:00\",\"2020-06-16T00:00:00\",\"2020-06-18T00:00:00\",\"2020-06-20T00:00:00\",\"2020-06-22T00:00:00\",\"2020-06-24T00:00:00\",\"2020-06-26T00:00:00\",\"2020-06-28T00:00:00\",\"2020-06-30T00:00:00\",\"2020-07-02T00:00:00\",\"2020-07-04T00:00:00\",\"2020-07-06T00:00:00\",\"2020-07-08T00:00:00\",\"2020-07-10T00:00:00\",\"2020-07-12T00:00:00\",\"2020-07-14T00:00:00\",\"2020-07-16T00:00:00\",\"2020-07-18T00:00:00\",\"2020-07-20T00:00:00\",\"2020-07-22T00:00:00\",\"2020-07-24T00:00:00\",\"2020-07-26T00:00:00\"],\"xaxis\":\"x\",\"y\":[0,0,0,0,0,0,0,0,0,0,0,0,0,0,0,2,7,12,21,52,107,197,366,631,1016,1441,2158,2978,4032,5476,6820,8215,10023,11591,13915,15362,16523,17669,18849,19899,21067,22170,23227,24114,25085,25969,26644,27359,27967,28710,29079,29684,30201,30560,30911,31368,31763,32007,32330,32616,32785,32955,33142,33340,33530,33689,33846,33964,34114,34223,34345,34405,34514,34610,34657,34644,34708,34738,34767,34818,34854,34869,34914,34938,34954,34984,35017,35042,35058,35082,35097,35107],\"yaxis\":\"y\",\"type\":\"bar\"},{\"alignmentgroup\":\"True\",\"hovertemplate\":\"Country\\u002fRegion=Mexico\\u003cbr\\u003eDate=%{x}\\u003cbr\\u003eDeaths=%{y}\\u003cextra\\u003e\\u003c\\u002fextra\\u003e\",\"legendgroup\":\"Mexico\",\"marker\":{\"color\":\"#ab63fa\",\"pattern\":{\"shape\":\"\"}},\"name\":\"Mexico\",\"offsetgroup\":\"Mexico\",\"orientation\":\"v\",\"showlegend\":true,\"textposition\":\"auto\",\"x\":[\"2020-01-22T00:00:00\",\"2020-01-24T00:00:00\",\"2020-01-26T00:00:00\",\"2020-01-28T00:00:00\",\"2020-01-30T00:00:00\",\"2020-02-02T00:00:00\",\"2020-02-04T00:00:00\",\"2020-02-06T00:00:00\",\"2020-02-08T00:00:00\",\"2020-02-10T00:00:00\",\"2020-02-12T00:00:00\",\"2020-02-14T00:00:00\",\"2020-02-16T00:00:00\",\"2020-02-18T00:00:00\",\"2020-02-20T00:00:00\",\"2020-02-22T00:00:00\",\"2020-02-24T00:00:00\",\"2020-02-26T00:00:00\",\"2020-02-28T00:00:00\",\"2020-03-02T00:00:00\",\"2020-03-04T00:00:00\",\"2020-03-06T00:00:00\",\"2020-03-08T00:00:00\",\"2020-03-10T00:00:00\",\"2020-03-12T00:00:00\",\"2020-03-14T00:00:00\",\"2020-03-16T00:00:00\",\"2020-03-18T00:00:00\",\"2020-03-20T00:00:00\",\"2020-03-22T00:00:00\",\"2020-03-24T00:00:00\",\"2020-03-26T00:00:00\",\"2020-03-28T00:00:00\",\"2020-03-30T00:00:00\",\"2020-04-02T00:00:00\",\"2020-04-04T00:00:00\",\"2020-04-06T00:00:00\",\"2020-04-08T00:00:00\",\"2020-04-10T00:00:00\",\"2020-04-12T00:00:00\",\"2020-04-14T00:00:00\",\"2020-04-16T00:00:00\",\"2020-04-18T00:00:00\",\"2020-04-20T00:00:00\",\"2020-04-22T00:00:00\",\"2020-04-24T00:00:00\",\"2020-04-26T00:00:00\",\"2020-04-28T00:00:00\",\"2020-04-30T00:00:00\",\"2020-05-02T00:00:00\",\"2020-05-04T00:00:00\",\"2020-05-06T00:00:00\",\"2020-05-08T00:00:00\",\"2020-05-10T00:00:00\",\"2020-05-12T00:00:00\",\"2020-05-14T00:00:00\",\"2020-05-16T00:00:00\",\"2020-05-18T00:00:00\",\"2020-05-20T00:00:00\",\"2020-05-22T00:00:00\",\"2020-05-24T00:00:00\",\"2020-05-26T00:00:00\",\"2020-05-28T00:00:00\",\"2020-05-30T00:00:00\",\"2020-06-02T00:00:00\",\"2020-06-04T00:00:00\",\"2020-06-06T00:00:00\",\"2020-06-08T00:00:00\",\"2020-06-10T00:00:00\",\"2020-06-12T00:00:00\",\"2020-06-14T00:00:00\",\"2020-06-16T00:00:00\",\"2020-06-18T00:00:00\",\"2020-06-20T00:00:00\",\"2020-06-22T00:00:00\",\"2020-06-24T00:00:00\",\"2020-06-26T00:00:00\",\"2020-06-28T00:00:00\",\"2020-06-30T00:00:00\",\"2020-07-02T00:00:00\",\"2020-07-04T00:00:00\",\"2020-07-06T00:00:00\",\"2020-07-08T00:00:00\",\"2020-07-10T00:00:00\",\"2020-07-12T00:00:00\",\"2020-07-14T00:00:00\",\"2020-07-16T00:00:00\",\"2020-07-18T00:00:00\",\"2020-07-20T00:00:00\",\"2020-07-22T00:00:00\",\"2020-07-24T00:00:00\",\"2020-07-26T00:00:00\"],\"xaxis\":\"x\",\"y\":[0,0,0,0,0,0,0,0,0,0,0,0,0,0,0,0,0,0,0,0,0,0,0,0,0,0,0,0,2,3,5,8,16,28,50,79,125,174,233,296,406,486,650,712,970,1221,1351,1569,1859,2061,2271,2704,3160,3465,3926,4477,5045,5332,6090,6989,7394,8134,9044,9779,10637,12545,13511,14053,15357,16448,17141,18310,19747,20781,22584,24324,25779,26648,27769,29189,30366,31119,32796,34191,35006,36327,37574,38888,39485,41190,42645,43680],\"yaxis\":\"y\",\"type\":\"bar\"},{\"alignmentgroup\":\"True\",\"hovertemplate\":\"Country\\u002fRegion=US\\u003cbr\\u003eDate=%{x}\\u003cbr\\u003eDeaths=%{y}\\u003cextra\\u003e\\u003c\\u002fextra\\u003e\",\"legendgroup\":\"US\",\"marker\":{\"color\":\"#FFA15A\",\"pattern\":{\"shape\":\"\"}},\"name\":\"US\",\"offsetgroup\":\"US\",\"orientation\":\"v\",\"showlegend\":true,\"textposition\":\"auto\",\"x\":[\"2020-01-22T00:00:00\",\"2020-01-24T00:00:00\",\"2020-01-26T00:00:00\",\"2020-01-28T00:00:00\",\"2020-01-30T00:00:00\",\"2020-02-02T00:00:00\",\"2020-02-04T00:00:00\",\"2020-02-06T00:00:00\",\"2020-02-08T00:00:00\",\"2020-02-10T00:00:00\",\"2020-02-12T00:00:00\",\"2020-02-14T00:00:00\",\"2020-02-16T00:00:00\",\"2020-02-18T00:00:00\",\"2020-02-20T00:00:00\",\"2020-02-22T00:00:00\",\"2020-02-24T00:00:00\",\"2020-02-26T00:00:00\",\"2020-02-28T00:00:00\",\"2020-03-02T00:00:00\",\"2020-03-04T00:00:00\",\"2020-03-06T00:00:00\",\"2020-03-08T00:00:00\",\"2020-03-10T00:00:00\",\"2020-03-12T00:00:00\",\"2020-03-14T00:00:00\",\"2020-03-16T00:00:00\",\"2020-03-18T00:00:00\",\"2020-03-20T00:00:00\",\"2020-03-22T00:00:00\",\"2020-03-24T00:00:00\",\"2020-03-26T00:00:00\",\"2020-03-28T00:00:00\",\"2020-03-30T00:00:00\",\"2020-04-02T00:00:00\",\"2020-04-04T00:00:00\",\"2020-04-06T00:00:00\",\"2020-04-08T00:00:00\",\"2020-04-10T00:00:00\",\"2020-04-12T00:00:00\",\"2020-04-14T00:00:00\",\"2020-04-16T00:00:00\",\"2020-04-18T00:00:00\",\"2020-04-20T00:00:00\",\"2020-04-22T00:00:00\",\"2020-04-24T00:00:00\",\"2020-04-26T00:00:00\",\"2020-04-28T00:00:00\",\"2020-04-30T00:00:00\",\"2020-05-02T00:00:00\",\"2020-05-04T00:00:00\",\"2020-05-06T00:00:00\",\"2020-05-08T00:00:00\",\"2020-05-10T00:00:00\",\"2020-05-12T00:00:00\",\"2020-05-14T00:00:00\",\"2020-05-16T00:00:00\",\"2020-05-18T00:00:00\",\"2020-05-20T00:00:00\",\"2020-05-22T00:00:00\",\"2020-05-24T00:00:00\",\"2020-05-26T00:00:00\",\"2020-05-28T00:00:00\",\"2020-05-30T00:00:00\",\"2020-06-02T00:00:00\",\"2020-06-04T00:00:00\",\"2020-06-06T00:00:00\",\"2020-06-08T00:00:00\",\"2020-06-10T00:00:00\",\"2020-06-12T00:00:00\",\"2020-06-14T00:00:00\",\"2020-06-16T00:00:00\",\"2020-06-18T00:00:00\",\"2020-06-20T00:00:00\",\"2020-06-22T00:00:00\",\"2020-06-24T00:00:00\",\"2020-06-26T00:00:00\",\"2020-06-28T00:00:00\",\"2020-06-30T00:00:00\",\"2020-07-02T00:00:00\",\"2020-07-04T00:00:00\",\"2020-07-06T00:00:00\",\"2020-07-08T00:00:00\",\"2020-07-10T00:00:00\",\"2020-07-12T00:00:00\",\"2020-07-14T00:00:00\",\"2020-07-16T00:00:00\",\"2020-07-18T00:00:00\",\"2020-07-20T00:00:00\",\"2020-07-22T00:00:00\",\"2020-07-24T00:00:00\",\"2020-07-26T00:00:00\"],\"xaxis\":\"x\",\"y\":[0,0,0,0,0,0,0,0,0,0,0,0,0,0,0,0,0,0,0,6,11,14,21,28,43,58,97,188,362,601,1021,1746,2934,4381,8432,11031,14138,18563,22731,26548,30780,35442,40442,43466,48312,52867,55810,59454,64256,67681,70086,74851,78497,80855,83483,87008,89892,91414,94533,97025,98754,99952,102643,104778,107169,109168,110818,111774,113631,115334,116382,117612,119067,120349,121010,122604,125631,126361,127432,128803,129689,130285,132300,134101,135205,136466,138358,140119,141025,143316,145560,146935],\"yaxis\":\"y\",\"type\":\"bar\"},{\"alignmentgroup\":\"True\",\"hovertemplate\":\"Country\\u002fRegion=United Kingdom\\u003cbr\\u003eDate=%{x}\\u003cbr\\u003eDeaths=%{y}\\u003cextra\\u003e\\u003c\\u002fextra\\u003e\",\"legendgroup\":\"United Kingdom\",\"marker\":{\"color\":\"#19d3f3\",\"pattern\":{\"shape\":\"\"}},\"name\":\"United Kingdom\",\"offsetgroup\":\"United Kingdom\",\"orientation\":\"v\",\"showlegend\":true,\"textposition\":\"auto\",\"x\":[\"2020-01-22T00:00:00\",\"2020-01-24T00:00:00\",\"2020-01-26T00:00:00\",\"2020-01-28T00:00:00\",\"2020-01-30T00:00:00\",\"2020-02-02T00:00:00\",\"2020-02-04T00:00:00\",\"2020-02-06T00:00:00\",\"2020-02-08T00:00:00\",\"2020-02-10T00:00:00\",\"2020-02-12T00:00:00\",\"2020-02-14T00:00:00\",\"2020-02-16T00:00:00\",\"2020-02-18T00:00:00\",\"2020-02-20T00:00:00\",\"2020-02-22T00:00:00\",\"2020-02-24T00:00:00\",\"2020-02-26T00:00:00\",\"2020-02-28T00:00:00\",\"2020-03-02T00:00:00\",\"2020-03-04T00:00:00\",\"2020-03-06T00:00:00\",\"2020-03-08T00:00:00\",\"2020-03-10T00:00:00\",\"2020-03-12T00:00:00\",\"2020-03-14T00:00:00\",\"2020-03-16T00:00:00\",\"2020-03-18T00:00:00\",\"2020-03-20T00:00:00\",\"2020-03-22T00:00:00\",\"2020-03-24T00:00:00\",\"2020-03-26T00:00:00\",\"2020-03-28T00:00:00\",\"2020-03-30T00:00:00\",\"2020-04-02T00:00:00\",\"2020-04-04T00:00:00\",\"2020-04-06T00:00:00\",\"2020-04-08T00:00:00\",\"2020-04-10T00:00:00\",\"2020-04-12T00:00:00\",\"2020-04-14T00:00:00\",\"2020-04-16T00:00:00\",\"2020-04-18T00:00:00\",\"2020-04-20T00:00:00\",\"2020-04-22T00:00:00\",\"2020-04-24T00:00:00\",\"2020-04-26T00:00:00\",\"2020-04-28T00:00:00\",\"2020-04-30T00:00:00\",\"2020-05-02T00:00:00\",\"2020-05-04T00:00:00\",\"2020-05-06T00:00:00\",\"2020-05-08T00:00:00\",\"2020-05-10T00:00:00\",\"2020-05-12T00:00:00\",\"2020-05-14T00:00:00\",\"2020-05-16T00:00:00\",\"2020-05-18T00:00:00\",\"2020-05-20T00:00:00\",\"2020-05-22T00:00:00\",\"2020-05-24T00:00:00\",\"2020-05-26T00:00:00\",\"2020-05-28T00:00:00\",\"2020-05-30T00:00:00\",\"2020-06-02T00:00:00\",\"2020-06-04T00:00:00\",\"2020-06-06T00:00:00\",\"2020-06-08T00:00:00\",\"2020-06-10T00:00:00\",\"2020-06-12T00:00:00\",\"2020-06-14T00:00:00\",\"2020-06-16T00:00:00\",\"2020-06-18T00:00:00\",\"2020-06-20T00:00:00\",\"2020-06-22T00:00:00\",\"2020-06-24T00:00:00\",\"2020-06-26T00:00:00\",\"2020-06-28T00:00:00\",\"2020-06-30T00:00:00\",\"2020-07-02T00:00:00\",\"2020-07-04T00:00:00\",\"2020-07-06T00:00:00\",\"2020-07-08T00:00:00\",\"2020-07-10T00:00:00\",\"2020-07-12T00:00:00\",\"2020-07-14T00:00:00\",\"2020-07-16T00:00:00\",\"2020-07-18T00:00:00\",\"2020-07-20T00:00:00\",\"2020-07-22T00:00:00\",\"2020-07-24T00:00:00\",\"2020-07-26T00:00:00\"],\"xaxis\":\"x\",\"y\":[0,0,0,0,0,0,0,0,0,0,0,0,0,0,0,0,0,0,0,0,0,1,2,7,9,28,66,116,195,286,509,880,1458,2047,3753,5229,6446,8520,10784,12311,14107,15986,18041,19105,21125,22868,24132,25386,26859,28223,28827,30172,31340,31954,32797,33723,34588,34918,35837,36533,37257,37515,38374,38977,39530,40072,40637,40769,41310,41666,41885,42159,42480,42783,42840,43165,43498,43634,43815,44080,44283,44321,44602,44735,44904,45053,45204,45358,45397,45586,45762,45837],\"yaxis\":\"y\",\"type\":\"bar\"}],                        {\"template\":{\"data\":{\"barpolar\":[{\"marker\":{\"line\":{\"color\":\"rgb(17,17,17)\",\"width\":0.5},\"pattern\":{\"fillmode\":\"overlay\",\"size\":10,\"solidity\":0.2}},\"type\":\"barpolar\"}],\"bar\":[{\"error_x\":{\"color\":\"#f2f5fa\"},\"error_y\":{\"color\":\"#f2f5fa\"},\"marker\":{\"line\":{\"color\":\"rgb(17,17,17)\",\"width\":0.5},\"pattern\":{\"fillmode\":\"overlay\",\"size\":10,\"solidity\":0.2}},\"type\":\"bar\"}],\"carpet\":[{\"aaxis\":{\"endlinecolor\":\"#A2B1C6\",\"gridcolor\":\"#506784\",\"linecolor\":\"#506784\",\"minorgridcolor\":\"#506784\",\"startlinecolor\":\"#A2B1C6\"},\"baxis\":{\"endlinecolor\":\"#A2B1C6\",\"gridcolor\":\"#506784\",\"linecolor\":\"#506784\",\"minorgridcolor\":\"#506784\",\"startlinecolor\":\"#A2B1C6\"},\"type\":\"carpet\"}],\"choropleth\":[{\"colorbar\":{\"outlinewidth\":0,\"ticks\":\"\"},\"type\":\"choropleth\"}],\"contourcarpet\":[{\"colorbar\":{\"outlinewidth\":0,\"ticks\":\"\"},\"type\":\"contourcarpet\"}],\"contour\":[{\"colorbar\":{\"outlinewidth\":0,\"ticks\":\"\"},\"colorscale\":[[0.0,\"#0d0887\"],[0.1111111111111111,\"#46039f\"],[0.2222222222222222,\"#7201a8\"],[0.3333333333333333,\"#9c179e\"],[0.4444444444444444,\"#bd3786\"],[0.5555555555555556,\"#d8576b\"],[0.6666666666666666,\"#ed7953\"],[0.7777777777777778,\"#fb9f3a\"],[0.8888888888888888,\"#fdca26\"],[1.0,\"#f0f921\"]],\"type\":\"contour\"}],\"heatmapgl\":[{\"colorbar\":{\"outlinewidth\":0,\"ticks\":\"\"},\"colorscale\":[[0.0,\"#0d0887\"],[0.1111111111111111,\"#46039f\"],[0.2222222222222222,\"#7201a8\"],[0.3333333333333333,\"#9c179e\"],[0.4444444444444444,\"#bd3786\"],[0.5555555555555556,\"#d8576b\"],[0.6666666666666666,\"#ed7953\"],[0.7777777777777778,\"#fb9f3a\"],[0.8888888888888888,\"#fdca26\"],[1.0,\"#f0f921\"]],\"type\":\"heatmapgl\"}],\"heatmap\":[{\"colorbar\":{\"outlinewidth\":0,\"ticks\":\"\"},\"colorscale\":[[0.0,\"#0d0887\"],[0.1111111111111111,\"#46039f\"],[0.2222222222222222,\"#7201a8\"],[0.3333333333333333,\"#9c179e\"],[0.4444444444444444,\"#bd3786\"],[0.5555555555555556,\"#d8576b\"],[0.6666666666666666,\"#ed7953\"],[0.7777777777777778,\"#fb9f3a\"],[0.8888888888888888,\"#fdca26\"],[1.0,\"#f0f921\"]],\"type\":\"heatmap\"}],\"histogram2dcontour\":[{\"colorbar\":{\"outlinewidth\":0,\"ticks\":\"\"},\"colorscale\":[[0.0,\"#0d0887\"],[0.1111111111111111,\"#46039f\"],[0.2222222222222222,\"#7201a8\"],[0.3333333333333333,\"#9c179e\"],[0.4444444444444444,\"#bd3786\"],[0.5555555555555556,\"#d8576b\"],[0.6666666666666666,\"#ed7953\"],[0.7777777777777778,\"#fb9f3a\"],[0.8888888888888888,\"#fdca26\"],[1.0,\"#f0f921\"]],\"type\":\"histogram2dcontour\"}],\"histogram2d\":[{\"colorbar\":{\"outlinewidth\":0,\"ticks\":\"\"},\"colorscale\":[[0.0,\"#0d0887\"],[0.1111111111111111,\"#46039f\"],[0.2222222222222222,\"#7201a8\"],[0.3333333333333333,\"#9c179e\"],[0.4444444444444444,\"#bd3786\"],[0.5555555555555556,\"#d8576b\"],[0.6666666666666666,\"#ed7953\"],[0.7777777777777778,\"#fb9f3a\"],[0.8888888888888888,\"#fdca26\"],[1.0,\"#f0f921\"]],\"type\":\"histogram2d\"}],\"histogram\":[{\"marker\":{\"pattern\":{\"fillmode\":\"overlay\",\"size\":10,\"solidity\":0.2}},\"type\":\"histogram\"}],\"mesh3d\":[{\"colorbar\":{\"outlinewidth\":0,\"ticks\":\"\"},\"type\":\"mesh3d\"}],\"parcoords\":[{\"line\":{\"colorbar\":{\"outlinewidth\":0,\"ticks\":\"\"}},\"type\":\"parcoords\"}],\"pie\":[{\"automargin\":true,\"type\":\"pie\"}],\"scatter3d\":[{\"line\":{\"colorbar\":{\"outlinewidth\":0,\"ticks\":\"\"}},\"marker\":{\"colorbar\":{\"outlinewidth\":0,\"ticks\":\"\"}},\"type\":\"scatter3d\"}],\"scattercarpet\":[{\"marker\":{\"colorbar\":{\"outlinewidth\":0,\"ticks\":\"\"}},\"type\":\"scattercarpet\"}],\"scattergeo\":[{\"marker\":{\"colorbar\":{\"outlinewidth\":0,\"ticks\":\"\"}},\"type\":\"scattergeo\"}],\"scattergl\":[{\"marker\":{\"line\":{\"color\":\"#283442\"}},\"type\":\"scattergl\"}],\"scattermapbox\":[{\"marker\":{\"colorbar\":{\"outlinewidth\":0,\"ticks\":\"\"}},\"type\":\"scattermapbox\"}],\"scatterpolargl\":[{\"marker\":{\"colorbar\":{\"outlinewidth\":0,\"ticks\":\"\"}},\"type\":\"scatterpolargl\"}],\"scatterpolar\":[{\"marker\":{\"colorbar\":{\"outlinewidth\":0,\"ticks\":\"\"}},\"type\":\"scatterpolar\"}],\"scatter\":[{\"marker\":{\"line\":{\"color\":\"#283442\"}},\"type\":\"scatter\"}],\"scatterternary\":[{\"marker\":{\"colorbar\":{\"outlinewidth\":0,\"ticks\":\"\"}},\"type\":\"scatterternary\"}],\"surface\":[{\"colorbar\":{\"outlinewidth\":0,\"ticks\":\"\"},\"colorscale\":[[0.0,\"#0d0887\"],[0.1111111111111111,\"#46039f\"],[0.2222222222222222,\"#7201a8\"],[0.3333333333333333,\"#9c179e\"],[0.4444444444444444,\"#bd3786\"],[0.5555555555555556,\"#d8576b\"],[0.6666666666666666,\"#ed7953\"],[0.7777777777777778,\"#fb9f3a\"],[0.8888888888888888,\"#fdca26\"],[1.0,\"#f0f921\"]],\"type\":\"surface\"}],\"table\":[{\"cells\":{\"fill\":{\"color\":\"#506784\"},\"line\":{\"color\":\"rgb(17,17,17)\"}},\"header\":{\"fill\":{\"color\":\"#2a3f5f\"},\"line\":{\"color\":\"rgb(17,17,17)\"}},\"type\":\"table\"}]},\"layout\":{\"annotationdefaults\":{\"arrowcolor\":\"#f2f5fa\",\"arrowhead\":0,\"arrowwidth\":1},\"autotypenumbers\":\"strict\",\"coloraxis\":{\"colorbar\":{\"outlinewidth\":0,\"ticks\":\"\"}},\"colorscale\":{\"diverging\":[[0,\"#8e0152\"],[0.1,\"#c51b7d\"],[0.2,\"#de77ae\"],[0.3,\"#f1b6da\"],[0.4,\"#fde0ef\"],[0.5,\"#f7f7f7\"],[0.6,\"#e6f5d0\"],[0.7,\"#b8e186\"],[0.8,\"#7fbc41\"],[0.9,\"#4d9221\"],[1,\"#276419\"]],\"sequential\":[[0.0,\"#0d0887\"],[0.1111111111111111,\"#46039f\"],[0.2222222222222222,\"#7201a8\"],[0.3333333333333333,\"#9c179e\"],[0.4444444444444444,\"#bd3786\"],[0.5555555555555556,\"#d8576b\"],[0.6666666666666666,\"#ed7953\"],[0.7777777777777778,\"#fb9f3a\"],[0.8888888888888888,\"#fdca26\"],[1.0,\"#f0f921\"]],\"sequentialminus\":[[0.0,\"#0d0887\"],[0.1111111111111111,\"#46039f\"],[0.2222222222222222,\"#7201a8\"],[0.3333333333333333,\"#9c179e\"],[0.4444444444444444,\"#bd3786\"],[0.5555555555555556,\"#d8576b\"],[0.6666666666666666,\"#ed7953\"],[0.7777777777777778,\"#fb9f3a\"],[0.8888888888888888,\"#fdca26\"],[1.0,\"#f0f921\"]]},\"colorway\":[\"#636efa\",\"#EF553B\",\"#00cc96\",\"#ab63fa\",\"#FFA15A\",\"#19d3f3\",\"#FF6692\",\"#B6E880\",\"#FF97FF\",\"#FECB52\"],\"font\":{\"color\":\"#f2f5fa\"},\"geo\":{\"bgcolor\":\"rgb(17,17,17)\",\"lakecolor\":\"rgb(17,17,17)\",\"landcolor\":\"rgb(17,17,17)\",\"showlakes\":true,\"showland\":true,\"subunitcolor\":\"#506784\"},\"hoverlabel\":{\"align\":\"left\"},\"hovermode\":\"closest\",\"mapbox\":{\"style\":\"dark\"},\"paper_bgcolor\":\"rgb(17,17,17)\",\"plot_bgcolor\":\"rgb(17,17,17)\",\"polar\":{\"angularaxis\":{\"gridcolor\":\"#506784\",\"linecolor\":\"#506784\",\"ticks\":\"\"},\"bgcolor\":\"rgb(17,17,17)\",\"radialaxis\":{\"gridcolor\":\"#506784\",\"linecolor\":\"#506784\",\"ticks\":\"\"}},\"scene\":{\"xaxis\":{\"backgroundcolor\":\"rgb(17,17,17)\",\"gridcolor\":\"#506784\",\"gridwidth\":2,\"linecolor\":\"#506784\",\"showbackground\":true,\"ticks\":\"\",\"zerolinecolor\":\"#C8D4E3\"},\"yaxis\":{\"backgroundcolor\":\"rgb(17,17,17)\",\"gridcolor\":\"#506784\",\"gridwidth\":2,\"linecolor\":\"#506784\",\"showbackground\":true,\"ticks\":\"\",\"zerolinecolor\":\"#C8D4E3\"},\"zaxis\":{\"backgroundcolor\":\"rgb(17,17,17)\",\"gridcolor\":\"#506784\",\"gridwidth\":2,\"linecolor\":\"#506784\",\"showbackground\":true,\"ticks\":\"\",\"zerolinecolor\":\"#C8D4E3\"}},\"shapedefaults\":{\"line\":{\"color\":\"#f2f5fa\"}},\"sliderdefaults\":{\"bgcolor\":\"#C8D4E3\",\"bordercolor\":\"rgb(17,17,17)\",\"borderwidth\":1,\"tickwidth\":0},\"ternary\":{\"aaxis\":{\"gridcolor\":\"#506784\",\"linecolor\":\"#506784\",\"ticks\":\"\"},\"baxis\":{\"gridcolor\":\"#506784\",\"linecolor\":\"#506784\",\"ticks\":\"\"},\"bgcolor\":\"rgb(17,17,17)\",\"caxis\":{\"gridcolor\":\"#506784\",\"linecolor\":\"#506784\",\"ticks\":\"\"}},\"title\":{\"x\":0.05},\"updatemenudefaults\":{\"bgcolor\":\"#506784\",\"borderwidth\":0},\"xaxis\":{\"automargin\":true,\"gridcolor\":\"#283442\",\"linecolor\":\"#506784\",\"ticks\":\"\",\"title\":{\"standoff\":15},\"zerolinecolor\":\"#283442\",\"zerolinewidth\":2},\"yaxis\":{\"automargin\":true,\"gridcolor\":\"#283442\",\"linecolor\":\"#506784\",\"ticks\":\"\",\"title\":{\"standoff\":15},\"zerolinecolor\":\"#283442\",\"zerolinewidth\":2}}},\"xaxis\":{\"anchor\":\"y\",\"domain\":[0.0,1.0],\"title\":{\"text\":\"Date\"},\"tickangle\":45},\"yaxis\":{\"anchor\":\"x\",\"domain\":[0.0,1.0],\"title\":{\"text\":\"Deaths\"}},\"legend\":{\"title\":{\"text\":\"Country\\u002fRegion\"},\"tracegroupgap\":0},\"title\":{\"text\":\"Top 6 Countries in Deaths\"},\"barmode\":\"relative\"},                        {\"responsive\": true}                    ).then(function(){\n",
       "                            \n",
       "var gd = document.getElementById('7a219cac-a399-46c8-9135-55f63703debb');\n",
       "var x = new MutationObserver(function (mutations, observer) {{\n",
       "        var display = window.getComputedStyle(gd).display;\n",
       "        if (!display || display === 'none') {{\n",
       "            console.log([gd, 'removed!']);\n",
       "            Plotly.purge(gd);\n",
       "            observer.disconnect();\n",
       "        }}\n",
       "}});\n",
       "\n",
       "// Listen for the removal of the full notebook cells\n",
       "var notebookContainer = gd.closest('#notebook-container');\n",
       "if (notebookContainer) {{\n",
       "    x.observe(notebookContainer, {childList: true});\n",
       "}}\n",
       "\n",
       "// Listen for the clearing of the current output cell\n",
       "var outputEl = gd.closest('.output');\n",
       "if (outputEl) {{\n",
       "    x.observe(outputEl, {childList: true});\n",
       "}}\n",
       "\n",
       "                        })                };                });            </script>        </div>"
      ]
     },
     "metadata": {},
     "output_type": "display_data"
    },
    {
     "data": {
      "text/html": [
       "<div>                            <div id=\"f93fe11a-4188-4399-9b5c-ff37b6aa9b12\" class=\"plotly-graph-div\" style=\"height:525px; width:100%;\"></div>            <script type=\"text/javascript\">                require([\"plotly\"], function(Plotly) {                    window.PLOTLYENV=window.PLOTLYENV || {};                                    if (document.getElementById(\"f93fe11a-4188-4399-9b5c-ff37b6aa9b12\")) {                    Plotly.newPlot(                        \"f93fe11a-4188-4399-9b5c-ff37b6aa9b12\",                        [{\"alignmentgroup\":\"True\",\"hovertemplate\":\"Country\\u002fRegion=Brazil\\u003cbr\\u003eDate=%{x}\\u003cbr\\u003eRecovered=%{y}\\u003cextra\\u003e\\u003c\\u002fextra\\u003e\",\"legendgroup\":\"Brazil\",\"marker\":{\"color\":\"#636efa\",\"pattern\":{\"shape\":\"\"}},\"name\":\"Brazil\",\"offsetgroup\":\"Brazil\",\"orientation\":\"v\",\"showlegend\":true,\"textposition\":\"auto\",\"x\":[\"2020-01-22T00:00:00\",\"2020-01-24T00:00:00\",\"2020-01-26T00:00:00\",\"2020-01-28T00:00:00\",\"2020-01-30T00:00:00\",\"2020-02-02T00:00:00\",\"2020-02-04T00:00:00\",\"2020-02-06T00:00:00\",\"2020-02-08T00:00:00\",\"2020-02-10T00:00:00\",\"2020-02-12T00:00:00\",\"2020-02-14T00:00:00\",\"2020-02-16T00:00:00\",\"2020-02-18T00:00:00\",\"2020-02-20T00:00:00\",\"2020-02-22T00:00:00\",\"2020-02-24T00:00:00\",\"2020-02-26T00:00:00\",\"2020-02-28T00:00:00\",\"2020-03-02T00:00:00\",\"2020-03-04T00:00:00\",\"2020-03-06T00:00:00\",\"2020-03-08T00:00:00\",\"2020-03-10T00:00:00\",\"2020-03-12T00:00:00\",\"2020-03-14T00:00:00\",\"2020-03-16T00:00:00\",\"2020-03-18T00:00:00\",\"2020-03-20T00:00:00\",\"2020-03-22T00:00:00\",\"2020-03-24T00:00:00\",\"2020-03-26T00:00:00\",\"2020-03-28T00:00:00\",\"2020-03-30T00:00:00\",\"2020-04-02T00:00:00\",\"2020-04-04T00:00:00\",\"2020-04-06T00:00:00\",\"2020-04-08T00:00:00\",\"2020-04-10T00:00:00\",\"2020-04-12T00:00:00\",\"2020-04-14T00:00:00\",\"2020-04-16T00:00:00\",\"2020-04-18T00:00:00\",\"2020-04-20T00:00:00\",\"2020-04-22T00:00:00\",\"2020-04-24T00:00:00\",\"2020-04-26T00:00:00\",\"2020-04-28T00:00:00\",\"2020-04-30T00:00:00\",\"2020-05-02T00:00:00\",\"2020-05-04T00:00:00\",\"2020-05-06T00:00:00\",\"2020-05-08T00:00:00\",\"2020-05-10T00:00:00\",\"2020-05-12T00:00:00\",\"2020-05-14T00:00:00\",\"2020-05-16T00:00:00\",\"2020-05-18T00:00:00\",\"2020-05-20T00:00:00\",\"2020-05-22T00:00:00\",\"2020-05-24T00:00:00\",\"2020-05-26T00:00:00\",\"2020-05-28T00:00:00\",\"2020-05-30T00:00:00\",\"2020-06-02T00:00:00\",\"2020-06-04T00:00:00\",\"2020-06-06T00:00:00\",\"2020-06-08T00:00:00\",\"2020-06-10T00:00:00\",\"2020-06-12T00:00:00\",\"2020-06-14T00:00:00\",\"2020-06-16T00:00:00\",\"2020-06-18T00:00:00\",\"2020-06-20T00:00:00\",\"2020-06-22T00:00:00\",\"2020-06-24T00:00:00\",\"2020-06-26T00:00:00\",\"2020-06-28T00:00:00\",\"2020-06-30T00:00:00\",\"2020-07-02T00:00:00\",\"2020-07-04T00:00:00\",\"2020-07-06T00:00:00\",\"2020-07-08T00:00:00\",\"2020-07-10T00:00:00\",\"2020-07-12T00:00:00\",\"2020-07-14T00:00:00\",\"2020-07-16T00:00:00\",\"2020-07-18T00:00:00\",\"2020-07-20T00:00:00\",\"2020-07-22T00:00:00\",\"2020-07-24T00:00:00\",\"2020-07-26T00:00:00\"],\"xaxis\":\"x\",\"y\":[0,0,0,0,0,0,0,0,0,0,0,0,0,0,0,0,0,0,0,0,0,0,0,0,0,0,1,2,2,2,2,6,6,120,127,127,127,127,173,173,3046,14026,14026,22130,25318,27655,30152,32544,35935,40937,45815,51370,59297,64957,72597,79479,89672,100459,116683,135430,149911,158593,177604,200892,223638,254963,277149,378257,413916,445123,469141,490005,534580,576779,601736,660469,702399,746018,788318,957692,990731,1062542,1139844,1217361,1264843,1323425,1397531,1447408,1514300,1591975,1693214,1812913],\"yaxis\":\"y\",\"type\":\"bar\"},{\"alignmentgroup\":\"True\",\"hovertemplate\":\"Country\\u002fRegion=Chile\\u003cbr\\u003eDate=%{x}\\u003cbr\\u003eRecovered=%{y}\\u003cextra\\u003e\\u003c\\u002fextra\\u003e\",\"legendgroup\":\"Chile\",\"marker\":{\"color\":\"#EF553B\",\"pattern\":{\"shape\":\"\"}},\"name\":\"Chile\",\"offsetgroup\":\"Chile\",\"orientation\":\"v\",\"showlegend\":true,\"textposition\":\"auto\",\"x\":[\"2020-01-22T00:00:00\",\"2020-01-24T00:00:00\",\"2020-01-26T00:00:00\",\"2020-01-28T00:00:00\",\"2020-01-30T00:00:00\",\"2020-02-02T00:00:00\",\"2020-02-04T00:00:00\",\"2020-02-06T00:00:00\",\"2020-02-08T00:00:00\",\"2020-02-10T00:00:00\",\"2020-02-12T00:00:00\",\"2020-02-14T00:00:00\",\"2020-02-16T00:00:00\",\"2020-02-18T00:00:00\",\"2020-02-20T00:00:00\",\"2020-02-22T00:00:00\",\"2020-02-24T00:00:00\",\"2020-02-26T00:00:00\",\"2020-02-28T00:00:00\",\"2020-03-02T00:00:00\",\"2020-03-04T00:00:00\",\"2020-03-06T00:00:00\",\"2020-03-08T00:00:00\",\"2020-03-10T00:00:00\",\"2020-03-12T00:00:00\",\"2020-03-14T00:00:00\",\"2020-03-16T00:00:00\",\"2020-03-18T00:00:00\",\"2020-03-20T00:00:00\",\"2020-03-22T00:00:00\",\"2020-03-24T00:00:00\",\"2020-03-26T00:00:00\",\"2020-03-28T00:00:00\",\"2020-03-30T00:00:00\",\"2020-04-02T00:00:00\",\"2020-04-04T00:00:00\",\"2020-04-06T00:00:00\",\"2020-04-08T00:00:00\",\"2020-04-10T00:00:00\",\"2020-04-12T00:00:00\",\"2020-04-14T00:00:00\",\"2020-04-16T00:00:00\",\"2020-04-18T00:00:00\",\"2020-04-20T00:00:00\",\"2020-04-22T00:00:00\",\"2020-04-24T00:00:00\",\"2020-04-26T00:00:00\",\"2020-04-28T00:00:00\",\"2020-04-30T00:00:00\",\"2020-05-02T00:00:00\",\"2020-05-04T00:00:00\",\"2020-05-06T00:00:00\",\"2020-05-08T00:00:00\",\"2020-05-10T00:00:00\",\"2020-05-12T00:00:00\",\"2020-05-14T00:00:00\",\"2020-05-16T00:00:00\",\"2020-05-18T00:00:00\",\"2020-05-20T00:00:00\",\"2020-05-22T00:00:00\",\"2020-05-24T00:00:00\",\"2020-05-26T00:00:00\",\"2020-05-28T00:00:00\",\"2020-05-30T00:00:00\",\"2020-06-02T00:00:00\",\"2020-06-04T00:00:00\",\"2020-06-06T00:00:00\",\"2020-06-08T00:00:00\",\"2020-06-10T00:00:00\",\"2020-06-12T00:00:00\",\"2020-06-14T00:00:00\",\"2020-06-16T00:00:00\",\"2020-06-18T00:00:00\",\"2020-06-20T00:00:00\",\"2020-06-22T00:00:00\",\"2020-06-24T00:00:00\",\"2020-06-26T00:00:00\",\"2020-06-28T00:00:00\",\"2020-06-30T00:00:00\",\"2020-07-02T00:00:00\",\"2020-07-04T00:00:00\",\"2020-07-06T00:00:00\",\"2020-07-08T00:00:00\",\"2020-07-10T00:00:00\",\"2020-07-12T00:00:00\",\"2020-07-14T00:00:00\",\"2020-07-16T00:00:00\",\"2020-07-18T00:00:00\",\"2020-07-20T00:00:00\",\"2020-07-22T00:00:00\",\"2020-07-24T00:00:00\",\"2020-07-26T00:00:00\"],\"xaxis\":\"x\",\"y\":[0,0,0,0,0,0,0,0,0,0,0,0,0,0,0,0,0,0,0,0,0,0,0,0,0,0,0,0,6,8,17,22,61,156,335,528,728,1115,1571,2059,2646,3299,4035,4676,5386,6327,7024,7710,8580,9572,10415,11189,12160,13112,14125,15655,18014,20165,22504,25342,28148,30915,36115,40431,86173,95631,103817,112248,121780,131358,143704,156232,186441,196609,205397,215093,223431,232210,241229,249247,257451,264378,271741,278053,283902,289220,295301,299449,303992,309241,313696,318095],\"yaxis\":\"y\",\"type\":\"bar\"},{\"alignmentgroup\":\"True\",\"hovertemplate\":\"Country\\u002fRegion=India\\u003cbr\\u003eDate=%{x}\\u003cbr\\u003eRecovered=%{y}\\u003cextra\\u003e\\u003c\\u002fextra\\u003e\",\"legendgroup\":\"India\",\"marker\":{\"color\":\"#00cc96\",\"pattern\":{\"shape\":\"\"}},\"name\":\"India\",\"offsetgroup\":\"India\",\"orientation\":\"v\",\"showlegend\":true,\"textposition\":\"auto\",\"x\":[\"2020-01-22T00:00:00\",\"2020-01-24T00:00:00\",\"2020-01-26T00:00:00\",\"2020-01-28T00:00:00\",\"2020-01-30T00:00:00\",\"2020-02-02T00:00:00\",\"2020-02-04T00:00:00\",\"2020-02-06T00:00:00\",\"2020-02-08T00:00:00\",\"2020-02-10T00:00:00\",\"2020-02-12T00:00:00\",\"2020-02-14T00:00:00\",\"2020-02-16T00:00:00\",\"2020-02-18T00:00:00\",\"2020-02-20T00:00:00\",\"2020-02-22T00:00:00\",\"2020-02-24T00:00:00\",\"2020-02-26T00:00:00\",\"2020-02-28T00:00:00\",\"2020-03-02T00:00:00\",\"2020-03-04T00:00:00\",\"2020-03-06T00:00:00\",\"2020-03-08T00:00:00\",\"2020-03-10T00:00:00\",\"2020-03-12T00:00:00\",\"2020-03-14T00:00:00\",\"2020-03-16T00:00:00\",\"2020-03-18T00:00:00\",\"2020-03-20T00:00:00\",\"2020-03-22T00:00:00\",\"2020-03-24T00:00:00\",\"2020-03-26T00:00:00\",\"2020-03-28T00:00:00\",\"2020-03-30T00:00:00\",\"2020-04-02T00:00:00\",\"2020-04-04T00:00:00\",\"2020-04-06T00:00:00\",\"2020-04-08T00:00:00\",\"2020-04-10T00:00:00\",\"2020-04-12T00:00:00\",\"2020-04-14T00:00:00\",\"2020-04-16T00:00:00\",\"2020-04-18T00:00:00\",\"2020-04-20T00:00:00\",\"2020-04-22T00:00:00\",\"2020-04-24T00:00:00\",\"2020-04-26T00:00:00\",\"2020-04-28T00:00:00\",\"2020-04-30T00:00:00\",\"2020-05-02T00:00:00\",\"2020-05-04T00:00:00\",\"2020-05-06T00:00:00\",\"2020-05-08T00:00:00\",\"2020-05-10T00:00:00\",\"2020-05-12T00:00:00\",\"2020-05-14T00:00:00\",\"2020-05-16T00:00:00\",\"2020-05-18T00:00:00\",\"2020-05-20T00:00:00\",\"2020-05-22T00:00:00\",\"2020-05-24T00:00:00\",\"2020-05-26T00:00:00\",\"2020-05-28T00:00:00\",\"2020-05-30T00:00:00\",\"2020-06-02T00:00:00\",\"2020-06-04T00:00:00\",\"2020-06-06T00:00:00\",\"2020-06-08T00:00:00\",\"2020-06-10T00:00:00\",\"2020-06-12T00:00:00\",\"2020-06-14T00:00:00\",\"2020-06-16T00:00:00\",\"2020-06-18T00:00:00\",\"2020-06-20T00:00:00\",\"2020-06-22T00:00:00\",\"2020-06-24T00:00:00\",\"2020-06-26T00:00:00\",\"2020-06-28T00:00:00\",\"2020-06-30T00:00:00\",\"2020-07-02T00:00:00\",\"2020-07-04T00:00:00\",\"2020-07-06T00:00:00\",\"2020-07-08T00:00:00\",\"2020-07-10T00:00:00\",\"2020-07-12T00:00:00\",\"2020-07-14T00:00:00\",\"2020-07-16T00:00:00\",\"2020-07-18T00:00:00\",\"2020-07-20T00:00:00\",\"2020-07-22T00:00:00\",\"2020-07-24T00:00:00\",\"2020-07-26T00:00:00\"],\"xaxis\":\"x\",\"y\":[0,0,0,0,0,0,0,0,0,0,0,0,3,3,3,3,3,3,3,3,3,3,3,4,4,4,13,14,20,27,40,45,84,102,191,229,375,506,774,1080,1359,1768,2463,3273,4370,5498,6523,7747,9068,10819,12847,15331,17887,20969,24420,27969,34224,39233,45422,51824,57692,64277,70920,86936,100285,108450,118695,129095,135206,154330,169798,186935,204711,227728,248190,271697,295881,321723,347912,379892,409083,439934,476378,515386,553471,592032,635757,677423,724578,782607,849432,917568],\"yaxis\":\"y\",\"type\":\"bar\"},{\"alignmentgroup\":\"True\",\"hovertemplate\":\"Country\\u002fRegion=Mexico\\u003cbr\\u003eDate=%{x}\\u003cbr\\u003eRecovered=%{y}\\u003cextra\\u003e\\u003c\\u002fextra\\u003e\",\"legendgroup\":\"Mexico\",\"marker\":{\"color\":\"#ab63fa\",\"pattern\":{\"shape\":\"\"}},\"name\":\"Mexico\",\"offsetgroup\":\"Mexico\",\"orientation\":\"v\",\"showlegend\":true,\"textposition\":\"auto\",\"x\":[\"2020-01-22T00:00:00\",\"2020-01-24T00:00:00\",\"2020-01-26T00:00:00\",\"2020-01-28T00:00:00\",\"2020-01-30T00:00:00\",\"2020-02-02T00:00:00\",\"2020-02-04T00:00:00\",\"2020-02-06T00:00:00\",\"2020-02-08T00:00:00\",\"2020-02-10T00:00:00\",\"2020-02-12T00:00:00\",\"2020-02-14T00:00:00\",\"2020-02-16T00:00:00\",\"2020-02-18T00:00:00\",\"2020-02-20T00:00:00\",\"2020-02-22T00:00:00\",\"2020-02-24T00:00:00\",\"2020-02-26T00:00:00\",\"2020-02-28T00:00:00\",\"2020-03-02T00:00:00\",\"2020-03-04T00:00:00\",\"2020-03-06T00:00:00\",\"2020-03-08T00:00:00\",\"2020-03-10T00:00:00\",\"2020-03-12T00:00:00\",\"2020-03-14T00:00:00\",\"2020-03-16T00:00:00\",\"2020-03-18T00:00:00\",\"2020-03-20T00:00:00\",\"2020-03-22T00:00:00\",\"2020-03-24T00:00:00\",\"2020-03-26T00:00:00\",\"2020-03-28T00:00:00\",\"2020-03-30T00:00:00\",\"2020-04-02T00:00:00\",\"2020-04-04T00:00:00\",\"2020-04-06T00:00:00\",\"2020-04-08T00:00:00\",\"2020-04-10T00:00:00\",\"2020-04-12T00:00:00\",\"2020-04-14T00:00:00\",\"2020-04-16T00:00:00\",\"2020-04-18T00:00:00\",\"2020-04-20T00:00:00\",\"2020-04-22T00:00:00\",\"2020-04-24T00:00:00\",\"2020-04-26T00:00:00\",\"2020-04-28T00:00:00\",\"2020-04-30T00:00:00\",\"2020-05-02T00:00:00\",\"2020-05-04T00:00:00\",\"2020-05-06T00:00:00\",\"2020-05-08T00:00:00\",\"2020-05-10T00:00:00\",\"2020-05-12T00:00:00\",\"2020-05-14T00:00:00\",\"2020-05-16T00:00:00\",\"2020-05-18T00:00:00\",\"2020-05-20T00:00:00\",\"2020-05-22T00:00:00\",\"2020-05-24T00:00:00\",\"2020-05-26T00:00:00\",\"2020-05-28T00:00:00\",\"2020-05-30T00:00:00\",\"2020-06-02T00:00:00\",\"2020-06-04T00:00:00\",\"2020-06-06T00:00:00\",\"2020-06-08T00:00:00\",\"2020-06-10T00:00:00\",\"2020-06-12T00:00:00\",\"2020-06-14T00:00:00\",\"2020-06-16T00:00:00\",\"2020-06-18T00:00:00\",\"2020-06-20T00:00:00\",\"2020-06-22T00:00:00\",\"2020-06-24T00:00:00\",\"2020-06-26T00:00:00\",\"2020-06-28T00:00:00\",\"2020-06-30T00:00:00\",\"2020-07-02T00:00:00\",\"2020-07-04T00:00:00\",\"2020-07-06T00:00:00\",\"2020-07-08T00:00:00\",\"2020-07-10T00:00:00\",\"2020-07-12T00:00:00\",\"2020-07-14T00:00:00\",\"2020-07-16T00:00:00\",\"2020-07-18T00:00:00\",\"2020-07-20T00:00:00\",\"2020-07-22T00:00:00\",\"2020-07-24T00:00:00\",\"2020-07-26T00:00:00\"],\"xaxis\":\"x\",\"y\":[0,0,0,0,0,0,0,0,0,0,0,0,0,0,0,0,0,0,0,0,1,1,1,4,4,4,4,4,4,4,4,4,4,35,35,633,633,633,633,1772,1964,2125,2125,2627,2627,2627,8354,11423,11423,12377,13447,17781,20314,21824,25935,28475,31848,35388,38419,42191,46979,51708,56041,61247,69749,74758,80830,87633,93930,100876,107298,115394,122180,130854,139383,148487,156827,164646,174538,183757,195724,204826,214316,225356,234905,245830,257681,271239,263091,270147,283382,295222],\"yaxis\":\"y\",\"type\":\"bar\"},{\"alignmentgroup\":\"True\",\"hovertemplate\":\"Country\\u002fRegion=Russia\\u003cbr\\u003eDate=%{x}\\u003cbr\\u003eRecovered=%{y}\\u003cextra\\u003e\\u003c\\u002fextra\\u003e\",\"legendgroup\":\"Russia\",\"marker\":{\"color\":\"#FFA15A\",\"pattern\":{\"shape\":\"\"}},\"name\":\"Russia\",\"offsetgroup\":\"Russia\",\"orientation\":\"v\",\"showlegend\":true,\"textposition\":\"auto\",\"x\":[\"2020-01-22T00:00:00\",\"2020-01-24T00:00:00\",\"2020-01-26T00:00:00\",\"2020-01-28T00:00:00\",\"2020-01-30T00:00:00\",\"2020-02-02T00:00:00\",\"2020-02-04T00:00:00\",\"2020-02-06T00:00:00\",\"2020-02-08T00:00:00\",\"2020-02-10T00:00:00\",\"2020-02-12T00:00:00\",\"2020-02-14T00:00:00\",\"2020-02-16T00:00:00\",\"2020-02-18T00:00:00\",\"2020-02-20T00:00:00\",\"2020-02-22T00:00:00\",\"2020-02-24T00:00:00\",\"2020-02-26T00:00:00\",\"2020-02-28T00:00:00\",\"2020-03-02T00:00:00\",\"2020-03-04T00:00:00\",\"2020-03-06T00:00:00\",\"2020-03-08T00:00:00\",\"2020-03-10T00:00:00\",\"2020-03-12T00:00:00\",\"2020-03-14T00:00:00\",\"2020-03-16T00:00:00\",\"2020-03-18T00:00:00\",\"2020-03-20T00:00:00\",\"2020-03-22T00:00:00\",\"2020-03-24T00:00:00\",\"2020-03-26T00:00:00\",\"2020-03-28T00:00:00\",\"2020-03-30T00:00:00\",\"2020-04-02T00:00:00\",\"2020-04-04T00:00:00\",\"2020-04-06T00:00:00\",\"2020-04-08T00:00:00\",\"2020-04-10T00:00:00\",\"2020-04-12T00:00:00\",\"2020-04-14T00:00:00\",\"2020-04-16T00:00:00\",\"2020-04-18T00:00:00\",\"2020-04-20T00:00:00\",\"2020-04-22T00:00:00\",\"2020-04-24T00:00:00\",\"2020-04-26T00:00:00\",\"2020-04-28T00:00:00\",\"2020-04-30T00:00:00\",\"2020-05-02T00:00:00\",\"2020-05-04T00:00:00\",\"2020-05-06T00:00:00\",\"2020-05-08T00:00:00\",\"2020-05-10T00:00:00\",\"2020-05-12T00:00:00\",\"2020-05-14T00:00:00\",\"2020-05-16T00:00:00\",\"2020-05-18T00:00:00\",\"2020-05-20T00:00:00\",\"2020-05-22T00:00:00\",\"2020-05-24T00:00:00\",\"2020-05-26T00:00:00\",\"2020-05-28T00:00:00\",\"2020-05-30T00:00:00\",\"2020-06-02T00:00:00\",\"2020-06-04T00:00:00\",\"2020-06-06T00:00:00\",\"2020-06-08T00:00:00\",\"2020-06-10T00:00:00\",\"2020-06-12T00:00:00\",\"2020-06-14T00:00:00\",\"2020-06-16T00:00:00\",\"2020-06-18T00:00:00\",\"2020-06-20T00:00:00\",\"2020-06-22T00:00:00\",\"2020-06-24T00:00:00\",\"2020-06-26T00:00:00\",\"2020-06-28T00:00:00\",\"2020-06-30T00:00:00\",\"2020-07-02T00:00:00\",\"2020-07-04T00:00:00\",\"2020-07-06T00:00:00\",\"2020-07-08T00:00:00\",\"2020-07-10T00:00:00\",\"2020-07-12T00:00:00\",\"2020-07-14T00:00:00\",\"2020-07-16T00:00:00\",\"2020-07-18T00:00:00\",\"2020-07-20T00:00:00\",\"2020-07-22T00:00:00\",\"2020-07-24T00:00:00\",\"2020-07-26T00:00:00\"],\"xaxis\":\"x\",\"y\":[0,0,0,0,0,0,0,0,0,0,2,2,2,2,2,2,2,2,2,2,2,2,3,3,3,8,8,8,9,16,22,38,49,66,235,333,406,580,795,1291,1694,2304,3057,3446,4420,5568,6767,8456,11619,15013,18095,21327,26608,34306,43512,53530,63166,70209,85392,99825,113299,131129,150993,167469,186602,204197,220935,230226,252295,268862,279536,293780,313409,334024,343847,368222,383524,398436,411973,428276,446127,453570,471718,488234,500208,511958,530801,545909,552644,571049,587728,599172],\"yaxis\":\"y\",\"type\":\"bar\"},{\"alignmentgroup\":\"True\",\"hovertemplate\":\"Country\\u002fRegion=US\\u003cbr\\u003eDate=%{x}\\u003cbr\\u003eRecovered=%{y}\\u003cextra\\u003e\\u003c\\u002fextra\\u003e\",\"legendgroup\":\"US\",\"marker\":{\"color\":\"#19d3f3\",\"pattern\":{\"shape\":\"\"}},\"name\":\"US\",\"offsetgroup\":\"US\",\"orientation\":\"v\",\"showlegend\":true,\"textposition\":\"auto\",\"x\":[\"2020-01-22T00:00:00\",\"2020-01-24T00:00:00\",\"2020-01-26T00:00:00\",\"2020-01-28T00:00:00\",\"2020-01-30T00:00:00\",\"2020-02-02T00:00:00\",\"2020-02-04T00:00:00\",\"2020-02-06T00:00:00\",\"2020-02-08T00:00:00\",\"2020-02-10T00:00:00\",\"2020-02-12T00:00:00\",\"2020-02-14T00:00:00\",\"2020-02-16T00:00:00\",\"2020-02-18T00:00:00\",\"2020-02-20T00:00:00\",\"2020-02-22T00:00:00\",\"2020-02-24T00:00:00\",\"2020-02-26T00:00:00\",\"2020-02-28T00:00:00\",\"2020-03-02T00:00:00\",\"2020-03-04T00:00:00\",\"2020-03-06T00:00:00\",\"2020-03-08T00:00:00\",\"2020-03-10T00:00:00\",\"2020-03-12T00:00:00\",\"2020-03-14T00:00:00\",\"2020-03-16T00:00:00\",\"2020-03-18T00:00:00\",\"2020-03-20T00:00:00\",\"2020-03-22T00:00:00\",\"2020-03-24T00:00:00\",\"2020-03-26T00:00:00\",\"2020-03-28T00:00:00\",\"2020-03-30T00:00:00\",\"2020-04-02T00:00:00\",\"2020-04-04T00:00:00\",\"2020-04-06T00:00:00\",\"2020-04-08T00:00:00\",\"2020-04-10T00:00:00\",\"2020-04-12T00:00:00\",\"2020-04-14T00:00:00\",\"2020-04-16T00:00:00\",\"2020-04-18T00:00:00\",\"2020-04-20T00:00:00\",\"2020-04-22T00:00:00\",\"2020-04-24T00:00:00\",\"2020-04-26T00:00:00\",\"2020-04-28T00:00:00\",\"2020-04-30T00:00:00\",\"2020-05-02T00:00:00\",\"2020-05-04T00:00:00\",\"2020-05-06T00:00:00\",\"2020-05-08T00:00:00\",\"2020-05-10T00:00:00\",\"2020-05-12T00:00:00\",\"2020-05-14T00:00:00\",\"2020-05-16T00:00:00\",\"2020-05-18T00:00:00\",\"2020-05-20T00:00:00\",\"2020-05-22T00:00:00\",\"2020-05-24T00:00:00\",\"2020-05-26T00:00:00\",\"2020-05-28T00:00:00\",\"2020-05-30T00:00:00\",\"2020-06-02T00:00:00\",\"2020-06-04T00:00:00\",\"2020-06-06T00:00:00\",\"2020-06-08T00:00:00\",\"2020-06-10T00:00:00\",\"2020-06-12T00:00:00\",\"2020-06-14T00:00:00\",\"2020-06-16T00:00:00\",\"2020-06-18T00:00:00\",\"2020-06-20T00:00:00\",\"2020-06-22T00:00:00\",\"2020-06-24T00:00:00\",\"2020-06-26T00:00:00\",\"2020-06-28T00:00:00\",\"2020-06-30T00:00:00\",\"2020-07-02T00:00:00\",\"2020-07-04T00:00:00\",\"2020-07-06T00:00:00\",\"2020-07-08T00:00:00\",\"2020-07-10T00:00:00\",\"2020-07-12T00:00:00\",\"2020-07-14T00:00:00\",\"2020-07-16T00:00:00\",\"2020-07-18T00:00:00\",\"2020-07-20T00:00:00\",\"2020-07-22T00:00:00\",\"2020-07-24T00:00:00\",\"2020-07-26T00:00:00\"],\"xaxis\":\"x\",\"y\":[0,0,0,0,0,0,0,0,0,3,3,3,3,3,3,5,5,6,7,7,7,7,7,8,12,12,17,105,147,178,348,681,1072,5644,9001,14652,19581,23559,28790,32988,47763,54703,64840,72329,77366,99079,106988,115936,153947,175382,187180,189910,198993,216169,230287,246414,268376,283178,294312,350135,366736,384902,399991,416461,463868,485002,500849,518522,533504,547386,561816,583503,599115,617460,640198,656161,670809,685164,720631,781970,894325,924148,953462,983185,1006326,1049098,1090645,1122720,1160087,1210849,1261624,1297863],\"yaxis\":\"y\",\"type\":\"bar\"}],                        {\"template\":{\"data\":{\"barpolar\":[{\"marker\":{\"line\":{\"color\":\"rgb(17,17,17)\",\"width\":0.5},\"pattern\":{\"fillmode\":\"overlay\",\"size\":10,\"solidity\":0.2}},\"type\":\"barpolar\"}],\"bar\":[{\"error_x\":{\"color\":\"#f2f5fa\"},\"error_y\":{\"color\":\"#f2f5fa\"},\"marker\":{\"line\":{\"color\":\"rgb(17,17,17)\",\"width\":0.5},\"pattern\":{\"fillmode\":\"overlay\",\"size\":10,\"solidity\":0.2}},\"type\":\"bar\"}],\"carpet\":[{\"aaxis\":{\"endlinecolor\":\"#A2B1C6\",\"gridcolor\":\"#506784\",\"linecolor\":\"#506784\",\"minorgridcolor\":\"#506784\",\"startlinecolor\":\"#A2B1C6\"},\"baxis\":{\"endlinecolor\":\"#A2B1C6\",\"gridcolor\":\"#506784\",\"linecolor\":\"#506784\",\"minorgridcolor\":\"#506784\",\"startlinecolor\":\"#A2B1C6\"},\"type\":\"carpet\"}],\"choropleth\":[{\"colorbar\":{\"outlinewidth\":0,\"ticks\":\"\"},\"type\":\"choropleth\"}],\"contourcarpet\":[{\"colorbar\":{\"outlinewidth\":0,\"ticks\":\"\"},\"type\":\"contourcarpet\"}],\"contour\":[{\"colorbar\":{\"outlinewidth\":0,\"ticks\":\"\"},\"colorscale\":[[0.0,\"#0d0887\"],[0.1111111111111111,\"#46039f\"],[0.2222222222222222,\"#7201a8\"],[0.3333333333333333,\"#9c179e\"],[0.4444444444444444,\"#bd3786\"],[0.5555555555555556,\"#d8576b\"],[0.6666666666666666,\"#ed7953\"],[0.7777777777777778,\"#fb9f3a\"],[0.8888888888888888,\"#fdca26\"],[1.0,\"#f0f921\"]],\"type\":\"contour\"}],\"heatmapgl\":[{\"colorbar\":{\"outlinewidth\":0,\"ticks\":\"\"},\"colorscale\":[[0.0,\"#0d0887\"],[0.1111111111111111,\"#46039f\"],[0.2222222222222222,\"#7201a8\"],[0.3333333333333333,\"#9c179e\"],[0.4444444444444444,\"#bd3786\"],[0.5555555555555556,\"#d8576b\"],[0.6666666666666666,\"#ed7953\"],[0.7777777777777778,\"#fb9f3a\"],[0.8888888888888888,\"#fdca26\"],[1.0,\"#f0f921\"]],\"type\":\"heatmapgl\"}],\"heatmap\":[{\"colorbar\":{\"outlinewidth\":0,\"ticks\":\"\"},\"colorscale\":[[0.0,\"#0d0887\"],[0.1111111111111111,\"#46039f\"],[0.2222222222222222,\"#7201a8\"],[0.3333333333333333,\"#9c179e\"],[0.4444444444444444,\"#bd3786\"],[0.5555555555555556,\"#d8576b\"],[0.6666666666666666,\"#ed7953\"],[0.7777777777777778,\"#fb9f3a\"],[0.8888888888888888,\"#fdca26\"],[1.0,\"#f0f921\"]],\"type\":\"heatmap\"}],\"histogram2dcontour\":[{\"colorbar\":{\"outlinewidth\":0,\"ticks\":\"\"},\"colorscale\":[[0.0,\"#0d0887\"],[0.1111111111111111,\"#46039f\"],[0.2222222222222222,\"#7201a8\"],[0.3333333333333333,\"#9c179e\"],[0.4444444444444444,\"#bd3786\"],[0.5555555555555556,\"#d8576b\"],[0.6666666666666666,\"#ed7953\"],[0.7777777777777778,\"#fb9f3a\"],[0.8888888888888888,\"#fdca26\"],[1.0,\"#f0f921\"]],\"type\":\"histogram2dcontour\"}],\"histogram2d\":[{\"colorbar\":{\"outlinewidth\":0,\"ticks\":\"\"},\"colorscale\":[[0.0,\"#0d0887\"],[0.1111111111111111,\"#46039f\"],[0.2222222222222222,\"#7201a8\"],[0.3333333333333333,\"#9c179e\"],[0.4444444444444444,\"#bd3786\"],[0.5555555555555556,\"#d8576b\"],[0.6666666666666666,\"#ed7953\"],[0.7777777777777778,\"#fb9f3a\"],[0.8888888888888888,\"#fdca26\"],[1.0,\"#f0f921\"]],\"type\":\"histogram2d\"}],\"histogram\":[{\"marker\":{\"pattern\":{\"fillmode\":\"overlay\",\"size\":10,\"solidity\":0.2}},\"type\":\"histogram\"}],\"mesh3d\":[{\"colorbar\":{\"outlinewidth\":0,\"ticks\":\"\"},\"type\":\"mesh3d\"}],\"parcoords\":[{\"line\":{\"colorbar\":{\"outlinewidth\":0,\"ticks\":\"\"}},\"type\":\"parcoords\"}],\"pie\":[{\"automargin\":true,\"type\":\"pie\"}],\"scatter3d\":[{\"line\":{\"colorbar\":{\"outlinewidth\":0,\"ticks\":\"\"}},\"marker\":{\"colorbar\":{\"outlinewidth\":0,\"ticks\":\"\"}},\"type\":\"scatter3d\"}],\"scattercarpet\":[{\"marker\":{\"colorbar\":{\"outlinewidth\":0,\"ticks\":\"\"}},\"type\":\"scattercarpet\"}],\"scattergeo\":[{\"marker\":{\"colorbar\":{\"outlinewidth\":0,\"ticks\":\"\"}},\"type\":\"scattergeo\"}],\"scattergl\":[{\"marker\":{\"line\":{\"color\":\"#283442\"}},\"type\":\"scattergl\"}],\"scattermapbox\":[{\"marker\":{\"colorbar\":{\"outlinewidth\":0,\"ticks\":\"\"}},\"type\":\"scattermapbox\"}],\"scatterpolargl\":[{\"marker\":{\"colorbar\":{\"outlinewidth\":0,\"ticks\":\"\"}},\"type\":\"scatterpolargl\"}],\"scatterpolar\":[{\"marker\":{\"colorbar\":{\"outlinewidth\":0,\"ticks\":\"\"}},\"type\":\"scatterpolar\"}],\"scatter\":[{\"marker\":{\"line\":{\"color\":\"#283442\"}},\"type\":\"scatter\"}],\"scatterternary\":[{\"marker\":{\"colorbar\":{\"outlinewidth\":0,\"ticks\":\"\"}},\"type\":\"scatterternary\"}],\"surface\":[{\"colorbar\":{\"outlinewidth\":0,\"ticks\":\"\"},\"colorscale\":[[0.0,\"#0d0887\"],[0.1111111111111111,\"#46039f\"],[0.2222222222222222,\"#7201a8\"],[0.3333333333333333,\"#9c179e\"],[0.4444444444444444,\"#bd3786\"],[0.5555555555555556,\"#d8576b\"],[0.6666666666666666,\"#ed7953\"],[0.7777777777777778,\"#fb9f3a\"],[0.8888888888888888,\"#fdca26\"],[1.0,\"#f0f921\"]],\"type\":\"surface\"}],\"table\":[{\"cells\":{\"fill\":{\"color\":\"#506784\"},\"line\":{\"color\":\"rgb(17,17,17)\"}},\"header\":{\"fill\":{\"color\":\"#2a3f5f\"},\"line\":{\"color\":\"rgb(17,17,17)\"}},\"type\":\"table\"}]},\"layout\":{\"annotationdefaults\":{\"arrowcolor\":\"#f2f5fa\",\"arrowhead\":0,\"arrowwidth\":1},\"autotypenumbers\":\"strict\",\"coloraxis\":{\"colorbar\":{\"outlinewidth\":0,\"ticks\":\"\"}},\"colorscale\":{\"diverging\":[[0,\"#8e0152\"],[0.1,\"#c51b7d\"],[0.2,\"#de77ae\"],[0.3,\"#f1b6da\"],[0.4,\"#fde0ef\"],[0.5,\"#f7f7f7\"],[0.6,\"#e6f5d0\"],[0.7,\"#b8e186\"],[0.8,\"#7fbc41\"],[0.9,\"#4d9221\"],[1,\"#276419\"]],\"sequential\":[[0.0,\"#0d0887\"],[0.1111111111111111,\"#46039f\"],[0.2222222222222222,\"#7201a8\"],[0.3333333333333333,\"#9c179e\"],[0.4444444444444444,\"#bd3786\"],[0.5555555555555556,\"#d8576b\"],[0.6666666666666666,\"#ed7953\"],[0.7777777777777778,\"#fb9f3a\"],[0.8888888888888888,\"#fdca26\"],[1.0,\"#f0f921\"]],\"sequentialminus\":[[0.0,\"#0d0887\"],[0.1111111111111111,\"#46039f\"],[0.2222222222222222,\"#7201a8\"],[0.3333333333333333,\"#9c179e\"],[0.4444444444444444,\"#bd3786\"],[0.5555555555555556,\"#d8576b\"],[0.6666666666666666,\"#ed7953\"],[0.7777777777777778,\"#fb9f3a\"],[0.8888888888888888,\"#fdca26\"],[1.0,\"#f0f921\"]]},\"colorway\":[\"#636efa\",\"#EF553B\",\"#00cc96\",\"#ab63fa\",\"#FFA15A\",\"#19d3f3\",\"#FF6692\",\"#B6E880\",\"#FF97FF\",\"#FECB52\"],\"font\":{\"color\":\"#f2f5fa\"},\"geo\":{\"bgcolor\":\"rgb(17,17,17)\",\"lakecolor\":\"rgb(17,17,17)\",\"landcolor\":\"rgb(17,17,17)\",\"showlakes\":true,\"showland\":true,\"subunitcolor\":\"#506784\"},\"hoverlabel\":{\"align\":\"left\"},\"hovermode\":\"closest\",\"mapbox\":{\"style\":\"dark\"},\"paper_bgcolor\":\"rgb(17,17,17)\",\"plot_bgcolor\":\"rgb(17,17,17)\",\"polar\":{\"angularaxis\":{\"gridcolor\":\"#506784\",\"linecolor\":\"#506784\",\"ticks\":\"\"},\"bgcolor\":\"rgb(17,17,17)\",\"radialaxis\":{\"gridcolor\":\"#506784\",\"linecolor\":\"#506784\",\"ticks\":\"\"}},\"scene\":{\"xaxis\":{\"backgroundcolor\":\"rgb(17,17,17)\",\"gridcolor\":\"#506784\",\"gridwidth\":2,\"linecolor\":\"#506784\",\"showbackground\":true,\"ticks\":\"\",\"zerolinecolor\":\"#C8D4E3\"},\"yaxis\":{\"backgroundcolor\":\"rgb(17,17,17)\",\"gridcolor\":\"#506784\",\"gridwidth\":2,\"linecolor\":\"#506784\",\"showbackground\":true,\"ticks\":\"\",\"zerolinecolor\":\"#C8D4E3\"},\"zaxis\":{\"backgroundcolor\":\"rgb(17,17,17)\",\"gridcolor\":\"#506784\",\"gridwidth\":2,\"linecolor\":\"#506784\",\"showbackground\":true,\"ticks\":\"\",\"zerolinecolor\":\"#C8D4E3\"}},\"shapedefaults\":{\"line\":{\"color\":\"#f2f5fa\"}},\"sliderdefaults\":{\"bgcolor\":\"#C8D4E3\",\"bordercolor\":\"rgb(17,17,17)\",\"borderwidth\":1,\"tickwidth\":0},\"ternary\":{\"aaxis\":{\"gridcolor\":\"#506784\",\"linecolor\":\"#506784\",\"ticks\":\"\"},\"baxis\":{\"gridcolor\":\"#506784\",\"linecolor\":\"#506784\",\"ticks\":\"\"},\"bgcolor\":\"rgb(17,17,17)\",\"caxis\":{\"gridcolor\":\"#506784\",\"linecolor\":\"#506784\",\"ticks\":\"\"}},\"title\":{\"x\":0.05},\"updatemenudefaults\":{\"bgcolor\":\"#506784\",\"borderwidth\":0},\"xaxis\":{\"automargin\":true,\"gridcolor\":\"#283442\",\"linecolor\":\"#506784\",\"ticks\":\"\",\"title\":{\"standoff\":15},\"zerolinecolor\":\"#283442\",\"zerolinewidth\":2},\"yaxis\":{\"automargin\":true,\"gridcolor\":\"#283442\",\"linecolor\":\"#506784\",\"ticks\":\"\",\"title\":{\"standoff\":15},\"zerolinecolor\":\"#283442\",\"zerolinewidth\":2}}},\"xaxis\":{\"anchor\":\"y\",\"domain\":[0.0,1.0],\"title\":{\"text\":\"Date\"},\"tickangle\":45},\"yaxis\":{\"anchor\":\"x\",\"domain\":[0.0,1.0],\"title\":{\"text\":\"Recovered\"}},\"legend\":{\"title\":{\"text\":\"Country\\u002fRegion\"},\"tracegroupgap\":0},\"title\":{\"text\":\"Top 6 Countries in Recovered\"},\"barmode\":\"relative\"},                        {\"responsive\": true}                    ).then(function(){\n",
       "                            \n",
       "var gd = document.getElementById('f93fe11a-4188-4399-9b5c-ff37b6aa9b12');\n",
       "var x = new MutationObserver(function (mutations, observer) {{\n",
       "        var display = window.getComputedStyle(gd).display;\n",
       "        if (!display || display === 'none') {{\n",
       "            console.log([gd, 'removed!']);\n",
       "            Plotly.purge(gd);\n",
       "            observer.disconnect();\n",
       "        }}\n",
       "}});\n",
       "\n",
       "// Listen for the removal of the full notebook cells\n",
       "var notebookContainer = gd.closest('#notebook-container');\n",
       "if (notebookContainer) {{\n",
       "    x.observe(notebookContainer, {childList: true});\n",
       "}}\n",
       "\n",
       "// Listen for the clearing of the current output cell\n",
       "var outputEl = gd.closest('.output');\n",
       "if (outputEl) {{\n",
       "    x.observe(outputEl, {childList: true});\n",
       "}}\n",
       "\n",
       "                        })                };                });            </script>        </div>"
      ]
     },
     "metadata": {},
     "output_type": "display_data"
    },
    {
     "data": {
      "text/html": [
       "<div>                            <div id=\"3c9bfde7-bf41-4deb-bbc5-b570957bc7b1\" class=\"plotly-graph-div\" style=\"height:525px; width:100%;\"></div>            <script type=\"text/javascript\">                require([\"plotly\"], function(Plotly) {                    window.PLOTLYENV=window.PLOTLYENV || {};                                    if (document.getElementById(\"3c9bfde7-bf41-4deb-bbc5-b570957bc7b1\")) {                    Plotly.newPlot(                        \"3c9bfde7-bf41-4deb-bbc5-b570957bc7b1\",                        [{\"alignmentgroup\":\"True\",\"hovertemplate\":\"Country\\u002fRegion=Brazil\\u003cbr\\u003eDate=%{x}\\u003cbr\\u003eActive=%{y}\\u003cextra\\u003e\\u003c\\u002fextra\\u003e\",\"legendgroup\":\"Brazil\",\"marker\":{\"color\":\"#636efa\",\"pattern\":{\"shape\":\"\"}},\"name\":\"Brazil\",\"offsetgroup\":\"Brazil\",\"orientation\":\"v\",\"showlegend\":true,\"textposition\":\"auto\",\"x\":[\"2020-01-22T00:00:00\",\"2020-01-24T00:00:00\",\"2020-01-26T00:00:00\",\"2020-01-28T00:00:00\",\"2020-01-30T00:00:00\",\"2020-02-02T00:00:00\",\"2020-02-04T00:00:00\",\"2020-02-06T00:00:00\",\"2020-02-08T00:00:00\",\"2020-02-10T00:00:00\",\"2020-02-12T00:00:00\",\"2020-02-14T00:00:00\",\"2020-02-16T00:00:00\",\"2020-02-18T00:00:00\",\"2020-02-20T00:00:00\",\"2020-02-22T00:00:00\",\"2020-02-24T00:00:00\",\"2020-02-26T00:00:00\",\"2020-02-28T00:00:00\",\"2020-03-02T00:00:00\",\"2020-03-04T00:00:00\",\"2020-03-06T00:00:00\",\"2020-03-08T00:00:00\",\"2020-03-10T00:00:00\",\"2020-03-12T00:00:00\",\"2020-03-14T00:00:00\",\"2020-03-16T00:00:00\",\"2020-03-18T00:00:00\",\"2020-03-20T00:00:00\",\"2020-03-22T00:00:00\",\"2020-03-24T00:00:00\",\"2020-03-26T00:00:00\",\"2020-03-28T00:00:00\",\"2020-03-30T00:00:00\",\"2020-04-02T00:00:00\",\"2020-04-04T00:00:00\",\"2020-04-06T00:00:00\",\"2020-04-08T00:00:00\",\"2020-04-10T00:00:00\",\"2020-04-12T00:00:00\",\"2020-04-14T00:00:00\",\"2020-04-16T00:00:00\",\"2020-04-18T00:00:00\",\"2020-04-20T00:00:00\",\"2020-04-22T00:00:00\",\"2020-04-24T00:00:00\",\"2020-04-26T00:00:00\",\"2020-04-28T00:00:00\",\"2020-04-30T00:00:00\",\"2020-05-02T00:00:00\",\"2020-05-04T00:00:00\",\"2020-05-06T00:00:00\",\"2020-05-08T00:00:00\",\"2020-05-10T00:00:00\",\"2020-05-12T00:00:00\",\"2020-05-14T00:00:00\",\"2020-05-16T00:00:00\",\"2020-05-18T00:00:00\",\"2020-05-20T00:00:00\",\"2020-05-22T00:00:00\",\"2020-05-24T00:00:00\",\"2020-05-26T00:00:00\",\"2020-05-28T00:00:00\",\"2020-05-30T00:00:00\",\"2020-06-02T00:00:00\",\"2020-06-04T00:00:00\",\"2020-06-06T00:00:00\",\"2020-06-08T00:00:00\",\"2020-06-10T00:00:00\",\"2020-06-12T00:00:00\",\"2020-06-14T00:00:00\",\"2020-06-16T00:00:00\",\"2020-06-18T00:00:00\",\"2020-06-20T00:00:00\",\"2020-06-22T00:00:00\",\"2020-06-24T00:00:00\",\"2020-06-26T00:00:00\",\"2020-06-28T00:00:00\",\"2020-06-30T00:00:00\",\"2020-07-02T00:00:00\",\"2020-07-04T00:00:00\",\"2020-07-06T00:00:00\",\"2020-07-08T00:00:00\",\"2020-07-10T00:00:00\",\"2020-07-12T00:00:00\",\"2020-07-14T00:00:00\",\"2020-07-16T00:00:00\",\"2020-07-18T00:00:00\",\"2020-07-20T00:00:00\",\"2020-07-22T00:00:00\",\"2020-07-24T00:00:00\",\"2020-07-26T00:00:00\"],\"xaxis\":\"x\",\"y\":[0,0,0,0,0,0,0,0,0,0,0,0,0,0,0,0,0,1,1,2,4,13,20,31,52,151,199,367,780,1519,2199,2902,3787,4300,7593,9788,11470,15224,18408,20796,20684,14475,20278,16026,17533,22684,28662,35608,45246,49402,55438,66653,77580,86619,93156,109687,128177,138056,156037,174412,190634,208117,233880,268714,300546,325957,359767,292021,318820,341859,355151,387943,395814,440824,453463,474332,516614,540503,554129,477282,522008,495255,505352,513068,527738,529266,537932,548680,524226,552768,564914,519174],\"yaxis\":\"y\",\"type\":\"bar\"},{\"alignmentgroup\":\"True\",\"hovertemplate\":\"Country\\u002fRegion=India\\u003cbr\\u003eDate=%{x}\\u003cbr\\u003eActive=%{y}\\u003cextra\\u003e\\u003c\\u002fextra\\u003e\",\"legendgroup\":\"India\",\"marker\":{\"color\":\"#EF553B\",\"pattern\":{\"shape\":\"\"}},\"name\":\"India\",\"offsetgroup\":\"India\",\"orientation\":\"v\",\"showlegend\":true,\"textposition\":\"auto\",\"x\":[\"2020-01-22T00:00:00\",\"2020-01-24T00:00:00\",\"2020-01-26T00:00:00\",\"2020-01-28T00:00:00\",\"2020-01-30T00:00:00\",\"2020-02-02T00:00:00\",\"2020-02-04T00:00:00\",\"2020-02-06T00:00:00\",\"2020-02-08T00:00:00\",\"2020-02-10T00:00:00\",\"2020-02-12T00:00:00\",\"2020-02-14T00:00:00\",\"2020-02-16T00:00:00\",\"2020-02-18T00:00:00\",\"2020-02-20T00:00:00\",\"2020-02-22T00:00:00\",\"2020-02-24T00:00:00\",\"2020-02-26T00:00:00\",\"2020-02-28T00:00:00\",\"2020-03-02T00:00:00\",\"2020-03-04T00:00:00\",\"2020-03-06T00:00:00\",\"2020-03-08T00:00:00\",\"2020-03-10T00:00:00\",\"2020-03-12T00:00:00\",\"2020-03-14T00:00:00\",\"2020-03-16T00:00:00\",\"2020-03-18T00:00:00\",\"2020-03-20T00:00:00\",\"2020-03-22T00:00:00\",\"2020-03-24T00:00:00\",\"2020-03-26T00:00:00\",\"2020-03-28T00:00:00\",\"2020-03-30T00:00:00\",\"2020-04-02T00:00:00\",\"2020-04-04T00:00:00\",\"2020-04-06T00:00:00\",\"2020-04-08T00:00:00\",\"2020-04-10T00:00:00\",\"2020-04-12T00:00:00\",\"2020-04-14T00:00:00\",\"2020-04-16T00:00:00\",\"2020-04-18T00:00:00\",\"2020-04-20T00:00:00\",\"2020-04-22T00:00:00\",\"2020-04-24T00:00:00\",\"2020-04-26T00:00:00\",\"2020-04-28T00:00:00\",\"2020-04-30T00:00:00\",\"2020-05-02T00:00:00\",\"2020-05-04T00:00:00\",\"2020-05-06T00:00:00\",\"2020-05-08T00:00:00\",\"2020-05-10T00:00:00\",\"2020-05-12T00:00:00\",\"2020-05-14T00:00:00\",\"2020-05-16T00:00:00\",\"2020-05-18T00:00:00\",\"2020-05-20T00:00:00\",\"2020-05-22T00:00:00\",\"2020-05-24T00:00:00\",\"2020-05-26T00:00:00\",\"2020-05-28T00:00:00\",\"2020-05-30T00:00:00\",\"2020-06-02T00:00:00\",\"2020-06-04T00:00:00\",\"2020-06-06T00:00:00\",\"2020-06-08T00:00:00\",\"2020-06-10T00:00:00\",\"2020-06-12T00:00:00\",\"2020-06-14T00:00:00\",\"2020-06-16T00:00:00\",\"2020-06-18T00:00:00\",\"2020-06-20T00:00:00\",\"2020-06-22T00:00:00\",\"2020-06-24T00:00:00\",\"2020-06-26T00:00:00\",\"2020-06-28T00:00:00\",\"2020-06-30T00:00:00\",\"2020-07-02T00:00:00\",\"2020-07-04T00:00:00\",\"2020-07-06T00:00:00\",\"2020-07-08T00:00:00\",\"2020-07-10T00:00:00\",\"2020-07-12T00:00:00\",\"2020-07-14T00:00:00\",\"2020-07-16T00:00:00\",\"2020-07-18T00:00:00\",\"2020-07-20T00:00:00\",\"2020-07-22T00:00:00\",\"2020-07-24T00:00:00\",\"2020-07-26T00:00:00\"],\"xaxis\":\"x\",\"y\":[0,0,0,0,1,2,3,3,3,3,3,3,0,0,0,0,0,0,0,2,25,28,36,52,68,96,104,139,219,362,486,662,879,1117,2280,2767,4267,5232,6578,7794,9735,11214,12738,14674,16319,18252,20486,22569,24641,27557,32024,35871,39823,43980,47457,51379,53553,57939,63172,69244,76820,82172,89755,89706,101077,111900,120981,129360,143297,145779,153106,155227,163248,169469,178014,186514,197387,210120,220169,227439,244814,259571,269789,283407,301609,319840,342473,373542,402678,426330,456234,485277],\"yaxis\":\"y\",\"type\":\"bar\"},{\"alignmentgroup\":\"True\",\"hovertemplate\":\"Country\\u002fRegion=Russia\\u003cbr\\u003eDate=%{x}\\u003cbr\\u003eActive=%{y}\\u003cextra\\u003e\\u003c\\u002fextra\\u003e\",\"legendgroup\":\"Russia\",\"marker\":{\"color\":\"#00cc96\",\"pattern\":{\"shape\":\"\"}},\"name\":\"Russia\",\"offsetgroup\":\"Russia\",\"orientation\":\"v\",\"showlegend\":true,\"textposition\":\"auto\",\"x\":[\"2020-01-22T00:00:00\",\"2020-01-24T00:00:00\",\"2020-01-26T00:00:00\",\"2020-01-28T00:00:00\",\"2020-01-30T00:00:00\",\"2020-02-02T00:00:00\",\"2020-02-04T00:00:00\",\"2020-02-06T00:00:00\",\"2020-02-08T00:00:00\",\"2020-02-10T00:00:00\",\"2020-02-12T00:00:00\",\"2020-02-14T00:00:00\",\"2020-02-16T00:00:00\",\"2020-02-18T00:00:00\",\"2020-02-20T00:00:00\",\"2020-02-22T00:00:00\",\"2020-02-24T00:00:00\",\"2020-02-26T00:00:00\",\"2020-02-28T00:00:00\",\"2020-03-02T00:00:00\",\"2020-03-04T00:00:00\",\"2020-03-06T00:00:00\",\"2020-03-08T00:00:00\",\"2020-03-10T00:00:00\",\"2020-03-12T00:00:00\",\"2020-03-14T00:00:00\",\"2020-03-16T00:00:00\",\"2020-03-18T00:00:00\",\"2020-03-20T00:00:00\",\"2020-03-22T00:00:00\",\"2020-03-24T00:00:00\",\"2020-03-26T00:00:00\",\"2020-03-28T00:00:00\",\"2020-03-30T00:00:00\",\"2020-04-02T00:00:00\",\"2020-04-04T00:00:00\",\"2020-04-06T00:00:00\",\"2020-04-08T00:00:00\",\"2020-04-10T00:00:00\",\"2020-04-12T00:00:00\",\"2020-04-14T00:00:00\",\"2020-04-16T00:00:00\",\"2020-04-18T00:00:00\",\"2020-04-20T00:00:00\",\"2020-04-22T00:00:00\",\"2020-04-24T00:00:00\",\"2020-04-26T00:00:00\",\"2020-04-28T00:00:00\",\"2020-04-30T00:00:00\",\"2020-05-02T00:00:00\",\"2020-05-04T00:00:00\",\"2020-05-06T00:00:00\",\"2020-05-08T00:00:00\",\"2020-05-10T00:00:00\",\"2020-05-12T00:00:00\",\"2020-05-14T00:00:00\",\"2020-05-16T00:00:00\",\"2020-05-18T00:00:00\",\"2020-05-20T00:00:00\",\"2020-05-22T00:00:00\",\"2020-05-24T00:00:00\",\"2020-05-26T00:00:00\",\"2020-05-28T00:00:00\",\"2020-05-30T00:00:00\",\"2020-06-02T00:00:00\",\"2020-06-04T00:00:00\",\"2020-06-06T00:00:00\",\"2020-06-08T00:00:00\",\"2020-06-10T00:00:00\",\"2020-06-12T00:00:00\",\"2020-06-14T00:00:00\",\"2020-06-16T00:00:00\",\"2020-06-18T00:00:00\",\"2020-06-20T00:00:00\",\"2020-06-22T00:00:00\",\"2020-06-24T00:00:00\",\"2020-06-26T00:00:00\",\"2020-06-28T00:00:00\",\"2020-06-30T00:00:00\",\"2020-07-02T00:00:00\",\"2020-07-04T00:00:00\",\"2020-07-06T00:00:00\",\"2020-07-08T00:00:00\",\"2020-07-10T00:00:00\",\"2020-07-12T00:00:00\",\"2020-07-14T00:00:00\",\"2020-07-16T00:00:00\",\"2020-07-18T00:00:00\",\"2020-07-20T00:00:00\",\"2020-07-22T00:00:00\",\"2020-07-24T00:00:00\",\"2020-07-26T00:00:00\"],\"xaxis\":\"x\",\"y\":[0,0,0,0,0,2,2,2,2,2,0,0,0,0,0,0,0,0,0,1,1,11,14,17,25,51,82,139,243,350,472,799,1211,1761,3283,4355,5890,8029,11028,14349,19238,25402,33423,43270,53066,62439,73435,84235,93806,107819,125817,143065,159528,173467,186615,196410,206340,217747,220341,223374,227641,227406,223916,224551,231553,230965,231450,239854,234378,235194,241793,243671,239262,234146,239422,229318,227642,226067,225650,222287,217426,223002,217381,213629,214510,215232,208891,206078,211160,204115,198745,198652],\"yaxis\":\"y\",\"type\":\"bar\"},{\"alignmentgroup\":\"True\",\"hovertemplate\":\"Country\\u002fRegion=South Africa\\u003cbr\\u003eDate=%{x}\\u003cbr\\u003eActive=%{y}\\u003cextra\\u003e\\u003c\\u002fextra\\u003e\",\"legendgroup\":\"South Africa\",\"marker\":{\"color\":\"#ab63fa\",\"pattern\":{\"shape\":\"\"}},\"name\":\"South Africa\",\"offsetgroup\":\"South Africa\",\"orientation\":\"v\",\"showlegend\":true,\"textposition\":\"auto\",\"x\":[\"2020-01-22T00:00:00\",\"2020-01-24T00:00:00\",\"2020-01-26T00:00:00\",\"2020-01-28T00:00:00\",\"2020-01-30T00:00:00\",\"2020-02-02T00:00:00\",\"2020-02-04T00:00:00\",\"2020-02-06T00:00:00\",\"2020-02-08T00:00:00\",\"2020-02-10T00:00:00\",\"2020-02-12T00:00:00\",\"2020-02-14T00:00:00\",\"2020-02-16T00:00:00\",\"2020-02-18T00:00:00\",\"2020-02-20T00:00:00\",\"2020-02-22T00:00:00\",\"2020-02-24T00:00:00\",\"2020-02-26T00:00:00\",\"2020-02-28T00:00:00\",\"2020-03-02T00:00:00\",\"2020-03-04T00:00:00\",\"2020-03-06T00:00:00\",\"2020-03-08T00:00:00\",\"2020-03-10T00:00:00\",\"2020-03-12T00:00:00\",\"2020-03-14T00:00:00\",\"2020-03-16T00:00:00\",\"2020-03-18T00:00:00\",\"2020-03-20T00:00:00\",\"2020-03-22T00:00:00\",\"2020-03-24T00:00:00\",\"2020-03-26T00:00:00\",\"2020-03-28T00:00:00\",\"2020-03-30T00:00:00\",\"2020-04-02T00:00:00\",\"2020-04-04T00:00:00\",\"2020-04-06T00:00:00\",\"2020-04-08T00:00:00\",\"2020-04-10T00:00:00\",\"2020-04-12T00:00:00\",\"2020-04-14T00:00:00\",\"2020-04-16T00:00:00\",\"2020-04-18T00:00:00\",\"2020-04-20T00:00:00\",\"2020-04-22T00:00:00\",\"2020-04-24T00:00:00\",\"2020-04-26T00:00:00\",\"2020-04-28T00:00:00\",\"2020-04-30T00:00:00\",\"2020-05-02T00:00:00\",\"2020-05-04T00:00:00\",\"2020-05-06T00:00:00\",\"2020-05-08T00:00:00\",\"2020-05-10T00:00:00\",\"2020-05-12T00:00:00\",\"2020-05-14T00:00:00\",\"2020-05-16T00:00:00\",\"2020-05-18T00:00:00\",\"2020-05-20T00:00:00\",\"2020-05-22T00:00:00\",\"2020-05-24T00:00:00\",\"2020-05-26T00:00:00\",\"2020-05-28T00:00:00\",\"2020-05-30T00:00:00\",\"2020-06-02T00:00:00\",\"2020-06-04T00:00:00\",\"2020-06-06T00:00:00\",\"2020-06-08T00:00:00\",\"2020-06-10T00:00:00\",\"2020-06-12T00:00:00\",\"2020-06-14T00:00:00\",\"2020-06-16T00:00:00\",\"2020-06-18T00:00:00\",\"2020-06-20T00:00:00\",\"2020-06-22T00:00:00\",\"2020-06-24T00:00:00\",\"2020-06-26T00:00:00\",\"2020-06-28T00:00:00\",\"2020-06-30T00:00:00\",\"2020-07-02T00:00:00\",\"2020-07-04T00:00:00\",\"2020-07-06T00:00:00\",\"2020-07-08T00:00:00\",\"2020-07-10T00:00:00\",\"2020-07-12T00:00:00\",\"2020-07-14T00:00:00\",\"2020-07-16T00:00:00\",\"2020-07-18T00:00:00\",\"2020-07-20T00:00:00\",\"2020-07-22T00:00:00\",\"2020-07-24T00:00:00\",\"2020-07-26T00:00:00\"],\"xaxis\":\"x\",\"y\":[0,0,0,0,0,0,0,0,0,0,0,0,0,0,0,0,0,0,0,0,0,1,3,7,17,38,62,116,202,274,550,915,1155,1292,1407,1481,1579,1732,1569,1738,1978,1654,2079,2187,2515,2668,2986,2830,3471,3664,4336,4502,5564,5648,6787,6825,7616,8849,8714,9624,11054,10999,12456,14208,16744,18633,20763,23700,22706,25567,30027,32646,37233,40478,46155,52717,58139,66753,75009,83218,93724,104563,114221,128595,137289,147667,153961,163701,173590,159833,169882,173587],\"yaxis\":\"y\",\"type\":\"bar\"},{\"alignmentgroup\":\"True\",\"hovertemplate\":\"Country\\u002fRegion=US\\u003cbr\\u003eDate=%{x}\\u003cbr\\u003eActive=%{y}\\u003cextra\\u003e\\u003c\\u002fextra\\u003e\",\"legendgroup\":\"US\",\"marker\":{\"color\":\"#FFA15A\",\"pattern\":{\"shape\":\"\"}},\"name\":\"US\",\"offsetgroup\":\"US\",\"orientation\":\"v\",\"showlegend\":true,\"textposition\":\"auto\",\"x\":[\"2020-01-22T00:00:00\",\"2020-01-24T00:00:00\",\"2020-01-26T00:00:00\",\"2020-01-28T00:00:00\",\"2020-01-30T00:00:00\",\"2020-02-02T00:00:00\",\"2020-02-04T00:00:00\",\"2020-02-06T00:00:00\",\"2020-02-08T00:00:00\",\"2020-02-10T00:00:00\",\"2020-02-12T00:00:00\",\"2020-02-14T00:00:00\",\"2020-02-16T00:00:00\",\"2020-02-18T00:00:00\",\"2020-02-20T00:00:00\",\"2020-02-22T00:00:00\",\"2020-02-24T00:00:00\",\"2020-02-26T00:00:00\",\"2020-02-28T00:00:00\",\"2020-03-02T00:00:00\",\"2020-03-04T00:00:00\",\"2020-03-06T00:00:00\",\"2020-03-08T00:00:00\",\"2020-03-10T00:00:00\",\"2020-03-12T00:00:00\",\"2020-03-14T00:00:00\",\"2020-03-16T00:00:00\",\"2020-03-18T00:00:00\",\"2020-03-20T00:00:00\",\"2020-03-22T00:00:00\",\"2020-03-24T00:00:00\",\"2020-03-26T00:00:00\",\"2020-03-28T00:00:00\",\"2020-03-30T00:00:00\",\"2020-04-02T00:00:00\",\"2020-04-04T00:00:00\",\"2020-04-06T00:00:00\",\"2020-04-08T00:00:00\",\"2020-04-10T00:00:00\",\"2020-04-12T00:00:00\",\"2020-04-14T00:00:00\",\"2020-04-16T00:00:00\",\"2020-04-18T00:00:00\",\"2020-04-20T00:00:00\",\"2020-04-22T00:00:00\",\"2020-04-24T00:00:00\",\"2020-04-26T00:00:00\",\"2020-04-28T00:00:00\",\"2020-04-30T00:00:00\",\"2020-05-02T00:00:00\",\"2020-05-04T00:00:00\",\"2020-05-06T00:00:00\",\"2020-05-08T00:00:00\",\"2020-05-10T00:00:00\",\"2020-05-12T00:00:00\",\"2020-05-14T00:00:00\",\"2020-05-16T00:00:00\",\"2020-05-18T00:00:00\",\"2020-05-20T00:00:00\",\"2020-05-22T00:00:00\",\"2020-05-24T00:00:00\",\"2020-05-26T00:00:00\",\"2020-05-28T00:00:00\",\"2020-05-30T00:00:00\",\"2020-06-02T00:00:00\",\"2020-06-04T00:00:00\",\"2020-06-06T00:00:00\",\"2020-06-08T00:00:00\",\"2020-06-10T00:00:00\",\"2020-06-12T00:00:00\",\"2020-06-14T00:00:00\",\"2020-06-16T00:00:00\",\"2020-06-18T00:00:00\",\"2020-06-20T00:00:00\",\"2020-06-22T00:00:00\",\"2020-06-24T00:00:00\",\"2020-06-26T00:00:00\",\"2020-06-28T00:00:00\",\"2020-06-30T00:00:00\",\"2020-07-02T00:00:00\",\"2020-07-04T00:00:00\",\"2020-07-06T00:00:00\",\"2020-07-08T00:00:00\",\"2020-07-10T00:00:00\",\"2020-07-12T00:00:00\",\"2020-07-14T00:00:00\",\"2020-07-16T00:00:00\",\"2020-07-18T00:00:00\",\"2020-07-20T00:00:00\",\"2020-07-22T00:00:00\",\"2020-07-24T00:00:00\",\"2020-07-26T00:00:00\"],\"xaxis\":\"x\",\"y\":[1,2,5,5,5,8,11,11,11,8,9,10,10,10,10,10,10,9,9,40,86,201,423,675,1506,2800,4246,8624,18970,32982,52743,81664,118063,152682,227177,284016,333496,387564,446422,496986,530335,579127,625055,667921,711744,755962,805720,840128,854464,892961,926820,968766,1011097,1037060,1061382,1090305,1115860,1140309,1170312,1161493,1185799,1204309,1227626,1257975,1266337,1284513,1314972,1331489,1353571,1386266,1416168,1436616,1472917,1517519,1551095,1603661,1671114,1738339,1788351,1831276,1817227,1881644,1968937,2068451,2163411,2246010,2347154,2448574,2533565,2615956,2705347,2789125],\"yaxis\":\"y\",\"type\":\"bar\"},{\"alignmentgroup\":\"True\",\"hovertemplate\":\"Country\\u002fRegion=United Kingdom\\u003cbr\\u003eDate=%{x}\\u003cbr\\u003eActive=%{y}\\u003cextra\\u003e\\u003c\\u002fextra\\u003e\",\"legendgroup\":\"United Kingdom\",\"marker\":{\"color\":\"#19d3f3\",\"pattern\":{\"shape\":\"\"}},\"name\":\"United Kingdom\",\"offsetgroup\":\"United Kingdom\",\"orientation\":\"v\",\"showlegend\":true,\"textposition\":\"auto\",\"x\":[\"2020-01-22T00:00:00\",\"2020-01-24T00:00:00\",\"2020-01-26T00:00:00\",\"2020-01-28T00:00:00\",\"2020-01-30T00:00:00\",\"2020-02-02T00:00:00\",\"2020-02-04T00:00:00\",\"2020-02-06T00:00:00\",\"2020-02-08T00:00:00\",\"2020-02-10T00:00:00\",\"2020-02-12T00:00:00\",\"2020-02-14T00:00:00\",\"2020-02-16T00:00:00\",\"2020-02-18T00:00:00\",\"2020-02-20T00:00:00\",\"2020-02-22T00:00:00\",\"2020-02-24T00:00:00\",\"2020-02-26T00:00:00\",\"2020-02-28T00:00:00\",\"2020-03-02T00:00:00\",\"2020-03-04T00:00:00\",\"2020-03-06T00:00:00\",\"2020-03-08T00:00:00\",\"2020-03-10T00:00:00\",\"2020-03-12T00:00:00\",\"2020-03-14T00:00:00\",\"2020-03-16T00:00:00\",\"2020-03-18T00:00:00\",\"2020-03-20T00:00:00\",\"2020-03-22T00:00:00\",\"2020-03-24T00:00:00\",\"2020-03-26T00:00:00\",\"2020-03-28T00:00:00\",\"2020-03-30T00:00:00\",\"2020-04-02T00:00:00\",\"2020-04-04T00:00:00\",\"2020-04-06T00:00:00\",\"2020-04-08T00:00:00\",\"2020-04-10T00:00:00\",\"2020-04-12T00:00:00\",\"2020-04-14T00:00:00\",\"2020-04-16T00:00:00\",\"2020-04-18T00:00:00\",\"2020-04-20T00:00:00\",\"2020-04-22T00:00:00\",\"2020-04-24T00:00:00\",\"2020-04-26T00:00:00\",\"2020-04-28T00:00:00\",\"2020-04-30T00:00:00\",\"2020-05-02T00:00:00\",\"2020-05-04T00:00:00\",\"2020-05-06T00:00:00\",\"2020-05-08T00:00:00\",\"2020-05-10T00:00:00\",\"2020-05-12T00:00:00\",\"2020-05-14T00:00:00\",\"2020-05-16T00:00:00\",\"2020-05-18T00:00:00\",\"2020-05-20T00:00:00\",\"2020-05-22T00:00:00\",\"2020-05-24T00:00:00\",\"2020-05-26T00:00:00\",\"2020-05-28T00:00:00\",\"2020-05-30T00:00:00\",\"2020-06-02T00:00:00\",\"2020-06-04T00:00:00\",\"2020-06-06T00:00:00\",\"2020-06-08T00:00:00\",\"2020-06-10T00:00:00\",\"2020-06-12T00:00:00\",\"2020-06-14T00:00:00\",\"2020-06-16T00:00:00\",\"2020-06-18T00:00:00\",\"2020-06-20T00:00:00\",\"2020-06-22T00:00:00\",\"2020-06-24T00:00:00\",\"2020-06-26T00:00:00\",\"2020-06-28T00:00:00\",\"2020-06-30T00:00:00\",\"2020-07-02T00:00:00\",\"2020-07-04T00:00:00\",\"2020-07-06T00:00:00\",\"2020-07-08T00:00:00\",\"2020-07-10T00:00:00\",\"2020-07-12T00:00:00\",\"2020-07-14T00:00:00\",\"2020-07-16T00:00:00\",\"2020-07-18T00:00:00\",\"2020-07-20T00:00:00\",\"2020-07-22T00:00:00\",\"2020-07-24T00:00:00\",\"2020-07-26T00:00:00\"],\"xaxis\":\"x\",\"y\":[0,0,0,0,0,2,8,9,13,14,15,17,10,11,14,15,22,29,48,126,238,365,463,863,1762,2587,3605,5284,7529,10042,14477,19940,25453,32063,44773,52328,60005,68522,75288,80875,87935,96447,104079,111709,119732,128097,134016,142158,151053,157612,163354,169510,175102,178955,185075,190047,193760,197801,202626,206499,208629,211633,214313,216305,219699,221749,223077,224732,226522,228214,229689,231519,233197,234538,235994,237305,238290,239194,240031,239832,240754,241594,242531,243565,244872,246493,247509,248861,250134,250950,252313,253749],\"yaxis\":\"y\",\"type\":\"bar\"}],                        {\"template\":{\"data\":{\"barpolar\":[{\"marker\":{\"line\":{\"color\":\"rgb(17,17,17)\",\"width\":0.5},\"pattern\":{\"fillmode\":\"overlay\",\"size\":10,\"solidity\":0.2}},\"type\":\"barpolar\"}],\"bar\":[{\"error_x\":{\"color\":\"#f2f5fa\"},\"error_y\":{\"color\":\"#f2f5fa\"},\"marker\":{\"line\":{\"color\":\"rgb(17,17,17)\",\"width\":0.5},\"pattern\":{\"fillmode\":\"overlay\",\"size\":10,\"solidity\":0.2}},\"type\":\"bar\"}],\"carpet\":[{\"aaxis\":{\"endlinecolor\":\"#A2B1C6\",\"gridcolor\":\"#506784\",\"linecolor\":\"#506784\",\"minorgridcolor\":\"#506784\",\"startlinecolor\":\"#A2B1C6\"},\"baxis\":{\"endlinecolor\":\"#A2B1C6\",\"gridcolor\":\"#506784\",\"linecolor\":\"#506784\",\"minorgridcolor\":\"#506784\",\"startlinecolor\":\"#A2B1C6\"},\"type\":\"carpet\"}],\"choropleth\":[{\"colorbar\":{\"outlinewidth\":0,\"ticks\":\"\"},\"type\":\"choropleth\"}],\"contourcarpet\":[{\"colorbar\":{\"outlinewidth\":0,\"ticks\":\"\"},\"type\":\"contourcarpet\"}],\"contour\":[{\"colorbar\":{\"outlinewidth\":0,\"ticks\":\"\"},\"colorscale\":[[0.0,\"#0d0887\"],[0.1111111111111111,\"#46039f\"],[0.2222222222222222,\"#7201a8\"],[0.3333333333333333,\"#9c179e\"],[0.4444444444444444,\"#bd3786\"],[0.5555555555555556,\"#d8576b\"],[0.6666666666666666,\"#ed7953\"],[0.7777777777777778,\"#fb9f3a\"],[0.8888888888888888,\"#fdca26\"],[1.0,\"#f0f921\"]],\"type\":\"contour\"}],\"heatmapgl\":[{\"colorbar\":{\"outlinewidth\":0,\"ticks\":\"\"},\"colorscale\":[[0.0,\"#0d0887\"],[0.1111111111111111,\"#46039f\"],[0.2222222222222222,\"#7201a8\"],[0.3333333333333333,\"#9c179e\"],[0.4444444444444444,\"#bd3786\"],[0.5555555555555556,\"#d8576b\"],[0.6666666666666666,\"#ed7953\"],[0.7777777777777778,\"#fb9f3a\"],[0.8888888888888888,\"#fdca26\"],[1.0,\"#f0f921\"]],\"type\":\"heatmapgl\"}],\"heatmap\":[{\"colorbar\":{\"outlinewidth\":0,\"ticks\":\"\"},\"colorscale\":[[0.0,\"#0d0887\"],[0.1111111111111111,\"#46039f\"],[0.2222222222222222,\"#7201a8\"],[0.3333333333333333,\"#9c179e\"],[0.4444444444444444,\"#bd3786\"],[0.5555555555555556,\"#d8576b\"],[0.6666666666666666,\"#ed7953\"],[0.7777777777777778,\"#fb9f3a\"],[0.8888888888888888,\"#fdca26\"],[1.0,\"#f0f921\"]],\"type\":\"heatmap\"}],\"histogram2dcontour\":[{\"colorbar\":{\"outlinewidth\":0,\"ticks\":\"\"},\"colorscale\":[[0.0,\"#0d0887\"],[0.1111111111111111,\"#46039f\"],[0.2222222222222222,\"#7201a8\"],[0.3333333333333333,\"#9c179e\"],[0.4444444444444444,\"#bd3786\"],[0.5555555555555556,\"#d8576b\"],[0.6666666666666666,\"#ed7953\"],[0.7777777777777778,\"#fb9f3a\"],[0.8888888888888888,\"#fdca26\"],[1.0,\"#f0f921\"]],\"type\":\"histogram2dcontour\"}],\"histogram2d\":[{\"colorbar\":{\"outlinewidth\":0,\"ticks\":\"\"},\"colorscale\":[[0.0,\"#0d0887\"],[0.1111111111111111,\"#46039f\"],[0.2222222222222222,\"#7201a8\"],[0.3333333333333333,\"#9c179e\"],[0.4444444444444444,\"#bd3786\"],[0.5555555555555556,\"#d8576b\"],[0.6666666666666666,\"#ed7953\"],[0.7777777777777778,\"#fb9f3a\"],[0.8888888888888888,\"#fdca26\"],[1.0,\"#f0f921\"]],\"type\":\"histogram2d\"}],\"histogram\":[{\"marker\":{\"pattern\":{\"fillmode\":\"overlay\",\"size\":10,\"solidity\":0.2}},\"type\":\"histogram\"}],\"mesh3d\":[{\"colorbar\":{\"outlinewidth\":0,\"ticks\":\"\"},\"type\":\"mesh3d\"}],\"parcoords\":[{\"line\":{\"colorbar\":{\"outlinewidth\":0,\"ticks\":\"\"}},\"type\":\"parcoords\"}],\"pie\":[{\"automargin\":true,\"type\":\"pie\"}],\"scatter3d\":[{\"line\":{\"colorbar\":{\"outlinewidth\":0,\"ticks\":\"\"}},\"marker\":{\"colorbar\":{\"outlinewidth\":0,\"ticks\":\"\"}},\"type\":\"scatter3d\"}],\"scattercarpet\":[{\"marker\":{\"colorbar\":{\"outlinewidth\":0,\"ticks\":\"\"}},\"type\":\"scattercarpet\"}],\"scattergeo\":[{\"marker\":{\"colorbar\":{\"outlinewidth\":0,\"ticks\":\"\"}},\"type\":\"scattergeo\"}],\"scattergl\":[{\"marker\":{\"line\":{\"color\":\"#283442\"}},\"type\":\"scattergl\"}],\"scattermapbox\":[{\"marker\":{\"colorbar\":{\"outlinewidth\":0,\"ticks\":\"\"}},\"type\":\"scattermapbox\"}],\"scatterpolargl\":[{\"marker\":{\"colorbar\":{\"outlinewidth\":0,\"ticks\":\"\"}},\"type\":\"scatterpolargl\"}],\"scatterpolar\":[{\"marker\":{\"colorbar\":{\"outlinewidth\":0,\"ticks\":\"\"}},\"type\":\"scatterpolar\"}],\"scatter\":[{\"marker\":{\"line\":{\"color\":\"#283442\"}},\"type\":\"scatter\"}],\"scatterternary\":[{\"marker\":{\"colorbar\":{\"outlinewidth\":0,\"ticks\":\"\"}},\"type\":\"scatterternary\"}],\"surface\":[{\"colorbar\":{\"outlinewidth\":0,\"ticks\":\"\"},\"colorscale\":[[0.0,\"#0d0887\"],[0.1111111111111111,\"#46039f\"],[0.2222222222222222,\"#7201a8\"],[0.3333333333333333,\"#9c179e\"],[0.4444444444444444,\"#bd3786\"],[0.5555555555555556,\"#d8576b\"],[0.6666666666666666,\"#ed7953\"],[0.7777777777777778,\"#fb9f3a\"],[0.8888888888888888,\"#fdca26\"],[1.0,\"#f0f921\"]],\"type\":\"surface\"}],\"table\":[{\"cells\":{\"fill\":{\"color\":\"#506784\"},\"line\":{\"color\":\"rgb(17,17,17)\"}},\"header\":{\"fill\":{\"color\":\"#2a3f5f\"},\"line\":{\"color\":\"rgb(17,17,17)\"}},\"type\":\"table\"}]},\"layout\":{\"annotationdefaults\":{\"arrowcolor\":\"#f2f5fa\",\"arrowhead\":0,\"arrowwidth\":1},\"autotypenumbers\":\"strict\",\"coloraxis\":{\"colorbar\":{\"outlinewidth\":0,\"ticks\":\"\"}},\"colorscale\":{\"diverging\":[[0,\"#8e0152\"],[0.1,\"#c51b7d\"],[0.2,\"#de77ae\"],[0.3,\"#f1b6da\"],[0.4,\"#fde0ef\"],[0.5,\"#f7f7f7\"],[0.6,\"#e6f5d0\"],[0.7,\"#b8e186\"],[0.8,\"#7fbc41\"],[0.9,\"#4d9221\"],[1,\"#276419\"]],\"sequential\":[[0.0,\"#0d0887\"],[0.1111111111111111,\"#46039f\"],[0.2222222222222222,\"#7201a8\"],[0.3333333333333333,\"#9c179e\"],[0.4444444444444444,\"#bd3786\"],[0.5555555555555556,\"#d8576b\"],[0.6666666666666666,\"#ed7953\"],[0.7777777777777778,\"#fb9f3a\"],[0.8888888888888888,\"#fdca26\"],[1.0,\"#f0f921\"]],\"sequentialminus\":[[0.0,\"#0d0887\"],[0.1111111111111111,\"#46039f\"],[0.2222222222222222,\"#7201a8\"],[0.3333333333333333,\"#9c179e\"],[0.4444444444444444,\"#bd3786\"],[0.5555555555555556,\"#d8576b\"],[0.6666666666666666,\"#ed7953\"],[0.7777777777777778,\"#fb9f3a\"],[0.8888888888888888,\"#fdca26\"],[1.0,\"#f0f921\"]]},\"colorway\":[\"#636efa\",\"#EF553B\",\"#00cc96\",\"#ab63fa\",\"#FFA15A\",\"#19d3f3\",\"#FF6692\",\"#B6E880\",\"#FF97FF\",\"#FECB52\"],\"font\":{\"color\":\"#f2f5fa\"},\"geo\":{\"bgcolor\":\"rgb(17,17,17)\",\"lakecolor\":\"rgb(17,17,17)\",\"landcolor\":\"rgb(17,17,17)\",\"showlakes\":true,\"showland\":true,\"subunitcolor\":\"#506784\"},\"hoverlabel\":{\"align\":\"left\"},\"hovermode\":\"closest\",\"mapbox\":{\"style\":\"dark\"},\"paper_bgcolor\":\"rgb(17,17,17)\",\"plot_bgcolor\":\"rgb(17,17,17)\",\"polar\":{\"angularaxis\":{\"gridcolor\":\"#506784\",\"linecolor\":\"#506784\",\"ticks\":\"\"},\"bgcolor\":\"rgb(17,17,17)\",\"radialaxis\":{\"gridcolor\":\"#506784\",\"linecolor\":\"#506784\",\"ticks\":\"\"}},\"scene\":{\"xaxis\":{\"backgroundcolor\":\"rgb(17,17,17)\",\"gridcolor\":\"#506784\",\"gridwidth\":2,\"linecolor\":\"#506784\",\"showbackground\":true,\"ticks\":\"\",\"zerolinecolor\":\"#C8D4E3\"},\"yaxis\":{\"backgroundcolor\":\"rgb(17,17,17)\",\"gridcolor\":\"#506784\",\"gridwidth\":2,\"linecolor\":\"#506784\",\"showbackground\":true,\"ticks\":\"\",\"zerolinecolor\":\"#C8D4E3\"},\"zaxis\":{\"backgroundcolor\":\"rgb(17,17,17)\",\"gridcolor\":\"#506784\",\"gridwidth\":2,\"linecolor\":\"#506784\",\"showbackground\":true,\"ticks\":\"\",\"zerolinecolor\":\"#C8D4E3\"}},\"shapedefaults\":{\"line\":{\"color\":\"#f2f5fa\"}},\"sliderdefaults\":{\"bgcolor\":\"#C8D4E3\",\"bordercolor\":\"rgb(17,17,17)\",\"borderwidth\":1,\"tickwidth\":0},\"ternary\":{\"aaxis\":{\"gridcolor\":\"#506784\",\"linecolor\":\"#506784\",\"ticks\":\"\"},\"baxis\":{\"gridcolor\":\"#506784\",\"linecolor\":\"#506784\",\"ticks\":\"\"},\"bgcolor\":\"rgb(17,17,17)\",\"caxis\":{\"gridcolor\":\"#506784\",\"linecolor\":\"#506784\",\"ticks\":\"\"}},\"title\":{\"x\":0.05},\"updatemenudefaults\":{\"bgcolor\":\"#506784\",\"borderwidth\":0},\"xaxis\":{\"automargin\":true,\"gridcolor\":\"#283442\",\"linecolor\":\"#506784\",\"ticks\":\"\",\"title\":{\"standoff\":15},\"zerolinecolor\":\"#283442\",\"zerolinewidth\":2},\"yaxis\":{\"automargin\":true,\"gridcolor\":\"#283442\",\"linecolor\":\"#506784\",\"ticks\":\"\",\"title\":{\"standoff\":15},\"zerolinecolor\":\"#283442\",\"zerolinewidth\":2}}},\"xaxis\":{\"anchor\":\"y\",\"domain\":[0.0,1.0],\"title\":{\"text\":\"Date\"},\"tickangle\":45},\"yaxis\":{\"anchor\":\"x\",\"domain\":[0.0,1.0],\"title\":{\"text\":\"Active\"}},\"legend\":{\"title\":{\"text\":\"Country\\u002fRegion\"},\"tracegroupgap\":0},\"title\":{\"text\":\"Top 6 Countries in Active\"},\"barmode\":\"relative\"},                        {\"responsive\": true}                    ).then(function(){\n",
       "                            \n",
       "var gd = document.getElementById('3c9bfde7-bf41-4deb-bbc5-b570957bc7b1');\n",
       "var x = new MutationObserver(function (mutations, observer) {{\n",
       "        var display = window.getComputedStyle(gd).display;\n",
       "        if (!display || display === 'none') {{\n",
       "            console.log([gd, 'removed!']);\n",
       "            Plotly.purge(gd);\n",
       "            observer.disconnect();\n",
       "        }}\n",
       "}});\n",
       "\n",
       "// Listen for the removal of the full notebook cells\n",
       "var notebookContainer = gd.closest('#notebook-container');\n",
       "if (notebookContainer) {{\n",
       "    x.observe(notebookContainer, {childList: true});\n",
       "}}\n",
       "\n",
       "// Listen for the clearing of the current output cell\n",
       "var outputEl = gd.closest('.output');\n",
       "if (outputEl) {{\n",
       "    x.observe(outputEl, {childList: true});\n",
       "}}\n",
       "\n",
       "                        })                };                });            </script>        </div>"
      ]
     },
     "metadata": {},
     "output_type": "display_data"
    },
    {
     "data": {
      "text/html": [
       "<div>                            <div id=\"d0dc9705-f0f4-4d10-8da0-615b55c59ffa\" class=\"plotly-graph-div\" style=\"height:525px; width:100%;\"></div>            <script type=\"text/javascript\">                require([\"plotly\"], function(Plotly) {                    window.PLOTLYENV=window.PLOTLYENV || {};                                    if (document.getElementById(\"d0dc9705-f0f4-4d10-8da0-615b55c59ffa\")) {                    Plotly.newPlot(                        \"d0dc9705-f0f4-4d10-8da0-615b55c59ffa\",                        [{\"alignmentgroup\":\"True\",\"hovertemplate\":\"Country\\u002fRegion=Brazil\\u003cbr\\u003eDate=%{x}\\u003cbr\\u003eNew cases=%{y}\\u003cextra\\u003e\\u003c\\u002fextra\\u003e\",\"legendgroup\":\"Brazil\",\"marker\":{\"color\":\"#636efa\",\"pattern\":{\"shape\":\"\"}},\"name\":\"Brazil\",\"offsetgroup\":\"Brazil\",\"orientation\":\"v\",\"showlegend\":true,\"textposition\":\"auto\",\"x\":[\"2020-01-22T00:00:00\",\"2020-01-24T00:00:00\",\"2020-01-26T00:00:00\",\"2020-01-28T00:00:00\",\"2020-01-30T00:00:00\",\"2020-02-02T00:00:00\",\"2020-02-04T00:00:00\",\"2020-02-06T00:00:00\",\"2020-02-08T00:00:00\",\"2020-02-10T00:00:00\",\"2020-02-12T00:00:00\",\"2020-02-14T00:00:00\",\"2020-02-16T00:00:00\",\"2020-02-18T00:00:00\",\"2020-02-20T00:00:00\",\"2020-02-22T00:00:00\",\"2020-02-24T00:00:00\",\"2020-02-26T00:00:00\",\"2020-02-28T00:00:00\",\"2020-03-02T00:00:00\",\"2020-03-04T00:00:00\",\"2020-03-06T00:00:00\",\"2020-03-08T00:00:00\",\"2020-03-10T00:00:00\",\"2020-03-12T00:00:00\",\"2020-03-14T00:00:00\",\"2020-03-16T00:00:00\",\"2020-03-18T00:00:00\",\"2020-03-20T00:00:00\",\"2020-03-22T00:00:00\",\"2020-03-24T00:00:00\",\"2020-03-26T00:00:00\",\"2020-03-28T00:00:00\",\"2020-03-30T00:00:00\",\"2020-04-02T00:00:00\",\"2020-04-04T00:00:00\",\"2020-04-06T00:00:00\",\"2020-04-08T00:00:00\",\"2020-04-10T00:00:00\",\"2020-04-12T00:00:00\",\"2020-04-14T00:00:00\",\"2020-04-16T00:00:00\",\"2020-04-18T00:00:00\",\"2020-04-20T00:00:00\",\"2020-04-22T00:00:00\",\"2020-04-24T00:00:00\",\"2020-04-26T00:00:00\",\"2020-04-28T00:00:00\",\"2020-04-30T00:00:00\",\"2020-05-02T00:00:00\",\"2020-05-04T00:00:00\",\"2020-05-06T00:00:00\",\"2020-05-08T00:00:00\",\"2020-05-10T00:00:00\",\"2020-05-12T00:00:00\",\"2020-05-14T00:00:00\",\"2020-05-16T00:00:00\",\"2020-05-18T00:00:00\",\"2020-05-20T00:00:00\",\"2020-05-22T00:00:00\",\"2020-05-24T00:00:00\",\"2020-05-26T00:00:00\",\"2020-05-28T00:00:00\",\"2020-05-30T00:00:00\",\"2020-06-02T00:00:00\",\"2020-06-04T00:00:00\",\"2020-06-06T00:00:00\",\"2020-06-08T00:00:00\",\"2020-06-10T00:00:00\",\"2020-06-12T00:00:00\",\"2020-06-14T00:00:00\",\"2020-06-16T00:00:00\",\"2020-06-18T00:00:00\",\"2020-06-20T00:00:00\",\"2020-06-22T00:00:00\",\"2020-06-24T00:00:00\",\"2020-06-26T00:00:00\",\"2020-06-28T00:00:00\",\"2020-06-30T00:00:00\",\"2020-07-02T00:00:00\",\"2020-07-04T00:00:00\",\"2020-07-06T00:00:00\",\"2020-07-08T00:00:00\",\"2020-07-10T00:00:00\",\"2020-07-12T00:00:00\",\"2020-07-14T00:00:00\",\"2020-07-16T00:00:00\",\"2020-07-18T00:00:00\",\"2020-07-20T00:00:00\",\"2020-07-22T00:00:00\",\"2020-07-24T00:00:00\",\"2020-07-26T00:00:00\"],\"xaxis\":\"x\",\"y\":[0,0,0,0,0,0,0,0,0,0,0,0,0,0,0,0,0,1,0,0,2,9,7,6,14,0,38,51,172,525,323,431,487,323,1208,1304,1031,2136,1546,1465,1832,2105,2976,2089,2678,4007,3776,5789,7502,4898,6794,11156,11121,6638,8620,13028,13220,14288,19694,20803,15813,16324,26417,33274,28936,30925,27075,15654,32913,25982,17110,34918,22765,34666,23129,42725,46860,30476,33846,48105,37923,20229,44571,45048,24831,41857,45403,28532,20257,67860,55891,24578],\"yaxis\":\"y\",\"type\":\"bar\"},{\"alignmentgroup\":\"True\",\"hovertemplate\":\"Country\\u002fRegion=Chile\\u003cbr\\u003eDate=%{x}\\u003cbr\\u003eNew cases=%{y}\\u003cextra\\u003e\\u003c\\u002fextra\\u003e\",\"legendgroup\":\"Chile\",\"marker\":{\"color\":\"#EF553B\",\"pattern\":{\"shape\":\"\"}},\"name\":\"Chile\",\"offsetgroup\":\"Chile\",\"orientation\":\"v\",\"showlegend\":true,\"textposition\":\"auto\",\"x\":[\"2020-01-22T00:00:00\",\"2020-01-24T00:00:00\",\"2020-01-26T00:00:00\",\"2020-01-28T00:00:00\",\"2020-01-30T00:00:00\",\"2020-02-02T00:00:00\",\"2020-02-04T00:00:00\",\"2020-02-06T00:00:00\",\"2020-02-08T00:00:00\",\"2020-02-10T00:00:00\",\"2020-02-12T00:00:00\",\"2020-02-14T00:00:00\",\"2020-02-16T00:00:00\",\"2020-02-18T00:00:00\",\"2020-02-20T00:00:00\",\"2020-02-22T00:00:00\",\"2020-02-24T00:00:00\",\"2020-02-26T00:00:00\",\"2020-02-28T00:00:00\",\"2020-03-02T00:00:00\",\"2020-03-04T00:00:00\",\"2020-03-06T00:00:00\",\"2020-03-08T00:00:00\",\"2020-03-10T00:00:00\",\"2020-03-12T00:00:00\",\"2020-03-14T00:00:00\",\"2020-03-16T00:00:00\",\"2020-03-18T00:00:00\",\"2020-03-20T00:00:00\",\"2020-03-22T00:00:00\",\"2020-03-24T00:00:00\",\"2020-03-26T00:00:00\",\"2020-03-28T00:00:00\",\"2020-03-30T00:00:00\",\"2020-04-02T00:00:00\",\"2020-04-04T00:00:00\",\"2020-04-06T00:00:00\",\"2020-04-08T00:00:00\",\"2020-04-10T00:00:00\",\"2020-04-12T00:00:00\",\"2020-04-14T00:00:00\",\"2020-04-16T00:00:00\",\"2020-04-18T00:00:00\",\"2020-04-20T00:00:00\",\"2020-04-22T00:00:00\",\"2020-04-24T00:00:00\",\"2020-04-26T00:00:00\",\"2020-04-28T00:00:00\",\"2020-04-30T00:00:00\",\"2020-05-02T00:00:00\",\"2020-05-04T00:00:00\",\"2020-05-06T00:00:00\",\"2020-05-08T00:00:00\",\"2020-05-10T00:00:00\",\"2020-05-12T00:00:00\",\"2020-05-14T00:00:00\",\"2020-05-16T00:00:00\",\"2020-05-18T00:00:00\",\"2020-05-20T00:00:00\",\"2020-05-22T00:00:00\",\"2020-05-24T00:00:00\",\"2020-05-26T00:00:00\",\"2020-05-28T00:00:00\",\"2020-05-30T00:00:00\",\"2020-06-02T00:00:00\",\"2020-06-04T00:00:00\",\"2020-06-06T00:00:00\",\"2020-06-08T00:00:00\",\"2020-06-10T00:00:00\",\"2020-06-12T00:00:00\",\"2020-06-14T00:00:00\",\"2020-06-16T00:00:00\",\"2020-06-18T00:00:00\",\"2020-06-20T00:00:00\",\"2020-06-22T00:00:00\",\"2020-06-24T00:00:00\",\"2020-06-26T00:00:00\",\"2020-06-28T00:00:00\",\"2020-06-30T00:00:00\",\"2020-07-02T00:00:00\",\"2020-07-04T00:00:00\",\"2020-07-06T00:00:00\",\"2020-07-08T00:00:00\",\"2020-07-10T00:00:00\",\"2020-07-12T00:00:00\",\"2020-07-14T00:00:00\",\"2020-07-16T00:00:00\",\"2020-07-18T00:00:00\",\"2020-07-20T00:00:00\",\"2020-07-22T00:00:00\",\"2020-07-24T00:00:00\",\"2020-07-26T00:00:00\"],\"xaxis\":\"x\",\"y\":[0,0,0,0,0,0,0,0,0,0,0,0,0,0,0,0,0,0,0,0,0,0,7,5,0,33,81,37,196,95,176,164,350,310,373,512,344,430,529,286,392,534,907,419,464,494,473,552,1138,2526,980,1032,1391,1647,1658,2659,5485,2278,4038,4276,3709,3964,4654,13188,3528,4664,13990,4696,5697,6754,6938,5013,4475,5355,4608,3649,4296,4216,3394,2498,3758,3025,2064,3058,3012,1836,2493,2407,2099,1719,2545,2198],\"yaxis\":\"y\",\"type\":\"bar\"},{\"alignmentgroup\":\"True\",\"hovertemplate\":\"Country\\u002fRegion=France\\u003cbr\\u003eDate=%{x}\\u003cbr\\u003eNew cases=%{y}\\u003cextra\\u003e\\u003c\\u002fextra\\u003e\",\"legendgroup\":\"France\",\"marker\":{\"color\":\"#00cc96\",\"pattern\":{\"shape\":\"\"}},\"name\":\"France\",\"offsetgroup\":\"France\",\"orientation\":\"v\",\"showlegend\":true,\"textposition\":\"auto\",\"x\":[\"2020-01-22T00:00:00\",\"2020-01-24T00:00:00\",\"2020-01-26T00:00:00\",\"2020-01-28T00:00:00\",\"2020-01-30T00:00:00\",\"2020-02-02T00:00:00\",\"2020-02-04T00:00:00\",\"2020-02-06T00:00:00\",\"2020-02-08T00:00:00\",\"2020-02-10T00:00:00\",\"2020-02-12T00:00:00\",\"2020-02-14T00:00:00\",\"2020-02-16T00:00:00\",\"2020-02-18T00:00:00\",\"2020-02-20T00:00:00\",\"2020-02-22T00:00:00\",\"2020-02-24T00:00:00\",\"2020-02-26T00:00:00\",\"2020-02-28T00:00:00\",\"2020-03-02T00:00:00\",\"2020-03-04T00:00:00\",\"2020-03-06T00:00:00\",\"2020-03-08T00:00:00\",\"2020-03-10T00:00:00\",\"2020-03-12T00:00:00\",\"2020-03-14T00:00:00\",\"2020-03-16T00:00:00\",\"2020-03-18T00:00:00\",\"2020-03-20T00:00:00\",\"2020-03-22T00:00:00\",\"2020-03-24T00:00:00\",\"2020-03-26T00:00:00\",\"2020-03-28T00:00:00\",\"2020-03-30T00:00:00\",\"2020-04-02T00:00:00\",\"2020-04-04T00:00:00\",\"2020-04-06T00:00:00\",\"2020-04-08T00:00:00\",\"2020-04-10T00:00:00\",\"2020-04-12T00:00:00\",\"2020-04-14T00:00:00\",\"2020-04-16T00:00:00\",\"2020-04-18T00:00:00\",\"2020-04-20T00:00:00\",\"2020-04-22T00:00:00\",\"2020-04-24T00:00:00\",\"2020-04-26T00:00:00\",\"2020-04-28T00:00:00\",\"2020-04-30T00:00:00\",\"2020-05-02T00:00:00\",\"2020-05-04T00:00:00\",\"2020-05-06T00:00:00\",\"2020-05-08T00:00:00\",\"2020-05-10T00:00:00\",\"2020-05-12T00:00:00\",\"2020-05-14T00:00:00\",\"2020-05-16T00:00:00\",\"2020-05-18T00:00:00\",\"2020-05-20T00:00:00\",\"2020-05-22T00:00:00\",\"2020-05-24T00:00:00\",\"2020-05-26T00:00:00\",\"2020-05-28T00:00:00\",\"2020-05-30T00:00:00\",\"2020-06-02T00:00:00\",\"2020-06-04T00:00:00\",\"2020-06-06T00:00:00\",\"2020-06-08T00:00:00\",\"2020-06-10T00:00:00\",\"2020-06-12T00:00:00\",\"2020-06-14T00:00:00\",\"2020-06-16T00:00:00\",\"2020-06-18T00:00:00\",\"2020-06-20T00:00:00\",\"2020-06-22T00:00:00\",\"2020-06-24T00:00:00\",\"2020-06-26T00:00:00\",\"2020-06-28T00:00:00\",\"2020-06-30T00:00:00\",\"2020-07-02T00:00:00\",\"2020-07-04T00:00:00\",\"2020-07-06T00:00:00\",\"2020-07-08T00:00:00\",\"2020-07-10T00:00:00\",\"2020-07-12T00:00:00\",\"2020-07-14T00:00:00\",\"2020-07-16T00:00:00\",\"2020-07-18T00:00:00\",\"2020-07-20T00:00:00\",\"2020-07-22T00:00:00\",\"2020-07-24T00:00:00\",\"2020-07-26T00:00:00\"],\"xaxis\":\"x\",\"y\":[0,2,0,1,0,0,0,0,5,0,0,0,0,0,0,0,0,4,19,61,84,276,177,575,0,815,2151,1409,1788,1780,2499,3951,4703,4462,2180,4298,3931,3894,4372,26849,4971,12490,2,2382,0,1649,576,3090,756,1213,658,3537,1284,312,802,810,0,358,767,403,15,0,3326,1829,0,767,579,211,545,727,407,344,467,641,373,81,1588,0,541,659,0,1375,0,659,0,0,534,0,2080,998,1130,0],\"yaxis\":\"y\",\"type\":\"bar\"},{\"alignmentgroup\":\"True\",\"hovertemplate\":\"Country\\u002fRegion=India\\u003cbr\\u003eDate=%{x}\\u003cbr\\u003eNew cases=%{y}\\u003cextra\\u003e\\u003c\\u002fextra\\u003e\",\"legendgroup\":\"India\",\"marker\":{\"color\":\"#ab63fa\",\"pattern\":{\"shape\":\"\"}},\"name\":\"India\",\"offsetgroup\":\"India\",\"orientation\":\"v\",\"showlegend\":true,\"textposition\":\"auto\",\"x\":[\"2020-01-22T00:00:00\",\"2020-01-24T00:00:00\",\"2020-01-26T00:00:00\",\"2020-01-28T00:00:00\",\"2020-01-30T00:00:00\",\"2020-02-02T00:00:00\",\"2020-02-04T00:00:00\",\"2020-02-06T00:00:00\",\"2020-02-08T00:00:00\",\"2020-02-10T00:00:00\",\"2020-02-12T00:00:00\",\"2020-02-14T00:00:00\",\"2020-02-16T00:00:00\",\"2020-02-18T00:00:00\",\"2020-02-20T00:00:00\",\"2020-02-22T00:00:00\",\"2020-02-24T00:00:00\",\"2020-02-26T00:00:00\",\"2020-02-28T00:00:00\",\"2020-03-02T00:00:00\",\"2020-03-04T00:00:00\",\"2020-03-06T00:00:00\",\"2020-03-08T00:00:00\",\"2020-03-10T00:00:00\",\"2020-03-12T00:00:00\",\"2020-03-14T00:00:00\",\"2020-03-16T00:00:00\",\"2020-03-18T00:00:00\",\"2020-03-20T00:00:00\",\"2020-03-22T00:00:00\",\"2020-03-24T00:00:00\",\"2020-03-26T00:00:00\",\"2020-03-28T00:00:00\",\"2020-03-30T00:00:00\",\"2020-04-02T00:00:00\",\"2020-04-04T00:00:00\",\"2020-04-06T00:00:00\",\"2020-04-08T00:00:00\",\"2020-04-10T00:00:00\",\"2020-04-12T00:00:00\",\"2020-04-14T00:00:00\",\"2020-04-16T00:00:00\",\"2020-04-18T00:00:00\",\"2020-04-20T00:00:00\",\"2020-04-22T00:00:00\",\"2020-04-24T00:00:00\",\"2020-04-26T00:00:00\",\"2020-04-28T00:00:00\",\"2020-04-30T00:00:00\",\"2020-05-02T00:00:00\",\"2020-05-04T00:00:00\",\"2020-05-06T00:00:00\",\"2020-05-08T00:00:00\",\"2020-05-10T00:00:00\",\"2020-05-12T00:00:00\",\"2020-05-14T00:00:00\",\"2020-05-16T00:00:00\",\"2020-05-18T00:00:00\",\"2020-05-20T00:00:00\",\"2020-05-22T00:00:00\",\"2020-05-24T00:00:00\",\"2020-05-26T00:00:00\",\"2020-05-28T00:00:00\",\"2020-05-30T00:00:00\",\"2020-06-02T00:00:00\",\"2020-06-04T00:00:00\",\"2020-06-06T00:00:00\",\"2020-06-08T00:00:00\",\"2020-06-10T00:00:00\",\"2020-06-12T00:00:00\",\"2020-06-14T00:00:00\",\"2020-06-16T00:00:00\",\"2020-06-18T00:00:00\",\"2020-06-20T00:00:00\",\"2020-06-22T00:00:00\",\"2020-06-24T00:00:00\",\"2020-06-26T00:00:00\",\"2020-06-28T00:00:00\",\"2020-06-30T00:00:00\",\"2020-07-02T00:00:00\",\"2020-07-04T00:00:00\",\"2020-07-06T00:00:00\",\"2020-07-08T00:00:00\",\"2020-07-10T00:00:00\",\"2020-07-12T00:00:00\",\"2020-07-14T00:00:00\",\"2020-07-16T00:00:00\",\"2020-07-18T00:00:00\",\"2020-07-20T00:00:00\",\"2020-07-22T00:00:00\",\"2020-07-24T00:00:00\",\"2020-07-26T00:00:00\"],\"xaxis\":\"x\",\"y\":[0,0,0,0,1,1,0,0,0,0,0,0,0,0,0,0,0,0,0,2,23,1,5,13,11,20,6,14,50,66,37,70,100,227,545,515,1190,605,873,759,1034,1108,1370,924,1290,1453,1607,1873,1801,2442,3932,3587,3344,4353,3524,3942,4864,4630,5553,6568,7113,5843,7300,8336,8821,9889,10438,8442,10459,11458,11502,10974,13586,15403,14933,16922,18552,19459,18641,20903,24850,22251,24879,27114,28732,29429,34975,38697,37132,45720,48916,49981],\"yaxis\":\"y\",\"type\":\"bar\"},{\"alignmentgroup\":\"True\",\"hovertemplate\":\"Country\\u002fRegion=South Africa\\u003cbr\\u003eDate=%{x}\\u003cbr\\u003eNew cases=%{y}\\u003cextra\\u003e\\u003c\\u002fextra\\u003e\",\"legendgroup\":\"South Africa\",\"marker\":{\"color\":\"#FFA15A\",\"pattern\":{\"shape\":\"\"}},\"name\":\"South Africa\",\"offsetgroup\":\"South Africa\",\"orientation\":\"v\",\"showlegend\":true,\"textposition\":\"auto\",\"x\":[\"2020-01-22T00:00:00\",\"2020-01-24T00:00:00\",\"2020-01-26T00:00:00\",\"2020-01-28T00:00:00\",\"2020-01-30T00:00:00\",\"2020-02-02T00:00:00\",\"2020-02-04T00:00:00\",\"2020-02-06T00:00:00\",\"2020-02-08T00:00:00\",\"2020-02-10T00:00:00\",\"2020-02-12T00:00:00\",\"2020-02-14T00:00:00\",\"2020-02-16T00:00:00\",\"2020-02-18T00:00:00\",\"2020-02-20T00:00:00\",\"2020-02-22T00:00:00\",\"2020-02-24T00:00:00\",\"2020-02-26T00:00:00\",\"2020-02-28T00:00:00\",\"2020-03-02T00:00:00\",\"2020-03-04T00:00:00\",\"2020-03-06T00:00:00\",\"2020-03-08T00:00:00\",\"2020-03-10T00:00:00\",\"2020-03-12T00:00:00\",\"2020-03-14T00:00:00\",\"2020-03-16T00:00:00\",\"2020-03-18T00:00:00\",\"2020-03-20T00:00:00\",\"2020-03-22T00:00:00\",\"2020-03-24T00:00:00\",\"2020-03-26T00:00:00\",\"2020-03-28T00:00:00\",\"2020-03-30T00:00:00\",\"2020-04-02T00:00:00\",\"2020-04-04T00:00:00\",\"2020-04-06T00:00:00\",\"2020-04-08T00:00:00\",\"2020-04-10T00:00:00\",\"2020-04-12T00:00:00\",\"2020-04-14T00:00:00\",\"2020-04-16T00:00:00\",\"2020-04-18T00:00:00\",\"2020-04-20T00:00:00\",\"2020-04-22T00:00:00\",\"2020-04-24T00:00:00\",\"2020-04-26T00:00:00\",\"2020-04-28T00:00:00\",\"2020-04-30T00:00:00\",\"2020-05-02T00:00:00\",\"2020-05-04T00:00:00\",\"2020-05-06T00:00:00\",\"2020-05-08T00:00:00\",\"2020-05-10T00:00:00\",\"2020-05-12T00:00:00\",\"2020-05-14T00:00:00\",\"2020-05-16T00:00:00\",\"2020-05-18T00:00:00\",\"2020-05-20T00:00:00\",\"2020-05-22T00:00:00\",\"2020-05-24T00:00:00\",\"2020-05-26T00:00:00\",\"2020-05-28T00:00:00\",\"2020-05-30T00:00:00\",\"2020-06-02T00:00:00\",\"2020-06-04T00:00:00\",\"2020-06-06T00:00:00\",\"2020-06-08T00:00:00\",\"2020-06-10T00:00:00\",\"2020-06-12T00:00:00\",\"2020-06-14T00:00:00\",\"2020-06-16T00:00:00\",\"2020-06-18T00:00:00\",\"2020-06-20T00:00:00\",\"2020-06-22T00:00:00\",\"2020-06-24T00:00:00\",\"2020-06-26T00:00:00\",\"2020-06-28T00:00:00\",\"2020-06-30T00:00:00\",\"2020-07-02T00:00:00\",\"2020-07-04T00:00:00\",\"2020-07-06T00:00:00\",\"2020-07-08T00:00:00\",\"2020-07-10T00:00:00\",\"2020-07-12T00:00:00\",\"2020-07-14T00:00:00\",\"2020-07-16T00:00:00\",\"2020-07-18T00:00:00\",\"2020-07-20T00:00:00\",\"2020-07-22T00:00:00\",\"2020-07-24T00:00:00\",\"2020-07-26T00:00:00\"],\"xaxis\":\"x\",\"y\":[0,0,0,0,0,0,0,0,0,0,0,0,0,0,0,0,0,0,0,0,0,0,2,4,4,14,11,54,52,34,152,218,17,46,82,80,31,96,69,145,143,99,251,142,170,267,185,203,297,385,437,236,663,595,698,665,831,918,803,988,1240,649,1466,1727,1455,3267,2539,2594,2430,3359,4302,2801,3478,4966,4288,5688,6215,6334,6945,8728,10853,8971,8810,12348,12058,10496,13172,13285,9300,13150,13944,11233],\"yaxis\":\"y\",\"type\":\"bar\"},{\"alignmentgroup\":\"True\",\"hovertemplate\":\"Country\\u002fRegion=US\\u003cbr\\u003eDate=%{x}\\u003cbr\\u003eNew cases=%{y}\\u003cextra\\u003e\\u003c\\u002fextra\\u003e\",\"legendgroup\":\"US\",\"marker\":{\"color\":\"#19d3f3\",\"pattern\":{\"shape\":\"\"}},\"name\":\"US\",\"offsetgroup\":\"US\",\"orientation\":\"v\",\"showlegend\":true,\"textposition\":\"auto\",\"x\":[\"2020-01-22T00:00:00\",\"2020-01-24T00:00:00\",\"2020-01-26T00:00:00\",\"2020-01-28T00:00:00\",\"2020-01-30T00:00:00\",\"2020-02-02T00:00:00\",\"2020-02-04T00:00:00\",\"2020-02-06T00:00:00\",\"2020-02-08T00:00:00\",\"2020-02-10T00:00:00\",\"2020-02-12T00:00:00\",\"2020-02-14T00:00:00\",\"2020-02-16T00:00:00\",\"2020-02-18T00:00:00\",\"2020-02-20T00:00:00\",\"2020-02-22T00:00:00\",\"2020-02-24T00:00:00\",\"2020-02-26T00:00:00\",\"2020-02-28T00:00:00\",\"2020-03-02T00:00:00\",\"2020-03-04T00:00:00\",\"2020-03-06T00:00:00\",\"2020-03-08T00:00:00\",\"2020-03-10T00:00:00\",\"2020-03-12T00:00:00\",\"2020-03-14T00:00:00\",\"2020-03-16T00:00:00\",\"2020-03-18T00:00:00\",\"2020-03-20T00:00:00\",\"2020-03-22T00:00:00\",\"2020-03-24T00:00:00\",\"2020-03-26T00:00:00\",\"2020-03-28T00:00:00\",\"2020-03-30T00:00:00\",\"2020-04-02T00:00:00\",\"2020-04-04T00:00:00\",\"2020-04-06T00:00:00\",\"2020-04-08T00:00:00\",\"2020-04-10T00:00:00\",\"2020-04-12T00:00:00\",\"2020-04-14T00:00:00\",\"2020-04-16T00:00:00\",\"2020-04-18T00:00:00\",\"2020-04-20T00:00:00\",\"2020-04-22T00:00:00\",\"2020-04-24T00:00:00\",\"2020-04-26T00:00:00\",\"2020-04-28T00:00:00\",\"2020-04-30T00:00:00\",\"2020-05-02T00:00:00\",\"2020-05-04T00:00:00\",\"2020-05-06T00:00:00\",\"2020-05-08T00:00:00\",\"2020-05-10T00:00:00\",\"2020-05-12T00:00:00\",\"2020-05-14T00:00:00\",\"2020-05-16T00:00:00\",\"2020-05-18T00:00:00\",\"2020-05-20T00:00:00\",\"2020-05-22T00:00:00\",\"2020-05-24T00:00:00\",\"2020-05-26T00:00:00\",\"2020-05-28T00:00:00\",\"2020-05-30T00:00:00\",\"2020-06-02T00:00:00\",\"2020-06-04T00:00:00\",\"2020-06-06T00:00:00\",\"2020-06-08T00:00:00\",\"2020-06-10T00:00:00\",\"2020-06-12T00:00:00\",\"2020-06-14T00:00:00\",\"2020-06-16T00:00:00\",\"2020-06-18T00:00:00\",\"2020-06-20T00:00:00\",\"2020-06-22T00:00:00\",\"2020-06-24T00:00:00\",\"2020-06-26T00:00:00\",\"2020-06-28T00:00:00\",\"2020-06-30T00:00:00\",\"2020-07-02T00:00:00\",\"2020-07-04T00:00:00\",\"2020-07-06T00:00:00\",\"2020-07-08T00:00:00\",\"2020-07-10T00:00:00\",\"2020-07-12T00:00:00\",\"2020-07-14T00:00:00\",\"2020-07-16T00:00:00\",\"2020-07-18T00:00:00\",\"2020-07-20T00:00:00\",\"2020-07-22T00:00:00\",\"2020-07-24T00:00:00\",\"2020-07-26T00:00:00\"],\"xaxis\":\"x\",\"y\":[0,1,3,0,0,0,0,0,0,0,0,0,0,0,0,0,0,0,0,23,31,48,114,192,452,713,1392,2776,5322,7936,10262,18036,19793,21502,30405,33152,29642,31694,33501,28553,27065,31298,28341,27341,28104,36291,27689,24535,29629,29195,22475,25256,27178,19764,22190,27617,25101,21769,23807,24141,20813,18883,22815,24450,20895,21351,22732,17415,20794,25330,19824,23705,27809,32749,30536,34935,45255,39605,45746,54461,45880,44953,58601,67791,59017,67417,77255,63698,61417,70910,73715,54953],\"yaxis\":\"y\",\"type\":\"bar\"}],                        {\"template\":{\"data\":{\"barpolar\":[{\"marker\":{\"line\":{\"color\":\"rgb(17,17,17)\",\"width\":0.5},\"pattern\":{\"fillmode\":\"overlay\",\"size\":10,\"solidity\":0.2}},\"type\":\"barpolar\"}],\"bar\":[{\"error_x\":{\"color\":\"#f2f5fa\"},\"error_y\":{\"color\":\"#f2f5fa\"},\"marker\":{\"line\":{\"color\":\"rgb(17,17,17)\",\"width\":0.5},\"pattern\":{\"fillmode\":\"overlay\",\"size\":10,\"solidity\":0.2}},\"type\":\"bar\"}],\"carpet\":[{\"aaxis\":{\"endlinecolor\":\"#A2B1C6\",\"gridcolor\":\"#506784\",\"linecolor\":\"#506784\",\"minorgridcolor\":\"#506784\",\"startlinecolor\":\"#A2B1C6\"},\"baxis\":{\"endlinecolor\":\"#A2B1C6\",\"gridcolor\":\"#506784\",\"linecolor\":\"#506784\",\"minorgridcolor\":\"#506784\",\"startlinecolor\":\"#A2B1C6\"},\"type\":\"carpet\"}],\"choropleth\":[{\"colorbar\":{\"outlinewidth\":0,\"ticks\":\"\"},\"type\":\"choropleth\"}],\"contourcarpet\":[{\"colorbar\":{\"outlinewidth\":0,\"ticks\":\"\"},\"type\":\"contourcarpet\"}],\"contour\":[{\"colorbar\":{\"outlinewidth\":0,\"ticks\":\"\"},\"colorscale\":[[0.0,\"#0d0887\"],[0.1111111111111111,\"#46039f\"],[0.2222222222222222,\"#7201a8\"],[0.3333333333333333,\"#9c179e\"],[0.4444444444444444,\"#bd3786\"],[0.5555555555555556,\"#d8576b\"],[0.6666666666666666,\"#ed7953\"],[0.7777777777777778,\"#fb9f3a\"],[0.8888888888888888,\"#fdca26\"],[1.0,\"#f0f921\"]],\"type\":\"contour\"}],\"heatmapgl\":[{\"colorbar\":{\"outlinewidth\":0,\"ticks\":\"\"},\"colorscale\":[[0.0,\"#0d0887\"],[0.1111111111111111,\"#46039f\"],[0.2222222222222222,\"#7201a8\"],[0.3333333333333333,\"#9c179e\"],[0.4444444444444444,\"#bd3786\"],[0.5555555555555556,\"#d8576b\"],[0.6666666666666666,\"#ed7953\"],[0.7777777777777778,\"#fb9f3a\"],[0.8888888888888888,\"#fdca26\"],[1.0,\"#f0f921\"]],\"type\":\"heatmapgl\"}],\"heatmap\":[{\"colorbar\":{\"outlinewidth\":0,\"ticks\":\"\"},\"colorscale\":[[0.0,\"#0d0887\"],[0.1111111111111111,\"#46039f\"],[0.2222222222222222,\"#7201a8\"],[0.3333333333333333,\"#9c179e\"],[0.4444444444444444,\"#bd3786\"],[0.5555555555555556,\"#d8576b\"],[0.6666666666666666,\"#ed7953\"],[0.7777777777777778,\"#fb9f3a\"],[0.8888888888888888,\"#fdca26\"],[1.0,\"#f0f921\"]],\"type\":\"heatmap\"}],\"histogram2dcontour\":[{\"colorbar\":{\"outlinewidth\":0,\"ticks\":\"\"},\"colorscale\":[[0.0,\"#0d0887\"],[0.1111111111111111,\"#46039f\"],[0.2222222222222222,\"#7201a8\"],[0.3333333333333333,\"#9c179e\"],[0.4444444444444444,\"#bd3786\"],[0.5555555555555556,\"#d8576b\"],[0.6666666666666666,\"#ed7953\"],[0.7777777777777778,\"#fb9f3a\"],[0.8888888888888888,\"#fdca26\"],[1.0,\"#f0f921\"]],\"type\":\"histogram2dcontour\"}],\"histogram2d\":[{\"colorbar\":{\"outlinewidth\":0,\"ticks\":\"\"},\"colorscale\":[[0.0,\"#0d0887\"],[0.1111111111111111,\"#46039f\"],[0.2222222222222222,\"#7201a8\"],[0.3333333333333333,\"#9c179e\"],[0.4444444444444444,\"#bd3786\"],[0.5555555555555556,\"#d8576b\"],[0.6666666666666666,\"#ed7953\"],[0.7777777777777778,\"#fb9f3a\"],[0.8888888888888888,\"#fdca26\"],[1.0,\"#f0f921\"]],\"type\":\"histogram2d\"}],\"histogram\":[{\"marker\":{\"pattern\":{\"fillmode\":\"overlay\",\"size\":10,\"solidity\":0.2}},\"type\":\"histogram\"}],\"mesh3d\":[{\"colorbar\":{\"outlinewidth\":0,\"ticks\":\"\"},\"type\":\"mesh3d\"}],\"parcoords\":[{\"line\":{\"colorbar\":{\"outlinewidth\":0,\"ticks\":\"\"}},\"type\":\"parcoords\"}],\"pie\":[{\"automargin\":true,\"type\":\"pie\"}],\"scatter3d\":[{\"line\":{\"colorbar\":{\"outlinewidth\":0,\"ticks\":\"\"}},\"marker\":{\"colorbar\":{\"outlinewidth\":0,\"ticks\":\"\"}},\"type\":\"scatter3d\"}],\"scattercarpet\":[{\"marker\":{\"colorbar\":{\"outlinewidth\":0,\"ticks\":\"\"}},\"type\":\"scattercarpet\"}],\"scattergeo\":[{\"marker\":{\"colorbar\":{\"outlinewidth\":0,\"ticks\":\"\"}},\"type\":\"scattergeo\"}],\"scattergl\":[{\"marker\":{\"line\":{\"color\":\"#283442\"}},\"type\":\"scattergl\"}],\"scattermapbox\":[{\"marker\":{\"colorbar\":{\"outlinewidth\":0,\"ticks\":\"\"}},\"type\":\"scattermapbox\"}],\"scatterpolargl\":[{\"marker\":{\"colorbar\":{\"outlinewidth\":0,\"ticks\":\"\"}},\"type\":\"scatterpolargl\"}],\"scatterpolar\":[{\"marker\":{\"colorbar\":{\"outlinewidth\":0,\"ticks\":\"\"}},\"type\":\"scatterpolar\"}],\"scatter\":[{\"marker\":{\"line\":{\"color\":\"#283442\"}},\"type\":\"scatter\"}],\"scatterternary\":[{\"marker\":{\"colorbar\":{\"outlinewidth\":0,\"ticks\":\"\"}},\"type\":\"scatterternary\"}],\"surface\":[{\"colorbar\":{\"outlinewidth\":0,\"ticks\":\"\"},\"colorscale\":[[0.0,\"#0d0887\"],[0.1111111111111111,\"#46039f\"],[0.2222222222222222,\"#7201a8\"],[0.3333333333333333,\"#9c179e\"],[0.4444444444444444,\"#bd3786\"],[0.5555555555555556,\"#d8576b\"],[0.6666666666666666,\"#ed7953\"],[0.7777777777777778,\"#fb9f3a\"],[0.8888888888888888,\"#fdca26\"],[1.0,\"#f0f921\"]],\"type\":\"surface\"}],\"table\":[{\"cells\":{\"fill\":{\"color\":\"#506784\"},\"line\":{\"color\":\"rgb(17,17,17)\"}},\"header\":{\"fill\":{\"color\":\"#2a3f5f\"},\"line\":{\"color\":\"rgb(17,17,17)\"}},\"type\":\"table\"}]},\"layout\":{\"annotationdefaults\":{\"arrowcolor\":\"#f2f5fa\",\"arrowhead\":0,\"arrowwidth\":1},\"autotypenumbers\":\"strict\",\"coloraxis\":{\"colorbar\":{\"outlinewidth\":0,\"ticks\":\"\"}},\"colorscale\":{\"diverging\":[[0,\"#8e0152\"],[0.1,\"#c51b7d\"],[0.2,\"#de77ae\"],[0.3,\"#f1b6da\"],[0.4,\"#fde0ef\"],[0.5,\"#f7f7f7\"],[0.6,\"#e6f5d0\"],[0.7,\"#b8e186\"],[0.8,\"#7fbc41\"],[0.9,\"#4d9221\"],[1,\"#276419\"]],\"sequential\":[[0.0,\"#0d0887\"],[0.1111111111111111,\"#46039f\"],[0.2222222222222222,\"#7201a8\"],[0.3333333333333333,\"#9c179e\"],[0.4444444444444444,\"#bd3786\"],[0.5555555555555556,\"#d8576b\"],[0.6666666666666666,\"#ed7953\"],[0.7777777777777778,\"#fb9f3a\"],[0.8888888888888888,\"#fdca26\"],[1.0,\"#f0f921\"]],\"sequentialminus\":[[0.0,\"#0d0887\"],[0.1111111111111111,\"#46039f\"],[0.2222222222222222,\"#7201a8\"],[0.3333333333333333,\"#9c179e\"],[0.4444444444444444,\"#bd3786\"],[0.5555555555555556,\"#d8576b\"],[0.6666666666666666,\"#ed7953\"],[0.7777777777777778,\"#fb9f3a\"],[0.8888888888888888,\"#fdca26\"],[1.0,\"#f0f921\"]]},\"colorway\":[\"#636efa\",\"#EF553B\",\"#00cc96\",\"#ab63fa\",\"#FFA15A\",\"#19d3f3\",\"#FF6692\",\"#B6E880\",\"#FF97FF\",\"#FECB52\"],\"font\":{\"color\":\"#f2f5fa\"},\"geo\":{\"bgcolor\":\"rgb(17,17,17)\",\"lakecolor\":\"rgb(17,17,17)\",\"landcolor\":\"rgb(17,17,17)\",\"showlakes\":true,\"showland\":true,\"subunitcolor\":\"#506784\"},\"hoverlabel\":{\"align\":\"left\"},\"hovermode\":\"closest\",\"mapbox\":{\"style\":\"dark\"},\"paper_bgcolor\":\"rgb(17,17,17)\",\"plot_bgcolor\":\"rgb(17,17,17)\",\"polar\":{\"angularaxis\":{\"gridcolor\":\"#506784\",\"linecolor\":\"#506784\",\"ticks\":\"\"},\"bgcolor\":\"rgb(17,17,17)\",\"radialaxis\":{\"gridcolor\":\"#506784\",\"linecolor\":\"#506784\",\"ticks\":\"\"}},\"scene\":{\"xaxis\":{\"backgroundcolor\":\"rgb(17,17,17)\",\"gridcolor\":\"#506784\",\"gridwidth\":2,\"linecolor\":\"#506784\",\"showbackground\":true,\"ticks\":\"\",\"zerolinecolor\":\"#C8D4E3\"},\"yaxis\":{\"backgroundcolor\":\"rgb(17,17,17)\",\"gridcolor\":\"#506784\",\"gridwidth\":2,\"linecolor\":\"#506784\",\"showbackground\":true,\"ticks\":\"\",\"zerolinecolor\":\"#C8D4E3\"},\"zaxis\":{\"backgroundcolor\":\"rgb(17,17,17)\",\"gridcolor\":\"#506784\",\"gridwidth\":2,\"linecolor\":\"#506784\",\"showbackground\":true,\"ticks\":\"\",\"zerolinecolor\":\"#C8D4E3\"}},\"shapedefaults\":{\"line\":{\"color\":\"#f2f5fa\"}},\"sliderdefaults\":{\"bgcolor\":\"#C8D4E3\",\"bordercolor\":\"rgb(17,17,17)\",\"borderwidth\":1,\"tickwidth\":0},\"ternary\":{\"aaxis\":{\"gridcolor\":\"#506784\",\"linecolor\":\"#506784\",\"ticks\":\"\"},\"baxis\":{\"gridcolor\":\"#506784\",\"linecolor\":\"#506784\",\"ticks\":\"\"},\"bgcolor\":\"rgb(17,17,17)\",\"caxis\":{\"gridcolor\":\"#506784\",\"linecolor\":\"#506784\",\"ticks\":\"\"}},\"title\":{\"x\":0.05},\"updatemenudefaults\":{\"bgcolor\":\"#506784\",\"borderwidth\":0},\"xaxis\":{\"automargin\":true,\"gridcolor\":\"#283442\",\"linecolor\":\"#506784\",\"ticks\":\"\",\"title\":{\"standoff\":15},\"zerolinecolor\":\"#283442\",\"zerolinewidth\":2},\"yaxis\":{\"automargin\":true,\"gridcolor\":\"#283442\",\"linecolor\":\"#506784\",\"ticks\":\"\",\"title\":{\"standoff\":15},\"zerolinecolor\":\"#283442\",\"zerolinewidth\":2}}},\"xaxis\":{\"anchor\":\"y\",\"domain\":[0.0,1.0],\"title\":{\"text\":\"Date\"},\"tickangle\":45},\"yaxis\":{\"anchor\":\"x\",\"domain\":[0.0,1.0],\"title\":{\"text\":\"New cases\"}},\"legend\":{\"title\":{\"text\":\"Country\\u002fRegion\"},\"tracegroupgap\":0},\"title\":{\"text\":\"Top 6 Countries in New cases\"},\"barmode\":\"relative\"},                        {\"responsive\": true}                    ).then(function(){\n",
       "                            \n",
       "var gd = document.getElementById('d0dc9705-f0f4-4d10-8da0-615b55c59ffa');\n",
       "var x = new MutationObserver(function (mutations, observer) {{\n",
       "        var display = window.getComputedStyle(gd).display;\n",
       "        if (!display || display === 'none') {{\n",
       "            console.log([gd, 'removed!']);\n",
       "            Plotly.purge(gd);\n",
       "            observer.disconnect();\n",
       "        }}\n",
       "}});\n",
       "\n",
       "// Listen for the removal of the full notebook cells\n",
       "var notebookContainer = gd.closest('#notebook-container');\n",
       "if (notebookContainer) {{\n",
       "    x.observe(notebookContainer, {childList: true});\n",
       "}}\n",
       "\n",
       "// Listen for the clearing of the current output cell\n",
       "var outputEl = gd.closest('.output');\n",
       "if (outputEl) {{\n",
       "    x.observe(outputEl, {childList: true});\n",
       "}}\n",
       "\n",
       "                        })                };                });            </script>        </div>"
      ]
     },
     "metadata": {},
     "output_type": "display_data"
    },
    {
     "data": {
      "text/html": [
       "<div>                            <div id=\"72eaab5a-3012-45b8-857f-92ce957c08b1\" class=\"plotly-graph-div\" style=\"height:525px; width:100%;\"></div>            <script type=\"text/javascript\">                require([\"plotly\"], function(Plotly) {                    window.PLOTLYENV=window.PLOTLYENV || {};                                    if (document.getElementById(\"72eaab5a-3012-45b8-857f-92ce957c08b1\")) {                    Plotly.newPlot(                        \"72eaab5a-3012-45b8-857f-92ce957c08b1\",                        [{\"alignmentgroup\":\"True\",\"hovertemplate\":\"Country\\u002fRegion=Brazil\\u003cbr\\u003eDate=%{x}\\u003cbr\\u003eNew deaths=%{y}\\u003cextra\\u003e\\u003c\\u002fextra\\u003e\",\"legendgroup\":\"Brazil\",\"marker\":{\"color\":\"#636efa\",\"pattern\":{\"shape\":\"\"}},\"name\":\"Brazil\",\"offsetgroup\":\"Brazil\",\"orientation\":\"v\",\"showlegend\":true,\"textposition\":\"auto\",\"x\":[\"2020-01-22T00:00:00\",\"2020-01-24T00:00:00\",\"2020-01-26T00:00:00\",\"2020-01-28T00:00:00\",\"2020-01-30T00:00:00\",\"2020-02-02T00:00:00\",\"2020-02-04T00:00:00\",\"2020-02-06T00:00:00\",\"2020-02-08T00:00:00\",\"2020-02-10T00:00:00\",\"2020-02-12T00:00:00\",\"2020-02-14T00:00:00\",\"2020-02-16T00:00:00\",\"2020-02-18T00:00:00\",\"2020-02-20T00:00:00\",\"2020-02-22T00:00:00\",\"2020-02-24T00:00:00\",\"2020-02-26T00:00:00\",\"2020-02-28T00:00:00\",\"2020-03-02T00:00:00\",\"2020-03-04T00:00:00\",\"2020-03-06T00:00:00\",\"2020-03-08T00:00:00\",\"2020-03-10T00:00:00\",\"2020-03-12T00:00:00\",\"2020-03-14T00:00:00\",\"2020-03-16T00:00:00\",\"2020-03-18T00:00:00\",\"2020-03-20T00:00:00\",\"2020-03-22T00:00:00\",\"2020-03-24T00:00:00\",\"2020-03-26T00:00:00\",\"2020-03-28T00:00:00\",\"2020-03-30T00:00:00\",\"2020-04-02T00:00:00\",\"2020-04-04T00:00:00\",\"2020-04-06T00:00:00\",\"2020-04-08T00:00:00\",\"2020-04-10T00:00:00\",\"2020-04-12T00:00:00\",\"2020-04-14T00:00:00\",\"2020-04-16T00:00:00\",\"2020-04-18T00:00:00\",\"2020-04-20T00:00:00\",\"2020-04-22T00:00:00\",\"2020-04-24T00:00:00\",\"2020-04-26T00:00:00\",\"2020-04-28T00:00:00\",\"2020-04-30T00:00:00\",\"2020-05-02T00:00:00\",\"2020-05-04T00:00:00\",\"2020-05-06T00:00:00\",\"2020-05-08T00:00:00\",\"2020-05-10T00:00:00\",\"2020-05-12T00:00:00\",\"2020-05-14T00:00:00\",\"2020-05-16T00:00:00\",\"2020-05-18T00:00:00\",\"2020-05-20T00:00:00\",\"2020-05-22T00:00:00\",\"2020-05-24T00:00:00\",\"2020-05-26T00:00:00\",\"2020-05-28T00:00:00\",\"2020-05-30T00:00:00\",\"2020-06-02T00:00:00\",\"2020-06-04T00:00:00\",\"2020-06-06T00:00:00\",\"2020-06-08T00:00:00\",\"2020-06-10T00:00:00\",\"2020-06-12T00:00:00\",\"2020-06-14T00:00:00\",\"2020-06-16T00:00:00\",\"2020-06-18T00:00:00\",\"2020-06-20T00:00:00\",\"2020-06-22T00:00:00\",\"2020-06-24T00:00:00\",\"2020-06-26T00:00:00\",\"2020-06-28T00:00:00\",\"2020-06-30T00:00:00\",\"2020-07-02T00:00:00\",\"2020-07-04T00:00:00\",\"2020-07-06T00:00:00\",\"2020-07-08T00:00:00\",\"2020-07-10T00:00:00\",\"2020-07-12T00:00:00\",\"2020-07-14T00:00:00\",\"2020-07-16T00:00:00\",\"2020-07-18T00:00:00\",\"2020-07-20T00:00:00\",\"2020-07-22T00:00:00\",\"2020-07-24T00:00:00\",\"2020-07-26T00:00:00\"],\"xaxis\":\"x\",\"y\":[0,0,0,0,0,0,0,0,0,0,0,0,0,0,0,0,0,0,0,0,0,0,0,0,0,0,0,2,5,10,12,18,19,23,84,86,78,133,107,99,204,188,213,125,165,373,229,480,493,349,316,650,827,467,808,759,700,735,876,1001,653,1039,1156,956,1262,1473,904,679,1274,909,612,1282,1238,1022,680,1185,990,552,1280,1252,1091,620,1223,1214,631,1300,1322,921,632,1284,1156,555],\"yaxis\":\"y\",\"type\":\"bar\"},{\"alignmentgroup\":\"True\",\"hovertemplate\":\"Country\\u002fRegion=France\\u003cbr\\u003eDate=%{x}\\u003cbr\\u003eNew deaths=%{y}\\u003cextra\\u003e\\u003c\\u002fextra\\u003e\",\"legendgroup\":\"France\",\"marker\":{\"color\":\"#EF553B\",\"pattern\":{\"shape\":\"\"}},\"name\":\"France\",\"offsetgroup\":\"France\",\"orientation\":\"v\",\"showlegend\":true,\"textposition\":\"auto\",\"x\":[\"2020-01-22T00:00:00\",\"2020-01-24T00:00:00\",\"2020-01-26T00:00:00\",\"2020-01-28T00:00:00\",\"2020-01-30T00:00:00\",\"2020-02-02T00:00:00\",\"2020-02-04T00:00:00\",\"2020-02-06T00:00:00\",\"2020-02-08T00:00:00\",\"2020-02-10T00:00:00\",\"2020-02-12T00:00:00\",\"2020-02-14T00:00:00\",\"2020-02-16T00:00:00\",\"2020-02-18T00:00:00\",\"2020-02-20T00:00:00\",\"2020-02-22T00:00:00\",\"2020-02-24T00:00:00\",\"2020-02-26T00:00:00\",\"2020-02-28T00:00:00\",\"2020-03-02T00:00:00\",\"2020-03-04T00:00:00\",\"2020-03-06T00:00:00\",\"2020-03-08T00:00:00\",\"2020-03-10T00:00:00\",\"2020-03-12T00:00:00\",\"2020-03-14T00:00:00\",\"2020-03-16T00:00:00\",\"2020-03-18T00:00:00\",\"2020-03-20T00:00:00\",\"2020-03-22T00:00:00\",\"2020-03-24T00:00:00\",\"2020-03-26T00:00:00\",\"2020-03-28T00:00:00\",\"2020-03-30T00:00:00\",\"2020-04-02T00:00:00\",\"2020-04-04T00:00:00\",\"2020-04-06T00:00:00\",\"2020-04-08T00:00:00\",\"2020-04-10T00:00:00\",\"2020-04-12T00:00:00\",\"2020-04-14T00:00:00\",\"2020-04-16T00:00:00\",\"2020-04-18T00:00:00\",\"2020-04-20T00:00:00\",\"2020-04-22T00:00:00\",\"2020-04-24T00:00:00\",\"2020-04-26T00:00:00\",\"2020-04-28T00:00:00\",\"2020-04-30T00:00:00\",\"2020-05-02T00:00:00\",\"2020-05-04T00:00:00\",\"2020-05-06T00:00:00\",\"2020-05-08T00:00:00\",\"2020-05-10T00:00:00\",\"2020-05-12T00:00:00\",\"2020-05-14T00:00:00\",\"2020-05-16T00:00:00\",\"2020-05-18T00:00:00\",\"2020-05-20T00:00:00\",\"2020-05-22T00:00:00\",\"2020-05-24T00:00:00\",\"2020-05-26T00:00:00\",\"2020-05-28T00:00:00\",\"2020-05-30T00:00:00\",\"2020-06-02T00:00:00\",\"2020-06-04T00:00:00\",\"2020-06-06T00:00:00\",\"2020-06-08T00:00:00\",\"2020-06-10T00:00:00\",\"2020-06-12T00:00:00\",\"2020-06-14T00:00:00\",\"2020-06-16T00:00:00\",\"2020-06-18T00:00:00\",\"2020-06-20T00:00:00\",\"2020-06-22T00:00:00\",\"2020-06-24T00:00:00\",\"2020-06-26T00:00:00\",\"2020-06-28T00:00:00\",\"2020-06-30T00:00:00\",\"2020-07-02T00:00:00\",\"2020-07-04T00:00:00\",\"2020-07-06T00:00:00\",\"2020-07-08T00:00:00\",\"2020-07-10T00:00:00\",\"2020-07-12T00:00:00\",\"2020-07-14T00:00:00\",\"2020-07-16T00:00:00\",\"2020-07-18T00:00:00\",\"2020-07-20T00:00:00\",\"2020-07-22T00:00:00\",\"2020-07-24T00:00:00\",\"2020-07-26T00:00:00\"],\"xaxis\":\"x\",\"y\":[0,0,0,0,0,0,0,0,0,0,0,0,0,0,0,0,0,1,0,1,0,3,8,14,0,12,58,0,207,113,240,365,320,419,984,1054,833,544,987,561,745,753,642,547,544,390,242,367,289,166,304,275,243,70,348,351,0,131,110,74,35,73,66,57,107,44,31,54,23,28,9,111,28,16,23,11,26,0,30,14,0,27,0,25,0,0,18,0,25,7,10,0],\"yaxis\":\"y\",\"type\":\"bar\"},{\"alignmentgroup\":\"True\",\"hovertemplate\":\"Country\\u002fRegion=India\\u003cbr\\u003eDate=%{x}\\u003cbr\\u003eNew deaths=%{y}\\u003cextra\\u003e\\u003c\\u002fextra\\u003e\",\"legendgroup\":\"India\",\"marker\":{\"color\":\"#00cc96\",\"pattern\":{\"shape\":\"\"}},\"name\":\"India\",\"offsetgroup\":\"India\",\"orientation\":\"v\",\"showlegend\":true,\"textposition\":\"auto\",\"x\":[\"2020-01-22T00:00:00\",\"2020-01-24T00:00:00\",\"2020-01-26T00:00:00\",\"2020-01-28T00:00:00\",\"2020-01-30T00:00:00\",\"2020-02-02T00:00:00\",\"2020-02-04T00:00:00\",\"2020-02-06T00:00:00\",\"2020-02-08T00:00:00\",\"2020-02-10T00:00:00\",\"2020-02-12T00:00:00\",\"2020-02-14T00:00:00\",\"2020-02-16T00:00:00\",\"2020-02-18T00:00:00\",\"2020-02-20T00:00:00\",\"2020-02-22T00:00:00\",\"2020-02-24T00:00:00\",\"2020-02-26T00:00:00\",\"2020-02-28T00:00:00\",\"2020-03-02T00:00:00\",\"2020-03-04T00:00:00\",\"2020-03-06T00:00:00\",\"2020-03-08T00:00:00\",\"2020-03-10T00:00:00\",\"2020-03-12T00:00:00\",\"2020-03-14T00:00:00\",\"2020-03-16T00:00:00\",\"2020-03-18T00:00:00\",\"2020-03-20T00:00:00\",\"2020-03-22T00:00:00\",\"2020-03-24T00:00:00\",\"2020-03-26T00:00:00\",\"2020-03-28T00:00:00\",\"2020-03-30T00:00:00\",\"2020-04-02T00:00:00\",\"2020-04-04T00:00:00\",\"2020-04-06T00:00:00\",\"2020-04-08T00:00:00\",\"2020-04-10T00:00:00\",\"2020-04-12T00:00:00\",\"2020-04-14T00:00:00\",\"2020-04-16T00:00:00\",\"2020-04-18T00:00:00\",\"2020-04-20T00:00:00\",\"2020-04-22T00:00:00\",\"2020-04-24T00:00:00\",\"2020-04-26T00:00:00\",\"2020-04-28T00:00:00\",\"2020-04-30T00:00:00\",\"2020-05-02T00:00:00\",\"2020-05-04T00:00:00\",\"2020-05-06T00:00:00\",\"2020-05-08T00:00:00\",\"2020-05-10T00:00:00\",\"2020-05-12T00:00:00\",\"2020-05-14T00:00:00\",\"2020-05-16T00:00:00\",\"2020-05-18T00:00:00\",\"2020-05-20T00:00:00\",\"2020-05-22T00:00:00\",\"2020-05-24T00:00:00\",\"2020-05-26T00:00:00\",\"2020-05-28T00:00:00\",\"2020-05-30T00:00:00\",\"2020-06-02T00:00:00\",\"2020-06-04T00:00:00\",\"2020-06-06T00:00:00\",\"2020-06-08T00:00:00\",\"2020-06-10T00:00:00\",\"2020-06-12T00:00:00\",\"2020-06-14T00:00:00\",\"2020-06-16T00:00:00\",\"2020-06-18T00:00:00\",\"2020-06-20T00:00:00\",\"2020-06-22T00:00:00\",\"2020-06-24T00:00:00\",\"2020-06-26T00:00:00\",\"2020-06-28T00:00:00\",\"2020-06-30T00:00:00\",\"2020-07-02T00:00:00\",\"2020-07-04T00:00:00\",\"2020-07-06T00:00:00\",\"2020-07-08T00:00:00\",\"2020-07-10T00:00:00\",\"2020-07-12T00:00:00\",\"2020-07-14T00:00:00\",\"2020-07-16T00:00:00\",\"2020-07-18T00:00:00\",\"2020-07-20T00:00:00\",\"2020-07-22T00:00:00\",\"2020-07-24T00:00:00\",\"2020-07-26T00:00:00\"],\"xaxis\":\"x\",\"y\":[0,0,0,0,0,0,0,0,0,0,0,0,0,0,0,0,0,0,0,0,0,0,0,0,0,0,0,0,1,3,0,8,4,5,14,14,37,28,20,43,35,43,35,33,36,59,56,69,75,100,175,92,96,111,121,98,118,131,132,142,156,172,177,205,221,275,297,266,352,386,325,2003,336,306,312,418,384,380,507,379,613,466,487,519,501,582,688,543,585,1129,757,711],\"yaxis\":\"y\",\"type\":\"bar\"},{\"alignmentgroup\":\"True\",\"hovertemplate\":\"Country\\u002fRegion=Mexico\\u003cbr\\u003eDate=%{x}\\u003cbr\\u003eNew deaths=%{y}\\u003cextra\\u003e\\u003c\\u002fextra\\u003e\",\"legendgroup\":\"Mexico\",\"marker\":{\"color\":\"#ab63fa\",\"pattern\":{\"shape\":\"\"}},\"name\":\"Mexico\",\"offsetgroup\":\"Mexico\",\"orientation\":\"v\",\"showlegend\":true,\"textposition\":\"auto\",\"x\":[\"2020-01-22T00:00:00\",\"2020-01-24T00:00:00\",\"2020-01-26T00:00:00\",\"2020-01-28T00:00:00\",\"2020-01-30T00:00:00\",\"2020-02-02T00:00:00\",\"2020-02-04T00:00:00\",\"2020-02-06T00:00:00\",\"2020-02-08T00:00:00\",\"2020-02-10T00:00:00\",\"2020-02-12T00:00:00\",\"2020-02-14T00:00:00\",\"2020-02-16T00:00:00\",\"2020-02-18T00:00:00\",\"2020-02-20T00:00:00\",\"2020-02-22T00:00:00\",\"2020-02-24T00:00:00\",\"2020-02-26T00:00:00\",\"2020-02-28T00:00:00\",\"2020-03-02T00:00:00\",\"2020-03-04T00:00:00\",\"2020-03-06T00:00:00\",\"2020-03-08T00:00:00\",\"2020-03-10T00:00:00\",\"2020-03-12T00:00:00\",\"2020-03-14T00:00:00\",\"2020-03-16T00:00:00\",\"2020-03-18T00:00:00\",\"2020-03-20T00:00:00\",\"2020-03-22T00:00:00\",\"2020-03-24T00:00:00\",\"2020-03-26T00:00:00\",\"2020-03-28T00:00:00\",\"2020-03-30T00:00:00\",\"2020-04-02T00:00:00\",\"2020-04-04T00:00:00\",\"2020-04-06T00:00:00\",\"2020-04-08T00:00:00\",\"2020-04-10T00:00:00\",\"2020-04-12T00:00:00\",\"2020-04-14T00:00:00\",\"2020-04-16T00:00:00\",\"2020-04-18T00:00:00\",\"2020-04-20T00:00:00\",\"2020-04-22T00:00:00\",\"2020-04-24T00:00:00\",\"2020-04-26T00:00:00\",\"2020-04-28T00:00:00\",\"2020-04-30T00:00:00\",\"2020-05-02T00:00:00\",\"2020-05-04T00:00:00\",\"2020-05-06T00:00:00\",\"2020-05-08T00:00:00\",\"2020-05-10T00:00:00\",\"2020-05-12T00:00:00\",\"2020-05-14T00:00:00\",\"2020-05-16T00:00:00\",\"2020-05-18T00:00:00\",\"2020-05-20T00:00:00\",\"2020-05-22T00:00:00\",\"2020-05-24T00:00:00\",\"2020-05-26T00:00:00\",\"2020-05-28T00:00:00\",\"2020-05-30T00:00:00\",\"2020-06-02T00:00:00\",\"2020-06-04T00:00:00\",\"2020-06-06T00:00:00\",\"2020-06-08T00:00:00\",\"2020-06-10T00:00:00\",\"2020-06-12T00:00:00\",\"2020-06-14T00:00:00\",\"2020-06-16T00:00:00\",\"2020-06-18T00:00:00\",\"2020-06-20T00:00:00\",\"2020-06-22T00:00:00\",\"2020-06-24T00:00:00\",\"2020-06-26T00:00:00\",\"2020-06-28T00:00:00\",\"2020-06-30T00:00:00\",\"2020-07-02T00:00:00\",\"2020-07-04T00:00:00\",\"2020-07-06T00:00:00\",\"2020-07-08T00:00:00\",\"2020-07-10T00:00:00\",\"2020-07-12T00:00:00\",\"2020-07-14T00:00:00\",\"2020-07-16T00:00:00\",\"2020-07-18T00:00:00\",\"2020-07-20T00:00:00\",\"2020-07-22T00:00:00\",\"2020-07-24T00:00:00\",\"2020-07-26T00:00:00\"],\"xaxis\":\"x\",\"y\":[0,0,0,0,0,0,0,0,0,0,0,0,0,0,0,0,0,0,0,0,0,0,0,0,0,0,0,0,1,1,1,2,4,8,13,19,31,33,39,23,74,37,104,26,113,152,46,135,127,89,117,197,199,112,353,257,278,155,424,479,215,501,447,364,470,816,341,354,708,504,269,730,667,387,759,947,719,267,648,679,523,480,782,665,276,836,668,578,301,790,737,1035],\"yaxis\":\"y\",\"type\":\"bar\"},{\"alignmentgroup\":\"True\",\"hovertemplate\":\"Country\\u002fRegion=US\\u003cbr\\u003eDate=%{x}\\u003cbr\\u003eNew deaths=%{y}\\u003cextra\\u003e\\u003c\\u002fextra\\u003e\",\"legendgroup\":\"US\",\"marker\":{\"color\":\"#FFA15A\",\"pattern\":{\"shape\":\"\"}},\"name\":\"US\",\"offsetgroup\":\"US\",\"orientation\":\"v\",\"showlegend\":true,\"textposition\":\"auto\",\"x\":[\"2020-01-22T00:00:00\",\"2020-01-24T00:00:00\",\"2020-01-26T00:00:00\",\"2020-01-28T00:00:00\",\"2020-01-30T00:00:00\",\"2020-02-02T00:00:00\",\"2020-02-04T00:00:00\",\"2020-02-06T00:00:00\",\"2020-02-08T00:00:00\",\"2020-02-10T00:00:00\",\"2020-02-12T00:00:00\",\"2020-02-14T00:00:00\",\"2020-02-16T00:00:00\",\"2020-02-18T00:00:00\",\"2020-02-20T00:00:00\",\"2020-02-22T00:00:00\",\"2020-02-24T00:00:00\",\"2020-02-26T00:00:00\",\"2020-02-28T00:00:00\",\"2020-03-02T00:00:00\",\"2020-03-04T00:00:00\",\"2020-03-06T00:00:00\",\"2020-03-08T00:00:00\",\"2020-03-10T00:00:00\",\"2020-03-12T00:00:00\",\"2020-03-14T00:00:00\",\"2020-03-16T00:00:00\",\"2020-03-18T00:00:00\",\"2020-03-20T00:00:00\",\"2020-03-22T00:00:00\",\"2020-03-24T00:00:00\",\"2020-03-26T00:00:00\",\"2020-03-28T00:00:00\",\"2020-03-30T00:00:00\",\"2020-04-02T00:00:00\",\"2020-04-04T00:00:00\",\"2020-04-06T00:00:00\",\"2020-04-08T00:00:00\",\"2020-04-10T00:00:00\",\"2020-04-12T00:00:00\",\"2020-04-14T00:00:00\",\"2020-04-16T00:00:00\",\"2020-04-18T00:00:00\",\"2020-04-20T00:00:00\",\"2020-04-22T00:00:00\",\"2020-04-24T00:00:00\",\"2020-04-26T00:00:00\",\"2020-04-28T00:00:00\",\"2020-04-30T00:00:00\",\"2020-05-02T00:00:00\",\"2020-05-04T00:00:00\",\"2020-05-06T00:00:00\",\"2020-05-08T00:00:00\",\"2020-05-10T00:00:00\",\"2020-05-12T00:00:00\",\"2020-05-14T00:00:00\",\"2020-05-16T00:00:00\",\"2020-05-18T00:00:00\",\"2020-05-20T00:00:00\",\"2020-05-22T00:00:00\",\"2020-05-24T00:00:00\",\"2020-05-26T00:00:00\",\"2020-05-28T00:00:00\",\"2020-05-30T00:00:00\",\"2020-06-02T00:00:00\",\"2020-06-04T00:00:00\",\"2020-06-06T00:00:00\",\"2020-06-08T00:00:00\",\"2020-06-10T00:00:00\",\"2020-06-12T00:00:00\",\"2020-06-14T00:00:00\",\"2020-06-16T00:00:00\",\"2020-06-18T00:00:00\",\"2020-06-20T00:00:00\",\"2020-06-22T00:00:00\",\"2020-06-24T00:00:00\",\"2020-06-26T00:00:00\",\"2020-06-28T00:00:00\",\"2020-06-30T00:00:00\",\"2020-07-02T00:00:00\",\"2020-07-04T00:00:00\",\"2020-07-06T00:00:00\",\"2020-07-08T00:00:00\",\"2020-07-10T00:00:00\",\"2020-07-12T00:00:00\",\"2020-07-14T00:00:00\",\"2020-07-16T00:00:00\",\"2020-07-18T00:00:00\",\"2020-07-20T00:00:00\",\"2020-07-22T00:00:00\",\"2020-07-24T00:00:00\",\"2020-07-26T00:00:00\"],\"xaxis\":\"x\",\"y\":[0,0,0,0,0,0,0,0,0,0,0,0,0,0,0,0,0,0,0,5,4,2,4,6,10,6,27,57,97,145,237,413,634,820,1586,1284,1668,2116,2093,1771,2404,2113,2386,1795,2389,2118,1293,2219,2296,1556,1309,2458,1727,879,1615,1774,1223,770,1568,1269,608,685,1182,969,1033,1009,680,505,917,822,298,839,704,610,406,757,605,241,721,698,247,325,820,811,428,900,943,853,491,1195,1130,470],\"yaxis\":\"y\",\"type\":\"bar\"},{\"alignmentgroup\":\"True\",\"hovertemplate\":\"Country\\u002fRegion=United Kingdom\\u003cbr\\u003eDate=%{x}\\u003cbr\\u003eNew deaths=%{y}\\u003cextra\\u003e\\u003c\\u002fextra\\u003e\",\"legendgroup\":\"United Kingdom\",\"marker\":{\"color\":\"#19d3f3\",\"pattern\":{\"shape\":\"\"}},\"name\":\"United Kingdom\",\"offsetgroup\":\"United Kingdom\",\"orientation\":\"v\",\"showlegend\":true,\"textposition\":\"auto\",\"x\":[\"2020-01-22T00:00:00\",\"2020-01-24T00:00:00\",\"2020-01-26T00:00:00\",\"2020-01-28T00:00:00\",\"2020-01-30T00:00:00\",\"2020-02-02T00:00:00\",\"2020-02-04T00:00:00\",\"2020-02-06T00:00:00\",\"2020-02-08T00:00:00\",\"2020-02-10T00:00:00\",\"2020-02-12T00:00:00\",\"2020-02-14T00:00:00\",\"2020-02-16T00:00:00\",\"2020-02-18T00:00:00\",\"2020-02-20T00:00:00\",\"2020-02-22T00:00:00\",\"2020-02-24T00:00:00\",\"2020-02-26T00:00:00\",\"2020-02-28T00:00:00\",\"2020-03-02T00:00:00\",\"2020-03-04T00:00:00\",\"2020-03-06T00:00:00\",\"2020-03-08T00:00:00\",\"2020-03-10T00:00:00\",\"2020-03-12T00:00:00\",\"2020-03-14T00:00:00\",\"2020-03-16T00:00:00\",\"2020-03-18T00:00:00\",\"2020-03-20T00:00:00\",\"2020-03-22T00:00:00\",\"2020-03-24T00:00:00\",\"2020-03-26T00:00:00\",\"2020-03-28T00:00:00\",\"2020-03-30T00:00:00\",\"2020-04-02T00:00:00\",\"2020-04-04T00:00:00\",\"2020-04-06T00:00:00\",\"2020-04-08T00:00:00\",\"2020-04-10T00:00:00\",\"2020-04-12T00:00:00\",\"2020-04-14T00:00:00\",\"2020-04-16T00:00:00\",\"2020-04-18T00:00:00\",\"2020-04-20T00:00:00\",\"2020-04-22T00:00:00\",\"2020-04-24T00:00:00\",\"2020-04-26T00:00:00\",\"2020-04-28T00:00:00\",\"2020-04-30T00:00:00\",\"2020-05-02T00:00:00\",\"2020-05-04T00:00:00\",\"2020-05-06T00:00:00\",\"2020-05-08T00:00:00\",\"2020-05-10T00:00:00\",\"2020-05-12T00:00:00\",\"2020-05-14T00:00:00\",\"2020-05-16T00:00:00\",\"2020-05-18T00:00:00\",\"2020-05-20T00:00:00\",\"2020-05-22T00:00:00\",\"2020-05-24T00:00:00\",\"2020-05-26T00:00:00\",\"2020-05-28T00:00:00\",\"2020-05-30T00:00:00\",\"2020-06-02T00:00:00\",\"2020-06-04T00:00:00\",\"2020-06-06T00:00:00\",\"2020-06-08T00:00:00\",\"2020-06-10T00:00:00\",\"2020-06-12T00:00:00\",\"2020-06-14T00:00:00\",\"2020-06-16T00:00:00\",\"2020-06-18T00:00:00\",\"2020-06-20T00:00:00\",\"2020-06-22T00:00:00\",\"2020-06-24T00:00:00\",\"2020-06-26T00:00:00\",\"2020-06-28T00:00:00\",\"2020-06-30T00:00:00\",\"2020-07-02T00:00:00\",\"2020-07-04T00:00:00\",\"2020-07-06T00:00:00\",\"2020-07-08T00:00:00\",\"2020-07-10T00:00:00\",\"2020-07-12T00:00:00\",\"2020-07-14T00:00:00\",\"2020-07-16T00:00:00\",\"2020-07-18T00:00:00\",\"2020-07-20T00:00:00\",\"2020-07-22T00:00:00\",\"2020-07-24T00:00:00\",\"2020-07-26T00:00:00\"],\"xaxis\":\"x\",\"y\":[0,0,0,0,0,0,0,0,0,0,0,0,0,0,0,0,0,0,0,0,0,1,0,4,2,18,23,34,36,35,149,184,294,374,652,761,571,1036,1153,686,1051,1033,1118,565,847,1014,420,913,676,622,289,652,628,269,631,429,480,160,370,358,441,136,416,230,327,177,207,55,250,204,36,236,137,130,14,154,184,36,156,89,67,16,126,48,21,138,66,40,12,79,123,14],\"yaxis\":\"y\",\"type\":\"bar\"}],                        {\"template\":{\"data\":{\"barpolar\":[{\"marker\":{\"line\":{\"color\":\"rgb(17,17,17)\",\"width\":0.5},\"pattern\":{\"fillmode\":\"overlay\",\"size\":10,\"solidity\":0.2}},\"type\":\"barpolar\"}],\"bar\":[{\"error_x\":{\"color\":\"#f2f5fa\"},\"error_y\":{\"color\":\"#f2f5fa\"},\"marker\":{\"line\":{\"color\":\"rgb(17,17,17)\",\"width\":0.5},\"pattern\":{\"fillmode\":\"overlay\",\"size\":10,\"solidity\":0.2}},\"type\":\"bar\"}],\"carpet\":[{\"aaxis\":{\"endlinecolor\":\"#A2B1C6\",\"gridcolor\":\"#506784\",\"linecolor\":\"#506784\",\"minorgridcolor\":\"#506784\",\"startlinecolor\":\"#A2B1C6\"},\"baxis\":{\"endlinecolor\":\"#A2B1C6\",\"gridcolor\":\"#506784\",\"linecolor\":\"#506784\",\"minorgridcolor\":\"#506784\",\"startlinecolor\":\"#A2B1C6\"},\"type\":\"carpet\"}],\"choropleth\":[{\"colorbar\":{\"outlinewidth\":0,\"ticks\":\"\"},\"type\":\"choropleth\"}],\"contourcarpet\":[{\"colorbar\":{\"outlinewidth\":0,\"ticks\":\"\"},\"type\":\"contourcarpet\"}],\"contour\":[{\"colorbar\":{\"outlinewidth\":0,\"ticks\":\"\"},\"colorscale\":[[0.0,\"#0d0887\"],[0.1111111111111111,\"#46039f\"],[0.2222222222222222,\"#7201a8\"],[0.3333333333333333,\"#9c179e\"],[0.4444444444444444,\"#bd3786\"],[0.5555555555555556,\"#d8576b\"],[0.6666666666666666,\"#ed7953\"],[0.7777777777777778,\"#fb9f3a\"],[0.8888888888888888,\"#fdca26\"],[1.0,\"#f0f921\"]],\"type\":\"contour\"}],\"heatmapgl\":[{\"colorbar\":{\"outlinewidth\":0,\"ticks\":\"\"},\"colorscale\":[[0.0,\"#0d0887\"],[0.1111111111111111,\"#46039f\"],[0.2222222222222222,\"#7201a8\"],[0.3333333333333333,\"#9c179e\"],[0.4444444444444444,\"#bd3786\"],[0.5555555555555556,\"#d8576b\"],[0.6666666666666666,\"#ed7953\"],[0.7777777777777778,\"#fb9f3a\"],[0.8888888888888888,\"#fdca26\"],[1.0,\"#f0f921\"]],\"type\":\"heatmapgl\"}],\"heatmap\":[{\"colorbar\":{\"outlinewidth\":0,\"ticks\":\"\"},\"colorscale\":[[0.0,\"#0d0887\"],[0.1111111111111111,\"#46039f\"],[0.2222222222222222,\"#7201a8\"],[0.3333333333333333,\"#9c179e\"],[0.4444444444444444,\"#bd3786\"],[0.5555555555555556,\"#d8576b\"],[0.6666666666666666,\"#ed7953\"],[0.7777777777777778,\"#fb9f3a\"],[0.8888888888888888,\"#fdca26\"],[1.0,\"#f0f921\"]],\"type\":\"heatmap\"}],\"histogram2dcontour\":[{\"colorbar\":{\"outlinewidth\":0,\"ticks\":\"\"},\"colorscale\":[[0.0,\"#0d0887\"],[0.1111111111111111,\"#46039f\"],[0.2222222222222222,\"#7201a8\"],[0.3333333333333333,\"#9c179e\"],[0.4444444444444444,\"#bd3786\"],[0.5555555555555556,\"#d8576b\"],[0.6666666666666666,\"#ed7953\"],[0.7777777777777778,\"#fb9f3a\"],[0.8888888888888888,\"#fdca26\"],[1.0,\"#f0f921\"]],\"type\":\"histogram2dcontour\"}],\"histogram2d\":[{\"colorbar\":{\"outlinewidth\":0,\"ticks\":\"\"},\"colorscale\":[[0.0,\"#0d0887\"],[0.1111111111111111,\"#46039f\"],[0.2222222222222222,\"#7201a8\"],[0.3333333333333333,\"#9c179e\"],[0.4444444444444444,\"#bd3786\"],[0.5555555555555556,\"#d8576b\"],[0.6666666666666666,\"#ed7953\"],[0.7777777777777778,\"#fb9f3a\"],[0.8888888888888888,\"#fdca26\"],[1.0,\"#f0f921\"]],\"type\":\"histogram2d\"}],\"histogram\":[{\"marker\":{\"pattern\":{\"fillmode\":\"overlay\",\"size\":10,\"solidity\":0.2}},\"type\":\"histogram\"}],\"mesh3d\":[{\"colorbar\":{\"outlinewidth\":0,\"ticks\":\"\"},\"type\":\"mesh3d\"}],\"parcoords\":[{\"line\":{\"colorbar\":{\"outlinewidth\":0,\"ticks\":\"\"}},\"type\":\"parcoords\"}],\"pie\":[{\"automargin\":true,\"type\":\"pie\"}],\"scatter3d\":[{\"line\":{\"colorbar\":{\"outlinewidth\":0,\"ticks\":\"\"}},\"marker\":{\"colorbar\":{\"outlinewidth\":0,\"ticks\":\"\"}},\"type\":\"scatter3d\"}],\"scattercarpet\":[{\"marker\":{\"colorbar\":{\"outlinewidth\":0,\"ticks\":\"\"}},\"type\":\"scattercarpet\"}],\"scattergeo\":[{\"marker\":{\"colorbar\":{\"outlinewidth\":0,\"ticks\":\"\"}},\"type\":\"scattergeo\"}],\"scattergl\":[{\"marker\":{\"line\":{\"color\":\"#283442\"}},\"type\":\"scattergl\"}],\"scattermapbox\":[{\"marker\":{\"colorbar\":{\"outlinewidth\":0,\"ticks\":\"\"}},\"type\":\"scattermapbox\"}],\"scatterpolargl\":[{\"marker\":{\"colorbar\":{\"outlinewidth\":0,\"ticks\":\"\"}},\"type\":\"scatterpolargl\"}],\"scatterpolar\":[{\"marker\":{\"colorbar\":{\"outlinewidth\":0,\"ticks\":\"\"}},\"type\":\"scatterpolar\"}],\"scatter\":[{\"marker\":{\"line\":{\"color\":\"#283442\"}},\"type\":\"scatter\"}],\"scatterternary\":[{\"marker\":{\"colorbar\":{\"outlinewidth\":0,\"ticks\":\"\"}},\"type\":\"scatterternary\"}],\"surface\":[{\"colorbar\":{\"outlinewidth\":0,\"ticks\":\"\"},\"colorscale\":[[0.0,\"#0d0887\"],[0.1111111111111111,\"#46039f\"],[0.2222222222222222,\"#7201a8\"],[0.3333333333333333,\"#9c179e\"],[0.4444444444444444,\"#bd3786\"],[0.5555555555555556,\"#d8576b\"],[0.6666666666666666,\"#ed7953\"],[0.7777777777777778,\"#fb9f3a\"],[0.8888888888888888,\"#fdca26\"],[1.0,\"#f0f921\"]],\"type\":\"surface\"}],\"table\":[{\"cells\":{\"fill\":{\"color\":\"#506784\"},\"line\":{\"color\":\"rgb(17,17,17)\"}},\"header\":{\"fill\":{\"color\":\"#2a3f5f\"},\"line\":{\"color\":\"rgb(17,17,17)\"}},\"type\":\"table\"}]},\"layout\":{\"annotationdefaults\":{\"arrowcolor\":\"#f2f5fa\",\"arrowhead\":0,\"arrowwidth\":1},\"autotypenumbers\":\"strict\",\"coloraxis\":{\"colorbar\":{\"outlinewidth\":0,\"ticks\":\"\"}},\"colorscale\":{\"diverging\":[[0,\"#8e0152\"],[0.1,\"#c51b7d\"],[0.2,\"#de77ae\"],[0.3,\"#f1b6da\"],[0.4,\"#fde0ef\"],[0.5,\"#f7f7f7\"],[0.6,\"#e6f5d0\"],[0.7,\"#b8e186\"],[0.8,\"#7fbc41\"],[0.9,\"#4d9221\"],[1,\"#276419\"]],\"sequential\":[[0.0,\"#0d0887\"],[0.1111111111111111,\"#46039f\"],[0.2222222222222222,\"#7201a8\"],[0.3333333333333333,\"#9c179e\"],[0.4444444444444444,\"#bd3786\"],[0.5555555555555556,\"#d8576b\"],[0.6666666666666666,\"#ed7953\"],[0.7777777777777778,\"#fb9f3a\"],[0.8888888888888888,\"#fdca26\"],[1.0,\"#f0f921\"]],\"sequentialminus\":[[0.0,\"#0d0887\"],[0.1111111111111111,\"#46039f\"],[0.2222222222222222,\"#7201a8\"],[0.3333333333333333,\"#9c179e\"],[0.4444444444444444,\"#bd3786\"],[0.5555555555555556,\"#d8576b\"],[0.6666666666666666,\"#ed7953\"],[0.7777777777777778,\"#fb9f3a\"],[0.8888888888888888,\"#fdca26\"],[1.0,\"#f0f921\"]]},\"colorway\":[\"#636efa\",\"#EF553B\",\"#00cc96\",\"#ab63fa\",\"#FFA15A\",\"#19d3f3\",\"#FF6692\",\"#B6E880\",\"#FF97FF\",\"#FECB52\"],\"font\":{\"color\":\"#f2f5fa\"},\"geo\":{\"bgcolor\":\"rgb(17,17,17)\",\"lakecolor\":\"rgb(17,17,17)\",\"landcolor\":\"rgb(17,17,17)\",\"showlakes\":true,\"showland\":true,\"subunitcolor\":\"#506784\"},\"hoverlabel\":{\"align\":\"left\"},\"hovermode\":\"closest\",\"mapbox\":{\"style\":\"dark\"},\"paper_bgcolor\":\"rgb(17,17,17)\",\"plot_bgcolor\":\"rgb(17,17,17)\",\"polar\":{\"angularaxis\":{\"gridcolor\":\"#506784\",\"linecolor\":\"#506784\",\"ticks\":\"\"},\"bgcolor\":\"rgb(17,17,17)\",\"radialaxis\":{\"gridcolor\":\"#506784\",\"linecolor\":\"#506784\",\"ticks\":\"\"}},\"scene\":{\"xaxis\":{\"backgroundcolor\":\"rgb(17,17,17)\",\"gridcolor\":\"#506784\",\"gridwidth\":2,\"linecolor\":\"#506784\",\"showbackground\":true,\"ticks\":\"\",\"zerolinecolor\":\"#C8D4E3\"},\"yaxis\":{\"backgroundcolor\":\"rgb(17,17,17)\",\"gridcolor\":\"#506784\",\"gridwidth\":2,\"linecolor\":\"#506784\",\"showbackground\":true,\"ticks\":\"\",\"zerolinecolor\":\"#C8D4E3\"},\"zaxis\":{\"backgroundcolor\":\"rgb(17,17,17)\",\"gridcolor\":\"#506784\",\"gridwidth\":2,\"linecolor\":\"#506784\",\"showbackground\":true,\"ticks\":\"\",\"zerolinecolor\":\"#C8D4E3\"}},\"shapedefaults\":{\"line\":{\"color\":\"#f2f5fa\"}},\"sliderdefaults\":{\"bgcolor\":\"#C8D4E3\",\"bordercolor\":\"rgb(17,17,17)\",\"borderwidth\":1,\"tickwidth\":0},\"ternary\":{\"aaxis\":{\"gridcolor\":\"#506784\",\"linecolor\":\"#506784\",\"ticks\":\"\"},\"baxis\":{\"gridcolor\":\"#506784\",\"linecolor\":\"#506784\",\"ticks\":\"\"},\"bgcolor\":\"rgb(17,17,17)\",\"caxis\":{\"gridcolor\":\"#506784\",\"linecolor\":\"#506784\",\"ticks\":\"\"}},\"title\":{\"x\":0.05},\"updatemenudefaults\":{\"bgcolor\":\"#506784\",\"borderwidth\":0},\"xaxis\":{\"automargin\":true,\"gridcolor\":\"#283442\",\"linecolor\":\"#506784\",\"ticks\":\"\",\"title\":{\"standoff\":15},\"zerolinecolor\":\"#283442\",\"zerolinewidth\":2},\"yaxis\":{\"automargin\":true,\"gridcolor\":\"#283442\",\"linecolor\":\"#506784\",\"ticks\":\"\",\"title\":{\"standoff\":15},\"zerolinecolor\":\"#283442\",\"zerolinewidth\":2}}},\"xaxis\":{\"anchor\":\"y\",\"domain\":[0.0,1.0],\"title\":{\"text\":\"Date\"},\"tickangle\":45},\"yaxis\":{\"anchor\":\"x\",\"domain\":[0.0,1.0],\"title\":{\"text\":\"New deaths\"}},\"legend\":{\"title\":{\"text\":\"Country\\u002fRegion\"},\"tracegroupgap\":0},\"title\":{\"text\":\"Top 6 Countries in New deaths\"},\"barmode\":\"relative\"},                        {\"responsive\": true}                    ).then(function(){\n",
       "                            \n",
       "var gd = document.getElementById('72eaab5a-3012-45b8-857f-92ce957c08b1');\n",
       "var x = new MutationObserver(function (mutations, observer) {{\n",
       "        var display = window.getComputedStyle(gd).display;\n",
       "        if (!display || display === 'none') {{\n",
       "            console.log([gd, 'removed!']);\n",
       "            Plotly.purge(gd);\n",
       "            observer.disconnect();\n",
       "        }}\n",
       "}});\n",
       "\n",
       "// Listen for the removal of the full notebook cells\n",
       "var notebookContainer = gd.closest('#notebook-container');\n",
       "if (notebookContainer) {{\n",
       "    x.observe(notebookContainer, {childList: true});\n",
       "}}\n",
       "\n",
       "// Listen for the clearing of the current output cell\n",
       "var outputEl = gd.closest('.output');\n",
       "if (outputEl) {{\n",
       "    x.observe(outputEl, {childList: true});\n",
       "}}\n",
       "\n",
       "                        })                };                });            </script>        </div>"
      ]
     },
     "metadata": {},
     "output_type": "display_data"
    },
    {
     "data": {
      "text/html": [
       "<div>                            <div id=\"e631da6d-6ced-4c70-9587-f2f88216675a\" class=\"plotly-graph-div\" style=\"height:525px; width:100%;\"></div>            <script type=\"text/javascript\">                require([\"plotly\"], function(Plotly) {                    window.PLOTLYENV=window.PLOTLYENV || {};                                    if (document.getElementById(\"e631da6d-6ced-4c70-9587-f2f88216675a\")) {                    Plotly.newPlot(                        \"e631da6d-6ced-4c70-9587-f2f88216675a\",                        [{\"alignmentgroup\":\"True\",\"hovertemplate\":\"Country\\u002fRegion=Brazil\\u003cbr\\u003eDate=%{x}\\u003cbr\\u003eNew recovered=%{y}\\u003cextra\\u003e\\u003c\\u002fextra\\u003e\",\"legendgroup\":\"Brazil\",\"marker\":{\"color\":\"#636efa\",\"pattern\":{\"shape\":\"\"}},\"name\":\"Brazil\",\"offsetgroup\":\"Brazil\",\"orientation\":\"v\",\"showlegend\":true,\"textposition\":\"auto\",\"x\":[\"2020-01-22T00:00:00\",\"2020-01-24T00:00:00\",\"2020-01-26T00:00:00\",\"2020-01-28T00:00:00\",\"2020-01-30T00:00:00\",\"2020-02-02T00:00:00\",\"2020-02-04T00:00:00\",\"2020-02-06T00:00:00\",\"2020-02-08T00:00:00\",\"2020-02-10T00:00:00\",\"2020-02-12T00:00:00\",\"2020-02-14T00:00:00\",\"2020-02-16T00:00:00\",\"2020-02-18T00:00:00\",\"2020-02-20T00:00:00\",\"2020-02-22T00:00:00\",\"2020-02-24T00:00:00\",\"2020-02-26T00:00:00\",\"2020-02-28T00:00:00\",\"2020-03-02T00:00:00\",\"2020-03-04T00:00:00\",\"2020-03-06T00:00:00\",\"2020-03-08T00:00:00\",\"2020-03-10T00:00:00\",\"2020-03-12T00:00:00\",\"2020-03-14T00:00:00\",\"2020-03-16T00:00:00\",\"2020-03-18T00:00:00\",\"2020-03-20T00:00:00\",\"2020-03-22T00:00:00\",\"2020-03-24T00:00:00\",\"2020-03-26T00:00:00\",\"2020-03-28T00:00:00\",\"2020-03-30T00:00:00\",\"2020-04-02T00:00:00\",\"2020-04-04T00:00:00\",\"2020-04-06T00:00:00\",\"2020-04-08T00:00:00\",\"2020-04-10T00:00:00\",\"2020-04-12T00:00:00\",\"2020-04-14T00:00:00\",\"2020-04-16T00:00:00\",\"2020-04-18T00:00:00\",\"2020-04-20T00:00:00\",\"2020-04-22T00:00:00\",\"2020-04-24T00:00:00\",\"2020-04-26T00:00:00\",\"2020-04-28T00:00:00\",\"2020-04-30T00:00:00\",\"2020-05-02T00:00:00\",\"2020-05-04T00:00:00\",\"2020-05-06T00:00:00\",\"2020-05-08T00:00:00\",\"2020-05-10T00:00:00\",\"2020-05-12T00:00:00\",\"2020-05-14T00:00:00\",\"2020-05-16T00:00:00\",\"2020-05-18T00:00:00\",\"2020-05-20T00:00:00\",\"2020-05-22T00:00:00\",\"2020-05-24T00:00:00\",\"2020-05-26T00:00:00\",\"2020-05-28T00:00:00\",\"2020-05-30T00:00:00\",\"2020-06-02T00:00:00\",\"2020-06-04T00:00:00\",\"2020-06-06T00:00:00\",\"2020-06-08T00:00:00\",\"2020-06-10T00:00:00\",\"2020-06-12T00:00:00\",\"2020-06-14T00:00:00\",\"2020-06-16T00:00:00\",\"2020-06-18T00:00:00\",\"2020-06-20T00:00:00\",\"2020-06-22T00:00:00\",\"2020-06-24T00:00:00\",\"2020-06-26T00:00:00\",\"2020-06-28T00:00:00\",\"2020-06-30T00:00:00\",\"2020-07-02T00:00:00\",\"2020-07-04T00:00:00\",\"2020-07-06T00:00:00\",\"2020-07-08T00:00:00\",\"2020-07-10T00:00:00\",\"2020-07-12T00:00:00\",\"2020-07-14T00:00:00\",\"2020-07-16T00:00:00\",\"2020-07-18T00:00:00\",\"2020-07-20T00:00:00\",\"2020-07-22T00:00:00\",\"2020-07-24T00:00:00\",\"2020-07-26T00:00:00\"],\"xaxis\":\"x\",\"y\":[0,0,0,0,0,0,0,0,0,0,0,0,0,0,0,0,0,0,0,0,0,0,0,0,0,0,1,0,0,0,0,4,0,114,0,0,0,0,0,0,2873,0,0,0,2327,1082,992,1402,1803,2898,2824,3149,3947,3272,5213,1055,4702,6337,9889,9470,7324,4760,10957,11416,12558,16346,10209,94305,17179,15158,9705,12296,13534,25148,13618,32506,22875,18303,30507,140050,6116,33497,32832,45914,20755,32174,47433,18888,55228,36636,72901,27554],\"yaxis\":\"y\",\"type\":\"bar\"},{\"alignmentgroup\":\"True\",\"hovertemplate\":\"Country\\u002fRegion=Chile\\u003cbr\\u003eDate=%{x}\\u003cbr\\u003eNew recovered=%{y}\\u003cextra\\u003e\\u003c\\u002fextra\\u003e\",\"legendgroup\":\"Chile\",\"marker\":{\"color\":\"#EF553B\",\"pattern\":{\"shape\":\"\"}},\"name\":\"Chile\",\"offsetgroup\":\"Chile\",\"orientation\":\"v\",\"showlegend\":true,\"textposition\":\"auto\",\"x\":[\"2020-01-22T00:00:00\",\"2020-01-24T00:00:00\",\"2020-01-26T00:00:00\",\"2020-01-28T00:00:00\",\"2020-01-30T00:00:00\",\"2020-02-02T00:00:00\",\"2020-02-04T00:00:00\",\"2020-02-06T00:00:00\",\"2020-02-08T00:00:00\",\"2020-02-10T00:00:00\",\"2020-02-12T00:00:00\",\"2020-02-14T00:00:00\",\"2020-02-16T00:00:00\",\"2020-02-18T00:00:00\",\"2020-02-20T00:00:00\",\"2020-02-22T00:00:00\",\"2020-02-24T00:00:00\",\"2020-02-26T00:00:00\",\"2020-02-28T00:00:00\",\"2020-03-02T00:00:00\",\"2020-03-04T00:00:00\",\"2020-03-06T00:00:00\",\"2020-03-08T00:00:00\",\"2020-03-10T00:00:00\",\"2020-03-12T00:00:00\",\"2020-03-14T00:00:00\",\"2020-03-16T00:00:00\",\"2020-03-18T00:00:00\",\"2020-03-20T00:00:00\",\"2020-03-22T00:00:00\",\"2020-03-24T00:00:00\",\"2020-03-26T00:00:00\",\"2020-03-28T00:00:00\",\"2020-03-30T00:00:00\",\"2020-04-02T00:00:00\",\"2020-04-04T00:00:00\",\"2020-04-06T00:00:00\",\"2020-04-08T00:00:00\",\"2020-04-10T00:00:00\",\"2020-04-12T00:00:00\",\"2020-04-14T00:00:00\",\"2020-04-16T00:00:00\",\"2020-04-18T00:00:00\",\"2020-04-20T00:00:00\",\"2020-04-22T00:00:00\",\"2020-04-24T00:00:00\",\"2020-04-26T00:00:00\",\"2020-04-28T00:00:00\",\"2020-04-30T00:00:00\",\"2020-05-02T00:00:00\",\"2020-05-04T00:00:00\",\"2020-05-06T00:00:00\",\"2020-05-08T00:00:00\",\"2020-05-10T00:00:00\",\"2020-05-12T00:00:00\",\"2020-05-14T00:00:00\",\"2020-05-16T00:00:00\",\"2020-05-18T00:00:00\",\"2020-05-20T00:00:00\",\"2020-05-22T00:00:00\",\"2020-05-24T00:00:00\",\"2020-05-26T00:00:00\",\"2020-05-28T00:00:00\",\"2020-05-30T00:00:00\",\"2020-06-02T00:00:00\",\"2020-06-04T00:00:00\",\"2020-06-06T00:00:00\",\"2020-06-08T00:00:00\",\"2020-06-10T00:00:00\",\"2020-06-12T00:00:00\",\"2020-06-14T00:00:00\",\"2020-06-16T00:00:00\",\"2020-06-18T00:00:00\",\"2020-06-20T00:00:00\",\"2020-06-22T00:00:00\",\"2020-06-24T00:00:00\",\"2020-06-26T00:00:00\",\"2020-06-28T00:00:00\",\"2020-06-30T00:00:00\",\"2020-07-02T00:00:00\",\"2020-07-04T00:00:00\",\"2020-07-06T00:00:00\",\"2020-07-08T00:00:00\",\"2020-07-10T00:00:00\",\"2020-07-12T00:00:00\",\"2020-07-14T00:00:00\",\"2020-07-16T00:00:00\",\"2020-07-18T00:00:00\",\"2020-07-20T00:00:00\",\"2020-07-22T00:00:00\",\"2020-07-24T00:00:00\",\"2020-07-26T00:00:00\"],\"xaxis\":\"x\",\"y\":[0,0,0,0,0,0,0,0,0,0,0,0,0,0,0,0,0,0,0,0,0,0,0,0,0,0,0,0,6,2,9,0,18,81,101,101,110,217,297,195,279,362,414,338,417,523,278,383,523,554,374,479,496,445,520,790,1400,952,997,1350,1602,1613,2575,1833,41227,4883,4459,4098,4419,4914,6408,7440,4510,5118,4828,4523,4104,4155,5075,3804,4108,3339,3490,3131,2788,2664,3216,2635,2198,2425,2265,1926],\"yaxis\":\"y\",\"type\":\"bar\"},{\"alignmentgroup\":\"True\",\"hovertemplate\":\"Country\\u002fRegion=India\\u003cbr\\u003eDate=%{x}\\u003cbr\\u003eNew recovered=%{y}\\u003cextra\\u003e\\u003c\\u002fextra\\u003e\",\"legendgroup\":\"India\",\"marker\":{\"color\":\"#00cc96\",\"pattern\":{\"shape\":\"\"}},\"name\":\"India\",\"offsetgroup\":\"India\",\"orientation\":\"v\",\"showlegend\":true,\"textposition\":\"auto\",\"x\":[\"2020-01-22T00:00:00\",\"2020-01-24T00:00:00\",\"2020-01-26T00:00:00\",\"2020-01-28T00:00:00\",\"2020-01-30T00:00:00\",\"2020-02-02T00:00:00\",\"2020-02-04T00:00:00\",\"2020-02-06T00:00:00\",\"2020-02-08T00:00:00\",\"2020-02-10T00:00:00\",\"2020-02-12T00:00:00\",\"2020-02-14T00:00:00\",\"2020-02-16T00:00:00\",\"2020-02-18T00:00:00\",\"2020-02-20T00:00:00\",\"2020-02-22T00:00:00\",\"2020-02-24T00:00:00\",\"2020-02-26T00:00:00\",\"2020-02-28T00:00:00\",\"2020-03-02T00:00:00\",\"2020-03-04T00:00:00\",\"2020-03-06T00:00:00\",\"2020-03-08T00:00:00\",\"2020-03-10T00:00:00\",\"2020-03-12T00:00:00\",\"2020-03-14T00:00:00\",\"2020-03-16T00:00:00\",\"2020-03-18T00:00:00\",\"2020-03-20T00:00:00\",\"2020-03-22T00:00:00\",\"2020-03-24T00:00:00\",\"2020-03-26T00:00:00\",\"2020-03-28T00:00:00\",\"2020-03-30T00:00:00\",\"2020-04-02T00:00:00\",\"2020-04-04T00:00:00\",\"2020-04-06T00:00:00\",\"2020-04-08T00:00:00\",\"2020-04-10T00:00:00\",\"2020-04-12T00:00:00\",\"2020-04-14T00:00:00\",\"2020-04-16T00:00:00\",\"2020-04-18T00:00:00\",\"2020-04-20T00:00:00\",\"2020-04-22T00:00:00\",\"2020-04-24T00:00:00\",\"2020-04-26T00:00:00\",\"2020-04-28T00:00:00\",\"2020-04-30T00:00:00\",\"2020-05-02T00:00:00\",\"2020-05-04T00:00:00\",\"2020-05-06T00:00:00\",\"2020-05-08T00:00:00\",\"2020-05-10T00:00:00\",\"2020-05-12T00:00:00\",\"2020-05-14T00:00:00\",\"2020-05-16T00:00:00\",\"2020-05-18T00:00:00\",\"2020-05-20T00:00:00\",\"2020-05-22T00:00:00\",\"2020-05-24T00:00:00\",\"2020-05-26T00:00:00\",\"2020-05-28T00:00:00\",\"2020-05-30T00:00:00\",\"2020-06-02T00:00:00\",\"2020-06-04T00:00:00\",\"2020-06-06T00:00:00\",\"2020-06-08T00:00:00\",\"2020-06-10T00:00:00\",\"2020-06-12T00:00:00\",\"2020-06-14T00:00:00\",\"2020-06-16T00:00:00\",\"2020-06-18T00:00:00\",\"2020-06-20T00:00:00\",\"2020-06-22T00:00:00\",\"2020-06-24T00:00:00\",\"2020-06-26T00:00:00\",\"2020-06-28T00:00:00\",\"2020-06-30T00:00:00\",\"2020-07-02T00:00:00\",\"2020-07-04T00:00:00\",\"2020-07-06T00:00:00\",\"2020-07-08T00:00:00\",\"2020-07-10T00:00:00\",\"2020-07-12T00:00:00\",\"2020-07-14T00:00:00\",\"2020-07-16T00:00:00\",\"2020-07-18T00:00:00\",\"2020-07-20T00:00:00\",\"2020-07-22T00:00:00\",\"2020-07-24T00:00:00\",\"2020-07-26T00:00:00\"],\"xaxis\":\"x\",\"y\":[0,0,0,0,0,0,0,0,0,0,0,0,3,0,0,0,0,0,0,0,0,0,0,1,0,0,0,0,5,4,13,2,11,7,43,37,146,85,154,111,178,336,422,419,395,486,584,610,631,812,1072,1189,1111,1668,1871,1569,3966,2438,3113,3271,3307,3571,3171,4309,4531,4379,5462,5247,536,7135,7419,6922,10386,13897,10994,13012,10244,12010,13090,20032,14856,15501,19547,19873,18853,20572,22989,23672,24491,29557,32223,31995],\"yaxis\":\"y\",\"type\":\"bar\"},{\"alignmentgroup\":\"True\",\"hovertemplate\":\"Country\\u002fRegion=Kazakhstan\\u003cbr\\u003eDate=%{x}\\u003cbr\\u003eNew recovered=%{y}\\u003cextra\\u003e\\u003c\\u002fextra\\u003e\",\"legendgroup\":\"Kazakhstan\",\"marker\":{\"color\":\"#ab63fa\",\"pattern\":{\"shape\":\"\"}},\"name\":\"Kazakhstan\",\"offsetgroup\":\"Kazakhstan\",\"orientation\":\"v\",\"showlegend\":true,\"textposition\":\"auto\",\"x\":[\"2020-01-22T00:00:00\",\"2020-01-24T00:00:00\",\"2020-01-26T00:00:00\",\"2020-01-28T00:00:00\",\"2020-01-30T00:00:00\",\"2020-02-02T00:00:00\",\"2020-02-04T00:00:00\",\"2020-02-06T00:00:00\",\"2020-02-08T00:00:00\",\"2020-02-10T00:00:00\",\"2020-02-12T00:00:00\",\"2020-02-14T00:00:00\",\"2020-02-16T00:00:00\",\"2020-02-18T00:00:00\",\"2020-02-20T00:00:00\",\"2020-02-22T00:00:00\",\"2020-02-24T00:00:00\",\"2020-02-26T00:00:00\",\"2020-02-28T00:00:00\",\"2020-03-02T00:00:00\",\"2020-03-04T00:00:00\",\"2020-03-06T00:00:00\",\"2020-03-08T00:00:00\",\"2020-03-10T00:00:00\",\"2020-03-12T00:00:00\",\"2020-03-14T00:00:00\",\"2020-03-16T00:00:00\",\"2020-03-18T00:00:00\",\"2020-03-20T00:00:00\",\"2020-03-22T00:00:00\",\"2020-03-24T00:00:00\",\"2020-03-26T00:00:00\",\"2020-03-28T00:00:00\",\"2020-03-30T00:00:00\",\"2020-04-02T00:00:00\",\"2020-04-04T00:00:00\",\"2020-04-06T00:00:00\",\"2020-04-08T00:00:00\",\"2020-04-10T00:00:00\",\"2020-04-12T00:00:00\",\"2020-04-14T00:00:00\",\"2020-04-16T00:00:00\",\"2020-04-18T00:00:00\",\"2020-04-20T00:00:00\",\"2020-04-22T00:00:00\",\"2020-04-24T00:00:00\",\"2020-04-26T00:00:00\",\"2020-04-28T00:00:00\",\"2020-04-30T00:00:00\",\"2020-05-02T00:00:00\",\"2020-05-04T00:00:00\",\"2020-05-06T00:00:00\",\"2020-05-08T00:00:00\",\"2020-05-10T00:00:00\",\"2020-05-12T00:00:00\",\"2020-05-14T00:00:00\",\"2020-05-16T00:00:00\",\"2020-05-18T00:00:00\",\"2020-05-20T00:00:00\",\"2020-05-22T00:00:00\",\"2020-05-24T00:00:00\",\"2020-05-26T00:00:00\",\"2020-05-28T00:00:00\",\"2020-05-30T00:00:00\",\"2020-06-02T00:00:00\",\"2020-06-04T00:00:00\",\"2020-06-06T00:00:00\",\"2020-06-08T00:00:00\",\"2020-06-10T00:00:00\",\"2020-06-12T00:00:00\",\"2020-06-14T00:00:00\",\"2020-06-16T00:00:00\",\"2020-06-18T00:00:00\",\"2020-06-20T00:00:00\",\"2020-06-22T00:00:00\",\"2020-06-24T00:00:00\",\"2020-06-26T00:00:00\",\"2020-06-28T00:00:00\",\"2020-06-30T00:00:00\",\"2020-07-02T00:00:00\",\"2020-07-04T00:00:00\",\"2020-07-06T00:00:00\",\"2020-07-08T00:00:00\",\"2020-07-10T00:00:00\",\"2020-07-12T00:00:00\",\"2020-07-14T00:00:00\",\"2020-07-16T00:00:00\",\"2020-07-18T00:00:00\",\"2020-07-20T00:00:00\",\"2020-07-22T00:00:00\",\"2020-07-24T00:00:00\",\"2020-07-26T00:00:00\"],\"xaxis\":\"x\",\"y\":[0,0,0,0,0,0,0,0,0,0,0,0,0,0,0,0,0,0,0,0,0,0,0,0,0,0,0,0,0,0,0,2,13,1,1,7,4,3,4,18,65,37,30,47,26,44,36,54,47,63,89,129,113,165,149,123,273,213,136,253,138,98,132,163,354,366,232,0,330,236,359,259,145,260,261,368,328,195,550,718,280,0,18839,-2637,0,2097,1190,0,372,0,1772,748],\"yaxis\":\"y\",\"type\":\"bar\"},{\"alignmentgroup\":\"True\",\"hovertemplate\":\"Country\\u002fRegion=South Africa\\u003cbr\\u003eDate=%{x}\\u003cbr\\u003eNew recovered=%{y}\\u003cextra\\u003e\\u003c\\u002fextra\\u003e\",\"legendgroup\":\"South Africa\",\"marker\":{\"color\":\"#FFA15A\",\"pattern\":{\"shape\":\"\"}},\"name\":\"South Africa\",\"offsetgroup\":\"South Africa\",\"orientation\":\"v\",\"showlegend\":true,\"textposition\":\"auto\",\"x\":[\"2020-01-22T00:00:00\",\"2020-01-24T00:00:00\",\"2020-01-26T00:00:00\",\"2020-01-28T00:00:00\",\"2020-01-30T00:00:00\",\"2020-02-02T00:00:00\",\"2020-02-04T00:00:00\",\"2020-02-06T00:00:00\",\"2020-02-08T00:00:00\",\"2020-02-10T00:00:00\",\"2020-02-12T00:00:00\",\"2020-02-14T00:00:00\",\"2020-02-16T00:00:00\",\"2020-02-18T00:00:00\",\"2020-02-20T00:00:00\",\"2020-02-22T00:00:00\",\"2020-02-24T00:00:00\",\"2020-02-26T00:00:00\",\"2020-02-28T00:00:00\",\"2020-03-02T00:00:00\",\"2020-03-04T00:00:00\",\"2020-03-06T00:00:00\",\"2020-03-08T00:00:00\",\"2020-03-10T00:00:00\",\"2020-03-12T00:00:00\",\"2020-03-14T00:00:00\",\"2020-03-16T00:00:00\",\"2020-03-18T00:00:00\",\"2020-03-20T00:00:00\",\"2020-03-22T00:00:00\",\"2020-03-24T00:00:00\",\"2020-03-26T00:00:00\",\"2020-03-28T00:00:00\",\"2020-03-30T00:00:00\",\"2020-04-02T00:00:00\",\"2020-04-04T00:00:00\",\"2020-04-06T00:00:00\",\"2020-04-08T00:00:00\",\"2020-04-10T00:00:00\",\"2020-04-12T00:00:00\",\"2020-04-14T00:00:00\",\"2020-04-16T00:00:00\",\"2020-04-18T00:00:00\",\"2020-04-20T00:00:00\",\"2020-04-22T00:00:00\",\"2020-04-24T00:00:00\",\"2020-04-26T00:00:00\",\"2020-04-28T00:00:00\",\"2020-04-30T00:00:00\",\"2020-05-02T00:00:00\",\"2020-05-04T00:00:00\",\"2020-05-06T00:00:00\",\"2020-05-08T00:00:00\",\"2020-05-10T00:00:00\",\"2020-05-12T00:00:00\",\"2020-05-14T00:00:00\",\"2020-05-16T00:00:00\",\"2020-05-18T00:00:00\",\"2020-05-20T00:00:00\",\"2020-05-22T00:00:00\",\"2020-05-24T00:00:00\",\"2020-05-26T00:00:00\",\"2020-05-28T00:00:00\",\"2020-05-30T00:00:00\",\"2020-06-02T00:00:00\",\"2020-06-04T00:00:00\",\"2020-06-06T00:00:00\",\"2020-06-08T00:00:00\",\"2020-06-10T00:00:00\",\"2020-06-12T00:00:00\",\"2020-06-14T00:00:00\",\"2020-06-16T00:00:00\",\"2020-06-18T00:00:00\",\"2020-06-20T00:00:00\",\"2020-06-22T00:00:00\",\"2020-06-24T00:00:00\",\"2020-06-26T00:00:00\",\"2020-06-28T00:00:00\",\"2020-06-30T00:00:00\",\"2020-07-02T00:00:00\",\"2020-07-04T00:00:00\",\"2020-07-06T00:00:00\",\"2020-07-08T00:00:00\",\"2020-07-10T00:00:00\",\"2020-07-12T00:00:00\",\"2020-07-14T00:00:00\",\"2020-07-16T00:00:00\",\"2020-07-18T00:00:00\",\"2020-07-20T00:00:00\",\"2020-07-22T00:00:00\",\"2020-07-24T00:00:00\",\"2020-07-26T00:00:00\"],\"xaxis\":\"x\",\"y\":[0,0,0,0,0,0,0,0,0,0,0,0,0,0,0,0,0,0,0,0,0,0,0,0,0,0,0,0,0,0,4,0,0,0,0,0,0,0,315,0,0,493,0,152,0,0,0,600,0,167,197,407,0,190,0,931,395,292,990,1154,996,824,919,1023,1022,1629,1170,1735,2499,1754,1681,2196,589,2501,1836,1829,4137,1831,2929,5974,4929,4533,4543,5171,7159,8038,4898,4047,3806,21031,9511,2023],\"yaxis\":\"y\",\"type\":\"bar\"},{\"alignmentgroup\":\"True\",\"hovertemplate\":\"Country\\u002fRegion=US\\u003cbr\\u003eDate=%{x}\\u003cbr\\u003eNew recovered=%{y}\\u003cextra\\u003e\\u003c\\u002fextra\\u003e\",\"legendgroup\":\"US\",\"marker\":{\"color\":\"#19d3f3\",\"pattern\":{\"shape\":\"\"}},\"name\":\"US\",\"offsetgroup\":\"US\",\"orientation\":\"v\",\"showlegend\":true,\"textposition\":\"auto\",\"x\":[\"2020-01-22T00:00:00\",\"2020-01-24T00:00:00\",\"2020-01-26T00:00:00\",\"2020-01-28T00:00:00\",\"2020-01-30T00:00:00\",\"2020-02-02T00:00:00\",\"2020-02-04T00:00:00\",\"2020-02-06T00:00:00\",\"2020-02-08T00:00:00\",\"2020-02-10T00:00:00\",\"2020-02-12T00:00:00\",\"2020-02-14T00:00:00\",\"2020-02-16T00:00:00\",\"2020-02-18T00:00:00\",\"2020-02-20T00:00:00\",\"2020-02-22T00:00:00\",\"2020-02-24T00:00:00\",\"2020-02-26T00:00:00\",\"2020-02-28T00:00:00\",\"2020-03-02T00:00:00\",\"2020-03-04T00:00:00\",\"2020-03-06T00:00:00\",\"2020-03-08T00:00:00\",\"2020-03-10T00:00:00\",\"2020-03-12T00:00:00\",\"2020-03-14T00:00:00\",\"2020-03-16T00:00:00\",\"2020-03-18T00:00:00\",\"2020-03-20T00:00:00\",\"2020-03-22T00:00:00\",\"2020-03-24T00:00:00\",\"2020-03-26T00:00:00\",\"2020-03-28T00:00:00\",\"2020-03-30T00:00:00\",\"2020-04-02T00:00:00\",\"2020-04-04T00:00:00\",\"2020-04-06T00:00:00\",\"2020-04-08T00:00:00\",\"2020-04-10T00:00:00\",\"2020-04-12T00:00:00\",\"2020-04-14T00:00:00\",\"2020-04-16T00:00:00\",\"2020-04-18T00:00:00\",\"2020-04-20T00:00:00\",\"2020-04-22T00:00:00\",\"2020-04-24T00:00:00\",\"2020-04-26T00:00:00\",\"2020-04-28T00:00:00\",\"2020-04-30T00:00:00\",\"2020-05-02T00:00:00\",\"2020-05-04T00:00:00\",\"2020-05-06T00:00:00\",\"2020-05-08T00:00:00\",\"2020-05-10T00:00:00\",\"2020-05-12T00:00:00\",\"2020-05-14T00:00:00\",\"2020-05-16T00:00:00\",\"2020-05-18T00:00:00\",\"2020-05-20T00:00:00\",\"2020-05-22T00:00:00\",\"2020-05-24T00:00:00\",\"2020-05-26T00:00:00\",\"2020-05-28T00:00:00\",\"2020-05-30T00:00:00\",\"2020-06-02T00:00:00\",\"2020-06-04T00:00:00\",\"2020-06-06T00:00:00\",\"2020-06-08T00:00:00\",\"2020-06-10T00:00:00\",\"2020-06-12T00:00:00\",\"2020-06-14T00:00:00\",\"2020-06-16T00:00:00\",\"2020-06-18T00:00:00\",\"2020-06-20T00:00:00\",\"2020-06-22T00:00:00\",\"2020-06-24T00:00:00\",\"2020-06-26T00:00:00\",\"2020-06-28T00:00:00\",\"2020-06-30T00:00:00\",\"2020-07-02T00:00:00\",\"2020-07-04T00:00:00\",\"2020-07-06T00:00:00\",\"2020-07-08T00:00:00\",\"2020-07-10T00:00:00\",\"2020-07-12T00:00:00\",\"2020-07-14T00:00:00\",\"2020-07-16T00:00:00\",\"2020-07-18T00:00:00\",\"2020-07-20T00:00:00\",\"2020-07-22T00:00:00\",\"2020-07-24T00:00:00\",\"2020-07-26T00:00:00\"],\"xaxis\":\"x\",\"y\":[0,0,0,0,0,0,0,0,0,0,0,0,0,0,0,0,0,0,1,0,0,0,0,1,4,0,5,88,26,2,170,320,203,2979,527,4945,2133,1796,3380,1718,4281,2607,6295,1992,2162,18876,6616,4512,33227,11367,7028,119,3957,3635,-2446,2984,17629,10913,4920,51717,5497,5745,8483,10015,5637,5744,9143,12155,8649,7094,5210,7169,6924,10745,18065,8613,7247,5856,15428,51976,103921,17385,16986,14074,10750,17159,14763,15516,28966,28831,28355,18449],\"yaxis\":\"y\",\"type\":\"bar\"}],                        {\"template\":{\"data\":{\"barpolar\":[{\"marker\":{\"line\":{\"color\":\"rgb(17,17,17)\",\"width\":0.5},\"pattern\":{\"fillmode\":\"overlay\",\"size\":10,\"solidity\":0.2}},\"type\":\"barpolar\"}],\"bar\":[{\"error_x\":{\"color\":\"#f2f5fa\"},\"error_y\":{\"color\":\"#f2f5fa\"},\"marker\":{\"line\":{\"color\":\"rgb(17,17,17)\",\"width\":0.5},\"pattern\":{\"fillmode\":\"overlay\",\"size\":10,\"solidity\":0.2}},\"type\":\"bar\"}],\"carpet\":[{\"aaxis\":{\"endlinecolor\":\"#A2B1C6\",\"gridcolor\":\"#506784\",\"linecolor\":\"#506784\",\"minorgridcolor\":\"#506784\",\"startlinecolor\":\"#A2B1C6\"},\"baxis\":{\"endlinecolor\":\"#A2B1C6\",\"gridcolor\":\"#506784\",\"linecolor\":\"#506784\",\"minorgridcolor\":\"#506784\",\"startlinecolor\":\"#A2B1C6\"},\"type\":\"carpet\"}],\"choropleth\":[{\"colorbar\":{\"outlinewidth\":0,\"ticks\":\"\"},\"type\":\"choropleth\"}],\"contourcarpet\":[{\"colorbar\":{\"outlinewidth\":0,\"ticks\":\"\"},\"type\":\"contourcarpet\"}],\"contour\":[{\"colorbar\":{\"outlinewidth\":0,\"ticks\":\"\"},\"colorscale\":[[0.0,\"#0d0887\"],[0.1111111111111111,\"#46039f\"],[0.2222222222222222,\"#7201a8\"],[0.3333333333333333,\"#9c179e\"],[0.4444444444444444,\"#bd3786\"],[0.5555555555555556,\"#d8576b\"],[0.6666666666666666,\"#ed7953\"],[0.7777777777777778,\"#fb9f3a\"],[0.8888888888888888,\"#fdca26\"],[1.0,\"#f0f921\"]],\"type\":\"contour\"}],\"heatmapgl\":[{\"colorbar\":{\"outlinewidth\":0,\"ticks\":\"\"},\"colorscale\":[[0.0,\"#0d0887\"],[0.1111111111111111,\"#46039f\"],[0.2222222222222222,\"#7201a8\"],[0.3333333333333333,\"#9c179e\"],[0.4444444444444444,\"#bd3786\"],[0.5555555555555556,\"#d8576b\"],[0.6666666666666666,\"#ed7953\"],[0.7777777777777778,\"#fb9f3a\"],[0.8888888888888888,\"#fdca26\"],[1.0,\"#f0f921\"]],\"type\":\"heatmapgl\"}],\"heatmap\":[{\"colorbar\":{\"outlinewidth\":0,\"ticks\":\"\"},\"colorscale\":[[0.0,\"#0d0887\"],[0.1111111111111111,\"#46039f\"],[0.2222222222222222,\"#7201a8\"],[0.3333333333333333,\"#9c179e\"],[0.4444444444444444,\"#bd3786\"],[0.5555555555555556,\"#d8576b\"],[0.6666666666666666,\"#ed7953\"],[0.7777777777777778,\"#fb9f3a\"],[0.8888888888888888,\"#fdca26\"],[1.0,\"#f0f921\"]],\"type\":\"heatmap\"}],\"histogram2dcontour\":[{\"colorbar\":{\"outlinewidth\":0,\"ticks\":\"\"},\"colorscale\":[[0.0,\"#0d0887\"],[0.1111111111111111,\"#46039f\"],[0.2222222222222222,\"#7201a8\"],[0.3333333333333333,\"#9c179e\"],[0.4444444444444444,\"#bd3786\"],[0.5555555555555556,\"#d8576b\"],[0.6666666666666666,\"#ed7953\"],[0.7777777777777778,\"#fb9f3a\"],[0.8888888888888888,\"#fdca26\"],[1.0,\"#f0f921\"]],\"type\":\"histogram2dcontour\"}],\"histogram2d\":[{\"colorbar\":{\"outlinewidth\":0,\"ticks\":\"\"},\"colorscale\":[[0.0,\"#0d0887\"],[0.1111111111111111,\"#46039f\"],[0.2222222222222222,\"#7201a8\"],[0.3333333333333333,\"#9c179e\"],[0.4444444444444444,\"#bd3786\"],[0.5555555555555556,\"#d8576b\"],[0.6666666666666666,\"#ed7953\"],[0.7777777777777778,\"#fb9f3a\"],[0.8888888888888888,\"#fdca26\"],[1.0,\"#f0f921\"]],\"type\":\"histogram2d\"}],\"histogram\":[{\"marker\":{\"pattern\":{\"fillmode\":\"overlay\",\"size\":10,\"solidity\":0.2}},\"type\":\"histogram\"}],\"mesh3d\":[{\"colorbar\":{\"outlinewidth\":0,\"ticks\":\"\"},\"type\":\"mesh3d\"}],\"parcoords\":[{\"line\":{\"colorbar\":{\"outlinewidth\":0,\"ticks\":\"\"}},\"type\":\"parcoords\"}],\"pie\":[{\"automargin\":true,\"type\":\"pie\"}],\"scatter3d\":[{\"line\":{\"colorbar\":{\"outlinewidth\":0,\"ticks\":\"\"}},\"marker\":{\"colorbar\":{\"outlinewidth\":0,\"ticks\":\"\"}},\"type\":\"scatter3d\"}],\"scattercarpet\":[{\"marker\":{\"colorbar\":{\"outlinewidth\":0,\"ticks\":\"\"}},\"type\":\"scattercarpet\"}],\"scattergeo\":[{\"marker\":{\"colorbar\":{\"outlinewidth\":0,\"ticks\":\"\"}},\"type\":\"scattergeo\"}],\"scattergl\":[{\"marker\":{\"line\":{\"color\":\"#283442\"}},\"type\":\"scattergl\"}],\"scattermapbox\":[{\"marker\":{\"colorbar\":{\"outlinewidth\":0,\"ticks\":\"\"}},\"type\":\"scattermapbox\"}],\"scatterpolargl\":[{\"marker\":{\"colorbar\":{\"outlinewidth\":0,\"ticks\":\"\"}},\"type\":\"scatterpolargl\"}],\"scatterpolar\":[{\"marker\":{\"colorbar\":{\"outlinewidth\":0,\"ticks\":\"\"}},\"type\":\"scatterpolar\"}],\"scatter\":[{\"marker\":{\"line\":{\"color\":\"#283442\"}},\"type\":\"scatter\"}],\"scatterternary\":[{\"marker\":{\"colorbar\":{\"outlinewidth\":0,\"ticks\":\"\"}},\"type\":\"scatterternary\"}],\"surface\":[{\"colorbar\":{\"outlinewidth\":0,\"ticks\":\"\"},\"colorscale\":[[0.0,\"#0d0887\"],[0.1111111111111111,\"#46039f\"],[0.2222222222222222,\"#7201a8\"],[0.3333333333333333,\"#9c179e\"],[0.4444444444444444,\"#bd3786\"],[0.5555555555555556,\"#d8576b\"],[0.6666666666666666,\"#ed7953\"],[0.7777777777777778,\"#fb9f3a\"],[0.8888888888888888,\"#fdca26\"],[1.0,\"#f0f921\"]],\"type\":\"surface\"}],\"table\":[{\"cells\":{\"fill\":{\"color\":\"#506784\"},\"line\":{\"color\":\"rgb(17,17,17)\"}},\"header\":{\"fill\":{\"color\":\"#2a3f5f\"},\"line\":{\"color\":\"rgb(17,17,17)\"}},\"type\":\"table\"}]},\"layout\":{\"annotationdefaults\":{\"arrowcolor\":\"#f2f5fa\",\"arrowhead\":0,\"arrowwidth\":1},\"autotypenumbers\":\"strict\",\"coloraxis\":{\"colorbar\":{\"outlinewidth\":0,\"ticks\":\"\"}},\"colorscale\":{\"diverging\":[[0,\"#8e0152\"],[0.1,\"#c51b7d\"],[0.2,\"#de77ae\"],[0.3,\"#f1b6da\"],[0.4,\"#fde0ef\"],[0.5,\"#f7f7f7\"],[0.6,\"#e6f5d0\"],[0.7,\"#b8e186\"],[0.8,\"#7fbc41\"],[0.9,\"#4d9221\"],[1,\"#276419\"]],\"sequential\":[[0.0,\"#0d0887\"],[0.1111111111111111,\"#46039f\"],[0.2222222222222222,\"#7201a8\"],[0.3333333333333333,\"#9c179e\"],[0.4444444444444444,\"#bd3786\"],[0.5555555555555556,\"#d8576b\"],[0.6666666666666666,\"#ed7953\"],[0.7777777777777778,\"#fb9f3a\"],[0.8888888888888888,\"#fdca26\"],[1.0,\"#f0f921\"]],\"sequentialminus\":[[0.0,\"#0d0887\"],[0.1111111111111111,\"#46039f\"],[0.2222222222222222,\"#7201a8\"],[0.3333333333333333,\"#9c179e\"],[0.4444444444444444,\"#bd3786\"],[0.5555555555555556,\"#d8576b\"],[0.6666666666666666,\"#ed7953\"],[0.7777777777777778,\"#fb9f3a\"],[0.8888888888888888,\"#fdca26\"],[1.0,\"#f0f921\"]]},\"colorway\":[\"#636efa\",\"#EF553B\",\"#00cc96\",\"#ab63fa\",\"#FFA15A\",\"#19d3f3\",\"#FF6692\",\"#B6E880\",\"#FF97FF\",\"#FECB52\"],\"font\":{\"color\":\"#f2f5fa\"},\"geo\":{\"bgcolor\":\"rgb(17,17,17)\",\"lakecolor\":\"rgb(17,17,17)\",\"landcolor\":\"rgb(17,17,17)\",\"showlakes\":true,\"showland\":true,\"subunitcolor\":\"#506784\"},\"hoverlabel\":{\"align\":\"left\"},\"hovermode\":\"closest\",\"mapbox\":{\"style\":\"dark\"},\"paper_bgcolor\":\"rgb(17,17,17)\",\"plot_bgcolor\":\"rgb(17,17,17)\",\"polar\":{\"angularaxis\":{\"gridcolor\":\"#506784\",\"linecolor\":\"#506784\",\"ticks\":\"\"},\"bgcolor\":\"rgb(17,17,17)\",\"radialaxis\":{\"gridcolor\":\"#506784\",\"linecolor\":\"#506784\",\"ticks\":\"\"}},\"scene\":{\"xaxis\":{\"backgroundcolor\":\"rgb(17,17,17)\",\"gridcolor\":\"#506784\",\"gridwidth\":2,\"linecolor\":\"#506784\",\"showbackground\":true,\"ticks\":\"\",\"zerolinecolor\":\"#C8D4E3\"},\"yaxis\":{\"backgroundcolor\":\"rgb(17,17,17)\",\"gridcolor\":\"#506784\",\"gridwidth\":2,\"linecolor\":\"#506784\",\"showbackground\":true,\"ticks\":\"\",\"zerolinecolor\":\"#C8D4E3\"},\"zaxis\":{\"backgroundcolor\":\"rgb(17,17,17)\",\"gridcolor\":\"#506784\",\"gridwidth\":2,\"linecolor\":\"#506784\",\"showbackground\":true,\"ticks\":\"\",\"zerolinecolor\":\"#C8D4E3\"}},\"shapedefaults\":{\"line\":{\"color\":\"#f2f5fa\"}},\"sliderdefaults\":{\"bgcolor\":\"#C8D4E3\",\"bordercolor\":\"rgb(17,17,17)\",\"borderwidth\":1,\"tickwidth\":0},\"ternary\":{\"aaxis\":{\"gridcolor\":\"#506784\",\"linecolor\":\"#506784\",\"ticks\":\"\"},\"baxis\":{\"gridcolor\":\"#506784\",\"linecolor\":\"#506784\",\"ticks\":\"\"},\"bgcolor\":\"rgb(17,17,17)\",\"caxis\":{\"gridcolor\":\"#506784\",\"linecolor\":\"#506784\",\"ticks\":\"\"}},\"title\":{\"x\":0.05},\"updatemenudefaults\":{\"bgcolor\":\"#506784\",\"borderwidth\":0},\"xaxis\":{\"automargin\":true,\"gridcolor\":\"#283442\",\"linecolor\":\"#506784\",\"ticks\":\"\",\"title\":{\"standoff\":15},\"zerolinecolor\":\"#283442\",\"zerolinewidth\":2},\"yaxis\":{\"automargin\":true,\"gridcolor\":\"#283442\",\"linecolor\":\"#506784\",\"ticks\":\"\",\"title\":{\"standoff\":15},\"zerolinecolor\":\"#283442\",\"zerolinewidth\":2}}},\"xaxis\":{\"anchor\":\"y\",\"domain\":[0.0,1.0],\"title\":{\"text\":\"Date\"},\"tickangle\":45},\"yaxis\":{\"anchor\":\"x\",\"domain\":[0.0,1.0],\"title\":{\"text\":\"New recovered\"}},\"legend\":{\"title\":{\"text\":\"Country\\u002fRegion\"},\"tracegroupgap\":0},\"title\":{\"text\":\"Top 6 Countries in New recovered\"},\"barmode\":\"relative\"},                        {\"responsive\": true}                    ).then(function(){\n",
       "                            \n",
       "var gd = document.getElementById('e631da6d-6ced-4c70-9587-f2f88216675a');\n",
       "var x = new MutationObserver(function (mutations, observer) {{\n",
       "        var display = window.getComputedStyle(gd).display;\n",
       "        if (!display || display === 'none') {{\n",
       "            console.log([gd, 'removed!']);\n",
       "            Plotly.purge(gd);\n",
       "            observer.disconnect();\n",
       "        }}\n",
       "}});\n",
       "\n",
       "// Listen for the removal of the full notebook cells\n",
       "var notebookContainer = gd.closest('#notebook-container');\n",
       "if (notebookContainer) {{\n",
       "    x.observe(notebookContainer, {childList: true});\n",
       "}}\n",
       "\n",
       "// Listen for the clearing of the current output cell\n",
       "var outputEl = gd.closest('.output');\n",
       "if (outputEl) {{\n",
       "    x.observe(outputEl, {childList: true});\n",
       "}}\n",
       "\n",
       "                        })                };                });            </script>        </div>"
      ]
     },
     "metadata": {},
     "output_type": "display_data"
    }
   ],
   "source": [
    "k = 6  # no of top countries\n",
    "rolling = 4   # skips these many days\n",
    "\n",
    "for col in df_full.columns:\n",
    "\n",
    "    if col in ['Date', 'Country/Region', 'WHO Region']: continue\n",
    "\n",
    "    date_sample = (df_full['Date'].dt.day % 2).isin([0])\n",
    "    df = df_full[date_sample]\n",
    "\n",
    "    top_countries = df.groupby('Country/Region')[col].max().sort_values(ascending=False).head(k).index\n",
    "\n",
    "    # Filter the DataFrame for the top countries\n",
    "    df = df[df['Country/Region'].isin(top_countries)]\n",
    "\n",
    "    # Create an interactive bar plot using Plotly Express\n",
    "    fig = px.bar(df, \n",
    "                x='Date', \n",
    "                y=col, \n",
    "                color='Country/Region', \n",
    "                title=f'Top {k} Countries in {col}',\n",
    "                template=\"plotly_dark\")\n",
    "\n",
    "    # Customize the layout\n",
    "    fig.update_layout(\n",
    "        xaxis_title='Date',\n",
    "        yaxis_title=col,\n",
    "        xaxis=dict(tickangle=45),\n",
    "        legend_title='Country/Region'\n",
    "    )\n",
    "\n",
    "    # Show the interactive plot\n",
    "    fig.show()"
   ]
  },
  {
   "cell_type": "markdown",
   "id": "461d317b",
   "metadata": {
    "papermill": {
     "duration": 0.029528,
     "end_time": "2024-01-25T10:44:39.339606",
     "exception": false,
     "start_time": "2024-01-25T10:44:39.310078",
     "status": "completed"
    },
    "tags": []
   },
   "source": [
    "# Machine Learning\n",
    "Applying Techinques of ML using scikit-learn to find hidden patterns and simliarities between the countries"
   ]
  },
  {
   "cell_type": "markdown",
   "id": "45ffd3f8",
   "metadata": {
    "papermill": {
     "duration": 0.029399,
     "end_time": "2024-01-25T10:44:39.398783",
     "exception": false,
     "start_time": "2024-01-25T10:44:39.369384",
     "status": "completed"
    },
    "tags": []
   },
   "source": [
    "## Preparation\n",
    "\n",
    "Steps are taken to preprocess the data and convert tabular data to numpy vectors"
   ]
  },
  {
   "cell_type": "code",
   "execution_count": 33,
   "id": "8e6c9863",
   "metadata": {
    "execution": {
     "iopub.execute_input": "2024-01-25T10:44:39.462660Z",
     "iopub.status.busy": "2024-01-25T10:44:39.462199Z",
     "iopub.status.idle": "2024-01-25T10:44:39.474154Z",
     "shell.execute_reply": "2024-01-25T10:44:39.472011Z"
    },
    "papermill": {
     "duration": 0.046635,
     "end_time": "2024-01-25T10:44:39.477177",
     "exception": false,
     "start_time": "2024-01-25T10:44:39.430542",
     "status": "completed"
    },
    "tags": []
   },
   "outputs": [
    {
     "name": "stdout",
     "output_type": "stream",
     "text": [
      "Total Countries: 187\n",
      "Country Names: Afghanistan, Albania, Algeria, Andorra, Angola, Antigua and Barbuda, Argentina, Armenia, Australia, Austria, Azerbaijan, Bahamas, Bahrain, Bangladesh, Barbados, Belarus, Belgium, Belize, Benin, Bhutan, Bolivia, Bosnia and Herzegovina, Botswana, Brazil, Brunei, Bulgaria, Burkina Faso, Burma, Burundi, Cabo Verde, Cambodia, Cameroon, Canada, Central African Republic, Chad, Chile, China, Colombia, Comoros, Congo (Brazzaville), Congo (Kinshasa), Costa Rica, Cote d'Ivoire, Croatia, Cuba, Cyprus, Czechia, Denmark, Djibouti, Dominica, Dominican Republic, Ecuador, Egypt, El Salvador, Equatorial Guinea, Eritrea, Estonia, Eswatini, Ethiopia, Fiji, Finland, France, Gabon, Gambia, Georgia, Germany, Ghana, Greece, Greenland, Grenada, Guatemala, Guinea, Guinea-Bissau, Guyana, Haiti, Holy See, Honduras, Hungary, Iceland, India, Indonesia, Iran, Iraq, Ireland, Israel, Italy, Jamaica, Japan, Jordan, Kazakhstan, Kenya, Kosovo, Kuwait, Kyrgyzstan, Laos, Latvia, Lebanon, Lesotho, Liberia, Libya, Liechtenstein, Lithuania, Luxembourg, Madagascar, Malawi, Malaysia, Maldives, Mali, Malta, Mauritania, Mauritius, Mexico, Moldova, Monaco, Mongolia, Montenegro, Morocco, Mozambique, Namibia, Nepal, Netherlands, New Zealand, Nicaragua, Niger, Nigeria, North Macedonia, Norway, Oman, Pakistan, Panama, Papua New Guinea, Paraguay, Peru, Philippines, Poland, Portugal, Qatar, Romania, Russia, Rwanda, Saint Kitts and Nevis, Saint Lucia, Saint Vincent and the Grenadines, San Marino, Sao Tome and Principe, Saudi Arabia, Senegal, Serbia, Seychelles, Sierra Leone, Singapore, Slovakia, Slovenia, Somalia, South Africa, South Korea, South Sudan, Spain, Sri Lanka, Sudan, Suriname, Sweden, Switzerland, Syria, Taiwan*, Tajikistan, Tanzania, Thailand, Timor-Leste, Togo, Trinidad and Tobago, Tunisia, Turkey, US, Uganda, Ukraine, United Arab Emirates, United Kingdom, Uruguay, Uzbekistan, Venezuela, Vietnam, West Bank and Gaza, Western Sahara, Yemen, Zambia, Zimbabwe\n"
     ]
    }
   ],
   "source": [
    "countries = sorted(df_full['Country/Region'].unique())\n",
    "\n",
    "print(\"Total Countries:\", len(countries))\n",
    "print(\"Country Names:\", \", \".join(countries))"
   ]
  },
  {
   "cell_type": "code",
   "execution_count": 34,
   "id": "df853333",
   "metadata": {
    "execution": {
     "iopub.execute_input": "2024-01-25T10:44:39.541732Z",
     "iopub.status.busy": "2024-01-25T10:44:39.540877Z",
     "iopub.status.idle": "2024-01-25T10:44:39.727026Z",
     "shell.execute_reply": "2024-01-25T10:44:39.725683Z"
    },
    "papermill": {
     "duration": 0.223202,
     "end_time": "2024-01-25T10:44:39.730342",
     "exception": false,
     "start_time": "2024-01-25T10:44:39.507140",
     "status": "completed"
    },
    "tags": []
   },
   "outputs": [
    {
     "data": {
      "text/plain": [
       "(187, 1316)"
      ]
     },
     "execution_count": 34,
     "metadata": {},
     "output_type": "execute_result"
    }
   ],
   "source": [
    "# Creating Vectors\n",
    "group = df_full.groupby(\"Country/Region\")\n",
    "vectors = []\n",
    "for country in countries:\n",
    "\tsub_group = group.get_group(country).drop([\"Date\", \"Country/Region\", \"WHO Region\"], axis=1)\n",
    "\tsub_group = sub_group.values\n",
    "\tsub_group = sub_group.ravel()\n",
    "\tvectors.append(sub_group)\n",
    "vectors = np.vstack(vectors)\n",
    "vectors.shape"
   ]
  },
  {
   "cell_type": "code",
   "execution_count": 35,
   "id": "90306c88",
   "metadata": {
    "execution": {
     "iopub.execute_input": "2024-01-25T10:44:39.792110Z",
     "iopub.status.busy": "2024-01-25T10:44:39.791458Z",
     "iopub.status.idle": "2024-01-25T10:44:39.993020Z",
     "shell.execute_reply": "2024-01-25T10:44:39.991325Z"
    },
    "papermill": {
     "duration": 0.235694,
     "end_time": "2024-01-25T10:44:39.996333",
     "exception": false,
     "start_time": "2024-01-25T10:44:39.760639",
     "status": "completed"
    },
    "tags": []
   },
   "outputs": [
    {
     "data": {
      "text/plain": [
       "(187, 1316)"
      ]
     },
     "execution_count": 35,
     "metadata": {},
     "output_type": "execute_result"
    }
   ],
   "source": [
    "# Scaling the Vectors\n",
    "from sklearn.preprocessing import StandardScaler\n",
    "vectors = StandardScaler().fit_transform(vectors)\n",
    "vectors.shape"
   ]
  },
  {
   "cell_type": "markdown",
   "id": "8b60bd00",
   "metadata": {
    "papermill": {
     "duration": 0.031118,
     "end_time": "2024-01-25T10:44:40.058881",
     "exception": false,
     "start_time": "2024-01-25T10:44:40.027763",
     "status": "completed"
    },
    "tags": []
   },
   "source": [
    "## Similarity Index\n",
    "Finding how intense the similarities are found in data"
   ]
  },
  {
   "cell_type": "code",
   "execution_count": 36,
   "id": "f1538832",
   "metadata": {
    "execution": {
     "iopub.execute_input": "2024-01-25T10:44:40.123883Z",
     "iopub.status.busy": "2024-01-25T10:44:40.123061Z",
     "iopub.status.idle": "2024-01-25T10:44:40.255596Z",
     "shell.execute_reply": "2024-01-25T10:44:40.254368Z"
    },
    "papermill": {
     "duration": 0.170443,
     "end_time": "2024-01-25T10:44:40.260096",
     "exception": false,
     "start_time": "2024-01-25T10:44:40.089653",
     "status": "completed"
    },
    "tags": []
   },
   "outputs": [
    {
     "data": {
      "text/plain": [
       "(187, 187)"
      ]
     },
     "execution_count": 36,
     "metadata": {},
     "output_type": "execute_result"
    }
   ],
   "source": [
    "# Similarity Matrix\n",
    "from sklearn.metrics.pairwise import cosine_similarity\n",
    "sim = cosine_similarity(vectors, vectors)\n",
    "sim.shape"
   ]
  },
  {
   "cell_type": "code",
   "execution_count": 37,
   "id": "72378f03",
   "metadata": {
    "execution": {
     "iopub.execute_input": "2024-01-25T10:44:40.382683Z",
     "iopub.status.busy": "2024-01-25T10:44:40.382231Z",
     "iopub.status.idle": "2024-01-25T10:44:42.420579Z",
     "shell.execute_reply": "2024-01-25T10:44:42.419494Z"
    },
    "papermill": {
     "duration": 2.095705,
     "end_time": "2024-01-25T10:44:42.423674",
     "exception": false,
     "start_time": "2024-01-25T10:44:40.327969",
     "status": "completed"
    },
    "tags": []
   },
   "outputs": [
    {
     "data": {
      "image/png": "[encoded data removed]",
      "text/plain": [
       "<Figure size 1200x1000 with 2 Axes>"
      ]
     },
     "metadata": {},
     "output_type": "display_data"
    }
   ],
   "source": [
    "# Create a heatmap\n",
    "plt.figure(figsize=(12, 10))\n",
    "sns.set(font_scale=0.6)\n",
    "sns.heatmap(sim, annot=False, cmap='coolwarm')\n",
    "\n",
    "# Show the plot\n",
    "plt.show()"
   ]
  },
  {
   "cell_type": "markdown",
   "id": "55c218fb",
   "metadata": {
    "papermill": {
     "duration": 0.032515,
     "end_time": "2024-01-25T10:44:42.490214",
     "exception": false,
     "start_time": "2024-01-25T10:44:42.457699",
     "status": "completed"
    },
    "tags": []
   },
   "source": [
    "The heatmap shows there is a significant similarity between countries"
   ]
  },
  {
   "cell_type": "markdown",
   "id": "e8133b70",
   "metadata": {
    "papermill": {
     "duration": 0.034182,
     "end_time": "2024-01-25T10:44:42.557807",
     "exception": false,
     "start_time": "2024-01-25T10:44:42.523625",
     "status": "completed"
    },
    "tags": []
   },
   "source": [
    "## Similar and Different Countries\n",
    "Now that we input a country name, we get list of countries that had faced similar or completely cases over time"
   ]
  },
  {
   "cell_type": "code",
   "execution_count": 38,
   "id": "ba315aaa",
   "metadata": {
    "execution": {
     "iopub.execute_input": "2024-01-25T10:44:42.625768Z",
     "iopub.status.busy": "2024-01-25T10:44:42.624877Z",
     "iopub.status.idle": "2024-01-25T10:44:42.635251Z",
     "shell.execute_reply": "2024-01-25T10:44:42.633709Z"
    },
    "papermill": {
     "duration": 0.048748,
     "end_time": "2024-01-25T10:44:42.638466",
     "exception": false,
     "start_time": "2024-01-25T10:44:42.589718",
     "status": "completed"
    },
    "tags": []
   },
   "outputs": [],
   "source": [
    "def find_similar_countries(country, k):\n",
    "\ti = countries.index(country)\n",
    "\treturn [countries[j] for j in sim[i].argsort()[::-1][1:k+1]]\n",
    "\n",
    "def find_opposite_countries(country, k):\n",
    "\ti = countries.index(country)\n",
    "\treturn [countries[j] for j in sim[i].argsort()[1:k+1]]\n",
    "\n",
    "def print_results(country, k):\n",
    "\tsimilar = find_similar_countries(country, k=k)\n",
    "\topposite = find_opposite_countries(country, k=k)\n",
    "\tspace = \"\\n\\t - \"\n",
    "\n",
    "\tprint(f\"Top {k} Countries that had cases similar to {country}:\")\n",
    "\tprint(space[1:] + space.join(similar))\n",
    "\tprint(f\"Top {k} Countries that had cases different to {country}:\")\n",
    "\tprint(space[1:] + space.join(opposite))"
   ]
  },
  {
   "cell_type": "code",
   "execution_count": 39,
   "id": "17bb8c0f",
   "metadata": {
    "execution": {
     "iopub.execute_input": "2024-01-25T10:44:42.705625Z",
     "iopub.status.busy": "2024-01-25T10:44:42.705092Z",
     "iopub.status.idle": "2024-01-25T10:44:42.711471Z",
     "shell.execute_reply": "2024-01-25T10:44:42.710407Z"
    },
    "papermill": {
     "duration": 0.043137,
     "end_time": "2024-01-25T10:44:42.714217",
     "exception": false,
     "start_time": "2024-01-25T10:44:42.671080",
     "status": "completed"
    },
    "tags": []
   },
   "outputs": [
    {
     "name": "stdout",
     "output_type": "stream",
     "text": [
      "Top 10 Countries that had cases similar to US:\n",
      "\t - United Kingdom\n",
      "\t - Brazil\n",
      "\t - France\n",
      "\t - Russia\n",
      "\t - Canada\n",
      "\t - Spain\n",
      "\t - India\n",
      "\t - Peru\n",
      "\t - Belgium\n",
      "\t - Turkey\n",
      "Top 10 Countries that had cases different to US:\n",
      "\t - Taiwan*\n",
      "\t - Albania\n",
      "\t - San Marino\n",
      "\t - Vietnam\n",
      "\t - Brunei\n",
      "\t - Uruguay\n",
      "\t - Jordan\n",
      "\t - Lebanon\n",
      "\t - Georgia\n",
      "\t - Cambodia\n"
     ]
    }
   ],
   "source": [
    "print_results(\"US\", 10)"
   ]
  },
  {
   "cell_type": "code",
   "execution_count": 40,
   "id": "bd3f2233",
   "metadata": {
    "execution": {
     "iopub.execute_input": "2024-01-25T10:44:42.779889Z",
     "iopub.status.busy": "2024-01-25T10:44:42.779104Z",
     "iopub.status.idle": "2024-01-25T10:44:42.784662Z",
     "shell.execute_reply": "2024-01-25T10:44:42.783724Z"
    },
    "papermill": {
     "duration": 0.041515,
     "end_time": "2024-01-25T10:44:42.787246",
     "exception": false,
     "start_time": "2024-01-25T10:44:42.745731",
     "status": "completed"
    },
    "tags": []
   },
   "outputs": [
    {
     "name": "stdout",
     "output_type": "stream",
     "text": [
      "Top 10 Countries that had cases similar to Saudi Arabia:\n",
      "\t - Russia\n",
      "\t - India\n",
      "\t - Brazil\n",
      "\t - Pakistan\n",
      "\t - Chile\n",
      "\t - Peru\n",
      "\t - Qatar\n",
      "\t - South Africa\n",
      "\t - Turkey\n",
      "\t - Belarus\n",
      "Top 10 Countries that had cases different to Saudi Arabia:\n",
      "\t - Iceland\n",
      "\t - Malaysia\n",
      "\t - New Zealand\n",
      "\t - Croatia\n",
      "\t - Taiwan*\n",
      "\t - Luxembourg\n",
      "\t - Hungary\n",
      "\t - San Marino\n",
      "\t - Andorra\n",
      "\t - Vietnam\n"
     ]
    }
   ],
   "source": [
    "print_results(\"Saudi Arabia\", 10)"
   ]
  }
 ],
 "metadata": {
  "colab": {
   "provenance": [],
   "toc_visible": true
  },
  "kaggle": {
   "accelerator": "none",
   "dataSources": [
    {
     "datasetId": 494766,
     "sourceId": 1402868,
     "sourceType": "datasetVersion"
    }
   ],
   "dockerImageVersionId": 30615,
   "isGpuEnabled": false,
   "isInternetEnabled": true,
   "language": "python",
   "sourceType": "notebook"
  },
  "kernelspec": {
   "display_name": "Python 3",
   "language": "python",
   "name": "python3"
  },
  "language_info": {
   "codemirror_mode": {
    "name": "ipython",
    "version": 3
   },
   "file_extension": ".py",
   "mimetype": "text/x-python",
   "name": "python",
   "nbconvert_exporter": "python",
   "pygments_lexer": "ipython3",
   "version": "3.10.12"
  },
  "papermill": {
   "default_parameters": {},
   "duration": 38.738549,
   "end_time": "2024-01-25T10:44:43.844530",
   "environment_variables": {},
   "exception": null,
   "input_path": "__notebook__.ipynb",
   "output_path": "__notebook__.ipynb",
   "parameters": {},
   "start_time": "2024-01-25T10:44:05.105981",
   "version": "2.4.0"
  }
 },
 "nbformat": 4,
 "nbformat_minor": 5
}
