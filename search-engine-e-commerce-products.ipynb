{
 "cells": [
  {
   "cell_type": "code",
   "execution_count": 1,
   "id": "ecd765ed",
   "metadata": {
    "_cell_guid": "b1076dfc-b9ad-4769-8c92-a6c4dae69d19",
    "_uuid": "8f2839f25d086af736a60e9eeb907d3b93b6e0e5",
    "execution": {
     "iopub.execute_input": "2024-01-07T16:43:34.899695Z",
     "iopub.status.busy": "2024-01-07T16:43:34.899318Z",
     "iopub.status.idle": "2024-01-07T16:43:34.920035Z",
     "shell.execute_reply": "2024-01-07T16:43:34.918676Z"
    },
    "papermill": {
     "duration": 0.03746,
     "end_time": "2024-01-07T16:43:34.925582",
     "exception": false,
     "start_time": "2024-01-07T16:43:34.888122",
     "status": "completed"
    },
    "tags": []
   },
   "outputs": [
    {
     "name": "stdout",
     "output_type": "stream",
     "text": [
      "/kaggle/input/e-commerce-products-search-engine-recommendation/data.csv\n",
      "/kaggle/input/universal-sentence-encoder/tensorflow2/universal-sentence-encoder/2/saved_model.pb\n",
      "/kaggle/input/universal-sentence-encoder/tensorflow2/universal-sentence-encoder/2/variables/variables.index\n",
      "/kaggle/input/universal-sentence-encoder/tensorflow2/universal-sentence-encoder/2/variables/variables.data-00000-of-00001\n"
     ]
    }
   ],
   "source": [
    "# This Python 3 environment comes with many helpful analytics libraries installed\n",
    "# It is defined by the kaggle/python Docker image: https://github.com/kaggle/docker-python\n",
    "# For example, here's several helpful packages to load\n",
    "\n",
    "import numpy as np # linear algebra\n",
    "import pandas as pd # data processing, CSV file I/O (e.g. pd.read_csv)\n",
    "\n",
    "# Input data files are available in the read-only \"../input/\" directory\n",
    "# For example, running this (by clicking run or pressing Shift+Enter) will list all files under the input directory\n",
    "\n",
    "import os\n",
    "for dirname, _, filenames in os.walk('/kaggle/input'):\n",
    "    for filename in filenames:\n",
    "        print(os.path.join(dirname, filename))\n",
    "\n",
    "# You can write up to 20GB to the current directory (/kaggle/working/) that gets preserved as output when you create a version using \"Save & Run All\" \n",
    "# You can also write temporary files to /kaggle/temp/, but they won't be saved outside of the current session"
   ]
  },
  {
   "cell_type": "code",
   "execution_count": 2,
   "id": "ea9e1e43",
   "metadata": {
    "execution": {
     "iopub.execute_input": "2024-01-07T16:43:34.946524Z",
     "iopub.status.busy": "2024-01-07T16:43:34.946113Z",
     "iopub.status.idle": "2024-01-07T16:43:49.726040Z",
     "shell.execute_reply": "2024-01-07T16:43:49.724580Z"
    },
    "papermill": {
     "duration": 14.793933,
     "end_time": "2024-01-07T16:43:49.729607",
     "exception": false,
     "start_time": "2024-01-07T16:43:34.935674",
     "status": "completed"
    },
    "tags": []
   },
   "outputs": [
    {
     "name": "stdout",
     "output_type": "stream",
     "text": [
      "Collecting thefuzz\r\n",
      "  Downloading thefuzz-0.20.0-py3-none-any.whl (15 kB)\r\n",
      "Requirement already satisfied: rapidfuzz<4.0.0,>=3.0.0 in /opt/conda/lib/python3.10/site-packages (from thefuzz) (3.1.1)\r\n",
      "Installing collected packages: thefuzz\r\n",
      "Successfully installed thefuzz-0.20.0\r\n",
      "\u001b[33mWARNING: Running pip as the 'root' user can result in broken permissions and conflicting behaviour with the system package manager. It is recommended to use a virtual environment instead: https://pip.pypa.io/warnings/venv\u001b[0m\u001b[33m\r\n",
      "\u001b[0m"
     ]
    }
   ],
   "source": [
    "!pip install thefuzz"
   ]
  },
  {
   "cell_type": "code",
   "execution_count": 3,
   "id": "527f1b13",
   "metadata": {
    "execution": {
     "iopub.execute_input": "2024-01-07T16:43:49.751058Z",
     "iopub.status.busy": "2024-01-07T16:43:49.750599Z",
     "iopub.status.idle": "2024-01-07T16:43:51.452607Z",
     "shell.execute_reply": "2024-01-07T16:43:51.451290Z"
    },
    "papermill": {
     "duration": 1.716894,
     "end_time": "2024-01-07T16:43:51.456179",
     "exception": false,
     "start_time": "2024-01-07T16:43:49.739285",
     "status": "completed"
    },
    "tags": []
   },
   "outputs": [],
   "source": [
    "import matplotlib.pyplot as plt\n",
    "import seaborn as sns\n",
    "import random\n",
    "from thefuzz import fuzz, process"
   ]
  },
  {
   "cell_type": "code",
   "execution_count": 4,
   "id": "a8bf92ee",
   "metadata": {
    "execution": {
     "iopub.execute_input": "2024-01-07T16:43:51.478561Z",
     "iopub.status.busy": "2024-01-07T16:43:51.478161Z",
     "iopub.status.idle": "2024-01-07T16:43:51.630236Z",
     "shell.execute_reply": "2024-01-07T16:43:51.629229Z"
    },
    "papermill": {
     "duration": 0.165562,
     "end_time": "2024-01-07T16:43:51.632946",
     "exception": false,
     "start_time": "2024-01-07T16:43:51.467384",
     "status": "completed"
    },
    "tags": []
   },
   "outputs": [
    {
     "name": "stdout",
     "output_type": "stream",
     "text": [
      "(1666, 21)\n"
     ]
    },
    {
     "data": {
      "text/html": [
       "<div>\n",
       "<style scoped>\n",
       "    .dataframe tbody tr th:only-of-type {\n",
       "        vertical-align: middle;\n",
       "    }\n",
       "\n",
       "    .dataframe tbody tr th {\n",
       "        vertical-align: top;\n",
       "    }\n",
       "\n",
       "    .dataframe thead th {\n",
       "        text-align: right;\n",
       "    }\n",
       "</style>\n",
       "<table border=\"1\" class=\"dataframe\">\n",
       "  <thead>\n",
       "    <tr style=\"text-align: right;\">\n",
       "      <th></th>\n",
       "      <th>slug</th>\n",
       "      <th>title</th>\n",
       "      <th>imgs</th>\n",
       "      <th>brand</th>\n",
       "      <th>category</th>\n",
       "      <th>vendor</th>\n",
       "      <th>used</th>\n",
       "      <th>address</th>\n",
       "      <th>availability</th>\n",
       "      <th>currency</th>\n",
       "      <th>...</th>\n",
       "      <th>discounted_price</th>\n",
       "      <th>specifications</th>\n",
       "      <th>description</th>\n",
       "      <th>delivery_fee</th>\n",
       "      <th>delivery_details</th>\n",
       "      <th>warranty</th>\n",
       "      <th>warranty_type</th>\n",
       "      <th>average_rating</th>\n",
       "      <th>num_ratings</th>\n",
       "      <th>reviews</th>\n",
       "    </tr>\n",
       "    <tr>\n",
       "      <th>id</th>\n",
       "      <th></th>\n",
       "      <th></th>\n",
       "      <th></th>\n",
       "      <th></th>\n",
       "      <th></th>\n",
       "      <th></th>\n",
       "      <th></th>\n",
       "      <th></th>\n",
       "      <th></th>\n",
       "      <th></th>\n",
       "      <th></th>\n",
       "      <th></th>\n",
       "      <th></th>\n",
       "      <th></th>\n",
       "      <th></th>\n",
       "      <th></th>\n",
       "      <th></th>\n",
       "      <th></th>\n",
       "      <th></th>\n",
       "      <th></th>\n",
       "      <th></th>\n",
       "    </tr>\n",
       "  </thead>\n",
       "  <tbody>\n",
       "    <tr>\n",
       "      <th>1390</th>\n",
       "      <td>https://priceoye.pk/mobiles/vivo/vivo-y02s</td>\n",
       "      <td>Vivo Y02s</td>\n",
       "      <td>['https://images.priceoye.pk/vivo-y02s-pakista...</td>\n",
       "      <td>NaN</td>\n",
       "      <td>Mobile</td>\n",
       "      <td>PriceOye</td>\n",
       "      <td>0</td>\n",
       "      <td>NaN</td>\n",
       "      <td>Avaiable</td>\n",
       "      <td>PKR</td>\n",
       "      <td>...</td>\n",
       "      <td>42399.0</td>\n",
       "      <td>{'Release Date': '2022-11-30', 'SIM Support': ...</td>\n",
       "      <td>NaN</td>\n",
       "      <td>NaN</td>\n",
       "      <td>NaN</td>\n",
       "      <td>NaN</td>\n",
       "      <td>NaN</td>\n",
       "      <td>5.0</td>\n",
       "      <td>2.0</td>\n",
       "      <td>['3rd Oder Received from Priceoye in Just 2 Mo...</td>\n",
       "    </tr>\n",
       "    <tr>\n",
       "      <th>414</th>\n",
       "      <td>https://www.czone.com.pk/laptops-apple-laptops...</td>\n",
       "      <td>Czone.com.pk: Apple MacBook Air 13.3\" MGNE3 M1...</td>\n",
       "      <td>['https://www.czone.com.pk/images/thumbnails-l...</td>\n",
       "      <td>Apple</td>\n",
       "      <td>Laptop</td>\n",
       "      <td>ComputerZone</td>\n",
       "      <td>0</td>\n",
       "      <td>FL 4/20, Main Rashid Minhas Road, Gulshan-e-Iq...</td>\n",
       "      <td>Available on Order</td>\n",
       "      <td>PKR</td>\n",
       "      <td>...</td>\n",
       "      <td>NaN</td>\n",
       "      <td>{'Processor Type': 'Apple M1 8-Core CPU', 'Ins...</td>\n",
       "      <td>Apple MacBook Air 13.3\" M1 Chip MGNE3 Gold 8GB...</td>\n",
       "      <td>NaN</td>\n",
       "      <td>NaN</td>\n",
       "      <td>NaN</td>\n",
       "      <td>International Warranty</td>\n",
       "      <td>NaN</td>\n",
       "      <td>NaN</td>\n",
       "      <td>[]</td>\n",
       "    </tr>\n",
       "    <tr>\n",
       "      <th>596</th>\n",
       "      <td>https://www.techglobe.pk/laptops/microsoft/mic...</td>\n",
       "      <td>Microsoft Surface Pro 9 12th Gen Core i5-1235U...</td>\n",
       "      <td>['https://static3.webx.pk/files/4012/Images/Th...</td>\n",
       "      <td>Microsoft</td>\n",
       "      <td>Laptop</td>\n",
       "      <td>TechGlobe</td>\n",
       "      <td>0</td>\n",
       "      <td>NaN</td>\n",
       "      <td>NaN</td>\n",
       "      <td>PKR</td>\n",
       "      <td>...</td>\n",
       "      <td>NaN</td>\n",
       "      <td>{'Processor Type': '12th Generation Intel Core...</td>\n",
       "      <td>Microsoft Surface Pro 9 12th Gen Core i5-1235U...</td>\n",
       "      <td>NaN</td>\n",
       "      <td>NaN</td>\n",
       "      <td>1 year</td>\n",
       "      <td>International Warranty</td>\n",
       "      <td>NaN</td>\n",
       "      <td>NaN</td>\n",
       "      <td>[]</td>\n",
       "    </tr>\n",
       "    <tr>\n",
       "      <th>1028</th>\n",
       "      <td>https://priceoye.pk/wireless-earbuds/anker/ank...</td>\n",
       "      <td>Anker SoundCore Life Note Bluetooth Earphones</td>\n",
       "      <td>['https://images.priceoye.pk/anker-soundcore-l...</td>\n",
       "      <td>NaN</td>\n",
       "      <td>Earbuds</td>\n",
       "      <td>PriceOye</td>\n",
       "      <td>0</td>\n",
       "      <td>NaN</td>\n",
       "      <td>Not Available</td>\n",
       "      <td>PKR</td>\n",
       "      <td>...</td>\n",
       "      <td>7499.0</td>\n",
       "      <td>{'Model': 'A3908H11', 'Waterproof': 'IPX5 (Wat...</td>\n",
       "      <td>NaN</td>\n",
       "      <td>NaN</td>\n",
       "      <td>NaN</td>\n",
       "      <td>NaN</td>\n",
       "      <td>NaN</td>\n",
       "      <td>5.0</td>\n",
       "      <td>3.0</td>\n",
       "      <td>['Really Good earphones at this price point al...</td>\n",
       "    </tr>\n",
       "    <tr>\n",
       "      <th>1126</th>\n",
       "      <td>https://priceoye.pk/wireless-earbuds/sony/sony...</td>\n",
       "      <td>Sony Wireless Headphones WH-CH510</td>\n",
       "      <td>['https://images.priceoye.pk/sony-wireless-hea...</td>\n",
       "      <td>NaN</td>\n",
       "      <td>Earbuds</td>\n",
       "      <td>PriceOye</td>\n",
       "      <td>0</td>\n",
       "      <td>NaN</td>\n",
       "      <td>Not Available</td>\n",
       "      <td>PKR</td>\n",
       "      <td>...</td>\n",
       "      <td>8699.0</td>\n",
       "      <td>{'Model': 'WH-CH510', 'Waterproof': 'N/A', 'We...</td>\n",
       "      <td>NaN</td>\n",
       "      <td>NaN</td>\n",
       "      <td>NaN</td>\n",
       "      <td>NaN</td>\n",
       "      <td>NaN</td>\n",
       "      <td>5.0</td>\n",
       "      <td>1.0</td>\n",
       "      <td>[]</td>\n",
       "    </tr>\n",
       "  </tbody>\n",
       "</table>\n",
       "<p>5 rows × 21 columns</p>\n",
       "</div>"
      ],
      "text/plain": [
       "                                                   slug  \\\n",
       "id                                                        \n",
       "1390         https://priceoye.pk/mobiles/vivo/vivo-y02s   \n",
       "414   https://www.czone.com.pk/laptops-apple-laptops...   \n",
       "596   https://www.techglobe.pk/laptops/microsoft/mic...   \n",
       "1028  https://priceoye.pk/wireless-earbuds/anker/ank...   \n",
       "1126  https://priceoye.pk/wireless-earbuds/sony/sony...   \n",
       "\n",
       "                                                  title  \\\n",
       "id                                                        \n",
       "1390                                          Vivo Y02s   \n",
       "414   Czone.com.pk: Apple MacBook Air 13.3\" MGNE3 M1...   \n",
       "596   Microsoft Surface Pro 9 12th Gen Core i5-1235U...   \n",
       "1028      Anker SoundCore Life Note Bluetooth Earphones   \n",
       "1126                  Sony Wireless Headphones WH-CH510   \n",
       "\n",
       "                                                   imgs      brand category  \\\n",
       "id                                                                            \n",
       "1390  ['https://images.priceoye.pk/vivo-y02s-pakista...        NaN   Mobile   \n",
       "414   ['https://www.czone.com.pk/images/thumbnails-l...      Apple   Laptop   \n",
       "596   ['https://static3.webx.pk/files/4012/Images/Th...  Microsoft   Laptop   \n",
       "1028  ['https://images.priceoye.pk/anker-soundcore-l...        NaN  Earbuds   \n",
       "1126  ['https://images.priceoye.pk/sony-wireless-hea...        NaN  Earbuds   \n",
       "\n",
       "            vendor  used                                            address  \\\n",
       "id                                                                            \n",
       "1390      PriceOye     0                                                NaN   \n",
       "414   ComputerZone     0  FL 4/20, Main Rashid Minhas Road, Gulshan-e-Iq...   \n",
       "596      TechGlobe     0                                                NaN   \n",
       "1028      PriceOye     0                                                NaN   \n",
       "1126      PriceOye     0                                                NaN   \n",
       "\n",
       "            availability currency  ...  discounted_price  \\\n",
       "id                                 ...                     \n",
       "1390            Avaiable      PKR  ...           42399.0   \n",
       "414   Available on Order      PKR  ...               NaN   \n",
       "596                  NaN      PKR  ...               NaN   \n",
       "1028       Not Available      PKR  ...            7499.0   \n",
       "1126       Not Available      PKR  ...            8699.0   \n",
       "\n",
       "                                         specifications  \\\n",
       "id                                                        \n",
       "1390  {'Release Date': '2022-11-30', 'SIM Support': ...   \n",
       "414   {'Processor Type': 'Apple M1 8-Core CPU', 'Ins...   \n",
       "596   {'Processor Type': '12th Generation Intel Core...   \n",
       "1028  {'Model': 'A3908H11', 'Waterproof': 'IPX5 (Wat...   \n",
       "1126  {'Model': 'WH-CH510', 'Waterproof': 'N/A', 'We...   \n",
       "\n",
       "                                            description delivery_fee  \\\n",
       "id                                                                     \n",
       "1390                                                NaN          NaN   \n",
       "414   Apple MacBook Air 13.3\" M1 Chip MGNE3 Gold 8GB...          NaN   \n",
       "596   Microsoft Surface Pro 9 12th Gen Core i5-1235U...          NaN   \n",
       "1028                                                NaN          NaN   \n",
       "1126                                                NaN          NaN   \n",
       "\n",
       "      delivery_details  warranty           warranty_type average_rating  \\\n",
       "id                                                                        \n",
       "1390               NaN       NaN                     NaN            5.0   \n",
       "414                NaN       NaN  International Warranty            NaN   \n",
       "596                NaN    1 year  International Warranty            NaN   \n",
       "1028               NaN       NaN                     NaN            5.0   \n",
       "1126               NaN       NaN                     NaN            5.0   \n",
       "\n",
       "      num_ratings                                            reviews  \n",
       "id                                                                    \n",
       "1390          2.0  ['3rd Oder Received from Priceoye in Just 2 Mo...  \n",
       "414           NaN                                                 []  \n",
       "596           NaN                                                 []  \n",
       "1028          3.0  ['Really Good earphones at this price point al...  \n",
       "1126          1.0                                                 []  \n",
       "\n",
       "[5 rows x 21 columns]"
      ]
     },
     "execution_count": 4,
     "metadata": {},
     "output_type": "execute_result"
    }
   ],
   "source": [
    "# laoding the dataset\n",
    "df = pd.read_csv(\"/kaggle/input/e-commerce-products-search-engine-recommendation/data.csv\")\n",
    "\n",
    "# setting the index by product's id\n",
    "df = df.set_index(\"id\")\n",
    "\n",
    "# print the shape of dataframe\n",
    "print(df.shape)\n",
    "\n",
    "# showing 5 random samples\n",
    "df.sample(5)"
   ]
  },
  {
   "cell_type": "code",
   "execution_count": 5,
   "id": "51c2d681",
   "metadata": {
    "execution": {
     "iopub.execute_input": "2024-01-07T16:43:51.654991Z",
     "iopub.status.busy": "2024-01-07T16:43:51.654319Z",
     "iopub.status.idle": "2024-01-07T16:43:51.888297Z",
     "shell.execute_reply": "2024-01-07T16:43:51.887113Z"
    },
    "papermill": {
     "duration": 0.248311,
     "end_time": "2024-01-07T16:43:51.891223",
     "exception": false,
     "start_time": "2024-01-07T16:43:51.642912",
     "status": "completed"
    },
    "tags": []
   },
   "outputs": [],
   "source": [
    "# columns that have been dumped as strings but are python lists and dictionaries\n",
    "df['reviews'] = df['reviews'].fillna(str([])).map(eval)\n",
    "df['imgs'] = df['imgs'].map(eval)\n",
    "df['specifications'] = df['specifications'].map(eval)"
   ]
  },
  {
   "cell_type": "code",
   "execution_count": 6,
   "id": "b4e236cd",
   "metadata": {
    "execution": {
     "iopub.execute_input": "2024-01-07T16:43:51.914031Z",
     "iopub.status.busy": "2024-01-07T16:43:51.912871Z",
     "iopub.status.idle": "2024-01-07T16:43:51.928483Z",
     "shell.execute_reply": "2024-01-07T16:43:51.927304Z"
    },
    "papermill": {
     "duration": 0.02967,
     "end_time": "2024-01-07T16:43:51.931079",
     "exception": false,
     "start_time": "2024-01-07T16:43:51.901409",
     "status": "completed"
    },
    "tags": []
   },
   "outputs": [
    {
     "data": {
      "text/plain": [
       "['slug https://www.mega.pk/mobiles_products/23522/nothing-phone-1-8gb-ram-256gb-storage-non-pta-5g-black.html',\n",
       " 'title nothing phone 1 8gb ram 256gb storage non pta 5g black ',\n",
       " 'imgs https://www.mega.pk/items_images/nothing+phone+1+8gb+ram+256gb+storage+non+pta+5g+black+price+in+pakistan%2c+specifications%2c+features_-_23522.webp',\n",
       " 'category mobile',\n",
       " 'vendor mega.pk',\n",
       " 'used 0',\n",
       " 'address office 11, 12, 14 basement ahmed center, i-8 markaz, islamabad, pakistan',\n",
       " 'currency pkr',\n",
       " 'original_price 129999.0',\n",
       " 'ram 8gb',\n",
       " 'memory quantity ',\n",
       " 'internal storage space 256gb',\n",
       " 'main camera pixels 50 mp, f/1.9, 24mm (wide), 1/1.56',\n",
       " 'battery capacity li-po 4500 mah, non-removable',\n",
       " 'screen size 6.55 inches',\n",
       " '5g support yes',\n",
       " 'finger print yes',\n",
       " 'display technology oled, 1b colors, 120hz, hdr10+, 500 nits (typ), 700 nits (peak)',\n",
       " 'display 6.55 inches oled, 1b colors',\n",
       " 'number of colours 1b',\n",
       " 'scratch resistant display ',\n",
       " 'screen resolution 1080 x 2400 pixels',\n",
       " 'pixel density 402 ppi',\n",
       " 'dual screens ',\n",
       " 'sd card yes',\n",
       " 'sdio ',\n",
       " 'compatible memory cards 128gb 8gb ram, 256gb 8gb ram, 256gb 12gb ram',\n",
       " 'maximum amount of memory ',\n",
       " 'built-in camera yes',\n",
       " 'auto focus yes',\n",
       " 'built-in flash yes',\n",
       " 'digital zoom (still image) yes',\n",
       " 'maximum resolution (still) 1080p 30fps',\n",
       " 'number of cameras 3',\n",
       " 'front camera resolution 16 mp, f/2.5, (wide), 1/3.1',\n",
       " 'optical zoom yes',\n",
       " 'video recorder yes',\n",
       " 'digital zoom (video) yes',\n",
       " 'maximum numbers of fps when recording 30fps',\n",
       " 'maximum resolution (video) 4k 30fps',\n",
       " 'graphics processor yes',\n",
       " 'graphics processor type ',\n",
       " 'processor core type octa-core',\n",
       " 'processor speed 1x2.5 ghz cortex-a78 & 3x2.4 ghz cortex-a78',\n",
       " 'chipset qualcomm sm7325-ae snapdragon 778g+ 5g (6 nm)',\n",
       " 'cpu type octa-core (1x2.5 ghz cortex-a78 & 3x2.4 ghz cortex-a78 & 4x1.9 ghz cortex-a55)',\n",
       " '4g lte yes',\n",
       " 'bluetooth yes',\n",
       " 'nfc support yes',\n",
       " 'wifi (wireless fidelity) yes',\n",
       " 'colour white, black',\n",
       " 'features (detail) fingerprint (under display, optical), accelerometer, proximity, gyro, compass',\n",
       " 'shock resistant ',\n",
       " 'dual sim card support yes',\n",
       " 'voice dialing yes',\n",
       " 'water resistant ',\n",
       " '3.5mm headphone output ',\n",
       " 'type of connection ',\n",
       " 'dimensions (wxhxd) 159.2 x 75.8 x 8.3 mm (6.27 x 2.98 x 0.33 in)',\n",
       " 'weight 193.5 g (6.84 oz)',\n",
       " 'operating system android 12, nothing os 1.1.3',\n",
       " 'release year 2022',\n",
       " 'pta approved no',\n",
       " 'warranty ',\n",
       " 'price 129,999 - pkr\\xa0price in pakistani rupees']"
      ]
     },
     "execution_count": 6,
     "metadata": {},
     "output_type": "execute_result"
    }
   ],
   "source": [
    "# this function converts the row will all columns with unstructred data into plain sentences\n",
    "\n",
    "def convert_to_sentences(row):\n",
    "    sep = \" __ \"\n",
    "    invalids = {\"-\", \"N/A\", \"NA\", \"N\\\\A\"}\n",
    "\n",
    "    sents = []\n",
    "    for k, v in row.items():\n",
    "\n",
    "        if type(v) == list:\n",
    "            if len(v) == 0: continue\n",
    "            sent = k + \" \" + \" \".join(v)\n",
    "\n",
    "        elif type(v) == dict:\n",
    "            if len(v) == 0: continue\n",
    "            # sent = sep.join([f\"{k2} {v2}\" for k2, v2 in v.items() if v2 not in invalids])\n",
    "            for k2, v2 in v.items():\n",
    "                if v2 not in invalids:\n",
    "                    sents.append(f\"{k2} {v2}\")\n",
    "            continue\n",
    "\n",
    "        else:\n",
    "            if pd.isna(v): continue\n",
    "            sent = f\"{k} {v}\"\n",
    "\n",
    "        sent = sent.lower()\n",
    "        sent = [i for i in sent.split(\". \") if len(i) > 0]\n",
    "        sents.extend(sent)\n",
    "\n",
    "    return [i.lower() for i in sents]\n",
    "\n",
    "convert_to_sentences(df.iloc[0])"
   ]
  },
  {
   "cell_type": "code",
   "execution_count": 7,
   "id": "871b7de6",
   "metadata": {
    "execution": {
     "iopub.execute_input": "2024-01-07T16:43:51.953570Z",
     "iopub.status.busy": "2024-01-07T16:43:51.953159Z",
     "iopub.status.idle": "2024-01-07T16:43:52.198263Z",
     "shell.execute_reply": "2024-01-07T16:43:52.197263Z"
    },
    "papermill": {
     "duration": 0.259783,
     "end_time": "2024-01-07T16:43:52.201246",
     "exception": false,
     "start_time": "2024-01-07T16:43:51.941463",
     "status": "completed"
    },
    "tags": []
   },
   "outputs": [
    {
     "name": "stdout",
     "output_type": "stream",
     "text": [
      "Total Sentences: 62170\n"
     ]
    }
   ],
   "source": [
    "expanded_sentences = []\n",
    "for i, row in df.iterrows():\n",
    "    sent = convert_to_sentences(row)\n",
    "    expanded_sentences.append(sent)\n",
    "print(\"Total Sentences:\", sum([len(i) for i in expanded_sentences]))"
   ]
  },
  {
   "cell_type": "code",
   "execution_count": 8,
   "id": "bf1292c4",
   "metadata": {
    "execution": {
     "iopub.execute_input": "2024-01-07T16:43:52.224433Z",
     "iopub.status.busy": "2024-01-07T16:43:52.224034Z",
     "iopub.status.idle": "2024-01-07T16:43:52.824108Z",
     "shell.execute_reply": "2024-01-07T16:43:52.822853Z"
    },
    "papermill": {
     "duration": 0.615204,
     "end_time": "2024-01-07T16:43:52.826767",
     "exception": false,
     "start_time": "2024-01-07T16:43:52.211563",
     "status": "completed"
    },
    "tags": []
   },
   "outputs": [
    {
     "data": {
      "image/png": "[encoded data removed]",
      "text/plain": [
       "<Figure size 640x480 with 1 Axes>"
      ]
     },
     "metadata": {},
     "output_type": "display_data"
    }
   ],
   "source": [
    "sns.set_style('whitegrid')\n",
    "sns.set_context('paper')\n",
    "sns.histplot(\n",
    "    [len(i) for i in expanded_sentences],\n",
    "    bins=50, kde=True, color='skyblue', edgecolor='black'\n",
    ")\n",
    "plt.xlabel('Sentence Length')\n",
    "plt.ylabel('Frequency')\n",
    "plt.title('Distribution of Sentence Lengths')\n",
    "plt.show()"
   ]
  },
  {
   "cell_type": "code",
   "execution_count": 9,
   "id": "86e31f88",
   "metadata": {
    "execution": {
     "iopub.execute_input": "2024-01-07T16:43:52.851303Z",
     "iopub.status.busy": "2024-01-07T16:43:52.850486Z",
     "iopub.status.idle": "2024-01-07T16:43:53.211679Z",
     "shell.execute_reply": "2024-01-07T16:43:53.210130Z"
    },
    "papermill": {
     "duration": 0.376239,
     "end_time": "2024-01-07T16:43:53.214381",
     "exception": false,
     "start_time": "2024-01-07T16:43:52.838142",
     "status": "completed"
    },
    "tags": []
   },
   "outputs": [
    {
     "name": "stdout",
     "output_type": "stream",
     "text": [
      "\n",
      "ID: 287\n",
      "Sentence: gaming machine no\n",
      "\n",
      "ID: 744\n",
      "Sentence: type of harddrive 512 gb pcie® nvme™ m.2 ssd\n",
      "\n",
      "ID: 751\n",
      "Sentence: dedicated graphics yes\n",
      "\n",
      "ID: 13\n",
      "Sentence: pta approved yes\n",
      "\n",
      "ID: 24\n",
      "Sentence: pixel density 496 ppi\n",
      "\n",
      "ID: 185\n",
      "Sentence: wifi (wireless fidelity) yes\n",
      "\n",
      "ID: 235\n",
      "Sentence: dimensions (wxhxd) 35.9 x 22.9 x 1.86 cm\n",
      "\n",
      "ID: 1536\n",
      "Sentence: screen resolution 320 x 240 pixels\n",
      "\n",
      "ID: 186\n",
      "Sentence: weight 2.20 kg\n",
      "\n",
      "ID: 32\n",
      "Sentence: chipset qualcomm sm8550-ab snapdragon 8 gen 2 (4 nm)\n"
     ]
    }
   ],
   "source": [
    "linear_expanded_sentences = []\n",
    "linear_ids = []\n",
    "for sents, ids in zip(expanded_sentences, df.index):\n",
    "    for sent in sents:\n",
    "        linear_expanded_sentences.append(sent.lower())\n",
    "        linear_ids.append(ids)\n",
    "linear_expanded_sentences = np.array(linear_expanded_sentences)\n",
    "linear_ids = np.array(linear_ids)\n",
    "\n",
    "for _ in range(10):\n",
    "    i = random.choice(range(len(linear_ids)))\n",
    "    print(\"\\nID:\", linear_ids[i])\n",
    "    print(\"Sentence:\", linear_expanded_sentences[i])"
   ]
  },
  {
   "cell_type": "code",
   "execution_count": 10,
   "id": "ab379e8b",
   "metadata": {
    "execution": {
     "iopub.execute_input": "2024-01-07T16:43:53.238724Z",
     "iopub.status.busy": "2024-01-07T16:43:53.238331Z",
     "iopub.status.idle": "2024-01-07T16:44:17.308553Z",
     "shell.execute_reply": "2024-01-07T16:44:17.307284Z"
    },
    "papermill": {
     "duration": 24.086344,
     "end_time": "2024-01-07T16:44:17.311879",
     "exception": false,
     "start_time": "2024-01-07T16:43:53.225535",
     "status": "completed"
    },
    "tags": []
   },
   "outputs": [
    {
     "name": "stderr",
     "output_type": "stream",
     "text": [
      "/opt/conda/lib/python3.10/site-packages/tensorflow_io/python/ops/__init__.py:98: UserWarning: unable to load libtensorflow_io_plugins.so: unable to open file: libtensorflow_io_plugins.so, from paths: ['/opt/conda/lib/python3.10/site-packages/tensorflow_io/python/ops/libtensorflow_io_plugins.so']\n",
      "caused by: ['/opt/conda/lib/python3.10/site-packages/tensorflow_io/python/ops/libtensorflow_io_plugins.so: undefined symbol: _ZN3tsl6StatusC1EN10tensorflow5error4CodeESt17basic_string_viewIcSt11char_traitsIcEENS_14SourceLocationE']\n",
      "  warnings.warn(f\"unable to load libtensorflow_io_plugins.so: {e}\")\n",
      "/opt/conda/lib/python3.10/site-packages/tensorflow_io/python/ops/__init__.py:104: UserWarning: file system plugins are not loaded: unable to open file: libtensorflow_io.so, from paths: ['/opt/conda/lib/python3.10/site-packages/tensorflow_io/python/ops/libtensorflow_io.so']\n",
      "caused by: ['/opt/conda/lib/python3.10/site-packages/tensorflow_io/python/ops/libtensorflow_io.so: undefined symbol: _ZTVN10tensorflow13GcsFileSystemE']\n",
      "  warnings.warn(f\"file system plugins are not loaded: {e}\")\n"
     ]
    }
   ],
   "source": [
    "import tensorflow_hub as hub\n",
    "\n",
    "use = hub.load(\"/kaggle/input/universal-sentence-encoder/tensorflow2/universal-sentence-encoder/2\")"
   ]
  },
  {
   "cell_type": "code",
   "execution_count": 11,
   "id": "fd8aedce",
   "metadata": {
    "execution": {
     "iopub.execute_input": "2024-01-07T16:44:17.336692Z",
     "iopub.status.busy": "2024-01-07T16:44:17.335905Z",
     "iopub.status.idle": "2024-01-07T16:44:17.835244Z",
     "shell.execute_reply": "2024-01-07T16:44:17.833891Z"
    },
    "papermill": {
     "duration": 0.514813,
     "end_time": "2024-01-07T16:44:17.837970",
     "exception": false,
     "start_time": "2024-01-07T16:44:17.323157",
     "status": "completed"
    },
    "tags": []
   },
   "outputs": [
    {
     "data": {
      "text/plain": [
       "(tf.float32, TensorShape([1, 512]))"
      ]
     },
     "execution_count": 11,
     "metadata": {},
     "output_type": "execute_result"
    }
   ],
   "source": [
    "vector = use([\"this is a simple sentence\"])\n",
    "vector.dtype, vector.shape"
   ]
  },
  {
   "cell_type": "code",
   "execution_count": 12,
   "id": "22b56115",
   "metadata": {
    "execution": {
     "iopub.execute_input": "2024-01-07T16:44:17.862712Z",
     "iopub.status.busy": "2024-01-07T16:44:17.862280Z",
     "iopub.status.idle": "2024-01-07T16:44:31.591176Z",
     "shell.execute_reply": "2024-01-07T16:44:31.590166Z"
    },
    "papermill": {
     "duration": 13.74414,
     "end_time": "2024-01-07T16:44:31.593653",
     "exception": false,
     "start_time": "2024-01-07T16:44:17.849513",
     "status": "completed"
    },
    "tags": []
   },
   "outputs": [
    {
     "data": {
      "text/plain": [
       "(62170, 512)"
      ]
     },
     "execution_count": 12,
     "metadata": {},
     "output_type": "execute_result"
    }
   ],
   "source": [
    "vectors = use(linear_expanded_sentences).numpy()\n",
    "\n",
    "vectors.shape"
   ]
  },
  {
   "cell_type": "code",
   "execution_count": 13,
   "id": "c453aec0",
   "metadata": {
    "execution": {
     "iopub.execute_input": "2024-01-07T16:44:31.618529Z",
     "iopub.status.busy": "2024-01-07T16:44:31.618093Z",
     "iopub.status.idle": "2024-01-07T16:44:31.949952Z",
     "shell.execute_reply": "2024-01-07T16:44:31.948322Z"
    },
    "papermill": {
     "duration": 0.347843,
     "end_time": "2024-01-07T16:44:31.953197",
     "exception": false,
     "start_time": "2024-01-07T16:44:31.605354",
     "status": "completed"
    },
    "tags": []
   },
   "outputs": [],
   "source": [
    "from sklearn.preprocessing import MinMaxScaler\n",
    "scaler = MinMaxScaler()\n",
    "vectors = scaler.fit_transform(vectors)"
   ]
  },
  {
   "cell_type": "code",
   "execution_count": 14,
   "id": "a52cdc57",
   "metadata": {
    "execution": {
     "iopub.execute_input": "2024-01-07T16:44:31.978537Z",
     "iopub.status.busy": "2024-01-07T16:44:31.978114Z",
     "iopub.status.idle": "2024-01-07T16:44:31.984078Z",
     "shell.execute_reply": "2024-01-07T16:44:31.982966Z"
    },
    "papermill": {
     "duration": 0.021863,
     "end_time": "2024-01-07T16:44:31.986625",
     "exception": false,
     "start_time": "2024-01-07T16:44:31.964762",
     "status": "completed"
    },
    "tags": []
   },
   "outputs": [],
   "source": [
    "def pipeline(texts):\n",
    "    vector = use(texts).numpy()\n",
    "    vector = scaler.transform(vector)\n",
    "    return vector"
   ]
  },
  {
   "cell_type": "code",
   "execution_count": 15,
   "id": "12e6f790",
   "metadata": {
    "execution": {
     "iopub.execute_input": "2024-01-07T16:44:32.012226Z",
     "iopub.status.busy": "2024-01-07T16:44:32.011788Z",
     "iopub.status.idle": "2024-01-07T16:44:32.017452Z",
     "shell.execute_reply": "2024-01-07T16:44:32.016394Z"
    },
    "papermill": {
     "duration": 0.021059,
     "end_time": "2024-01-07T16:44:32.019786",
     "exception": false,
     "start_time": "2024-01-07T16:44:31.998727",
     "status": "completed"
    },
    "tags": []
   },
   "outputs": [],
   "source": [
    "query = \"Gaming Laptops\"\n",
    "filters = {\n",
    "    \"RAM\": \"16GB\",\n",
    "    \"\": \"SSD\",\n",
    "    \"Brand\": \"Lenovo\"\n",
    "}"
   ]
  },
  {
   "cell_type": "code",
   "execution_count": 16,
   "id": "eefaae1b",
   "metadata": {
    "execution": {
     "iopub.execute_input": "2024-01-07T16:44:32.045311Z",
     "iopub.status.busy": "2024-01-07T16:44:32.044897Z",
     "iopub.status.idle": "2024-01-07T16:44:32.052808Z",
     "shell.execute_reply": "2024-01-07T16:44:32.051533Z"
    },
    "papermill": {
     "duration": 0.024041,
     "end_time": "2024-01-07T16:44:32.055375",
     "exception": false,
     "start_time": "2024-01-07T16:44:32.031334",
     "status": "completed"
    },
    "tags": []
   },
   "outputs": [
    {
     "data": {
      "text/plain": [
       "['gaming laptops', 'ram 16gb', ' ssd', 'brand lenovo']"
      ]
     },
     "execution_count": 16,
     "metadata": {},
     "output_type": "execute_result"
    }
   ],
   "source": [
    "def preprocess_query(query, filters):\n",
    "    return [query.lower()] + [f\"{k} {v}\".lower() for k, v in filters.items()]\n",
    "\n",
    "queries = preprocess_query(query, filters)\n",
    "queries"
   ]
  },
  {
   "cell_type": "code",
   "execution_count": 17,
   "id": "6df02bbd",
   "metadata": {
    "execution": {
     "iopub.execute_input": "2024-01-07T16:44:32.081174Z",
     "iopub.status.busy": "2024-01-07T16:44:32.080722Z",
     "iopub.status.idle": "2024-01-07T16:44:32.093305Z",
     "shell.execute_reply": "2024-01-07T16:44:32.092198Z"
    },
    "papermill": {
     "duration": 0.027992,
     "end_time": "2024-01-07T16:44:32.095726",
     "exception": false,
     "start_time": "2024-01-07T16:44:32.067734",
     "status": "completed"
    },
    "tags": []
   },
   "outputs": [
    {
     "data": {
      "text/plain": [
       "array([[0.53427017, 0.4755112 , 0.16422635, ..., 0.52300733, 0.6039705 ,\n",
       "        0.45306522],\n",
       "       [0.7538656 , 0.20048928, 0.62764955, ..., 0.41968122, 0.3415676 ,\n",
       "        0.36976504],\n",
       "       [0.5747614 , 0.31386918, 0.62619317, ..., 0.54749906, 0.4915955 ,\n",
       "        0.43137476],\n",
       "       [0.5771097 , 0.32892138, 0.36535925, ..., 0.79477453, 0.13041171,\n",
       "        0.28280514]], dtype=float32)"
      ]
     },
     "execution_count": 17,
     "metadata": {},
     "output_type": "execute_result"
    }
   ],
   "source": [
    "encoded = pipeline(queries)\n",
    "encoded"
   ]
  },
  {
   "cell_type": "code",
   "execution_count": 18,
   "id": "f5b0191d",
   "metadata": {
    "execution": {
     "iopub.execute_input": "2024-01-07T16:44:32.121401Z",
     "iopub.status.busy": "2024-01-07T16:44:32.120989Z",
     "iopub.status.idle": "2024-01-07T16:44:32.401993Z",
     "shell.execute_reply": "2024-01-07T16:44:32.400321Z"
    },
    "papermill": {
     "duration": 0.298963,
     "end_time": "2024-01-07T16:44:32.406342",
     "exception": false,
     "start_time": "2024-01-07T16:44:32.107379",
     "status": "completed"
    },
    "tags": []
   },
   "outputs": [
    {
     "data": {
      "text/plain": [
       "array([[-6.460191 , -6.0543633, -6.1653695, ..., -6.382967 , -6.9088693,\n",
       "        -6.489845 ],\n",
       "       [-6.1571374, -4.8011475, -6.1671014, ..., -6.193946 , -6.261703 ,\n",
       "        -6.1348724],\n",
       "       [-5.884188 , -5.6958184, -6.1175466, ..., -5.908045 , -6.4094462,\n",
       "        -5.862071 ],\n",
       "       [-6.2272916, -6.0107656, -5.955142 , ..., -5.8733945, -6.3159995,\n",
       "        -6.3620095]], dtype=float32)"
      ]
     },
     "execution_count": 18,
     "metadata": {},
     "output_type": "execute_result"
    }
   ],
   "source": [
    "from sklearn.metrics.pairwise import euclidean_distances\n",
    "similarity_scores = - euclidean_distances(encoded, vectors)\n",
    "\n",
    "similarity_scores"
   ]
  },
  {
   "cell_type": "code",
   "execution_count": 19,
   "id": "813d9c9d",
   "metadata": {
    "execution": {
     "iopub.execute_input": "2024-01-07T16:44:32.464117Z",
     "iopub.status.busy": "2024-01-07T16:44:32.462223Z",
     "iopub.status.idle": "2024-01-07T16:44:32.485746Z",
     "shell.execute_reply": "2024-01-07T16:44:32.484174Z"
    },
    "papermill": {
     "duration": 0.056597,
     "end_time": "2024-01-07T16:44:32.490987",
     "exception": false,
     "start_time": "2024-01-07T16:44:32.434390",
     "status": "completed"
    },
    "tags": []
   },
   "outputs": [],
   "source": [
    "idx = np.argsort(\n",
    "    - similarity_scores.mean(axis=0)\n",
    ")\n",
    "idx = idx[:50]"
   ]
  },
  {
   "cell_type": "code",
   "execution_count": 20,
   "id": "bc889ca0",
   "metadata": {
    "execution": {
     "iopub.execute_input": "2024-01-07T16:44:32.526173Z",
     "iopub.status.busy": "2024-01-07T16:44:32.525783Z",
     "iopub.status.idle": "2024-01-07T16:44:32.532274Z",
     "shell.execute_reply": "2024-01-07T16:44:32.531378Z"
    },
    "papermill": {
     "duration": 0.021848,
     "end_time": "2024-01-07T16:44:32.534252",
     "exception": false,
     "start_time": "2024-01-07T16:44:32.512404",
     "status": "completed"
    },
    "tags": []
   },
   "outputs": [
    {
     "data": {
      "text/plain": [
       "array([194, 755, 635, 711, 386, 312, 708, 711, 767, 222, 553, 375, 767,\n",
       "       708, 201, 216, 549, 176, 221, 245, 555, 260, 747, 747, 192, 298,\n",
       "       348, 638, 582, 223, 217, 227, 225, 754, 299, 736, 736, 591, 370,\n",
       "       754, 547, 420, 193, 224, 579, 401, 592, 273, 746, 340])"
      ]
     },
     "execution_count": 20,
     "metadata": {},
     "output_type": "execute_result"
    }
   ],
   "source": [
    "ids = linear_ids[idx]\n",
    "ids"
   ]
  },
  {
   "cell_type": "code",
   "execution_count": 21,
   "id": "64e40c19",
   "metadata": {
    "execution": {
     "iopub.execute_input": "2024-01-07T16:44:32.560714Z",
     "iopub.status.busy": "2024-01-07T16:44:32.559954Z",
     "iopub.status.idle": "2024-01-07T16:44:32.601350Z",
     "shell.execute_reply": "2024-01-07T16:44:32.600242Z"
    },
    "papermill": {
     "duration": 0.058389,
     "end_time": "2024-01-07T16:44:32.604655",
     "exception": false,
     "start_time": "2024-01-07T16:44:32.546266",
     "status": "completed"
    },
    "tags": []
   },
   "outputs": [
    {
     "data": {
      "text/html": [
       "<div>\n",
       "<style scoped>\n",
       "    .dataframe tbody tr th:only-of-type {\n",
       "        vertical-align: middle;\n",
       "    }\n",
       "\n",
       "    .dataframe tbody tr th {\n",
       "        vertical-align: top;\n",
       "    }\n",
       "\n",
       "    .dataframe thead th {\n",
       "        text-align: right;\n",
       "    }\n",
       "</style>\n",
       "<table border=\"1\" class=\"dataframe\">\n",
       "  <thead>\n",
       "    <tr style=\"text-align: right;\">\n",
       "      <th></th>\n",
       "      <th>slug</th>\n",
       "      <th>title</th>\n",
       "      <th>imgs</th>\n",
       "      <th>brand</th>\n",
       "      <th>category</th>\n",
       "      <th>vendor</th>\n",
       "      <th>used</th>\n",
       "      <th>address</th>\n",
       "      <th>availability</th>\n",
       "      <th>currency</th>\n",
       "      <th>...</th>\n",
       "      <th>discounted_price</th>\n",
       "      <th>specifications</th>\n",
       "      <th>description</th>\n",
       "      <th>delivery_fee</th>\n",
       "      <th>delivery_details</th>\n",
       "      <th>warranty</th>\n",
       "      <th>warranty_type</th>\n",
       "      <th>average_rating</th>\n",
       "      <th>num_ratings</th>\n",
       "      <th>reviews</th>\n",
       "    </tr>\n",
       "    <tr>\n",
       "      <th>id</th>\n",
       "      <th></th>\n",
       "      <th></th>\n",
       "      <th></th>\n",
       "      <th></th>\n",
       "      <th></th>\n",
       "      <th></th>\n",
       "      <th></th>\n",
       "      <th></th>\n",
       "      <th></th>\n",
       "      <th></th>\n",
       "      <th></th>\n",
       "      <th></th>\n",
       "      <th></th>\n",
       "      <th></th>\n",
       "      <th></th>\n",
       "      <th></th>\n",
       "      <th></th>\n",
       "      <th></th>\n",
       "      <th></th>\n",
       "      <th></th>\n",
       "      <th></th>\n",
       "    </tr>\n",
       "  </thead>\n",
       "  <tbody>\n",
       "    <tr>\n",
       "      <th>194</th>\n",
       "      <td>https://www.mega.pk/laptop_products/24384/Leno...</td>\n",
       "      <td>Lenovo V15 G2 Core i3 11th Generation 4GB RAM ...</td>\n",
       "      <td>[https://www.mega.pk/items_images/Lenovo+V15+G...</td>\n",
       "      <td>Lenovo</td>\n",
       "      <td>Laptop</td>\n",
       "      <td>MEGA.PK</td>\n",
       "      <td>0</td>\n",
       "      <td>Office 11, 12, 14 Basement Ahmed Center, I-8 M...</td>\n",
       "      <td>NaN</td>\n",
       "      <td>PKR</td>\n",
       "      <td>...</td>\n",
       "      <td>NaN</td>\n",
       "      <td>{'Processor': 'Core i3 11th Generation i3-1115...</td>\n",
       "      <td>NaN</td>\n",
       "      <td>NaN</td>\n",
       "      <td>NaN</td>\n",
       "      <td>1 year</td>\n",
       "      <td>NaN</td>\n",
       "      <td>NaN</td>\n",
       "      <td>NaN</td>\n",
       "      <td>[]</td>\n",
       "    </tr>\n",
       "    <tr>\n",
       "      <th>755</th>\n",
       "      <td>https://www.paklap.pk/lenovo-ideapad-3-intel-c...</td>\n",
       "      <td>Lenovo IdeaPad 3 Celeron</td>\n",
       "      <td>[https://www.paklap.pk/media/catalog/product/c...</td>\n",
       "      <td>Lenovo</td>\n",
       "      <td>Laptop</td>\n",
       "      <td>Paklap</td>\n",
       "      <td>1</td>\n",
       "      <td>NaN</td>\n",
       "      <td>NaN</td>\n",
       "      <td>PKR</td>\n",
       "      <td>...</td>\n",
       "      <td>NaN</td>\n",
       "      <td>{'Brand': 'Lenovo', 'Processor': 'Core i3 ( 1s...</td>\n",
       "      <td>NaN</td>\n",
       "      <td>0.0</td>\n",
       "      <td>NaN</td>\n",
       "      <td>15 days</td>\n",
       "      <td>NaN</td>\n",
       "      <td>NaN</td>\n",
       "      <td>NaN</td>\n",
       "      <td>[]</td>\n",
       "    </tr>\n",
       "    <tr>\n",
       "      <th>635</th>\n",
       "      <td>https://www.techglobe.pk/laptops/lenovo/lenovo...</td>\n",
       "      <td>Lenovo Legion 5i 12th Gen Core i7-12700H RTX30...</td>\n",
       "      <td>[https://static3.webx.pk/files/4012/Images/Thu...</td>\n",
       "      <td>Lenovo</td>\n",
       "      <td>Laptop</td>\n",
       "      <td>TechGlobe</td>\n",
       "      <td>0</td>\n",
       "      <td>NaN</td>\n",
       "      <td>NaN</td>\n",
       "      <td>PKR</td>\n",
       "      <td>...</td>\n",
       "      <td>NaN</td>\n",
       "      <td>{'Processor Type': '12th Generation Intel Core...</td>\n",
       "      <td>Lenovo Legion 5i Gaming 12th Gen Core i7-12700...</td>\n",
       "      <td>NaN</td>\n",
       "      <td>NaN</td>\n",
       "      <td>1 year</td>\n",
       "      <td>International Warranty</td>\n",
       "      <td>NaN</td>\n",
       "      <td>NaN</td>\n",
       "      <td>[]</td>\n",
       "    </tr>\n",
       "    <tr>\n",
       "      <th>711</th>\n",
       "      <td>https://www.paklap.pk/lenovo-thinkbook-14-g2-c...</td>\n",
       "      <td>Lenovo ThinkBook G2 Ci5</td>\n",
       "      <td>[https://www.paklap.pk/media/catalog/product/c...</td>\n",
       "      <td>Lenovo</td>\n",
       "      <td>Laptop</td>\n",
       "      <td>Paklap</td>\n",
       "      <td>0</td>\n",
       "      <td>NaN</td>\n",
       "      <td>NaN</td>\n",
       "      <td>PKR</td>\n",
       "      <td>...</td>\n",
       "      <td>NaN</td>\n",
       "      <td>{'Brand': 'Lenovo', 'Generation': '11th Genera...</td>\n",
       "      <td>NaN</td>\n",
       "      <td>0.0</td>\n",
       "      <td>NaN</td>\n",
       "      <td>NaN</td>\n",
       "      <td>International Warranty</td>\n",
       "      <td>NaN</td>\n",
       "      <td>NaN</td>\n",
       "      <td>[]</td>\n",
       "    </tr>\n",
       "    <tr>\n",
       "      <th>386</th>\n",
       "      <td>https://www.czone.com.pk/laptops-lenovo-laptop...</td>\n",
       "      <td>Lenovo IdeaPad 3 15IAU7 Laptop - Intel Core i7</td>\n",
       "      <td>[https://www.czone.com.pk/images/thumbnails-la...</td>\n",
       "      <td>Lenovo</td>\n",
       "      <td>Laptop</td>\n",
       "      <td>ComputerZone</td>\n",
       "      <td>0</td>\n",
       "      <td>FL 4/20, Main Rashid Minhas Road, Gulshan-e-Iq...</td>\n",
       "      <td>Not Available</td>\n",
       "      <td>PKR</td>\n",
       "      <td>...</td>\n",
       "      <td>NaN</td>\n",
       "      <td>{'Processor Type': '12th Generation Intel Core...</td>\n",
       "      <td>Lenovo IdeaPad 3 15IAU7 Laptop - Intel Core i7...</td>\n",
       "      <td>NaN</td>\n",
       "      <td>NaN</td>\n",
       "      <td>NaN</td>\n",
       "      <td>International Warranty</td>\n",
       "      <td>NaN</td>\n",
       "      <td>NaN</td>\n",
       "      <td>[]</td>\n",
       "    </tr>\n",
       "  </tbody>\n",
       "</table>\n",
       "<p>5 rows × 21 columns</p>\n",
       "</div>"
      ],
      "text/plain": [
       "                                                  slug  \\\n",
       "id                                                       \n",
       "194  https://www.mega.pk/laptop_products/24384/Leno...   \n",
       "755  https://www.paklap.pk/lenovo-ideapad-3-intel-c...   \n",
       "635  https://www.techglobe.pk/laptops/lenovo/lenovo...   \n",
       "711  https://www.paklap.pk/lenovo-thinkbook-14-g2-c...   \n",
       "386  https://www.czone.com.pk/laptops-lenovo-laptop...   \n",
       "\n",
       "                                                 title  \\\n",
       "id                                                       \n",
       "194  Lenovo V15 G2 Core i3 11th Generation 4GB RAM ...   \n",
       "755                           Lenovo IdeaPad 3 Celeron   \n",
       "635  Lenovo Legion 5i 12th Gen Core i7-12700H RTX30...   \n",
       "711                            Lenovo ThinkBook G2 Ci5   \n",
       "386     Lenovo IdeaPad 3 15IAU7 Laptop - Intel Core i7   \n",
       "\n",
       "                                                  imgs   brand category  \\\n",
       "id                                                                        \n",
       "194  [https://www.mega.pk/items_images/Lenovo+V15+G...  Lenovo   Laptop   \n",
       "755  [https://www.paklap.pk/media/catalog/product/c...  Lenovo   Laptop   \n",
       "635  [https://static3.webx.pk/files/4012/Images/Thu...  Lenovo   Laptop   \n",
       "711  [https://www.paklap.pk/media/catalog/product/c...  Lenovo   Laptop   \n",
       "386  [https://www.czone.com.pk/images/thumbnails-la...  Lenovo   Laptop   \n",
       "\n",
       "           vendor  used                                            address  \\\n",
       "id                                                                           \n",
       "194       MEGA.PK     0  Office 11, 12, 14 Basement Ahmed Center, I-8 M...   \n",
       "755        Paklap     1                                                NaN   \n",
       "635     TechGlobe     0                                                NaN   \n",
       "711        Paklap     0                                                NaN   \n",
       "386  ComputerZone     0  FL 4/20, Main Rashid Minhas Road, Gulshan-e-Iq...   \n",
       "\n",
       "      availability currency  ...  discounted_price  \\\n",
       "id                           ...                     \n",
       "194            NaN      PKR  ...               NaN   \n",
       "755            NaN      PKR  ...               NaN   \n",
       "635            NaN      PKR  ...               NaN   \n",
       "711            NaN      PKR  ...               NaN   \n",
       "386  Not Available      PKR  ...               NaN   \n",
       "\n",
       "                                        specifications  \\\n",
       "id                                                       \n",
       "194  {'Processor': 'Core i3 11th Generation i3-1115...   \n",
       "755  {'Brand': 'Lenovo', 'Processor': 'Core i3 ( 1s...   \n",
       "635  {'Processor Type': '12th Generation Intel Core...   \n",
       "711  {'Brand': 'Lenovo', 'Generation': '11th Genera...   \n",
       "386  {'Processor Type': '12th Generation Intel Core...   \n",
       "\n",
       "                                           description delivery_fee  \\\n",
       "id                                                                    \n",
       "194                                                NaN          NaN   \n",
       "755                                                NaN          0.0   \n",
       "635  Lenovo Legion 5i Gaming 12th Gen Core i7-12700...          NaN   \n",
       "711                                                NaN          0.0   \n",
       "386  Lenovo IdeaPad 3 15IAU7 Laptop - Intel Core i7...          NaN   \n",
       "\n",
       "     delivery_details  warranty           warranty_type average_rating  \\\n",
       "id                                                                       \n",
       "194               NaN    1 year                     NaN            NaN   \n",
       "755               NaN   15 days                     NaN            NaN   \n",
       "635               NaN    1 year  International Warranty            NaN   \n",
       "711               NaN       NaN  International Warranty            NaN   \n",
       "386               NaN       NaN  International Warranty            NaN   \n",
       "\n",
       "     num_ratings  reviews  \n",
       "id                         \n",
       "194          NaN       []  \n",
       "755          NaN       []  \n",
       "635          NaN       []  \n",
       "711          NaN       []  \n",
       "386          NaN       []  \n",
       "\n",
       "[5 rows x 21 columns]"
      ]
     },
     "execution_count": 21,
     "metadata": {},
     "output_type": "execute_result"
    }
   ],
   "source": [
    "products = df.loc[ids]\n",
    "products.head()"
   ]
  },
  {
   "cell_type": "code",
   "execution_count": 22,
   "id": "dfe96af2",
   "metadata": {
    "execution": {
     "iopub.execute_input": "2024-01-07T16:44:32.634257Z",
     "iopub.status.busy": "2024-01-07T16:44:32.633357Z",
     "iopub.status.idle": "2024-01-07T16:44:32.651793Z",
     "shell.execute_reply": "2024-01-07T16:44:32.650571Z"
    },
    "papermill": {
     "duration": 0.035368,
     "end_time": "2024-01-07T16:44:32.654168",
     "exception": false,
     "start_time": "2024-01-07T16:44:32.618800",
     "status": "completed"
    },
    "tags": []
   },
   "outputs": [
    {
     "data": {
      "text/plain": [
       "100"
      ]
     },
     "execution_count": 22,
     "metadata": {},
     "output_type": "execute_result"
    }
   ],
   "source": [
    "def get_fuzzy_score(row, query):\n",
    "    \n",
    "    query = query.lower()\n",
    "    method = lambda x: fuzz.partial_ratio(query, x.lower())\n",
    "    \n",
    "    best_score = -1\n",
    "    \n",
    "    for k, v in row.items():\n",
    "        if type(v) == list:\n",
    "            if len(v) == 0: continue\n",
    "            for item in v:\n",
    "                best_score = max(best_score, method(item))\n",
    "\n",
    "        elif type(v) == dict:\n",
    "            if len(v) == 0: continue\n",
    "            for k2, v2 in v.items():\n",
    "                best_score = max(best_score, method(f\"{k2} {v2}\"))\n",
    "\n",
    "        elif not pd.isna(v):\n",
    "            best_score = max(best_score, method(f\"{k} {v}\"))\n",
    "\n",
    "    return best_score\n",
    "\n",
    "get_fuzzy_score(df.iloc[400], \"laptop\")"
   ]
  },
  {
   "cell_type": "code",
   "execution_count": 23,
   "id": "a8cd03ab",
   "metadata": {
    "execution": {
     "iopub.execute_input": "2024-01-07T16:44:32.681689Z",
     "iopub.status.busy": "2024-01-07T16:44:32.680964Z",
     "iopub.status.idle": "2024-01-07T16:44:32.749811Z",
     "shell.execute_reply": "2024-01-07T16:44:32.748453Z"
    },
    "papermill": {
     "duration": 0.085847,
     "end_time": "2024-01-07T16:44:32.752700",
     "exception": false,
     "start_time": "2024-01-07T16:44:32.666853",
     "status": "completed"
    },
    "tags": []
   },
   "outputs": [],
   "source": [
    "scores_mat = []\n",
    "for q in queries:\n",
    "    scores_k = []\n",
    "    for i, product in products.iterrows():\n",
    "        s = get_fuzzy_score(product, q)\n",
    "        scores_k.append(s)\n",
    "    scores_mat.append(scores_k)\n",
    "idx = np.argsort(-np.array(scores_mat).mean(axis=0))\n",
    "products = products.iloc[idx]"
   ]
  },
  {
   "cell_type": "code",
   "execution_count": 24,
   "id": "adce8205",
   "metadata": {
    "execution": {
     "iopub.execute_input": "2024-01-07T16:44:32.780392Z",
     "iopub.status.busy": "2024-01-07T16:44:32.779984Z",
     "iopub.status.idle": "2024-01-07T16:44:32.785601Z",
     "shell.execute_reply": "2024-01-07T16:44:32.784482Z"
    },
    "papermill": {
     "duration": 0.022098,
     "end_time": "2024-01-07T16:44:32.787769",
     "exception": false,
     "start_time": "2024-01-07T16:44:32.765671",
     "status": "completed"
    },
    "tags": []
   },
   "outputs": [
    {
     "name": "stdout",
     "output_type": "stream",
     "text": [
      "Query: Gaming Laptops\n",
      "Filters {'RAM': '16GB', '': 'SSD', 'Brand': 'Lenovo'}\n"
     ]
    }
   ],
   "source": [
    "print(\"Query:\", query)\n",
    "print(\"Filters\", filters)"
   ]
  },
  {
   "cell_type": "code",
   "execution_count": 25,
   "id": "2db983ff",
   "metadata": {
    "execution": {
     "iopub.execute_input": "2024-01-07T16:44:32.817000Z",
     "iopub.status.busy": "2024-01-07T16:44:32.816036Z",
     "iopub.status.idle": "2024-01-07T16:44:32.853554Z",
     "shell.execute_reply": "2024-01-07T16:44:32.852191Z"
    },
    "papermill": {
     "duration": 0.055235,
     "end_time": "2024-01-07T16:44:32.856150",
     "exception": false,
     "start_time": "2024-01-07T16:44:32.800915",
     "status": "completed"
    },
    "tags": []
   },
   "outputs": [
    {
     "name": "stdout",
     "output_type": "stream",
     "text": [
      "Products Sorted on base of relevance to query:\n"
     ]
    },
    {
     "data": {
      "text/html": [
       "<div>\n",
       "<style scoped>\n",
       "    .dataframe tbody tr th:only-of-type {\n",
       "        vertical-align: middle;\n",
       "    }\n",
       "\n",
       "    .dataframe tbody tr th {\n",
       "        vertical-align: top;\n",
       "    }\n",
       "\n",
       "    .dataframe thead th {\n",
       "        text-align: right;\n",
       "    }\n",
       "</style>\n",
       "<table border=\"1\" class=\"dataframe\">\n",
       "  <thead>\n",
       "    <tr style=\"text-align: right;\">\n",
       "      <th></th>\n",
       "      <th>title</th>\n",
       "      <th>specifications</th>\n",
       "      <th>description</th>\n",
       "    </tr>\n",
       "    <tr>\n",
       "      <th>id</th>\n",
       "      <th></th>\n",
       "      <th></th>\n",
       "      <th></th>\n",
       "    </tr>\n",
       "  </thead>\n",
       "  <tbody>\n",
       "    <tr>\n",
       "      <th>638</th>\n",
       "      <td>Lenovo Legion Slim 5 16IRH8 13th Gen Core i7-1...</td>\n",
       "      <td>{'Processor Type': '13th Generation Intel Core...</td>\n",
       "      <td>Lenovo Legion Slim 5 16IRH8 Gaming Laptop 13th...</td>\n",
       "    </tr>\n",
       "    <tr>\n",
       "      <th>754</th>\n",
       "      <td>Lenovo LEGION 7 RTX 3070Ti</td>\n",
       "      <td>{'Brand': 'Lenovo', 'Generation': '12th Genera...</td>\n",
       "      <td>NaN</td>\n",
       "    </tr>\n",
       "    <tr>\n",
       "      <th>746</th>\n",
       "      <td>Lenovo Legion 5 Ryzen 7</td>\n",
       "      <td>{'Brand': 'Lenovo', 'Generation': 'AMD', 'Proc...</td>\n",
       "      <td>NaN</td>\n",
       "    </tr>\n",
       "    <tr>\n",
       "      <th>747</th>\n",
       "      <td>Lenovo LEGION 5 - Alder Lake - 12th Gen Core i...</td>\n",
       "      <td>{'Brand': 'Lenovo', 'Generation': '12th Genera...</td>\n",
       "      <td>NaN</td>\n",
       "    </tr>\n",
       "    <tr>\n",
       "      <th>754</th>\n",
       "      <td>Lenovo LEGION 7 RTX 3070Ti</td>\n",
       "      <td>{'Brand': 'Lenovo', 'Generation': '12th Genera...</td>\n",
       "      <td>NaN</td>\n",
       "    </tr>\n",
       "    <tr>\n",
       "      <th>747</th>\n",
       "      <td>Lenovo LEGION 5 - Alder Lake - 12th Gen Core i...</td>\n",
       "      <td>{'Brand': 'Lenovo', 'Generation': '12th Genera...</td>\n",
       "      <td>NaN</td>\n",
       "    </tr>\n",
       "    <tr>\n",
       "      <th>420</th>\n",
       "      <td>Lenovo Yoga 7i 14\" 2.2K Touchscreen 2-in-1 Laptop</td>\n",
       "      <td>{'Processor Type': 'Intel Core i7-1255U Proces...</td>\n",
       "      <td>Lenovo Yoga 7i 14\" 2.2K Touchscreen 2-in-1 Lap...</td>\n",
       "    </tr>\n",
       "    <tr>\n",
       "      <th>340</th>\n",
       "      <td>Lenovo Legion 5 Core i7 12th Generation 16GB R...</td>\n",
       "      <td>{'Processor': 'Core i7 12th Generation i7-1270...</td>\n",
       "      <td>NaN</td>\n",
       "    </tr>\n",
       "    <tr>\n",
       "      <th>222</th>\n",
       "      <td>Lenovo ThinkPad X1 Carbon Gen 10 Core i7 12th ...</td>\n",
       "      <td>{'Processor': 'Core i7 12th Generation i7-1270...</td>\n",
       "      <td>NaN</td>\n",
       "    </tr>\n",
       "    <tr>\n",
       "      <th>227</th>\n",
       "      <td>Lenovo Legion 5 Pro Core i7 12th Generation 16...</td>\n",
       "      <td>{'Processor': 'Core i7 12th Generation i7-1270...</td>\n",
       "      <td>NaN</td>\n",
       "    </tr>\n",
       "    <tr>\n",
       "      <th>591</th>\n",
       "      <td>Lenovo Legion 5 AMD Ryzen 5-5600H RTX 3050Ti 4...</td>\n",
       "      <td>{'Processor Type': 'AMD Ryzen 5-5600H 3.3 GHz'...</td>\n",
       "      <td>Lenovo Legion 5 Gaming Laptop AMD Ryzen 5-5600...</td>\n",
       "    </tr>\n",
       "    <tr>\n",
       "      <th>635</th>\n",
       "      <td>Lenovo Legion 5i 12th Gen Core i7-12700H RTX30...</td>\n",
       "      <td>{'Processor Type': '12th Generation Intel Core...</td>\n",
       "      <td>Lenovo Legion 5i Gaming 12th Gen Core i7-12700...</td>\n",
       "    </tr>\n",
       "    <tr>\n",
       "      <th>348</th>\n",
       "      <td>Lenovo Legion 5 AMD Ryzen 7 16GB RAM 512GB SSD...</td>\n",
       "      <td>{'Processor': 'AMD Ryzen 7 5800H', 'Installed ...</td>\n",
       "      <td>NaN</td>\n",
       "    </tr>\n",
       "    <tr>\n",
       "      <th>201</th>\n",
       "      <td>Lenovo Legion 5 AMD Ryzen 7 16GB RAM 1TB SSD 6...</td>\n",
       "      <td>{'Processor': 'AMD Ryzen 7 6800H', 'Installed ...</td>\n",
       "      <td>NaN</td>\n",
       "    </tr>\n",
       "    <tr>\n",
       "      <th>767</th>\n",
       "      <td>Lenovo ThinkPad X1 Yoga</td>\n",
       "      <td>{'Brand': 'Lenovo', 'Processor': 'Core i7 ( 7t...</td>\n",
       "      <td>NaN</td>\n",
       "    </tr>\n",
       "    <tr>\n",
       "      <th>767</th>\n",
       "      <td>Lenovo ThinkPad X1 Yoga</td>\n",
       "      <td>{'Brand': 'Lenovo', 'Processor': 'Core i7 ( 7t...</td>\n",
       "      <td>NaN</td>\n",
       "    </tr>\n",
       "    <tr>\n",
       "      <th>224</th>\n",
       "      <td>Lenovo ThinkPad E15 G4 Core i5 12th Generation...</td>\n",
       "      <td>{'Processor': 'Core i5 12th Generation i5-1235...</td>\n",
       "      <td>NaN</td>\n",
       "    </tr>\n",
       "    <tr>\n",
       "      <th>217</th>\n",
       "      <td>Lenovo ThinkPad E15 G4 Core i7 12th Generation...</td>\n",
       "      <td>{'Processor': 'Core i7 12th Generation i7-1255...</td>\n",
       "      <td>NaN</td>\n",
       "    </tr>\n",
       "    <tr>\n",
       "      <th>223</th>\n",
       "      <td>Lenovo ThinkPad E14 G4 Core i7 12th Generation...</td>\n",
       "      <td>{'Processor': 'Core i7 12th Generation i7-1255...</td>\n",
       "      <td>NaN</td>\n",
       "    </tr>\n",
       "    <tr>\n",
       "      <th>299</th>\n",
       "      <td>Lenovo ThinkPad E15 G4 Core i5 12th Generation...</td>\n",
       "      <td>{'Processor': 'Core i5 12th Generation i5-1235...</td>\n",
       "      <td>NaN</td>\n",
       "    </tr>\n",
       "  </tbody>\n",
       "</table>\n",
       "</div>"
      ],
      "text/plain": [
       "                                                 title  \\\n",
       "id                                                       \n",
       "638  Lenovo Legion Slim 5 16IRH8 13th Gen Core i7-1...   \n",
       "754                         Lenovo LEGION 7 RTX 3070Ti   \n",
       "746                            Lenovo Legion 5 Ryzen 7   \n",
       "747  Lenovo LEGION 5 - Alder Lake - 12th Gen Core i...   \n",
       "754                         Lenovo LEGION 7 RTX 3070Ti   \n",
       "747  Lenovo LEGION 5 - Alder Lake - 12th Gen Core i...   \n",
       "420  Lenovo Yoga 7i 14\" 2.2K Touchscreen 2-in-1 Laptop   \n",
       "340  Lenovo Legion 5 Core i7 12th Generation 16GB R...   \n",
       "222  Lenovo ThinkPad X1 Carbon Gen 10 Core i7 12th ...   \n",
       "227  Lenovo Legion 5 Pro Core i7 12th Generation 16...   \n",
       "591  Lenovo Legion 5 AMD Ryzen 5-5600H RTX 3050Ti 4...   \n",
       "635  Lenovo Legion 5i 12th Gen Core i7-12700H RTX30...   \n",
       "348  Lenovo Legion 5 AMD Ryzen 7 16GB RAM 512GB SSD...   \n",
       "201  Lenovo Legion 5 AMD Ryzen 7 16GB RAM 1TB SSD 6...   \n",
       "767                            Lenovo ThinkPad X1 Yoga   \n",
       "767                            Lenovo ThinkPad X1 Yoga   \n",
       "224  Lenovo ThinkPad E15 G4 Core i5 12th Generation...   \n",
       "217  Lenovo ThinkPad E15 G4 Core i7 12th Generation...   \n",
       "223  Lenovo ThinkPad E14 G4 Core i7 12th Generation...   \n",
       "299  Lenovo ThinkPad E15 G4 Core i5 12th Generation...   \n",
       "\n",
       "                                        specifications  \\\n",
       "id                                                       \n",
       "638  {'Processor Type': '13th Generation Intel Core...   \n",
       "754  {'Brand': 'Lenovo', 'Generation': '12th Genera...   \n",
       "746  {'Brand': 'Lenovo', 'Generation': 'AMD', 'Proc...   \n",
       "747  {'Brand': 'Lenovo', 'Generation': '12th Genera...   \n",
       "754  {'Brand': 'Lenovo', 'Generation': '12th Genera...   \n",
       "747  {'Brand': 'Lenovo', 'Generation': '12th Genera...   \n",
       "420  {'Processor Type': 'Intel Core i7-1255U Proces...   \n",
       "340  {'Processor': 'Core i7 12th Generation i7-1270...   \n",
       "222  {'Processor': 'Core i7 12th Generation i7-1270...   \n",
       "227  {'Processor': 'Core i7 12th Generation i7-1270...   \n",
       "591  {'Processor Type': 'AMD Ryzen 5-5600H 3.3 GHz'...   \n",
       "635  {'Processor Type': '12th Generation Intel Core...   \n",
       "348  {'Processor': 'AMD Ryzen 7 5800H', 'Installed ...   \n",
       "201  {'Processor': 'AMD Ryzen 7 6800H', 'Installed ...   \n",
       "767  {'Brand': 'Lenovo', 'Processor': 'Core i7 ( 7t...   \n",
       "767  {'Brand': 'Lenovo', 'Processor': 'Core i7 ( 7t...   \n",
       "224  {'Processor': 'Core i5 12th Generation i5-1235...   \n",
       "217  {'Processor': 'Core i7 12th Generation i7-1255...   \n",
       "223  {'Processor': 'Core i7 12th Generation i7-1255...   \n",
       "299  {'Processor': 'Core i5 12th Generation i5-1235...   \n",
       "\n",
       "                                           description  \n",
       "id                                                      \n",
       "638  Lenovo Legion Slim 5 16IRH8 Gaming Laptop 13th...  \n",
       "754                                                NaN  \n",
       "746                                                NaN  \n",
       "747                                                NaN  \n",
       "754                                                NaN  \n",
       "747                                                NaN  \n",
       "420  Lenovo Yoga 7i 14\" 2.2K Touchscreen 2-in-1 Lap...  \n",
       "340                                                NaN  \n",
       "222                                                NaN  \n",
       "227                                                NaN  \n",
       "591  Lenovo Legion 5 Gaming Laptop AMD Ryzen 5-5600...  \n",
       "635  Lenovo Legion 5i Gaming 12th Gen Core i7-12700...  \n",
       "348                                                NaN  \n",
       "201                                                NaN  \n",
       "767                                                NaN  \n",
       "767                                                NaN  \n",
       "224                                                NaN  \n",
       "217                                                NaN  \n",
       "223                                                NaN  \n",
       "299                                                NaN  "
      ]
     },
     "execution_count": 25,
     "metadata": {},
     "output_type": "execute_result"
    }
   ],
   "source": [
    "print(\"Products Sorted on base of relevance to query:\")\n",
    "products[['title', 'specifications', 'description']].head(20)"
   ]
  },
  {
   "cell_type": "code",
   "execution_count": null,
   "id": "ddf45c1e",
   "metadata": {
    "papermill": {
     "duration": 0.012914,
     "end_time": "2024-01-07T16:44:32.882451",
     "exception": false,
     "start_time": "2024-01-07T16:44:32.869537",
     "status": "completed"
    },
    "tags": []
   },
   "outputs": [],
   "source": []
  }
 ],
 "metadata": {
  "kaggle": {
   "accelerator": "none",
   "dataSources": [
    {
     "datasetId": 3451217,
     "sourceId": 6033117,
     "sourceType": "datasetVersion"
    },
    {
     "isSourceIdPinned": true,
     "modelInstanceId": 1265,
     "sourceId": 1497,
     "sourceType": "modelInstanceVersion"
    }
   ],
   "dockerImageVersionId": 30513,
   "isGpuEnabled": false,
   "isInternetEnabled": true,
   "language": "python",
   "sourceType": "notebook"
  },
  "kernelspec": {
   "display_name": "Python 3",
   "language": "python",
   "name": "python3"
  },
  "language_info": {
   "codemirror_mode": {
    "name": "ipython",
    "version": 3
   },
   "file_extension": ".py",
   "mimetype": "text/x-python",
   "name": "python",
   "nbconvert_exporter": "python",
   "pygments_lexer": "ipython3",
   "version": "3.10.10"
  },
  "papermill": {
   "default_parameters": {},
   "duration": 75.352519,
   "end_time": "2024-01-07T16:44:36.069155",
   "environment_variables": {},
   "exception": null,
   "input_path": "__notebook__.ipynb",
   "output_path": "__notebook__.ipynb",
   "parameters": {},
   "start_time": "2024-01-07T16:43:20.716636",
   "version": "2.4.0"
  }
 },
 "nbformat": 4,
 "nbformat_minor": 5
}
